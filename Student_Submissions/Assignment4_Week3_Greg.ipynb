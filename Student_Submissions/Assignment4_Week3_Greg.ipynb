{
  "cells": [
    {
      "cell_type": "markdown",
      "id": "f391d88b-bc40-4380-bfac-249445c7f733",
      "metadata": {
        "id": "f391d88b-bc40-4380-bfac-249445c7f733"
      },
      "source": [
        "# 📝 Assignment 4\n",
        "\n",
        "## Introductory Exercises in Python\n",
        "\n",
        "⏳ Estimated Duration: 1 Hour  \n",
        "🎯 Due: Friday, 28 March at 11:59pm"
      ]
    },
    {
      "cell_type": "markdown",
      "id": "62897a0d-e74d-4cad-bb90-3de86a930066",
      "metadata": {
        "id": "62897a0d-e74d-4cad-bb90-3de86a930066"
      },
      "source": [
        "[![Open In Colab](https://colab.research.google.com/assets/colab-badge.svg)](https://colab.research.google.com/github/BevRice/CMI_Course/blob/main/docs/source/notebooks/Assignment4_Week3.ipynb)"
      ]
    },
    {
      "cell_type": "markdown",
      "id": "6fc7e588-3639-4dfb-9799-1c6b578bb1aa",
      "metadata": {
        "id": "6fc7e588-3639-4dfb-9799-1c6b578bb1aa"
      },
      "source": [
        "### 🔹 Getting Started with Google Colab\n",
        "\n",
        "For this lesson, we will be using **Google Colab**, a free, cloud-based Jupyter Notebook environment that allows us to write and execute Python code **without needing to install anything** on our own computers.  \n",
        "\n",
        "🔹 **Why Google Colab?**  \n",
        "✔ **No Installation Required** – Runs in your web browser, no need to install Python, libraries, or Jupyter Notebook.  \n",
        "✔ **Pre-Installed Libraries** – Most of the common data analysis libraries (`NumPy`, `pandas`, `matplotlib`, `seaborn`, `statsmodels`) are already included.  \n",
        "✔ **Cloud-Based & Auto-Saving** – Your work is stored in Google Drive, so you can access it from anywhere.  \n",
        "✔ **Free GPU Access** – Useful for advanced machine learning, though not necessary for this course.  \n",
        "\n",
        "🔹 **How to Open Google Colab**  \n",
        "1️⃣ **Go to** [colab.research.google.com](https://colab.research.google.com/)  \n",
        "2️⃣ **Sign in** with your Google account  \n",
        "3️⃣ **Click** Open in Colab above\n",
        "\n",
        "---\n",
        "\n",
        "💻 **What If I Want to Run Python Locally?**  \n",
        "If you’re interested in running Python on your own computer instead of using Google Colab, you can install **Anaconda**, which includes Python and Jupyter Notebook.  \n",
        "\n",
        "🔹 **Anaconda Benefits:**  \n",
        "- Comes with everything you need for data analysis.  \n",
        "- Lets you work offline and manage different project environments.  \n",
        "- Supports additional tools like R and Julia if you’re interested in expanding your coding skills.  \n",
        "\n",
        "If you'd like guidance on **installing and setting up Anaconda**, I'm happy to walk through it with you during **office hours**! 😊  \n"
      ]
    },
    {
      "cell_type": "markdown",
      "id": "da017a30-1805-4312-bfa3-83c254fe3232",
      "metadata": {
        "id": "da017a30-1805-4312-bfa3-83c254fe3232"
      },
      "source": [
        "## Python Basics\n",
        "\n",
        "Lets practice the basics covered in Lesson 6 before we apply what we've learned to MDM data  which we'll do in Lesson 7 and Assignment 5.\n",
        "\n",
        "---"
      ]
    },
    {
      "cell_type": "markdown",
      "id": "156eae05-40b2-43eb-a4b5-81efe48c7627",
      "metadata": {
        "id": "156eae05-40b2-43eb-a4b5-81efe48c7627"
      },
      "source": [
        "### 📌 Exercise 1: Working with Variables\n",
        "1. Create three variables: category, age, and engagement_rate\n",
        "2. Assign a string, integer, and float to the variables respectively\n",
        "3. Print each of the variables\n",
        "4. Check and print the data types of each variable"
      ]
    },
    {
      "cell_type": "code",
      "execution_count": 8,
      "id": "5fa8fd36-4c3c-4c86-8966-d8586d9cde75",
      "metadata": {
        "id": "5fa8fd36-4c3c-4c86-8966-d8586d9cde75"
      },
      "outputs": [],
      "source": [
        "category = \"Education\"\n",
        "age = 25\n",
        "engagement_rate = 0.85"
      ]
    },
    {
      "cell_type": "code",
      "execution_count": 10,
      "id": "8a878deb-d6bb-4a79-9ecd-fdd0c3c2f933",
      "metadata": {
        "id": "8a878deb-d6bb-4a79-9ecd-fdd0c3c2f933",
        "outputId": "911e0772-ad6e-4292-98bd-585ce56f1173",
        "colab": {
          "base_uri": "https://localhost:8080/"
        }
      },
      "outputs": [
        {
          "output_type": "stream",
          "name": "stdout",
          "text": [
            "Category: Education\n",
            "Age: 25\n",
            "Engagement Rate: 0.85\n"
          ]
        }
      ],
      "source": [
        "print(\"Category:\", category)\n",
        "print(\"Age:\", age)\n",
        "print(\"Engagement Rate:\", engagement_rate)"
      ]
    },
    {
      "cell_type": "code",
      "execution_count": 11,
      "id": "af8ef3d6-2f95-4e2d-954d-b4aedd7866ac",
      "metadata": {
        "id": "af8ef3d6-2f95-4e2d-954d-b4aedd7866ac",
        "outputId": "cada734c-195d-4ec9-9151-8ce8213339b2",
        "colab": {
          "base_uri": "https://localhost:8080/"
        }
      },
      "outputs": [
        {
          "output_type": "stream",
          "name": "stdout",
          "text": [
            "Data type of 'category': <class 'str'>\n",
            "Data type of 'age': <class 'int'>\n",
            "Data type of 'engagement_rate': <class 'float'>\n"
          ]
        }
      ],
      "source": [
        "print(\"Data type of 'category':\", type(category))\n",
        "print(\"Data type of 'age':\", type(age))\n",
        "print(\"Data type of 'engagement_rate':\", type(engagement_rate))"
      ]
    },
    {
      "cell_type": "markdown",
      "id": "46d7287f-7b9f-424e-88b5-4ecf68697e72",
      "metadata": {
        "id": "46d7287f-7b9f-424e-88b5-4ecf68697e72"
      },
      "source": [
        "---\n",
        "\n",
        "### 📌 Exercise 2: Working with Variables\n",
        "1. Change the value stored in category to a complex data type\n",
        "2. Print the variable\n",
        "3. Check and print the new data type of category"
      ]
    },
    {
      "cell_type": "code",
      "execution_count": 15,
      "id": "7383eed5-61a1-404d-b0d1-0118ad799d7d",
      "metadata": {
        "id": "7383eed5-61a1-404d-b0d1-0118ad799d7d"
      },
      "outputs": [],
      "source": [
        "category = {\"name\": \"Education\", \"importance\": \"High\", \"topics\": [\"Math\", \"Science\", \"History\"]}"
      ]
    },
    {
      "cell_type": "code",
      "execution_count": 16,
      "id": "b24daa86-3e55-45cd-98e8-2e81e1054ab7",
      "metadata": {
        "id": "b24daa86-3e55-45cd-98e8-2e81e1054ab7",
        "outputId": "23e159b4-d5bd-4ed1-b0b8-771f1e3c3655",
        "colab": {
          "base_uri": "https://localhost:8080/"
        }
      },
      "outputs": [
        {
          "output_type": "stream",
          "name": "stdout",
          "text": [
            "Data type of 'category': <class 'dict'>\n"
          ]
        }
      ],
      "source": [
        "print(\"Data type of 'category':\", type(category))"
      ]
    },
    {
      "cell_type": "markdown",
      "id": "eb6b5cce-db5f-411c-9765-44cbdaca7be2",
      "metadata": {
        "id": "eb6b5cce-db5f-411c-9765-44cbdaca7be2"
      },
      "source": [
        "---"
      ]
    },
    {
      "cell_type": "code",
      "execution_count": 17,
      "id": "8aea950a-da4d-46f9-a21c-cfb106827539",
      "metadata": {
        "id": "8aea950a-da4d-46f9-a21c-cfb106827539",
        "outputId": "392f388d-5e6f-41e8-a602-0a178d375c46",
        "colab": {
          "base_uri": "https://localhost:8080/"
        }
      },
      "outputs": [
        {
          "output_type": "stream",
          "name": "stdout",
          "text": [
            "Never gonna give you up\n",
            "Never gonna let you down\n",
            "Never gonna run around and desert you\n",
            "Never gonna make you cry\n",
            "Never gonna say goodbye\n",
            "Never gonna tell a lie and hurt you\n"
          ]
        }
      ],
      "source": [
        "# Run this cell\n",
        "rickroll = \"\"\"Never gonna give you up\n",
        "Never gonna let you down\n",
        "Never gonna run around and desert you\n",
        "Never gonna make you cry\n",
        "Never gonna say goodbye\n",
        "Never gonna tell a lie and hurt you\"\"\"\n",
        "\n",
        "print(rickroll)"
      ]
    },
    {
      "cell_type": "markdown",
      "id": "f8d5f699-2702-4493-affd-15b667a5c42d",
      "metadata": {
        "id": "f8d5f699-2702-4493-affd-15b667a5c42d"
      },
      "source": [
        "### Question 1: Is what was printed above structured or unstructured data?"
      ]
    },
    {
      "cell_type": "markdown",
      "id": "2256c080-77ef-4cf9-8b2b-4df3aa78f7b8",
      "metadata": {
        "id": "2256c080-77ef-4cf9-8b2b-4df3aa78f7b8"
      },
      "source": [
        "Unstructed data - The rickroll lyrics are a block of text with no specific structure, labeling, or standard format for computational analysis."
      ]
    },
    {
      "cell_type": "markdown",
      "id": "680ca8d8-affe-4670-8b85-de6239742395",
      "metadata": {
        "id": "680ca8d8-affe-4670-8b85-de6239742395"
      },
      "source": [
        "---\n",
        "\n",
        "### 📌 Exercise 3: Importing libraries\n",
        "1. Import the pandas and numpy libraries\n",
        "2. Check the version of each library by running the following:\n",
        "    - print(pd.__version__)\n",
        "    - print(np.__version__)"
      ]
    },
    {
      "cell_type": "code",
      "execution_count": 27,
      "id": "fa082635-20a2-4947-9ca8-3c697f524847",
      "metadata": {
        "id": "fa082635-20a2-4947-9ca8-3c697f524847",
        "outputId": "a4bd7aec-b5b3-4773-8b09-035c14ad0ec3",
        "colab": {
          "base_uri": "https://localhost:8080/"
        }
      },
      "outputs": [
        {
          "output_type": "stream",
          "name": "stdout",
          "text": [
            "Pandas version: 2.2.2\n"
          ]
        }
      ],
      "source": [
        "import pandas as pd\n",
        "print(\"Pandas version:\", pd.__version__)"
      ]
    },
    {
      "cell_type": "code",
      "execution_count": 26,
      "id": "e02f2b02-69dc-466d-9e31-7c9cbe8ae4e9",
      "metadata": {
        "id": "e02f2b02-69dc-466d-9e31-7c9cbe8ae4e9",
        "outputId": "bc93f0c4-cc65-4345-e09b-076f056517f4",
        "colab": {
          "base_uri": "https://localhost:8080/"
        }
      },
      "outputs": [
        {
          "output_type": "stream",
          "name": "stdout",
          "text": [
            "NumPy version: 2.0.2\n"
          ]
        }
      ],
      "source": [
        "import numpy as np\n",
        "print(\"NumPy version:\", np.__version__)"
      ]
    },
    {
      "cell_type": "markdown",
      "id": "b0f68748-b888-4d17-86ad-7a5bac9dddb8",
      "metadata": {
        "id": "b0f68748-b888-4d17-86ad-7a5bac9dddb8"
      },
      "source": [
        "---"
      ]
    },
    {
      "cell_type": "markdown",
      "id": "4d61e9b6-5788-43f2-8c65-7355c8ec93da",
      "metadata": {
        "id": "4d61e9b6-5788-43f2-8c65-7355c8ec93da"
      },
      "source": [
        "### 📌 Exercise 4: Basic numpy\n",
        "- 1. Create a numpy array with 5 integers and call it ages -> ages = np.array([33,45,18...])\n",
        "- 2. Create a numpy array with 5 floats and call it engagement_rate\n",
        "- 3. Create a numpy array with 5 strings and call it users\n",
        "- 4. Print all 3 arrays"
      ]
    },
    {
      "cell_type": "code",
      "execution_count": 30,
      "id": "803b3c30-182a-4c21-9484-e1a9132b236d",
      "metadata": {
        "id": "803b3c30-182a-4c21-9484-e1a9132b236d"
      },
      "outputs": [],
      "source": [
        "# Create ages\n",
        "ages = np.array([33, 45, 18, 29, 41])"
      ]
    },
    {
      "cell_type": "code",
      "execution_count": 29,
      "id": "a89ff7dc-207b-45a3-b6db-b57f098cde7f",
      "metadata": {
        "id": "a89ff7dc-207b-45a3-b6db-b57f098cde7f"
      },
      "outputs": [],
      "source": [
        "# Create engagement_rate\n",
        "engagement_rate = np.array([0.85, 0.75, 0.90, 0.88, 0.82])"
      ]
    },
    {
      "cell_type": "code",
      "execution_count": 34,
      "id": "523fdd39-b4f3-4f15-9b5c-97856e11d13b",
      "metadata": {
        "id": "523fdd39-b4f3-4f15-9b5c-97856e11d13b"
      },
      "outputs": [],
      "source": [
        "# Create users\n",
        "users = np.array([\"Alice\", \"Bob\", \"Charlie\", \"Diana\", \"Eve\"])"
      ]
    },
    {
      "cell_type": "code",
      "execution_count": 32,
      "id": "915bc262-2104-495c-bcdb-7702ac476cd6",
      "metadata": {
        "id": "915bc262-2104-495c-bcdb-7702ac476cd6",
        "outputId": "36470488-c112-4e25-efe6-adf9724dfc39",
        "colab": {
          "base_uri": "https://localhost:8080/"
        }
      },
      "outputs": [
        {
          "output_type": "stream",
          "name": "stdout",
          "text": [
            "Ages array: [33 45 18 29 41]\n",
            "Engagement rate array: [0.85 0.75 0.9  0.88 0.82]\n",
            "Users array: ['Alice' 'Bob' 'Charlie' 'Diana' 'Eve']\n"
          ]
        }
      ],
      "source": [
        "# Print arrays\n",
        "print(\"Ages array:\", ages)\n",
        "print(\"Engagement rate array:\", engagement_rate)\n",
        "print(\"Users array:\", users)"
      ]
    },
    {
      "cell_type": "markdown",
      "id": "08aa72ca-31a6-447a-b752-a9a3c378940f",
      "metadata": {
        "id": "08aa72ca-31a6-447a-b752-a9a3c378940f"
      },
      "source": [
        "- 5. Get the third value of your users array -> users[2]\n",
        "- 6. Calculate sum of your ages array -> np.sum(ages)\n",
        "- 7. Calculate mean of your engagement_rate array -> np.mean(engagement_rate)"
      ]
    },
    {
      "cell_type": "code",
      "execution_count": 37,
      "id": "27e7fa62-d1b5-4291-a177-bf024166df29",
      "metadata": {
        "id": "27e7fa62-d1b5-4291-a177-bf024166df29",
        "outputId": "fe880bfb-f084-40a2-b44d-26bda6ff16f6",
        "colab": {
          "base_uri": "https://localhost:8080/"
        }
      },
      "outputs": [
        {
          "output_type": "stream",
          "name": "stdout",
          "text": [
            "Third user: Charlie\n"
          ]
        }
      ],
      "source": [
        "# Get 3rd value of users array\n",
        "# Numpy starts at 0 so the third value would be #2\n",
        "third_user = users[2]\n",
        "print(\"Third user:\", third_user)"
      ]
    },
    {
      "cell_type": "code",
      "execution_count": 36,
      "id": "01d23b3d-1487-45d1-9aea-a391afdf7522",
      "metadata": {
        "id": "01d23b3d-1487-45d1-9aea-a391afdf7522",
        "outputId": "d83e6eff-cdde-46f2-cf4c-ebb111857cd5",
        "colab": {
          "base_uri": "https://localhost:8080/"
        }
      },
      "outputs": [
        {
          "output_type": "stream",
          "name": "stdout",
          "text": [
            "Sum of ages: 166\n"
          ]
        }
      ],
      "source": [
        "# Calculate the sum of your ages array\n",
        "ages_sum = np.sum(ages)\n",
        "print(\"Sum of ages:\", ages_sum)"
      ]
    },
    {
      "cell_type": "code",
      "execution_count": 35,
      "id": "76137c65-ebf1-4f11-8d26-c4a4bc9c8a35",
      "metadata": {
        "id": "76137c65-ebf1-4f11-8d26-c4a4bc9c8a35",
        "outputId": "d3ccc219-32ae-4f5d-b670-a9925250e7a1",
        "colab": {
          "base_uri": "https://localhost:8080/"
        }
      },
      "outputs": [
        {
          "output_type": "stream",
          "name": "stdout",
          "text": [
            "Mean engagement rate: 0.8400000000000001\n"
          ]
        }
      ],
      "source": [
        "# Calculate the mean of your engagement_array array\n",
        "engagement_rate_mean = np.mean(engagement_rate)\n",
        "print(\"Mean engagement rate:\", engagement_rate_mean)"
      ]
    },
    {
      "cell_type": "markdown",
      "id": "88783f9c-2136-4eaa-a88d-5a1c12950df4",
      "metadata": {
        "id": "88783f9c-2136-4eaa-a88d-5a1c12950df4"
      },
      "source": [
        "- 8. Change the first value of your users array to your first name -> users[0] = your name here\n",
        "- 9. Change the last value of ages to 50"
      ]
    },
    {
      "cell_type": "code",
      "execution_count": 39,
      "id": "af663e87-2625-474b-84d9-f6951bb5d8da",
      "metadata": {
        "id": "af663e87-2625-474b-84d9-f6951bb5d8da"
      },
      "outputs": [],
      "source": [
        "# Change the first value of users to your name\n",
        "users[0] = \"Boug\"  # Replace \"Boug\" with your desired name"
      ]
    },
    {
      "cell_type": "code",
      "execution_count": 40,
      "id": "07851abf-73b7-4c09-96bf-55bdf2a33e89",
      "metadata": {
        "id": "07851abf-73b7-4c09-96bf-55bdf2a33e89"
      },
      "outputs": [],
      "source": [
        "# Change the last value of ages to 50\n",
        "ages[-1] = 50  # Using -1 to target the last value in the array"
      ]
    },
    {
      "cell_type": "markdown",
      "id": "aef59e80-d031-4f3d-a5fc-5ba4068e4a3f",
      "metadata": {
        "id": "aef59e80-d031-4f3d-a5fc-5ba4068e4a3f"
      },
      "source": [
        "---\n",
        "### 📌 Exercise 5: Basic pandas"
      ]
    },
    {
      "cell_type": "code",
      "execution_count": 47,
      "id": "74a94db2-5d79-4754-a0bf-3547c8b8b9a6",
      "metadata": {
        "id": "74a94db2-5d79-4754-a0bf-3547c8b8b9a6",
        "outputId": "4f1f400a-4153-43fc-ccf3-0776d4bb6427",
        "colab": {
          "base_uri": "https://localhost:8080/",
          "height": 35
        }
      },
      "outputs": [
        {
          "output_type": "execute_result",
          "data": {
            "text/plain": [
              "'\\ndf = pd.DataFrame({\\n    \"Name\": users,\\n    \"Age\": ages,\\n    \"Engagement\": engagement_rates\\n})\\n\\nprint(df)\\n\\n'"
            ],
            "application/vnd.google.colaboratory.intrinsic+json": {
              "type": "string"
            }
          },
          "metadata": {},
          "execution_count": 47
        }
      ],
      "source": [
        "# Create a DataFrame of your numpy arrays by running this code; remove all triple quotes first\n",
        "\n",
        "'''\n",
        "df = pd.DataFrame({\n",
        "    \"Name\": users,\n",
        "    \"Age\": ages,\n",
        "    \"Engagement\": engagement_rates\n",
        "})\n",
        "\n",
        "print(df)\n",
        "\n",
        "'''"
      ]
    },
    {
      "cell_type": "markdown",
      "id": "a1e3a423-4f27-401c-ada7-a62fe0b91429",
      "metadata": {
        "id": "a1e3a423-4f27-401c-ada7-a62fe0b91429"
      },
      "source": [
        "### Question 2: Is what was printed above structured or unstructured data? Structured data - Structured data is organized and follows a defined schema, such as rows and columns in a table."
      ]
    },
    {
      "cell_type": "markdown",
      "id": "7c6d0781-d4fd-4cd7-8445-2eeffdc00fc4",
      "metadata": {
        "id": "7c6d0781-d4fd-4cd7-8445-2eeffdc00fc4"
      },
      "source": [
        "Double click and enter answer here"
      ]
    },
    {
      "cell_type": "markdown",
      "id": "c1d272b9-2f2a-44a4-bfaa-cfb280be99e5",
      "metadata": {
        "id": "c1d272b9-2f2a-44a4-bfaa-cfb280be99e5"
      },
      "source": [
        "1️⃣ Compute Summary Statistics using pandas\n",
        "- 1. Use pandas to calculate the mean of df['Age'] by running -> df['Age'].mean()  \n",
        "- 2. Calculate the mean of engagement_rates in the dataset  \n",
        "- 3. Calculate the median of engagement_rates in the dataset  \n",
        "- 4. Calculate the mode of the engagement_rates in the dataset (this returns a series)  \n",
        "- 5. Extract the first mode by running -> df['Engagement'].mode()[0]"
      ]
    },
    {
      "cell_type": "code",
      "execution_count": 48,
      "id": "99f960b8-7a1f-497b-acb9-0794f32b3131",
      "metadata": {
        "id": "99f960b8-7a1f-497b-acb9-0794f32b3131"
      },
      "outputs": [],
      "source": [
        "# Get the mean of Engagement\n",
        "users = np.array([\"Alice\", \"Bob\", \"Charlie\", \"Diana\", \"Eve\"])\n",
        "ages = np.array([33, 45, 18, 29, 50])\n",
        "engagement_rates = np.array([0.85, 0.75, 0.90, 0.88, 0.82])\n",
        "\n",
        "# Create the DataFrame\n",
        "df = pd.DataFrame({\n",
        "    \"Name\": users,\n",
        "    \"Age\": ages,\n",
        "    \"Engagement\": engagement_rates\n",
        "})"
      ]
    },
    {
      "cell_type": "code",
      "execution_count": 49,
      "id": "209036c2-0ed9-428d-b84b-2f62dc05e0a6",
      "metadata": {
        "id": "209036c2-0ed9-428d-b84b-2f62dc05e0a6",
        "outputId": "a8fadc2e-e240-4f39-d83c-f0a6b93e8e8d",
        "colab": {
          "base_uri": "https://localhost:8080/"
        }
      },
      "outputs": [
        {
          "output_type": "stream",
          "name": "stdout",
          "text": [
            "Median Engagement: 0.85\n"
          ]
        }
      ],
      "source": [
        "# Get the median of Engagement\n",
        "median_engagement = df['Engagement'].median()\n",
        "print(\"Median Engagement:\", median_engagement)"
      ]
    },
    {
      "cell_type": "code",
      "execution_count": 50,
      "id": "9f264001-4d7b-40b5-a5ca-cd8f3c400d1e",
      "metadata": {
        "id": "9f264001-4d7b-40b5-a5ca-cd8f3c400d1e",
        "outputId": "7582d565-56e4-433a-8090-9e5b1f65e3ce",
        "colab": {
          "base_uri": "https://localhost:8080/"
        }
      },
      "outputs": [
        {
          "output_type": "stream",
          "name": "stdout",
          "text": [
            "Mode Engagement (series): 0    0.75\n",
            "1    0.82\n",
            "2    0.85\n",
            "3    0.88\n",
            "4    0.90\n",
            "Name: Engagement, dtype: float64\n"
          ]
        }
      ],
      "source": [
        "# Get the mode of Engagement (may return multiple values)\n",
        "mode_engagement = df['Engagement'].mode()\n",
        "print(\"Mode Engagement (series):\", mode_engagement)"
      ]
    },
    {
      "cell_type": "code",
      "execution_count": 51,
      "id": "b32408a9-f12d-4b56-8d29-949242d9f953",
      "metadata": {
        "id": "b32408a9-f12d-4b56-8d29-949242d9f953",
        "outputId": "2a463905-5816-4221-80f4-7a9a6b902304",
        "colab": {
          "base_uri": "https://localhost:8080/"
        }
      },
      "outputs": [
        {
          "output_type": "stream",
          "name": "stdout",
          "text": [
            "First Mode Engagement: 0.75\n"
          ]
        }
      ],
      "source": [
        "# Get the mode first of Followers\n",
        "first_mode_engagement = df['Engagement'].mode()[0]\n",
        "print(\"First Mode Engagement:\", first_mode_engagement)"
      ]
    },
    {
      "cell_type": "markdown",
      "id": "e60d406d-682e-4200-93a7-01e89c738c6b",
      "metadata": {
        "id": "e60d406d-682e-4200-93a7-01e89c738c6b"
      },
      "source": [
        "### 📌 Exercise 6: Lists and Loops\n",
        "- 1. Create a list of 10 media types\n",
        "- 2. Print your list\n",
        "- 3. Print each media individually using a loop\n",
        "          for media in your_list_name:\n",
        "             print(media)"
      ]
    },
    {
      "cell_type": "code",
      "execution_count": 52,
      "id": "eca3d0f2-0d59-4b64-883f-3e3ee4354182",
      "metadata": {
        "id": "eca3d0f2-0d59-4b64-883f-3e3ee4354182"
      },
      "outputs": [],
      "source": [
        "# Create list of media types\n",
        "media_types = [\"Newspaper\", \"Magazine\", \"TV\", \"Radio\", \"Podcast\", \"Social Media\", \"Blog\", \"Streaming Services\", \"Video Games\", \"Books\"]"
      ]
    },
    {
      "cell_type": "code",
      "execution_count": 53,
      "id": "fe0fce86-fe9b-4018-a239-0489ed1cdd9b",
      "metadata": {
        "id": "fe0fce86-fe9b-4018-a239-0489ed1cdd9b",
        "outputId": "f05e2382-5297-4389-a021-60235e5df9e6",
        "colab": {
          "base_uri": "https://localhost:8080/"
        }
      },
      "outputs": [
        {
          "output_type": "stream",
          "name": "stdout",
          "text": [
            "Media Types List: ['Newspaper', 'Magazine', 'TV', 'Radio', 'Podcast', 'Social Media', 'Blog', 'Streaming Services', 'Video Games', 'Books']\n"
          ]
        }
      ],
      "source": [
        "# Print your list of media types\n",
        "print(\"Media Types List:\", media_types)"
      ]
    },
    {
      "cell_type": "code",
      "execution_count": 54,
      "id": "8ed70215-b6d1-4209-8387-dcdad919f621",
      "metadata": {
        "id": "8ed70215-b6d1-4209-8387-dcdad919f621",
        "outputId": "c677b64e-2305-4e5b-fd89-9faa860cba01",
        "colab": {
          "base_uri": "https://localhost:8080/"
        }
      },
      "outputs": [
        {
          "output_type": "stream",
          "name": "stdout",
          "text": [
            "Newspaper\n",
            "Magazine\n",
            "TV\n",
            "Radio\n",
            "Podcast\n",
            "Social Media\n",
            "Blog\n",
            "Streaming Services\n",
            "Video Games\n",
            "Books\n"
          ]
        }
      ],
      "source": [
        "# Print each media type individually\n",
        "for media in media_types:\n",
        "    print(media)"
      ]
    },
    {
      "cell_type": "code",
      "execution_count": 57,
      "id": "22e65604-7301-444b-9049-c1e162950cc9",
      "metadata": {
        "id": "22e65604-7301-444b-9049-c1e162950cc9",
        "outputId": "80456fc1-d3e8-42fa-beae-9fb1772f9300",
        "colab": {
          "base_uri": "https://localhost:8080/"
        }
      },
      "outputs": [
        {
          "output_type": "stream",
          "name": "stdout",
          "text": [
            "Alice\n",
            "Bob\n",
            "Charlie\n",
            "Diana\n",
            "Eve\n"
          ]
        }
      ],
      "source": [
        "# Print each of the user names in your dataframe\n",
        "# by replacing your_list_name with the pandas\n",
        "# column -> df['Name']\n",
        "# replace \"media\" with term of your choice\n",
        "\n",
        "# for name in df['Name']:\n",
        "for name in df['Name']:\n",
        "    print(name)"
      ]
    },
    {
      "cell_type": "markdown",
      "id": "2ac20775-eb2d-40e0-a683-a9b1fac6851c",
      "metadata": {
        "id": "2ac20775-eb2d-40e0-a683-a9b1fac6851c"
      },
      "source": [
        "Once complete, please submit by saving your ipynb file to the [Assignment 4 Student Submissions Folder](https://github.com/BevRice/CMI_Course/tree/main/Student_Submissions/Assignment_4)\n",
        "\n",
        "From Google Colab\n",
        "- 1. Click File\n",
        "- 2. Click Download\n",
        "- 3. Select Download .ipynb\n",
        "- 4. Upload to the folder by 11:59pm, Fri 28 Mar"
      ]
    },
    {
      "cell_type": "markdown",
      "id": "1144af66-da15-4e40-83a5-22c461006ba6",
      "metadata": {
        "id": "1144af66-da15-4e40-83a5-22c461006ba6"
      },
      "source": [
        "Grading Criteria (10 Points Total)\n",
        "\n",
        "- ✅ Code Completeness (5 pts) → Attempts all coding exercises\n",
        "- ✅ Code Accuracy (3 pts) -> No errors in executions\n",
        "- ✅ Interpretation of Results (2 pts) → Thoughtful answers to questions 1-2"
      ]
    },
    {
      "cell_type": "markdown",
      "id": "5c3c6afe-dc44-4d80-b80d-6329ce0bdc89",
      "metadata": {
        "id": "5c3c6afe-dc44-4d80-b80d-6329ce0bdc89"
      },
      "source": [
        "[Provide Anonymous Feedback on this Assignment Here](https://forms.gle/4ZRmNr5rmGCAR1Re6)"
      ]
    }
  ],
  "metadata": {
    "kernelspec": {
      "display_name": "Python 3 (ipykernel)",
      "language": "python",
      "name": "python3"
    },
    "language_info": {
      "codemirror_mode": {
        "name": "ipython",
        "version": 3
      },
      "file_extension": ".py",
      "mimetype": "text/x-python",
      "name": "python",
      "nbconvert_exporter": "python",
      "pygments_lexer": "ipython3",
      "version": "3.13.2"
    },
    "colab": {
      "provenance": []
    }
  },
  "nbformat": 4,
  "nbformat_minor": 5
}