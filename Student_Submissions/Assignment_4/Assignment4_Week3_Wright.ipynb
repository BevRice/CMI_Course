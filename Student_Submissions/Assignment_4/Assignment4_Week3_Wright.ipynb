{
  "cells": [
    {
      "cell_type": "markdown",
      "id": "f391d88b-bc40-4380-bfac-249445c7f733",
      "metadata": {
        "id": "f391d88b-bc40-4380-bfac-249445c7f733"
      },
      "source": [
        "# 📝 Assignment 4\n",
        "\n",
        "## Introductory Exercises in Python\n",
        "\n",
        "⏳ Estimated Duration: 1 Hour  \n",
        "🎯 Due: Friday, 28 March at 11:59pm"
      ]
    },
    {
      "cell_type": "markdown",
      "id": "62897a0d-e74d-4cad-bb90-3de86a930066",
      "metadata": {
        "id": "62897a0d-e74d-4cad-bb90-3de86a930066"
      },
      "source": [
        "[![Open In Colab](https://colab.research.google.com/assets/colab-badge.svg)](https://colab.research.google.com/github/BevRice/CMI_Course/blob/main/docs/source/notebooks/Assignment4_Week3.ipynb)"
      ]
    },
    {
      "cell_type": "markdown",
      "id": "6fc7e588-3639-4dfb-9799-1c6b578bb1aa",
      "metadata": {
        "id": "6fc7e588-3639-4dfb-9799-1c6b578bb1aa"
      },
      "source": [
        "### 🔹 Getting Started with Google Colab\n",
        "\n",
        "For this lesson, we will be using **Google Colab**, a free, cloud-based Jupyter Notebook environment that allows us to write and execute Python code **without needing to install anything** on our own computers.  \n",
        "\n",
        "🔹 **Why Google Colab?**  \n",
        "✔ **No Installation Required** – Runs in your web browser, no need to install Python, libraries, or Jupyter Notebook.  \n",
        "✔ **Pre-Installed Libraries** – Most of the common data analysis libraries (`NumPy`, `pandas`, `matplotlib`, `seaborn`, `statsmodels`) are already included.  \n",
        "✔ **Cloud-Based & Auto-Saving** – Your work is stored in Google Drive, so you can access it from anywhere.  \n",
        "✔ **Free GPU Access** – Useful for advanced machine learning, though not necessary for this course.  \n",
        "\n",
        "🔹 **How to Open Google Colab**  \n",
        "1️⃣ **Go to** [colab.research.google.com](https://colab.research.google.com/)  \n",
        "2️⃣ **Sign in** with your Google account  \n",
        "3️⃣ **Click** Open in Colab above\n",
        "\n",
        "---\n",
        "\n",
        "💻 **What If I Want to Run Python Locally?**  \n",
        "If you’re interested in running Python on your own computer instead of using Google Colab, you can install **Anaconda**, which includes Python and Jupyter Notebook.  \n",
        "\n",
        "🔹 **Anaconda Benefits:**  \n",
        "- Comes with everything you need for data analysis.  \n",
        "- Lets you work offline and manage different project environments.  \n",
        "- Supports additional tools like R and Julia if you’re interested in expanding your coding skills.  \n",
        "\n",
        "If you'd like guidance on **installing and setting up Anaconda**, I'm happy to walk through it with you during **office hours**! 😊  \n"
      ]
    },
    {
      "cell_type": "markdown",
      "id": "da017a30-1805-4312-bfa3-83c254fe3232",
      "metadata": {
        "id": "da017a30-1805-4312-bfa3-83c254fe3232"
      },
      "source": [
        "## Python Basics\n",
        "\n",
        "Lets practice the basics covered in Lesson 6 before we apply what we've learned to MDM data  which we'll do in Lesson 7 and Assignment 5.\n",
        "\n",
        "---"
      ]
    },
    {
      "cell_type": "markdown",
      "id": "156eae05-40b2-43eb-a4b5-81efe48c7627",
      "metadata": {
        "id": "156eae05-40b2-43eb-a4b5-81efe48c7627"
      },
      "source": [
        "### 📌 Exercise 1: Working with Variables\n",
        "1. Create three variables: category, age, and engagement_rate\n",
        "2. Assign a string, integer, and float to the variables respectively\n",
        "3. Print each of the variables\n",
        "4. Check and print the data types of each variable"
      ]
    },
    {
      "cell_type": "code",
      "execution_count": 7,
      "id": "5fa8fd36-4c3c-4c86-8966-d8586d9cde75",
      "metadata": {
        "id": "5fa8fd36-4c3c-4c86-8966-d8586d9cde75"
      },
      "outputs": [],
      "source": [
        "# Create variablescategory = \"Technology\"    # Assign a stringage = 10                   # Assign an integerengagement_rate = 2.56     # Assign a float"
      ]
    },
    {
      "cell_type": "code",
      "execution_count": 8,
      "id": "8a878deb-d6bb-4a79-9ecd-fdd0c3c2f933",
      "metadata": {
        "id": "8a878deb-d6bb-4a79-9ecd-fdd0c3c2f933"
      },
      "outputs": [],
      "source": [
        "# Print each variableprint(\"Category:\", category)print(\"Age:\", age)print(\"Engagement Rate:\", engagement_rate)"
      ]
    },
    {
      "cell_type": "code",
      "execution_count": 9,
      "id": "af8ef3d6-2f95-4e2d-954d-b4aedd7866ac",
      "metadata": {
        "id": "af8ef3d6-2f95-4e2d-954d-b4aedd7866ac"
      },
      "outputs": [],
      "source": [
        "# Check and print the data types of each variableprint(\"Data type of category:\", type(category))print(\"Data type of age:\", type(age))print(\"Data type of engagement_rate:\", type(engagement_rate))\n"
      ]
    },
    {
      "cell_type": "markdown",
      "id": "46d7287f-7b9f-424e-88b5-4ecf68697e72",
      "metadata": {
        "id": "46d7287f-7b9f-424e-88b5-4ecf68697e72"
      },
      "source": [
        "---\n",
        "\n",
        "### 📌 Exercise 2: Working with Variables\n",
        "1. Change the value stored in category to a complex data type\n",
        "2. Print the variable\n",
        "3. Check and print the new data type of category"
      ]
    },
    {
      "cell_type": "code",
      "execution_count": 10,
      "id": "8366c5a7-bfb8-44b6-8cbc-d54da9186ca9",
      "metadata": {
        "id": "8366c5a7-bfb8-44b6-8cbc-d54da9186ca9"
      },
      "outputs": [],
      "source": [
        "# Create variablescategory = \"Technology\"    # Initial assignment as a stringage = 10                   # Integerengagement_rate = 2.56     # Float"
      ]
    },
    {
      "cell_type": "code",
      "execution_count": 11,
      "id": "7383eed5-61a1-404d-b0d1-0118ad799d7d",
      "metadata": {
        "id": "7383eed5-61a1-404d-b0d1-0118ad799d7d"
      },
      "outputs": [],
      "source": [
        "# Change the value of category to a complex data typecategory = 3 + 4j          # Assign a complex number"
      ]
    },
    {
      "cell_type": "code",
      "execution_count": 13,
      "id": "b24daa86-3e55-45cd-98e8-2e81e1054ab7",
      "metadata": {
        "id": "b24daa86-3e55-45cd-98e8-2e81e1054ab7"
      },
      "outputs": [],
      "source": [
        "# Print the variableprint(\"Category:\", category)"
      ]
    },
    {
      "cell_type": "markdown",
      "id": "eb6b5cce-db5f-411c-9765-44cbdaca7be2",
      "metadata": {
        "id": "eb6b5cce-db5f-411c-9765-44cbdaca7be2"
      },
      "source": [
        "---"
      ]
    },
    {
      "cell_type": "code",
      "execution_count": 14,
      "id": "8aea950a-da4d-46f9-a21c-cfb106827539",
      "metadata": {
        "id": "8aea950a-da4d-46f9-a21c-cfb106827539",
        "outputId": "4c9da2d5-4f28-49fb-cd82-c06fd4c5ae27",
        "colab": {
          "base_uri": "https://localhost:8080/"
        }
      },
      "outputs": [
        {
          "output_type": "stream",
          "name": "stdout",
          "text": [
            "Never gonna give you up\n",
            "Never gonna let you down\n",
            "Never gonna run around and desert you\n",
            "Never gonna make you cry\n",
            "Never gonna say goodbye\n",
            "Never gonna tell a lie and hurt you\n"
          ]
        }
      ],
      "source": [
        "# Run this cell\n",
        "rickroll = \"\"\"Never gonna give you up\n",
        "Never gonna let you down\n",
        "Never gonna run around and desert you\n",
        "Never gonna make you cry\n",
        "Never gonna say goodbye\n",
        "Never gonna tell a lie and hurt you\"\"\"\n",
        "\n",
        "print(rickroll)"
      ]
    },
    {
      "cell_type": "markdown",
      "id": "f8d5f699-2702-4493-affd-15b667a5c42d",
      "metadata": {
        "id": "f8d5f699-2702-4493-affd-15b667a5c42d"
      },
      "source": [
        "### Question 1: Is what was printed above structured or unstructured data?"
      ]
    },
    {
      "cell_type": "markdown",
      "id": "2256c080-77ef-4cf9-8b2b-4df3aa78f7b8",
      "metadata": {
        "id": "2256c080-77ef-4cf9-8b2b-4df3aa78f7b8"
      },
      "source": [
        "Untructured"
      ]
    },
    {
      "cell_type": "markdown",
      "id": "680ca8d8-affe-4670-8b85-de6239742395",
      "metadata": {
        "id": "680ca8d8-affe-4670-8b85-de6239742395"
      },
      "source": [
        "---\n",
        "\n",
        "### 📌 Exercise 3: Importing libraries\n",
        "1. Import the pandas and numpy libraries\n",
        "2. Check the version of each library by running the following:\n",
        "    - print(pd.__version__)\n",
        "    - print(np.__version__)"
      ]
    },
    {
      "cell_type": "code",
      "execution_count": 17,
      "id": "85012092-c902-4172-b211-65e38456f667",
      "metadata": {
        "id": "85012092-c902-4172-b211-65e38456f667",
        "outputId": "7b36477d-b1bd-47ec-c943-c55c4f0ae164",
        "colab": {
          "base_uri": "https://localhost:8080/"
        }
      },
      "outputs": [
        {
          "output_type": "stream",
          "name": "stdout",
          "text": [
            "2.0.2\n"
          ]
        }
      ],
      "source": [
        "# Import pandas and numpy\n",
        "import numpy as np # import the numpy library and assign it to the variable np\n",
        "# print(pd.__version__)\n",
        "# Import pandas and numpy\n",
        "import numpy as np # import the numpy library and assign it to the variable np\n",
        "\n",
        "print(np.__version__)"
      ]
    },
    {
      "cell_type": "code",
      "execution_count": 18,
      "id": "fa082635-20a2-4947-9ca8-3c697f524847",
      "metadata": {
        "id": "fa082635-20a2-4947-9ca8-3c697f524847",
        "outputId": "b3bb95c5-0ac3-4a5d-c12f-4b4686e81607",
        "colab": {
          "base_uri": "https://localhost:8080/"
        }
      },
      "outputs": [
        {
          "output_type": "stream",
          "name": "stdout",
          "text": [
            "2.0.2\n"
          ]
        }
      ],
      "source": [
        "# Check pandas version\n",
        "# print(pd.__version__)\n",
        "\n",
        "print(np.__version__)"
      ]
    },
    {
      "cell_type": "code",
      "execution_count": 19,
      "id": "e02f2b02-69dc-466d-9e31-7c9cbe8ae4e9",
      "metadata": {
        "id": "e02f2b02-69dc-466d-9e31-7c9cbe8ae4e9"
      },
      "outputs": [],
      "source": [
        "# Check numpy version\n",
        "# Enter code here"
      ]
    },
    {
      "cell_type": "markdown",
      "id": "b0f68748-b888-4d17-86ad-7a5bac9dddb8",
      "metadata": {
        "id": "b0f68748-b888-4d17-86ad-7a5bac9dddb8"
      },
      "source": [
        "---"
      ]
    },
    {
      "cell_type": "markdown",
      "id": "4d61e9b6-5788-43f2-8c65-7355c8ec93da",
      "metadata": {
        "id": "4d61e9b6-5788-43f2-8c65-7355c8ec93da"
      },
      "source": [
        "### 📌 Exercise 4: Basic numpy\n",
        "- 1. Create a numpy array with 5 integers and call it ages -> ages = np.array([33,45,18...])\n",
        "- 2. Create a numpy array with 5 floats and call it engagement_rate\n",
        "- 3. Create a numpy array with 5 strings and call it users\n",
        "- 4. Print all 3 arrays"
      ]
    },
    {
      "cell_type": "code",
      "execution_count": 25,
      "id": "803b3c30-182a-4c21-9484-e1a9132b236d",
      "metadata": {
        "id": "803b3c30-182a-4c21-9484-e1a9132b236d"
      },
      "outputs": [],
      "source": [
        "# Create a numpy array with 5 integersages = np.array([33, 45, 18, 27, 60])"
      ]
    },
    {
      "cell_type": "code",
      "execution_count": 24,
      "id": "a89ff7dc-207b-45a3-b6db-b57f098cde7f",
      "metadata": {
        "id": "a89ff7dc-207b-45a3-b6db-b57f098cde7f"
      },
      "outputs": [],
      "source": [
        "# Create a numpy array with 5 floatsengagement_rate = np.array([0.75, 0.85, 0.65, 0.90, 0.80])"
      ]
    },
    {
      "cell_type": "code",
      "execution_count": 22,
      "id": "523fdd39-b4f3-4f15-9b5c-97856e11d13b",
      "metadata": {
        "id": "523fdd39-b4f3-4f15-9b5c-97856e11d13b"
      },
      "outputs": [],
      "source": [
        "# Create a numpy array with 5 stringsusers = np.array([\"Alice\", \"Bob\", \"Charlie\", \"David\", \"Eve\"])"
      ]
    },
    {
      "cell_type": "code",
      "execution_count": 21,
      "id": "915bc262-2104-495c-bcdb-7702ac476cd6",
      "metadata": {
        "id": "915bc262-2104-495c-bcdb-7702ac476cd6"
      },
      "outputs": [],
      "source": [
        "# Print all 3 arraysprint(\"Ages:\", ages)print(\"Engagement Rates:\", engagement_rate)print(\"Users:\", users)"
      ]
    },
    {
      "cell_type": "markdown",
      "id": "08aa72ca-31a6-447a-b752-a9a3c378940f",
      "metadata": {
        "id": "08aa72ca-31a6-447a-b752-a9a3c378940f"
      },
      "source": [
        "- 5. Get the third value of your users array -> users[2]\n",
        "- 6. Calculate sum of your ages array -> np.sum(ages)\n",
        "- 7. Calculate mean of your engagement_rate array -> np.mean(engagement_rate)"
      ]
    },
    {
      "cell_type": "code",
      "execution_count": 26,
      "id": "27e7fa62-d1b5-4291-a177-bf024166df29",
      "metadata": {
        "id": "27e7fa62-d1b5-4291-a177-bf024166df29"
      },
      "outputs": [],
      "source": [
        "# Create the numpy arraysages = np.array([33, 45, 18, 27, 60])engagement_rate = np.array([0.75, 0.85, 0.65, 0.90, 0.80])users = np.array([\"Alice\", \"Bob\", \"Charlie\", \"David\", \"Eve\"])"
      ]
    },
    {
      "cell_type": "code",
      "execution_count": 27,
      "id": "01d23b3d-1487-45d1-9aea-a391afdf7522",
      "metadata": {
        "id": "01d23b3d-1487-45d1-9aea-a391afdf7522"
      },
      "outputs": [],
      "source": [
        "# Get the third value of the users arraythird_user = users[2]print(\"Third user:\", third_user)"
      ]
    },
    {
      "cell_type": "code",
      "execution_count": 28,
      "id": "76137c65-ebf1-4f11-8d26-c4a4bc9c8a35",
      "metadata": {
        "id": "76137c65-ebf1-4f11-8d26-c4a4bc9c8a35"
      },
      "outputs": [],
      "source": [
        "# Calculate the sum of the ages arraysum_ages = np.sum(ages)print(\"Sum of ages:\", sum_ages)"
      ]
    },
    {
      "cell_type": "markdown",
      "id": "88783f9c-2136-4eaa-a88d-5a1c12950df4",
      "metadata": {
        "id": "88783f9c-2136-4eaa-a88d-5a1c12950df4"
      },
      "source": [
        "- 8. Change the first value of your users array to your first name -> users[0] = your name here\n",
        "- 9. Change the last value of ages to 50"
      ]
    },
    {
      "cell_type": "code",
      "execution_count": 29,
      "id": "af663e87-2625-474b-84d9-f6951bb5d8da",
      "metadata": {
        "id": "af663e87-2625-474b-84d9-f6951bb5d8da"
      },
      "outputs": [],
      "source": [
        "# Create the numpy arraysages = np.array([33, 45, 18, 27, 60])engagement_rate = np.array([0.75, 0.85, 0.65, 0.90, 0.80])users = np.array([\"Alice\", \"Bob\", \"Charlie\", \"David\", \"Eve\"])"
      ]
    },
    {
      "cell_type": "code",
      "execution_count": 30,
      "id": "07851abf-73b7-4c09-96bf-55bdf2a33e89",
      "metadata": {
        "id": "07851abf-73b7-4c09-96bf-55bdf2a33e89"
      },
      "outputs": [],
      "source": [
        "# Change the first value of the users array to your first nameusers[0] = \"YourName\"  # Replace 'YourName' with your actual first name"
      ]
    },
    {
      "cell_type": "markdown",
      "id": "aef59e80-d031-4f3d-a5fc-5ba4068e4a3f",
      "metadata": {
        "id": "aef59e80-d031-4f3d-a5fc-5ba4068e4a3f"
      },
      "source": [
        "---\n",
        "### 📌 Exercise 5: Basic pandas"
      ]
    },
    {
      "cell_type": "code",
      "execution_count": null,
      "id": "74a94db2-5d79-4754-a0bf-3547c8b8b9a6",
      "metadata": {
        "id": "74a94db2-5d79-4754-a0bf-3547c8b8b9a6",
        "outputId": "f247af96-1d92-4616-db68-efb0257f22d5"
      },
      "outputs": [
        {
          "data": {
            "text/plain": [
              "'\\ndf = pd.DataFrame({\\n    \"Name\": users,\\n    \"Age\": ages,\\n    \"Engagement\": engagement_rates\\n})\\n\\nprint(df)\\n\\n'"
            ]
          },
          "execution_count": 2,
          "metadata": {},
          "output_type": "execute_result"
        }
      ],
      "source": [
        "# Create a DataFrame of your numpy arrays by running this code; remove all triple quotes first\n",
        "\n",
        "'''\n",
        "df = pd.DataFrame({\n",
        "    \"Name\": users,\n",
        "    \"Age\": ages,\n",
        "    \"Engagement\": engagement_rates\n",
        "})\n",
        "\n",
        "print(df)\n",
        "\n",
        "'''"
      ]
    },
    {
      "cell_type": "markdown",
      "id": "a1e3a423-4f27-401c-ada7-a62fe0b91429",
      "metadata": {
        "id": "a1e3a423-4f27-401c-ada7-a62fe0b91429"
      },
      "source": [
        "### Question 2: Is what was printed above structured or unstructured data?"
      ]
    },
    {
      "cell_type": "markdown",
      "id": "7c6d0781-d4fd-4cd7-8445-2eeffdc00fc4",
      "metadata": {
        "id": "7c6d0781-d4fd-4cd7-8445-2eeffdc00fc4"
      },
      "source": [
        "Structures Data"
      ]
    },
    {
      "cell_type": "markdown",
      "id": "c1d272b9-2f2a-44a4-bfaa-cfb280be99e5",
      "metadata": {
        "id": "c1d272b9-2f2a-44a4-bfaa-cfb280be99e5"
      },
      "source": [
        "1️⃣ Compute Summary Statistics using pandas\n",
        "- 1. Use pandas to calculate the mean of df['Age'] by running -> df['Age'].mean()  \n",
        "- 2. Calculate the mean of engagement_rates in the dataset  \n",
        "- 3. Calculate the median of engagement_rates in the dataset  \n",
        "- 4. Calculate the mode of the engagement_rates in the dataset (this returns a series)  \n",
        "- 5. Extract the first mode by running -> df['Engagement'].mode()[0]"
      ]
    },
    {
      "cell_type": "code",
      "execution_count": null,
      "id": "7417f9cb-8940-401c-99d2-38b25a7126cc",
      "metadata": {
        "id": "7417f9cb-8940-401c-99d2-38b25a7126cc"
      },
      "outputs": [],
      "source": [
        "# 1. Calculate the mean of df['Age']age_mean = df['Age'].mean()print(\"Mean of Age:\", age_mean)"
      ]
    },
    {
      "cell_type": "code",
      "execution_count": 31,
      "id": "99f960b8-7a1f-497b-acb9-0794f32b3131",
      "metadata": {
        "id": "99f960b8-7a1f-497b-acb9-0794f32b3131"
      },
      "outputs": [],
      "source": [
        "# 2. Calculate the mean of engagement ratesengagement_mean = df['Engagement'].mean()print(\"Mean of Engagement Rates:\", engagement_mean)"
      ]
    },
    {
      "cell_type": "code",
      "execution_count": 32,
      "id": "209036c2-0ed9-428d-b84b-2f62dc05e0a6",
      "metadata": {
        "id": "209036c2-0ed9-428d-b84b-2f62dc05e0a6"
      },
      "outputs": [],
      "source": [
        "# 3. Calculate the median of engagement ratesengagement_median = df['Engagement'].median()print(\"Median of Engagement Rates:\", engagement_median)"
      ]
    },
    {
      "cell_type": "code",
      "execution_count": 33,
      "id": "9f264001-4d7b-40b5-a5ca-cd8f3c400d1e",
      "metadata": {
        "id": "9f264001-4d7b-40b5-a5ca-cd8f3c400d1e"
      },
      "outputs": [],
      "source": [
        "# 4. Calculate the mode of engagement rates (returns a series)engagement_mode = df['Engagement'].mode()print(\"Mode(s) of Engagement Rates:\", engagement_mode)"
      ]
    },
    {
      "cell_type": "code",
      "execution_count": 34,
      "id": "b32408a9-f12d-4b56-8d29-949242d9f953",
      "metadata": {
        "id": "b32408a9-f12d-4b56-8d29-949242d9f953"
      },
      "outputs": [],
      "source": [
        "# 5. Extract the first modefirst_mode = engagement_mode[0]print(\"First Mode of Engagement Rates:\", first_mode)"
      ]
    },
    {
      "cell_type": "markdown",
      "id": "e60d406d-682e-4200-93a7-01e89c738c6b",
      "metadata": {
        "id": "e60d406d-682e-4200-93a7-01e89c738c6b"
      },
      "source": [
        "### 📌 Exercise 6: Lists and Loops\n",
        "- 1. Create a list of 10 media types\n",
        "- 2. Print your list\n",
        "- 3. Print each media individually using a loop\n",
        "          for media in your_list_name:\n",
        "             print(media)"
      ]
    },
    {
      "cell_type": "code",
      "execution_count": 35,
      "id": "eca3d0f2-0d59-4b64-883f-3e3ee4354182",
      "metadata": {
        "id": "eca3d0f2-0d59-4b64-883f-3e3ee4354182"
      },
      "outputs": [],
      "source": [
        "# 1. Create a list of 10 media typesmedia_types = [    \"Books\",     \"Movies\",     \"Music\",     \"Podcasts\",     \"Television\",    \"Video Games\",     \"Magazines\",     \"Newspapers\",    \"Blogs\",     \"Social Media\"]"
      ]
    },
    {
      "cell_type": "code",
      "execution_count": 36,
      "id": "fe0fce86-fe9b-4018-a239-0489ed1cdd9b",
      "metadata": {
        "id": "fe0fce86-fe9b-4018-a239-0489ed1cdd9b"
      },
      "outputs": [],
      "source": [
        "# 2. Print your listprint(\"Media Types List:\", media_types)"
      ]
    },
    {
      "cell_type": "code",
      "execution_count": 38,
      "id": "8ed70215-b6d1-4209-8387-dcdad919f621",
      "metadata": {
        "id": "8ed70215-b6d1-4209-8387-dcdad919f621"
      },
      "outputs": [],
      "source": [
        "# 3. Print each media individually using a loopfor media in media_types:    print(media)"
      ]
    },
    {
      "cell_type": "code",
      "execution_count": 37,
      "id": "22e65604-7301-444b-9049-c1e162950cc9",
      "metadata": {
        "id": "22e65604-7301-444b-9049-c1e162950cc9"
      },
      "outputs": [],
      "source": [
        "# Sample dataset creation with a Name columndata = {    'Name': [\"Alice\", \"Bob\", \"Charlie\", \"David\", \"Eve\"],    'Age': [33, 45, 18, 27, 50],    'Engagement': [0.75, 0.85, 0.65, 0.90, 0.80]}# Create a DataFrame from the datadf = pd.DataFrame(data)# Print each of the user names in your DataFramefor user in df['Name']:    print(user)"
      ]
    },
    {
      "cell_type": "markdown",
      "id": "2ac20775-eb2d-40e0-a683-a9b1fac6851c",
      "metadata": {
        "id": "2ac20775-eb2d-40e0-a683-a9b1fac6851c"
      },
      "source": [
        "Once complete, please submit by saving your ipynb file to the [Assignment 4 Student Submissions Folder](https://github.com/BevRice/CMI_Course/tree/main/Student_Submissions/Assignment_4)\n",
        "\n",
        "In order to do so you will need to complete the following ([screenshots found here](https://github.com/BevRice/CMI_Course/blob/main/Student_Submissions/Submitting%20ipynb.pdf)):\n",
        "\n",
        "1. Accept the invitation to be a contributer to the repository.  You should have received an email at the address linked to your github account.  You can also accept the invitation by logging into github, clicking the notifications icon, and viewing the invitation from there.\n",
        "\n",
        "2. From Google Colab\n",
        "    - a. Click File\n",
        "    - b. Click Download\n",
        "    - c. Select Download .ipynb\n",
        "\n",
        "3. Go to the submissions folder and click \"Add File\" then \"Upload File\"\n",
        "\n",
        "4. Drag and drop the file into github or click on \"choose your files\"; please make sure the file name has your first or last name in it otherwise it may overwrite another's assignment\n",
        "\n",
        "5. Add a comment under \"Commit changes\" where it says \"Add file via upload\"; this comment can be \"Student X Assignment Y Submission\"; then click Commit changes\n",
        "\n",
        "Please upload to the folder by 11:59pm, Fri 28 Mar\n",
        "\n",
        "If you can't finish the assignment in a single session, you can save the file locally and reopen the file in Google Colab by going to File -> Upload Notebook -> Upload -> Browse -> Select your file"
      ]
    },
    {
      "cell_type": "markdown",
      "id": "1144af66-da15-4e40-83a5-22c461006ba6",
      "metadata": {
        "id": "1144af66-da15-4e40-83a5-22c461006ba6"
      },
      "source": [
        "Grading Criteria (10 Points Total)\n",
        "\n",
        "- ✅ Code Completeness (5 pts) → Attempts all coding exercises\n",
        "- ✅ Code Accuracy (3 pts) -> No errors in executions\n",
        "- ✅ Interpretation of Results (2 pts) → Thoughtful answers to questions 1-2"
      ]
    },
    {
      "cell_type": "markdown",
      "id": "5c3c6afe-dc44-4d80-b80d-6329ce0bdc89",
      "metadata": {
        "id": "5c3c6afe-dc44-4d80-b80d-6329ce0bdc89"
      },
      "source": [
        "[Provide Anonymous Feedback on this Assignment Here](https://forms.gle/4ZRmNr5rmGCAR1Re6)"
      ]
    }
  ],
  "metadata": {
    "kernelspec": {
      "display_name": "Python 3 (ipykernel)",
      "language": "python",
      "name": "python3"
    },
    "language_info": {
      "codemirror_mode": {
        "name": "ipython",
        "version": 3
      },
      "file_extension": ".py",
      "mimetype": "text/x-python",
      "name": "python",
      "nbconvert_exporter": "python",
      "pygments_lexer": "ipython3",
      "version": "3.13.2"
    },
    "colab": {
      "provenance": []
    }
  },
  "nbformat": 4,
  "nbformat_minor": 5
}