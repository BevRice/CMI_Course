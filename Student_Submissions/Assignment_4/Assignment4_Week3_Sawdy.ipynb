{
  "nbformat": 4,
  "nbformat_minor": 0,
  "metadata": {
    "colab": {
      "provenance": []
    },
    "kernelspec": {
      "name": "python3",
      "display_name": "Python 3"
    },
    "language_info": {
      "name": "python"
    }
  },
  "cells": [
    {
      "cell_type": "markdown",
      "source": [
        "Exercise 1: Working with Variables\n",
        "Create three variables: category, age, and engagement_rate\n",
        "\n",
        "Assign a string, integer, and float to the variables respectively\n",
        "\n",
        "Print each of the variables\n",
        "\n",
        "Check and print the data types of each variable"
      ],
      "metadata": {
        "id": "FCYFuohKhbmE"
      }
    },
    {
      "cell_type": "code",
      "source": [
        "# Create the variables\n",
        "category = \"Domain\"     # String\n",
        "age = 28                # Integer\n",
        "engagement_rate = 2.0   # Float"
      ],
      "metadata": {
        "id": "5KNOZOZcgvH9"
      },
      "execution_count": 55,
      "outputs": []
    },
    {
      "cell_type": "code",
      "source": [
        "# Print your variables\n",
        "print(\"Category:\", category)\n",
        "print(\"Age:\", age)\n",
        "print(\"Engagement Rate:\", engagement_rate)"
      ],
      "metadata": {
        "colab": {
          "base_uri": "https://localhost:8080/"
        },
        "id": "vyzRpwiFhjZA",
        "outputId": "5973a3e2-b61c-4191-e97e-0f9c7689a5b9"
      },
      "execution_count": 56,
      "outputs": [
        {
          "output_type": "stream",
          "name": "stdout",
          "text": [
            "Category: Domain\n",
            "Age: 28\n",
            "Engagement Rate: 2.0\n"
          ]
        }
      ]
    },
    {
      "cell_type": "code",
      "source": [
        "# Print the data types of your variables\n",
        "print(\"Data type of category:\", type(category))\n",
        "print(\"Data type of age:\", type(age))\n",
        "print(\"Data type of engagement_rate:\", type(engagement_rate))"
      ],
      "metadata": {
        "colab": {
          "base_uri": "https://localhost:8080/"
        },
        "id": "RcqwOr1zhj3c",
        "outputId": "07b05b92-8da5-4922-8512-9d303b1a7596"
      },
      "execution_count": 57,
      "outputs": [
        {
          "output_type": "stream",
          "name": "stdout",
          "text": [
            "Data type of category: <class 'str'>\n",
            "Data type of age: <class 'int'>\n",
            "Data type of engagement_rate: <class 'float'>\n"
          ]
        }
      ]
    },
    {
      "cell_type": "markdown",
      "source": [
        "Exercise 2: Working with Variables\n",
        "\n",
        "Change the value stored in category to a complex data type\n",
        "\n",
        "Print the variable\n",
        "\n",
        "Check and print the new data type of category"
      ],
      "metadata": {
        "id": "SOVt7A48mFFr"
      }
    },
    {
      "cell_type": "code",
      "source": [
        "# Change the value stored in category to a complex data type\n",
        "category = 10 + 7j     # Complex number\n"
      ],
      "metadata": {
        "id": "A-bwbv9cmEFc"
      },
      "execution_count": 58,
      "outputs": []
    },
    {
      "cell_type": "code",
      "source": [
        "# Print your variable\n",
        "print(\"Category:\", category)\n"
      ],
      "metadata": {
        "colab": {
          "base_uri": "https://localhost:8080/"
        },
        "id": "1qC53Bi5mjxM",
        "outputId": "4e7fcf54-1215-4ee7-8132-b60a1ca3087b"
      },
      "execution_count": 59,
      "outputs": [
        {
          "output_type": "stream",
          "name": "stdout",
          "text": [
            "Category: (10+7j)\n"
          ]
        }
      ]
    },
    {
      "cell_type": "code",
      "source": [
        "# Print your the data type of your variable\n",
        "print(\"Data type of category:\", type(category))"
      ],
      "metadata": {
        "colab": {
          "base_uri": "https://localhost:8080/"
        },
        "id": "iNXLxxrnmjlF",
        "outputId": "d8e77b75-b321-4ba2-fa90-91f1d436faeb"
      },
      "execution_count": 60,
      "outputs": [
        {
          "output_type": "stream",
          "name": "stdout",
          "text": [
            "Data type of category: <class 'complex'>\n"
          ]
        }
      ]
    },
    {
      "cell_type": "code",
      "source": [
        "# Run this cell\n",
        "rickroll = \"\"\"Never gonna give you up\n",
        "Never gonna let you down\n",
        "Never gonna run around and desert you\n",
        "Never gonna make you cry\n",
        "Never gonna say goodbye\n",
        "Never gonna tell a lie and hurt you\"\"\"\n",
        "\n",
        "print(rickroll)"
      ],
      "metadata": {
        "colab": {
          "base_uri": "https://localhost:8080/"
        },
        "id": "8IBQdevLnbJr",
        "outputId": "da394818-2761-41cf-cdcf-364c34917231"
      },
      "execution_count": 61,
      "outputs": [
        {
          "output_type": "stream",
          "name": "stdout",
          "text": [
            "Never gonna give you up\n",
            "Never gonna let you down\n",
            "Never gonna run around and desert you\n",
            "Never gonna make you cry\n",
            "Never gonna say goodbye\n",
            "Never gonna tell a lie and hurt you\n"
          ]
        }
      ]
    },
    {
      "cell_type": "markdown",
      "source": [
        "Question 1: Is what was printed above structured or unstructured data?\n",
        "\n",
        "Structured string of text with a clear and consistent format.\n"
      ],
      "metadata": {
        "id": "TrNWyqg4nfKu"
      }
    },
    {
      "cell_type": "markdown",
      "source": [
        "Exercise 3: Importing libraries\n",
        "Import the pandas and numpy libraries\n",
        "\n",
        "Check the version of each library by running the following:\n",
        "\n",
        "print(pd.__version__)\n",
        "\n",
        "print(np.__version__)"
      ],
      "metadata": {
        "id": "J-fogqKYn57j"
      }
    },
    {
      "cell_type": "code",
      "source": [
        "# Import pandas and numpy\n",
        "import pandas as pd\n",
        "import numpy as np"
      ],
      "metadata": {
        "id": "-RpJDWD1n8D2"
      },
      "execution_count": 62,
      "outputs": []
    },
    {
      "cell_type": "code",
      "source": [
        "# Check pandas version\n",
        "print(pd.__version__)"
      ],
      "metadata": {
        "colab": {
          "base_uri": "https://localhost:8080/"
        },
        "id": "SdS56KTFn_mk",
        "outputId": "64a6293d-544f-4b84-f79b-ee5c7333290a"
      },
      "execution_count": 63,
      "outputs": [
        {
          "output_type": "stream",
          "name": "stdout",
          "text": [
            "2.2.2\n"
          ]
        }
      ]
    },
    {
      "cell_type": "code",
      "source": [
        "# Check numpy version\n",
        "print(np.__version__)"
      ],
      "metadata": {
        "colab": {
          "base_uri": "https://localhost:8080/"
        },
        "id": "iEWnLUH-oCVs",
        "outputId": "3a842606-a374-4925-c07f-22ad9eee215d"
      },
      "execution_count": 64,
      "outputs": [
        {
          "output_type": "stream",
          "name": "stdout",
          "text": [
            "2.0.2\n"
          ]
        }
      ]
    },
    {
      "cell_type": "markdown",
      "source": [
        "Exercise 4: Basic numpy\n",
        "Create a numpy array with 5 integers and call it ages -> ages = np.array([33,45,18…])\n",
        "\n",
        "Create a numpy array with 5 floats and call it engagement_rate\n",
        "\n",
        "Create a numpy array with 5 strings and call it users\n",
        "\n",
        "Print all 3 arrays"
      ],
      "metadata": {
        "id": "DtWCcudNooST"
      }
    },
    {
      "cell_type": "code",
      "source": [
        "# Create ages\n",
        "ages = np.array([33,45,18,29,40])"
      ],
      "metadata": {
        "id": "4qJsyB93orKU"
      },
      "execution_count": 65,
      "outputs": []
    },
    {
      "cell_type": "code",
      "source": [
        "# Create engagement_rate\n",
        "engagement_rate=np.array([5.6,7.2,8.3,4.5,6.1])"
      ],
      "metadata": {
        "id": "8shlJAH-otMS"
      },
      "execution_count": 66,
      "outputs": []
    },
    {
      "cell_type": "code",
      "source": [
        "# Create users\n",
        "users=np.array([\"Alice\",\"Bob\",\"Charlie\", \"David\",\"Eve\"])"
      ],
      "metadata": {
        "id": "rEj3BHlhous5"
      },
      "execution_count": 67,
      "outputs": []
    },
    {
      "cell_type": "code",
      "source": [
        "# Print arrays\n",
        "print(\"Ages:\", ages)\n",
        "print(\"Engagement Rates:\",engagement_rate)\n",
        "print(\"Users:\", users)"
      ],
      "metadata": {
        "colab": {
          "base_uri": "https://localhost:8080/"
        },
        "id": "0Am899yiowBq",
        "outputId": "1d7358ba-5574-49a8-aec9-74d719b2c5f9"
      },
      "execution_count": 68,
      "outputs": [
        {
          "output_type": "stream",
          "name": "stdout",
          "text": [
            "Ages: [33 45 18 29 40]\n",
            "Engagement Rates: [5.6 7.2 8.3 4.5 6.1]\n",
            "Users: ['Alice' 'Bob' 'Charlie' 'David' 'Eve']\n"
          ]
        }
      ]
    },
    {
      "cell_type": "markdown",
      "source": [
        "Get the third value of your users array -> users[2]\n",
        "\n",
        "Calculate sum of your ages array -> np.sum(ages)\n",
        "\n",
        "Calculate mean of your engagement_rate array -> np.mean(engagement_rate)"
      ],
      "metadata": {
        "id": "-5VVn_mTp0v0"
      }
    },
    {
      "cell_type": "code",
      "source": [
        "# Get 3rd value of users array\n",
        "# Numpy starts at 0 so the third value would be #2\n",
        "print(users[2])"
      ],
      "metadata": {
        "colab": {
          "base_uri": "https://localhost:8080/"
        },
        "id": "cgNfWzSxp3lt",
        "outputId": "b6a3e554-21aa-4198-b6d6-7a43582e927d"
      },
      "execution_count": 69,
      "outputs": [
        {
          "output_type": "stream",
          "name": "stdout",
          "text": [
            "Charlie\n"
          ]
        }
      ]
    },
    {
      "cell_type": "code",
      "source": [
        "# Calculate the sum of your ages array\n",
        "sum_ages=np.sum(ages)\n",
        "print(\"Sum of ages array:\", sum_ages)"
      ],
      "metadata": {
        "colab": {
          "base_uri": "https://localhost:8080/"
        },
        "id": "Vw9vm4hSp5jV",
        "outputId": "ed913185-7f2e-4ae5-d9d2-18d88404927d"
      },
      "execution_count": 70,
      "outputs": [
        {
          "output_type": "stream",
          "name": "stdout",
          "text": [
            "Sum of ages array: 165\n"
          ]
        }
      ]
    },
    {
      "cell_type": "code",
      "source": [
        "# Calculate the mean of your engagement_array array\n",
        "mean_engagement_rate=np.mean(engagement_rate)\n",
        "print(\"Mean of engagement_rate array:\", mean_engagement_rate)"
      ],
      "metadata": {
        "colab": {
          "base_uri": "https://localhost:8080/"
        },
        "id": "JQvyI7uqp7NU",
        "outputId": "c85167cd-1e3e-40e5-bcba-5e79e459db6c"
      },
      "execution_count": 71,
      "outputs": [
        {
          "output_type": "stream",
          "name": "stdout",
          "text": [
            "Mean of engagement_rate array: 6.340000000000001\n"
          ]
        }
      ]
    },
    {
      "cell_type": "markdown",
      "source": [
        "Change the first value of your users array to your first name -> users[0] = your name here\n",
        "\n",
        "Change the last value of ages to 50"
      ],
      "metadata": {
        "id": "yNnutAycp9E0"
      }
    },
    {
      "cell_type": "code",
      "source": [
        "# Change the first value of users to your name\n",
        "users[0]=\"Claudia\"\n",
        "print(\"Updated users array:\", users)"
      ],
      "metadata": {
        "colab": {
          "base_uri": "https://localhost:8080/"
        },
        "id": "LPuj0tsCp_yt",
        "outputId": "deb71513-ac18-4f21-f40f-019c94280ca6"
      },
      "execution_count": 72,
      "outputs": [
        {
          "output_type": "stream",
          "name": "stdout",
          "text": [
            "Updated users array: ['Claudia' 'Bob' 'Charlie' 'David' 'Eve']\n"
          ]
        }
      ]
    },
    {
      "cell_type": "code",
      "source": [
        "# Change the last value of ages to 50\n",
        "ages[-1]=50\n",
        "print(\"Updated ages array:\", ages)"
      ],
      "metadata": {
        "colab": {
          "base_uri": "https://localhost:8080/"
        },
        "id": "utuinm9YqBpu",
        "outputId": "4f793cbe-c76d-46aa-a3af-3ce7aaa8ce2c"
      },
      "execution_count": 73,
      "outputs": [
        {
          "output_type": "stream",
          "name": "stdout",
          "text": [
            "Updated ages array: [33 45 18 29 50]\n"
          ]
        }
      ]
    },
    {
      "cell_type": "markdown",
      "source": [
        "Exercise 5: Basic pandas"
      ],
      "metadata": {
        "id": "ydyfMIbwrsZL"
      }
    },
    {
      "cell_type": "code",
      "source": [
        "# Create a DataFrame of your numpy arrays by running this code; remove all triple quotes first\n",
        "\n",
        "df = pd.DataFrame({\n",
        "    \"Name\": users,\n",
        "    \"Age\": ages,\n",
        "    \"Engagement\": engagement_rate\n",
        "})\n",
        "\n",
        "print(df)"
      ],
      "metadata": {
        "colab": {
          "base_uri": "https://localhost:8080/"
        },
        "id": "C8H1eDXhrxtj",
        "outputId": "d2442b9c-07fe-4651-ccba-5d2560351129"
      },
      "execution_count": 74,
      "outputs": [
        {
          "output_type": "stream",
          "name": "stdout",
          "text": [
            "      Name  Age  Engagement\n",
            "0  Claudia   33         5.6\n",
            "1      Bob   45         7.2\n",
            "2  Charlie   18         8.3\n",
            "3    David   29         4.5\n",
            "4      Eve   50         6.1\n"
          ]
        }
      ]
    },
    {
      "cell_type": "markdown",
      "source": [
        "Question 2: Is what was printed above structured or unstructured data?\n",
        "\n",
        "Structured, because it is organized with rows and columns that could be utilized in a relational database.\n",
        "\n",
        "1️⃣ Compute Summary Statistics using pandas\n",
        "\n",
        "Use pandas to calculate the mean of df[‘Age’] by running -> df[‘Age’].mean()\n",
        "\n",
        "Calculate the mean of engagement_rates in the dataset\n",
        "\n",
        "Calculate the median of engagement_rates in the dataset\n",
        "\n",
        "Calculate the mode of the engagement_rates in the dataset (this returns a series)\n",
        "\n",
        "Extract the first mode by running -> df[‘Engagement’].mode()[0]"
      ],
      "metadata": {
        "id": "0eZBRBoFsTrc"
      }
    },
    {
      "cell_type": "code",
      "source": [
        "# Get the mean (average) of Age\n",
        "mean_age = df['Age'].mean()\n",
        "print(\"Mean of Age:\", mean_age)"
      ],
      "metadata": {
        "colab": {
          "base_uri": "https://localhost:8080/"
        },
        "id": "NRERTprQsWYU",
        "outputId": "c37edb5b-9bda-49ae-f312-deb69ec0d1f5"
      },
      "execution_count": 75,
      "outputs": [
        {
          "output_type": "stream",
          "name": "stdout",
          "text": [
            "Mean of Age: 35.0\n"
          ]
        }
      ]
    },
    {
      "cell_type": "code",
      "source": [
        "# Get the mean of Engagement\n",
        "median_engagement = df['Engagement'].median()\n",
        "print(\"Median of Engagement:\", median_engagement)"
      ],
      "metadata": {
        "colab": {
          "base_uri": "https://localhost:8080/"
        },
        "id": "WrkL1EP1st5_",
        "outputId": "bd0bb635-b90b-4a5a-b362-e0c2efa13567"
      },
      "execution_count": 76,
      "outputs": [
        {
          "output_type": "stream",
          "name": "stdout",
          "text": [
            "Median of Engagement: 6.1\n"
          ]
        }
      ]
    },
    {
      "cell_type": "code",
      "source": [
        "# Get the median of Engagement\n",
        "mode_engagement = df['Engagement'].mode()\n",
        "print(\"Mode of Engagement:\", mode_engagement)"
      ],
      "metadata": {
        "colab": {
          "base_uri": "https://localhost:8080/"
        },
        "id": "qYvZb2lqs3ue",
        "outputId": "ba03704b-4a07-44cb-ca10-642a7ee8b1ea"
      },
      "execution_count": 77,
      "outputs": [
        {
          "output_type": "stream",
          "name": "stdout",
          "text": [
            "Mode of Engagement: 0    4.5\n",
            "1    5.6\n",
            "2    6.1\n",
            "3    7.2\n",
            "4    8.3\n",
            "Name: Engagement, dtype: float64\n"
          ]
        }
      ]
    },
    {
      "cell_type": "code",
      "source": [
        "# Get the mode of Engagement (may return multiple values)\n",
        "first_mode_engagement = df['Engagement'].mode()[0]\n",
        "print(\"First Mode of Engagement:\", first_mode_engagement)"
      ],
      "metadata": {
        "colab": {
          "base_uri": "https://localhost:8080/"
        },
        "id": "LjWJ5R_bs5IN",
        "outputId": "4386af91-bf53-4c06-f216-68453e9f648a"
      },
      "execution_count": 78,
      "outputs": [
        {
          "output_type": "stream",
          "name": "stdout",
          "text": [
            "First Mode of Engagement: 4.5\n"
          ]
        }
      ]
    },
    {
      "cell_type": "code",
      "source": [
        "# Get the mode first of Followers\n",
        "df[\"Engagement\"].mode()[0]"
      ],
      "metadata": {
        "colab": {
          "base_uri": "https://localhost:8080/"
        },
        "id": "ngMX_xKMs-U2",
        "outputId": "9e6b7195-c723-48cf-81ec-5e68bda97bd8"
      },
      "execution_count": 79,
      "outputs": [
        {
          "output_type": "execute_result",
          "data": {
            "text/plain": [
              "np.float64(4.5)"
            ]
          },
          "metadata": {},
          "execution_count": 79
        }
      ]
    },
    {
      "cell_type": "markdown",
      "source": [
        "Exercise 6: Lists and Loops\n",
        "Create a list of 10 media types\n",
        "\n",
        "Print your list\n",
        "\n",
        "Print each media individually using a loop for media in your_list_name: print(media)"
      ],
      "metadata": {
        "id": "exRN3eLpu1IH"
      }
    },
    {
      "cell_type": "code",
      "source": [
        "# Create list of media types\n",
        "media_types = [\"Television\", \"Radio\", \"Newspapers\", \"Magazines\", \"Websites\", \"Podcasts\", \"YouTube\", \"Social Media\", \"Billboards\", \"Streaming\"]\n"
      ],
      "metadata": {
        "id": "aXyz-U-Otstf"
      },
      "execution_count": 80,
      "outputs": []
    },
    {
      "cell_type": "code",
      "source": [
        "# Print your list of media types\n",
        "print(\"List of Media Types:\", media_types)"
      ],
      "metadata": {
        "colab": {
          "base_uri": "https://localhost:8080/"
        },
        "id": "DRll7QZlu5pM",
        "outputId": "c7b5661d-ccea-4343-ae4a-68bfc9793386"
      },
      "execution_count": 81,
      "outputs": [
        {
          "output_type": "stream",
          "name": "stdout",
          "text": [
            "List of Media Types: ['Television', 'Radio', 'Newspapers', 'Magazines', 'Websites', 'Podcasts', 'YouTube', 'Social Media', 'Billboards', 'Streaming']\n"
          ]
        }
      ]
    },
    {
      "cell_type": "code",
      "source": [
        "# Print each media type individually\n",
        "for media in media_types:\n",
        "    print(media)"
      ],
      "metadata": {
        "colab": {
          "base_uri": "https://localhost:8080/"
        },
        "id": "FmP82fWDu5mN",
        "outputId": "b1cb6f4e-6df8-4145-d845-19f001e1d66d"
      },
      "execution_count": 82,
      "outputs": [
        {
          "output_type": "stream",
          "name": "stdout",
          "text": [
            "Television\n",
            "Radio\n",
            "Newspapers\n",
            "Magazines\n",
            "Websites\n",
            "Podcasts\n",
            "YouTube\n",
            "Social Media\n",
            "Billboards\n",
            "Streaming\n"
          ]
        }
      ]
    },
    {
      "cell_type": "code",
      "source": [
        "# Print each of the user names in your dataframe\n",
        "# by replacing your_list_name with the pandas\n",
        "# column -> df['Name']\n",
        "# replace \"media\" with term of your choice\n",
        "\n",
        "for user in df['Name']:\n",
        "    print(user)"
      ],
      "metadata": {
        "colab": {
          "base_uri": "https://localhost:8080/"
        },
        "id": "BP7ez6cGu5i9",
        "outputId": "2ea4faa7-9abe-4169-bcd6-3d3e170dbbd7"
      },
      "execution_count": 83,
      "outputs": [
        {
          "output_type": "stream",
          "name": "stdout",
          "text": [
            "Claudia\n",
            "Bob\n",
            "Charlie\n",
            "David\n",
            "Eve\n"
          ]
        }
      ]
    }
  ]
}