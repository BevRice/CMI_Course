{
  "cells": [
    {
      "cell_type": "markdown",
      "id": "f391d88b-bc40-4380-bfac-249445c7f733",
      "metadata": {
        "id": "f391d88b-bc40-4380-bfac-249445c7f733"
      },
      "source": [
        "# 📝 Assignment 5"
      ]
    },
    {
      "cell_type": "markdown",
      "id": "5965582e-b21c-4927-839e-e3f2319ba06b",
      "metadata": {
        "id": "5965582e-b21c-4927-839e-e3f2319ba06b"
      },
      "source": [
        "[![Open In Colab](https://colab.research.google.com/assets/colab-badge.svg)](https://colab.research.google.com/github/BevRice/CMI_Course/blob/main/docs/source/notebooks/Assignment5_Week3.ipynb)"
      ]
    },
    {
      "cell_type": "markdown",
      "id": "6fc7e588-3639-4dfb-9799-1c6b578bb1aa",
      "metadata": {
        "id": "6fc7e588-3639-4dfb-9799-1c6b578bb1aa"
      },
      "source": [
        "## EDA Exercises in Python\n",
        "\n",
        "⏳ Estimated Duration: 2 Hours  \n",
        "🎯 Due: Friday, 28 March at 11:59pm"
      ]
    },
    {
      "cell_type": "markdown",
      "id": "35dc869f-2d4a-407d-b8db-05c0a5dc293b",
      "metadata": {
        "id": "35dc869f-2d4a-407d-b8db-05c0a5dc293b"
      },
      "source": [
        "📌 **Assignment Overview**\n",
        "In this assignment, you will conduct an Exploratory Data Analysis (EDA) on the YouTube Trending Videos in the US dataset found [here](https://www.kaggle.com/datasets/rsrishav/youtube-trending-video-dataset?select=US_youtube_trending_data.csv).\n",
        "\n",
        "The dataset contains engagement metrics such as views, likes, dislikes, and comment counts across multiple countries.\n",
        "\n",
        "Your goal is to analyze trends, detect anomalies, and gain insights into what makes a video trend.\n",
        "\n",
        "**Hint:** Pull up Lesson 7 side by side with this assignment in google colab and run the appropriate code from the lesson\n",
        "\n",
        "*Questions in italics are mental notes and are not graded in this assignment*"
      ]
    },
    {
      "cell_type": "markdown",
      "id": "e06956e3-9aa1-4562-a2b1-67d5775d292f",
      "metadata": {
        "id": "e06956e3-9aa1-4562-a2b1-67d5775d292f"
      },
      "source": [
        "### Load Data"
      ]
    },
    {
      "cell_type": "code",
      "execution_count": 8,
      "id": "d80b3092-3c80-4883-9de9-f9b5f6e04438",
      "metadata": {
        "id": "d80b3092-3c80-4883-9de9-f9b5f6e04438"
      },
      "outputs": [],
      "source": [
        "# Import the pandas library\n",
        "import pandas as pd"
      ]
    },
    {
      "cell_type": "markdown",
      "id": "bd3a1293-a870-498e-957a-db9d3eb0ca24",
      "metadata": {
        "id": "bd3a1293-a870-498e-957a-db9d3eb0ca24"
      },
      "source": [
        "**Question 1: What file type is this data?**  \n",
        "US_youtube_trending_data.csv"
      ]
    },
    {
      "cell_type": "markdown",
      "id": "58e69f4d-cd7d-4a1d-bac6-e1df47411c34",
      "metadata": {
        "id": "58e69f4d-cd7d-4a1d-bac6-e1df47411c34"
      },
      "source": [
        "Comma-Separated Values file."
      ]
    },
    {
      "cell_type": "code",
      "execution_count": 10,
      "id": "e897dd7c-90d4-4a5e-8edb-24e0e282f87e",
      "metadata": {
        "id": "e897dd7c-90d4-4a5e-8edb-24e0e282f87e"
      },
      "outputs": [],
      "source": [
        "# Load dataset;\n",
        "youtube_df = pd.read_csv(\"https://raw.githubusercontent.com/BevRice/CMI_Course/refs/heads/main/docs/source/data/US_youtube_trending_data_sample.csv\")"
      ]
    },
    {
      "cell_type": "markdown",
      "id": "07afdfcf-d433-4c5b-9a86-425bb6a49adf",
      "metadata": {
        "id": "07afdfcf-d433-4c5b-9a86-425bb6a49adf"
      },
      "source": [
        "### Understand Your Data\n",
        "\n",
        "*Mental Note: The first step of EDA is understanding the dataset structure.  What functions or methods should be run to do this?*"
      ]
    },
    {
      "cell_type": "code",
      "execution_count": 11,
      "id": "c83617d5-d288-47cf-ad04-0fa3e7faa8f1",
      "metadata": {
        "id": "c83617d5-d288-47cf-ad04-0fa3e7faa8f1",
        "outputId": "89f2075b-bb13-48df-c2a9-fe2b9b5ba786",
        "colab": {
          "base_uri": "https://localhost:8080/"
        }
      },
      "outputs": [
        {
          "output_type": "stream",
          "name": "stdout",
          "text": [
            "<class 'pandas.core.frame.DataFrame'>\n",
            "RangeIndex: 64509 entries, 0 to 64508\n",
            "Data columns (total 12 columns):\n",
            " #   Column         Non-Null Count  Dtype \n",
            "---  ------         --------------  ----- \n",
            " 0   Unnamed: 0     64509 non-null  int64 \n",
            " 1   video_id       64509 non-null  object\n",
            " 2   title          64509 non-null  object\n",
            " 3   publishedAt    64509 non-null  object\n",
            " 4   channelId      64509 non-null  object\n",
            " 5   channelTitle   64509 non-null  object\n",
            " 6   trending_date  64509 non-null  object\n",
            " 7   tags           64509 non-null  object\n",
            " 8   view_count     64509 non-null  int64 \n",
            " 9   likes          64509 non-null  int64 \n",
            " 10  dislikes       64509 non-null  int64 \n",
            " 11  comment_count  64509 non-null  int64 \n",
            "dtypes: int64(5), object(7)\n",
            "memory usage: 5.9+ MB\n",
            "None\n"
          ]
        }
      ],
      "source": [
        "# Display basic information about the dataset\n",
        "print(youtube_df.info())"
      ]
    },
    {
      "cell_type": "code",
      "execution_count": 12,
      "id": "9f9cf527-5845-4160-90fe-368a96870a02",
      "metadata": {
        "id": "9f9cf527-5845-4160-90fe-368a96870a02",
        "outputId": "65fde565-197b-4a0b-d10d-946a94911cca",
        "colab": {
          "base_uri": "https://localhost:8080/"
        }
      },
      "outputs": [
        {
          "output_type": "stream",
          "name": "stdout",
          "text": [
            "   Unnamed: 0     video_id                                              title  \\\n",
            "0      110604  GY_5Hk7mRl8    Tremors 3: Back to Perfection (2001) KILL COUNT   \n",
            "1      147802  SH9r94NkZpE  What Really Happened During the Yellowstone Pa...   \n",
            "2      267248  Uh6XHxqNDNU  Govana x Jada Kingdom - Pull Over (Official Mu...   \n",
            "3       84107  lqiETA-U-Pg      Ravens Locker Room Reaction After Detroit Win   \n",
            "4       49865  IRSWmkSJJEs                                     got some money   \n",
            "\n",
            "            publishedAt                 channelId           channelTitle  \\\n",
            "0  2022-02-11T14:00:07Z  UC2IYWWifoIht9T47z1Z5lJw              Dead Meat   \n",
            "1  2022-08-16T12:30:14Z  UCMOqf8ab-42UUQIdVoKwjlQ  Practical Engineering   \n",
            "2  2024-04-05T15:00:08Z  UCGluLwnhI9qBeDAA1ZOpFcQ                 Govana   \n",
            "3  2021-09-26T22:26:22Z  UCbpj2JAUMb8G_oQQFPeGrhg       Baltimore Ravens   \n",
            "4  2021-04-19T20:45:11Z  UCq6aw03lNILzV96UvEAASfQ             bill wurtz   \n",
            "\n",
            "          trending_date                                               tags  \\\n",
            "0  2022-02-12T00:00:00Z  horror|dead meat|movie|scary|kill|kill count|b...   \n",
            "1  2022-08-17T00:00:00Z  Yellowstone National Park|Montana and Yellowst...   \n",
            "2  2024-04-08T00:00:00Z                                             govana   \n",
            "3  2021-09-30T00:00:00Z  NFL|Baltimore Ravens|Baltimore|Maryland|Ravens...   \n",
            "4  2021-04-22T00:00:00Z                                             [None]   \n",
            "\n",
            "   view_count   likes  dislikes  comment_count  \n",
            "0      546263   38476         0           3017  \n",
            "1      589224   20602         0           1044  \n",
            "2      249016   21446         0            760  \n",
            "3      133954    3939        66            538  \n",
            "4      974385  163805       418          13554  \n"
          ]
        }
      ],
      "source": [
        "# Display the first 5 rows of data\n",
        "print(youtube_df.head())"
      ]
    },
    {
      "cell_type": "code",
      "execution_count": 13,
      "id": "dac65138-1747-49a6-a8ee-627ff543ad57",
      "metadata": {
        "id": "dac65138-1747-49a6-a8ee-627ff543ad57",
        "outputId": "1c0cfa15-37c8-4f31-af57-24d7b3d57ed6",
        "colab": {
          "base_uri": "https://localhost:8080/"
        }
      },
      "outputs": [
        {
          "output_type": "stream",
          "name": "stdout",
          "text": [
            "       Unnamed: 0     video_id  \\\n",
            "14538        9330  D4O7AjPH5mE   \n",
            "19291      231050  eQNHDV7lKgE   \n",
            "32559       74686  lYKTh71xKEg   \n",
            "17243      109278  A8iAUJWQk0U   \n",
            "61042      158046  Qmc0BbvzH44   \n",
            "\n",
            "                                                   title  \\\n",
            "14538  A Blown Ramp Truck Road Trip to Get a 350 SBC-...   \n",
            "19291        JENNIE - ‘You & Me’ DANCE PERFORMANCE VIDEO   \n",
            "32559         Try Not To Laugh Challenge #76 - Hard Mode   \n",
            "17243                            how my life has changed   \n",
            "61042     Sounds from the Sideline: Week 4 vs WAS | 2022   \n",
            "\n",
            "                publishedAt                 channelId       channelTitle  \\\n",
            "14538  2020-09-23T10:33:06Z  UC1IdPylqngGiuHFLJqHbG_g  Finnegan's Garage   \n",
            "19291  2023-10-06T04:00:20Z  UCOmHUn--16B90oW2L6FRR3A          BLACKPINK   \n",
            "32559  2021-08-10T17:00:33Z  UCYJPby9DRCteedh5tfxVbrw          Smosh Pit   \n",
            "17243  2022-02-02T23:29:10Z  UC1zACndCursf-RTGr9YvQmQ      ur mom ashley   \n",
            "61042  2022-10-05T01:28:35Z  UCC0BPKJxAyxjQoRTYbpW0FQ     Dallas Cowboys   \n",
            "\n",
            "              trending_date  \\\n",
            "14538  2020-09-27T00:00:00Z   \n",
            "19291  2023-10-10T00:00:00Z   \n",
            "32559  2021-08-14T00:00:00Z   \n",
            "17243  2022-02-05T00:00:00Z   \n",
            "61042  2022-10-07T00:00:00Z   \n",
            "\n",
            "                                                    tags  view_count    likes  \\\n",
            "14538  ramp truck|roadkill|c10|c20|c30|c50|c60|HD|sup...      592961    13790   \n",
            "19291  YG Entertainment|YG|와이지|K-pop|BLACKPINK|블랙핑크|블...    21786389  2203305   \n",
            "32559  smosh|smosh pit|smosh games|funny|comedy|tntl|...      771376    47125   \n",
            "17243                                             [None]      318969    25354   \n",
            "61042  dallas cowboys|sounds from the sideline dallas...      160489     4956   \n",
            "\n",
            "       dislikes  comment_count  \n",
            "14538       267            896  \n",
            "19291         0         147236  \n",
            "32559       419           1542  \n",
            "17243         0            637  \n",
            "61042         0            477  \n"
          ]
        }
      ],
      "source": [
        "# Display 5 sample rows  youtby running -> youtube_df.sample(5)\n",
        "print(youtube_df.sample(5))"
      ]
    },
    {
      "cell_type": "code",
      "execution_count": 14,
      "id": "5b28046f-8bf5-425a-af05-6d48f166d60f",
      "metadata": {
        "id": "5b28046f-8bf5-425a-af05-6d48f166d60f",
        "outputId": "25f401d2-92c8-4ae0-e6e8-eb21c7f332f5",
        "colab": {
          "base_uri": "https://localhost:8080/"
        }
      },
      "outputs": [
        {
          "output_type": "stream",
          "name": "stdout",
          "text": [
            "          Unnamed: 0    view_count         likes       dislikes  comment_count\n",
            "count   64509.000000  6.450900e+04  6.450900e+04   64509.000000   6.450900e+04\n",
            "mean   134809.827466  2.762730e+06  1.330931e+05    1107.734363   1.046779e+04\n",
            "std     77541.139490  1.058992e+07  4.671971e+05    7453.916204   7.794118e+04\n",
            "min         6.000000  0.000000e+00  0.000000e+00       0.000000   0.000000e+00\n",
            "25%     67472.000000  4.724020e+05  1.799700e+04       0.000000   1.278000e+03\n",
            "50%    135151.000000  9.383980e+05  4.038500e+04       0.000000   2.755000e+03\n",
            "75%    202158.000000  2.130613e+06  9.950800e+04     461.000000   6.422000e+03\n",
            "max    268775.000000  1.407644e+09  1.602153e+07  848974.000000   6.738537e+06\n"
          ]
        }
      ],
      "source": [
        "# Display basic statistics of the numerical columns\n",
        "print(youtube_df.describe())"
      ]
    },
    {
      "cell_type": "markdown",
      "id": "bbc81501-978d-4060-a57f-6f75d947f0f9",
      "metadata": {
        "id": "bbc81501-978d-4060-a57f-6f75d947f0f9"
      },
      "source": [
        "*Mental Note: Look at the mean, median, and standard deviation.  Are there any surprising outliers or trends?*"
      ]
    },
    {
      "cell_type": "markdown",
      "id": "98674ad2-8389-41e2-a354-019dfc4e88ca",
      "metadata": {
        "id": "98674ad2-8389-41e2-a354-019dfc4e88ca"
      },
      "source": [
        "**Question 2: What are some key observations so far?**"
      ]
    },
    {
      "cell_type": "markdown",
      "id": "d541cd33-4dd7-4761-b4a2-bfce1e014580",
      "metadata": {
        "id": "d541cd33-4dd7-4761-b4a2-bfce1e014580"
      },
      "source": [
        "The minimum values of 0 for view_count, likes, dislikes, and comment_count could point to videos that never gained traction or were uploaded with errors."
      ]
    },
    {
      "cell_type": "markdown",
      "id": "d6b48486-1ca3-4c10-bf01-b41bab8500bb",
      "metadata": {
        "id": "d6b48486-1ca3-4c10-bf01-b41bab8500bb"
      },
      "source": [
        "### Dealing with Duplicates\n",
        "\n",
        "In real-world datasets, duplicate entries can introduce bias in analysis. To check for exact duplicate rows, use the duplicated() method.\n",
        "Run the following code to count the number of duplicate rows in the dataset:"
      ]
    },
    {
      "cell_type": "code",
      "execution_count": 15,
      "id": "181460f0-6f91-42e5-8a63-84613d004a26",
      "metadata": {
        "id": "181460f0-6f91-42e5-8a63-84613d004a26",
        "outputId": "59480c0a-2fe4-4b95-ad38-553966f30d06",
        "colab": {
          "base_uri": "https://localhost:8080/"
        }
      },
      "outputs": [
        {
          "output_type": "stream",
          "name": "stdout",
          "text": [
            "Total exact duplicate rows: 0\n"
          ]
        }
      ],
      "source": [
        "# Check for completely identical rows;\n",
        "duplicate_rows = youtube_df[youtube_df.duplicated()]\n",
        "print(f\"Total exact duplicate rows: {duplicate_rows.shape[0]}\")"
      ]
    },
    {
      "cell_type": "code",
      "execution_count": 17,
      "id": "191cd9c7-4697-40dc-9027-776e63537111",
      "metadata": {
        "id": "191cd9c7-4697-40dc-9027-776e63537111"
      },
      "outputs": [],
      "source": [
        "# Drop identical rows by running -> youtube_df = youtube_df.drop_duplicates()\n",
        "youtube_df = youtube_df.drop_duplicates()"
      ]
    },
    {
      "cell_type": "code",
      "execution_count": 18,
      "id": "ca45327f-6bea-4b46-b928-8e612ffc4b48",
      "metadata": {
        "id": "ca45327f-6bea-4b46-b928-8e612ffc4b48",
        "outputId": "53ed05f4-0d1f-4ddd-fab4-4a36c4440e35",
        "colab": {
          "base_uri": "https://localhost:8080/"
        }
      },
      "outputs": [
        {
          "output_type": "stream",
          "name": "stdout",
          "text": [
            "New dataset size after removing duplicates: (64509, 12)\n"
          ]
        }
      ],
      "source": [
        "# Verify the new shape; remove triple quotes\n",
        "print(f\"New dataset size after removing duplicates: {youtube_df.shape}\")"
      ]
    },
    {
      "cell_type": "markdown",
      "id": "d77df3b7-c2c9-4b66-bedb-09a323e0cbf9",
      "metadata": {
        "id": "d77df3b7-c2c9-4b66-bedb-09a323e0cbf9"
      },
      "source": [
        "After checking for exact duplicate rows, the next step is to determine if certain videos appear multiple times in the dataset.\n",
        "\n",
        "📌 **Why does this matter?**\n",
        "\n",
        "- Some videos may trend on multiple days, meaning they are not exact duplicates but still appear more than once.\n",
        "- Understanding how often videos trend can provide insights into content virality and platform engagement trends.\n",
        "\n",
        "**Task**: Identifying Videos That Appeared Multiple Times\n",
        "\n",
        "Now, let's check how many times each video ID appears in the dataset. This will help us find videos that repeatedly trended over time.\n",
        "\n",
        "💡 Run the following code to count occurrences of each video_id:"
      ]
    },
    {
      "cell_type": "code",
      "execution_count": 20,
      "id": "f359a785-c81f-47ae-9f4e-ad6ccb0e4697",
      "metadata": {
        "id": "f359a785-c81f-47ae-9f4e-ad6ccb0e4697",
        "outputId": "56b46fef-0e74-4545-d17e-15b3e52ec778",
        "colab": {
          "base_uri": "https://localhost:8080/"
        }
      },
      "outputs": [
        {
          "output_type": "stream",
          "name": "stdout",
          "text": [
            "Total videos that appeared more than once: 18987\n",
            "video_id\n",
            "zKBtLtB9M20    13\n",
            "HeZO_LcQALI    13\n",
            "O17DfQco2JQ    12\n",
            "mwKJfNYwvm8    12\n",
            "HjBo--1n8lI    12\n",
            "Name: count, dtype: int64\n"
          ]
        }
      ],
      "source": [
        "# Count occurrences of each video_id;\n",
        "\n",
        "duplicate_videos = youtube_df[\"video_id\"].value_counts()\n",
        "\n",
        "# Display videos that trended multiple times\n",
        "multiple_trending_videos = duplicate_videos[duplicate_videos > 1]\n",
        "print(f\"Total videos that appeared more than once: {len(multiple_trending_videos)}\")\n",
        "multiple_trending_videos.head(10)\n",
        "\n",
        "# Show top repeated videos\n",
        "top_repeated_videos = youtube_df['video_id'].value_counts().head()\n",
        "print(top_repeated_videos)"
      ]
    },
    {
      "cell_type": "markdown",
      "id": "11648b61-1876-48b7-a653-4f3625b54a41",
      "metadata": {
        "id": "11648b61-1876-48b7-a653-4f3625b54a41"
      },
      "source": [
        "**Question 3: Why might there be duplicate video entries in the dataset?**"
      ]
    },
    {
      "cell_type": "markdown",
      "id": "d9a09d93-fbda-4354-a2f0-c23c2cf6a9b6",
      "metadata": {
        "id": "d9a09d93-fbda-4354-a2f0-c23c2cf6a9b6"
      },
      "source": [
        "Duplicate video entries in the dataset might occur because the same video trended on multiple days."
      ]
    },
    {
      "cell_type": "markdown",
      "id": "485ad66a-fbcb-4e71-a534-f735b622e1fd",
      "metadata": {
        "id": "485ad66a-fbcb-4e71-a534-f735b622e1fd"
      },
      "source": [
        "Depending on our analysis goals, we may choose to:\n",
        "- 1. Keep only the first entry of each video to analyze the time it takes for a video to trend after publishing and to examine its initial engagement metrics.\n",
        "- 2. Use the latest entry of each video to assess the most up-to-date engagement statistics and understand how a video performed over time."
      ]
    },
    {
      "cell_type": "code",
      "execution_count": 24,
      "id": "86535577-6c87-4fd4-9df0-734379fb323b",
      "metadata": {
        "id": "86535577-6c87-4fd4-9df0-734379fb323b"
      },
      "outputs": [],
      "source": [
        "# We will proceed with Option 1: Keeping only the first entry of each video\n",
        "# This allows us to analyze the time between publishing and trending, along with initial engagement metrics.\n",
        "# Sort by trending date and keep only the first instance of each video\n",
        "youtube_df = youtube_df.sort_values(\"trending_date\").drop_duplicates(subset=\"video_id\", keep=\"first\")"
      ]
    },
    {
      "cell_type": "markdown",
      "id": "b510a601-5d64-43a8-aac1-591faa902671",
      "metadata": {
        "id": "b510a601-5d64-43a8-aac1-591faa902671"
      },
      "source": [
        "### Handle Missing Values"
      ]
    },
    {
      "cell_type": "code",
      "execution_count": 25,
      "id": "c33a9e9c-a5cc-4e57-88d0-f0a0c3234a1c",
      "metadata": {
        "id": "c33a9e9c-a5cc-4e57-88d0-f0a0c3234a1c",
        "outputId": "b6a67443-0d82-42a6-fc5a-37a01d26fca7",
        "colab": {
          "base_uri": "https://localhost:8080/"
        }
      },
      "outputs": [
        {
          "output_type": "stream",
          "name": "stdout",
          "text": [
            "Unnamed: 0       0\n",
            "video_id         0\n",
            "title            0\n",
            "publishedAt      0\n",
            "channelId        0\n",
            "channelTitle     0\n",
            "trending_date    0\n",
            "tags             0\n",
            "view_count       0\n",
            "likes            0\n",
            "dislikes         0\n",
            "comment_count    0\n",
            "dtype: int64\n"
          ]
        }
      ],
      "source": [
        "# Count the number of null values in each column by running -> youtube_df.isnull().sum()\n",
        "print(youtube_df.isnull().sum())"
      ]
    },
    {
      "cell_type": "markdown",
      "id": "dbb2a987-4e7e-431e-85cf-2915be18a586",
      "metadata": {
        "id": "dbb2a987-4e7e-431e-85cf-2915be18a586"
      },
      "source": [
        "**Question 4: What are some options for handling the missing data?**"
      ]
    },
    {
      "cell_type": "markdown",
      "id": "6732784b-d97b-46cb-be88-e045f3c948e5",
      "metadata": {
        "id": "6732784b-d97b-46cb-be88-e045f3c948e5"
      },
      "source": [
        "Data shows zero missing values for all columns."
      ]
    },
    {
      "cell_type": "code",
      "execution_count": 114,
      "id": "62fcfecc-26aa-46eb-a2b0-60f007c0e619",
      "metadata": {
        "id": "62fcfecc-26aa-46eb-a2b0-60f007c0e619"
      },
      "outputs": [],
      "source": [
        "# Fill the missing values\n",
        "youtube_df = youtube_df.fillna(0)  # or youtube_df.fillna('')"
      ]
    },
    {
      "cell_type": "markdown",
      "id": "08aecfcd-3e38-4f5e-a3a9-8005c4defb38",
      "metadata": {
        "id": "08aecfcd-3e38-4f5e-a3a9-8005c4defb38"
      },
      "source": [
        "### Standardize Values"
      ]
    },
    {
      "cell_type": "code",
      "execution_count": 116,
      "id": "f4e981ae-9872-441e-9af2-fabe1ad45a9c",
      "metadata": {
        "id": "f4e981ae-9872-441e-9af2-fabe1ad45a9c",
        "outputId": "b1e21b64-fb9a-4f5d-e7ef-e8a32cdc7007",
        "colab": {
          "base_uri": "https://localhost:8080/",
          "height": 304
        }
      },
      "outputs": [
        {
          "output_type": "error",
          "ename": "AttributeError",
          "evalue": "Can only use .str accessor with string values!",
          "traceback": [
            "\u001b[0;31m---------------------------------------------------------------------------\u001b[0m",
            "\u001b[0;31mAttributeError\u001b[0m                            Traceback (most recent call last)",
            "\u001b[0;32m<ipython-input-116-9a9eac2be710>\u001b[0m in \u001b[0;36m<cell line: 0>\u001b[0;34m()\u001b[0m\n\u001b[1;32m      1\u001b[0m \u001b[0;31m# Convert trending_date to datetime format, removing 'Z' and parsing correctly\u001b[0m\u001b[0;34m\u001b[0m\u001b[0;34m\u001b[0m\u001b[0m\n\u001b[0;32m----> 2\u001b[0;31m \u001b[0myoutube_df\u001b[0m\u001b[0;34m[\u001b[0m\u001b[0;34m\"trending_date\"\u001b[0m\u001b[0;34m]\u001b[0m \u001b[0;34m=\u001b[0m \u001b[0mpd\u001b[0m\u001b[0;34m.\u001b[0m\u001b[0mto_datetime\u001b[0m\u001b[0;34m(\u001b[0m\u001b[0myoutube_df\u001b[0m\u001b[0;34m[\u001b[0m\u001b[0;34m\"trending_date\"\u001b[0m\u001b[0;34m]\u001b[0m\u001b[0;34m.\u001b[0m\u001b[0mstr\u001b[0m\u001b[0;34m.\u001b[0m\u001b[0mreplace\u001b[0m\u001b[0;34m(\u001b[0m\u001b[0;34m\"Z\"\u001b[0m\u001b[0;34m,\u001b[0m \u001b[0;34m\"\"\u001b[0m\u001b[0;34m)\u001b[0m\u001b[0;34m,\u001b[0m \u001b[0mformat\u001b[0m\u001b[0;34m=\u001b[0m\u001b[0;34m\"%Y-%m-%dT%H:%M:%S\"\u001b[0m\u001b[0;34m)\u001b[0m\u001b[0;34m\u001b[0m\u001b[0;34m\u001b[0m\u001b[0m\n\u001b[0m",
            "\u001b[0;32m/usr/local/lib/python3.11/dist-packages/pandas/core/generic.py\u001b[0m in \u001b[0;36m__getattr__\u001b[0;34m(self, name)\u001b[0m\n\u001b[1;32m   6297\u001b[0m         ):\n\u001b[1;32m   6298\u001b[0m             \u001b[0;32mreturn\u001b[0m \u001b[0mself\u001b[0m\u001b[0;34m[\u001b[0m\u001b[0mname\u001b[0m\u001b[0;34m]\u001b[0m\u001b[0;34m\u001b[0m\u001b[0;34m\u001b[0m\u001b[0m\n\u001b[0;32m-> 6299\u001b[0;31m         \u001b[0;32mreturn\u001b[0m \u001b[0mobject\u001b[0m\u001b[0;34m.\u001b[0m\u001b[0m__getattribute__\u001b[0m\u001b[0;34m(\u001b[0m\u001b[0mself\u001b[0m\u001b[0;34m,\u001b[0m \u001b[0mname\u001b[0m\u001b[0;34m)\u001b[0m\u001b[0;34m\u001b[0m\u001b[0;34m\u001b[0m\u001b[0m\n\u001b[0m\u001b[1;32m   6300\u001b[0m \u001b[0;34m\u001b[0m\u001b[0m\n\u001b[1;32m   6301\u001b[0m     \u001b[0;34m@\u001b[0m\u001b[0mfinal\u001b[0m\u001b[0;34m\u001b[0m\u001b[0;34m\u001b[0m\u001b[0m\n",
            "\u001b[0;32m/usr/local/lib/python3.11/dist-packages/pandas/core/accessor.py\u001b[0m in \u001b[0;36m__get__\u001b[0;34m(self, obj, cls)\u001b[0m\n\u001b[1;32m    222\u001b[0m             \u001b[0;31m# we're accessing the attribute of the class, i.e., Dataset.geo\u001b[0m\u001b[0;34m\u001b[0m\u001b[0;34m\u001b[0m\u001b[0m\n\u001b[1;32m    223\u001b[0m             \u001b[0;32mreturn\u001b[0m \u001b[0mself\u001b[0m\u001b[0;34m.\u001b[0m\u001b[0m_accessor\u001b[0m\u001b[0;34m\u001b[0m\u001b[0;34m\u001b[0m\u001b[0m\n\u001b[0;32m--> 224\u001b[0;31m         \u001b[0maccessor_obj\u001b[0m \u001b[0;34m=\u001b[0m \u001b[0mself\u001b[0m\u001b[0;34m.\u001b[0m\u001b[0m_accessor\u001b[0m\u001b[0;34m(\u001b[0m\u001b[0mobj\u001b[0m\u001b[0;34m)\u001b[0m\u001b[0;34m\u001b[0m\u001b[0;34m\u001b[0m\u001b[0m\n\u001b[0m\u001b[1;32m    225\u001b[0m         \u001b[0;31m# Replace the property with the accessor object. Inspired by:\u001b[0m\u001b[0;34m\u001b[0m\u001b[0;34m\u001b[0m\u001b[0m\n\u001b[1;32m    226\u001b[0m         \u001b[0;31m# https://www.pydanny.com/cached-property.html\u001b[0m\u001b[0;34m\u001b[0m\u001b[0;34m\u001b[0m\u001b[0m\n",
            "\u001b[0;32m/usr/local/lib/python3.11/dist-packages/pandas/core/strings/accessor.py\u001b[0m in \u001b[0;36m__init__\u001b[0;34m(self, data)\u001b[0m\n\u001b[1;32m    189\u001b[0m         \u001b[0;32mfrom\u001b[0m \u001b[0mpandas\u001b[0m\u001b[0;34m.\u001b[0m\u001b[0mcore\u001b[0m\u001b[0;34m.\u001b[0m\u001b[0marrays\u001b[0m\u001b[0;34m.\u001b[0m\u001b[0mstring_\u001b[0m \u001b[0;32mimport\u001b[0m \u001b[0mStringDtype\u001b[0m\u001b[0;34m\u001b[0m\u001b[0;34m\u001b[0m\u001b[0m\n\u001b[1;32m    190\u001b[0m \u001b[0;34m\u001b[0m\u001b[0m\n\u001b[0;32m--> 191\u001b[0;31m         \u001b[0mself\u001b[0m\u001b[0;34m.\u001b[0m\u001b[0m_inferred_dtype\u001b[0m \u001b[0;34m=\u001b[0m \u001b[0mself\u001b[0m\u001b[0;34m.\u001b[0m\u001b[0m_validate\u001b[0m\u001b[0;34m(\u001b[0m\u001b[0mdata\u001b[0m\u001b[0;34m)\u001b[0m\u001b[0;34m\u001b[0m\u001b[0;34m\u001b[0m\u001b[0m\n\u001b[0m\u001b[1;32m    192\u001b[0m         \u001b[0mself\u001b[0m\u001b[0;34m.\u001b[0m\u001b[0m_is_categorical\u001b[0m \u001b[0;34m=\u001b[0m \u001b[0misinstance\u001b[0m\u001b[0;34m(\u001b[0m\u001b[0mdata\u001b[0m\u001b[0;34m.\u001b[0m\u001b[0mdtype\u001b[0m\u001b[0;34m,\u001b[0m \u001b[0mCategoricalDtype\u001b[0m\u001b[0;34m)\u001b[0m\u001b[0;34m\u001b[0m\u001b[0;34m\u001b[0m\u001b[0m\n\u001b[1;32m    193\u001b[0m         \u001b[0mself\u001b[0m\u001b[0;34m.\u001b[0m\u001b[0m_is_string\u001b[0m \u001b[0;34m=\u001b[0m \u001b[0misinstance\u001b[0m\u001b[0;34m(\u001b[0m\u001b[0mdata\u001b[0m\u001b[0;34m.\u001b[0m\u001b[0mdtype\u001b[0m\u001b[0;34m,\u001b[0m \u001b[0mStringDtype\u001b[0m\u001b[0;34m)\u001b[0m\u001b[0;34m\u001b[0m\u001b[0;34m\u001b[0m\u001b[0m\n",
            "\u001b[0;32m/usr/local/lib/python3.11/dist-packages/pandas/core/strings/accessor.py\u001b[0m in \u001b[0;36m_validate\u001b[0;34m(data)\u001b[0m\n\u001b[1;32m    243\u001b[0m \u001b[0;34m\u001b[0m\u001b[0m\n\u001b[1;32m    244\u001b[0m         \u001b[0;32mif\u001b[0m \u001b[0minferred_dtype\u001b[0m \u001b[0;32mnot\u001b[0m \u001b[0;32min\u001b[0m \u001b[0mallowed_types\u001b[0m\u001b[0;34m:\u001b[0m\u001b[0;34m\u001b[0m\u001b[0;34m\u001b[0m\u001b[0m\n\u001b[0;32m--> 245\u001b[0;31m             \u001b[0;32mraise\u001b[0m \u001b[0mAttributeError\u001b[0m\u001b[0;34m(\u001b[0m\u001b[0;34m\"Can only use .str accessor with string values!\"\u001b[0m\u001b[0;34m)\u001b[0m\u001b[0;34m\u001b[0m\u001b[0;34m\u001b[0m\u001b[0m\n\u001b[0m\u001b[1;32m    246\u001b[0m         \u001b[0;32mreturn\u001b[0m \u001b[0minferred_dtype\u001b[0m\u001b[0;34m\u001b[0m\u001b[0;34m\u001b[0m\u001b[0m\n\u001b[1;32m    247\u001b[0m \u001b[0;34m\u001b[0m\u001b[0m\n",
            "\u001b[0;31mAttributeError\u001b[0m: Can only use .str accessor with string values!"
          ]
        }
      ],
      "source": [
        "# Convert trending_date to datetime format, removing 'Z' and parsing correctly\n",
        "youtube_df[\"trending_date\"] = pd.to_datetime(youtube_df[\"trending_date\"].str.replace(\"Z\", \"\"), format=\"%Y-%m-%dT%H:%M:%S\")"
      ]
    },
    {
      "cell_type": "code",
      "execution_count": 30,
      "id": "cfdcdcfe-559d-4757-8c01-0901d72c0805",
      "metadata": {
        "id": "cfdcdcfe-559d-4757-8c01-0901d72c0805"
      },
      "outputs": [],
      "source": [
        "# Convert publishedAt to datetime format, removing 'Z' and parsing correctly\n",
        "youtube_df['publishedAt'] = pd.to_datetime(youtube_df['publishedAt'])"
      ]
    },
    {
      "cell_type": "markdown",
      "id": "3060ca8e-0b49-4328-bcd7-d812448802e4",
      "metadata": {
        "id": "3060ca8e-0b49-4328-bcd7-d812448802e4"
      },
      "source": [
        "### Explore Distributions"
      ]
    },
    {
      "cell_type": "code",
      "execution_count": 31,
      "id": "f1e6296f-9ba5-468a-a256-7c3731c62198",
      "metadata": {
        "id": "f1e6296f-9ba5-468a-a256-7c3731c62198"
      },
      "outputs": [],
      "source": [
        "# Import matplotlib and seaborn by running this code\n",
        "import matplotlib.pyplot as plt\n",
        "import seaborn as sns"
      ]
    },
    {
      "cell_type": "code",
      "execution_count": 32,
      "id": "2af7471d-20ed-4b12-85c0-114c49170dcf",
      "metadata": {
        "id": "2af7471d-20ed-4b12-85c0-114c49170dcf",
        "outputId": "4a175a12-b0e2-4558-be55-d7ab28334050",
        "colab": {
          "base_uri": "https://localhost:8080/",
          "height": 787
        }
      },
      "outputs": [
        {
          "output_type": "display_data",
          "data": {
            "text/plain": [
              "<Figure size 1200x800 with 9 Axes>"
            ],
            "image/png": "[encoded data removed]"
          },
          "metadata": {}
        }
      ],
      "source": [
        "# Plot histograms for numerical columns\n",
        "youtube_df.hist(bins=20, figsize=(12, 8), edgecolor='black')\n",
        "plt.tight_layout()\n",
        "plt.show()"
      ]
    },
    {
      "cell_type": "markdown",
      "id": "5b5987cd-57fa-42be-b1bf-fbc7378bcab6",
      "metadata": {
        "id": "5b5987cd-57fa-42be-b1bf-fbc7378bcab6"
      },
      "source": [
        "*Mental Note: Does the data follow normal distributions?  Are there extreme outlier?  If so, what could explain these?*"
      ]
    },
    {
      "cell_type": "markdown",
      "id": "a90dca50-0591-49bd-8204-672e86fdc0e7",
      "metadata": {
        "id": "a90dca50-0591-49bd-8204-672e86fdc0e7"
      },
      "source": [
        "**Question 5: What are some key observations from the histograms?**"
      ]
    },
    {
      "cell_type": "markdown",
      "id": "e58344c2-e3b8-4629-ac0a-07b96db29804",
      "metadata": {
        "id": "e58344c2-e3b8-4629-ac0a-07b96db29804"
      },
      "source": [
        "The histograms reveal patterns like skewness in views, likes, and comments, with most values concentrated at lower ranges, and a few outliers at higher values.\n",
        "\n"
      ]
    },
    {
      "cell_type": "code",
      "execution_count": 33,
      "id": "282c6f51-9ddf-4d3e-8401-ee7d54e5b5f4",
      "metadata": {
        "id": "282c6f51-9ddf-4d3e-8401-ee7d54e5b5f4",
        "outputId": "70b03aa3-5fa2-4a7c-edd4-ec8da3f8b0f5",
        "colab": {
          "base_uri": "https://localhost:8080/"
        }
      },
      "outputs": [
        {
          "output_type": "stream",
          "name": "stdout",
          "text": [
            "Index(['Unnamed: 0', 'video_id', 'title', 'publishedAt', 'channelId',\n",
            "       'channelTitle', 'trending_date', 'tags', 'view_count', 'likes',\n",
            "       'dislikes', 'comment_count'],\n",
            "      dtype='object')\n"
          ]
        }
      ],
      "source": [
        "# Print list of column names by running -> youtube_df.columns\n",
        "print(youtube_df.columns)"
      ]
    },
    {
      "cell_type": "markdown",
      "id": "eb898b4f-9aa6-4a30-9cbd-36fbfa24b277",
      "metadata": {
        "id": "eb898b4f-9aa6-4a30-9cbd-36fbfa24b277"
      },
      "source": [
        "### Explore Engagement Metrics"
      ]
    },
    {
      "cell_type": "code",
      "execution_count": 34,
      "id": "965348ee-c18e-40b0-b09e-37a779c6b857",
      "metadata": {
        "id": "965348ee-c18e-40b0-b09e-37a779c6b857",
        "outputId": "3de9e59f-901a-4018-8a9d-b281fa201667",
        "colab": {
          "base_uri": "https://localhost:8080/",
          "height": 718
        }
      },
      "outputs": [
        {
          "output_type": "display_data",
          "data": {
            "text/plain": [
              "<Figure size 1200x800 with 1 Axes>"
            ],
            "image/png": "[encoded data removed]"
          },
          "metadata": {}
        }
      ],
      "source": [
        "# Plot boxplots of engagement metrics (view_count, likes, what else???)\n",
        "engagement_metrics = ['view_count', 'likes', 'dislikes', 'comment_count']\n",
        "youtube_df[engagement_metrics].plot(kind='box', figsize=(12, 8), vert=False)\n",
        "plt.title(\"Boxplots of Engagement Metrics\")\n",
        "plt.xlabel(\"Values\")\n",
        "plt.show()"
      ]
    },
    {
      "cell_type": "markdown",
      "id": "606219e2-df25-4440-8de8-1934e7bbf879",
      "metadata": {
        "id": "606219e2-df25-4440-8de8-1934e7bbf879"
      },
      "source": [
        "**Question 6: What are some key observations from the boxplots?**"
      ]
    },
    {
      "cell_type": "markdown",
      "id": "f6c8315f-523f-4095-809b-5a99037bc518",
      "metadata": {
        "id": "f6c8315f-523f-4095-809b-5a99037bc518"
      },
      "source": [
        "Boxplots highlight outliers in engagement metrics, in view_count, likes, and comment_count, with most data clustering near lower values. Indicating a small number of highly popular videos driving the metrics."
      ]
    },
    {
      "cell_type": "code",
      "execution_count": 35,
      "id": "dfefdb4a-afac-497b-a8c5-37cc9407f1a6",
      "metadata": {
        "scrolled": true,
        "id": "dfefdb4a-afac-497b-a8c5-37cc9407f1a6",
        "outputId": "d6ba0d0f-e524-44f1-be09-acf51b7f6180",
        "colab": {
          "base_uri": "https://localhost:8080/",
          "height": 886
        }
      },
      "outputs": [
        {
          "output_type": "execute_result",
          "data": {
            "text/plain": [
              "       Unnamed: 0     video_id  \\\n",
              "31975       55791  WMweEpGlu_U   \n",
              "30728       67793  CuklIb9d3fI   \n",
              "33346      243009  QdBZY2fkU-0   \n",
              "15033       80397  awkkyBH2zEo   \n",
              "35029       95591  0e3GPea1Tyg   \n",
              "59644      215112  QU9c0053UAU   \n",
              "33851      178233  CocEMWdc7Ck   \n",
              "63868       19998  -5q5mZbe3V8   \n",
              "31502      148390  gQlMMD8auMs   \n",
              "2714        46003  zFT3f9biz68   \n",
              "\n",
              "                                                  title  \\\n",
              "31975                  BTS (방탄소년단) 'Butter' Official MV   \n",
              "30728     BTS (방탄소년단) 'Permission to Dance' Official MV   \n",
              "33346                     Grand Theft Auto VI Trailer 1   \n",
              "15033                               LISA - 'LALISA' M/V   \n",
              "35029                 $456,000 Squid Game In Real Life!   \n",
              "59644  정국 (Jung Kook) 'Seven (feat. Latto)' Official MV   \n",
              "33851                SHAKIRA || BZRP Music Sessions #53   \n",
              "63868            BTS (방탄소년단) 'Life Goes On' Official MV   \n",
              "31502                      BLACKPINK - ‘Pink Venom’ M/V   \n",
              "2714                 BTS (방탄소년단) 'Film out' Official MV   \n",
              "\n",
              "                    publishedAt                 channelId    channelTitle  \\\n",
              "31975 2021-05-21 03:46:13+00:00  UC3IZKseVpdzPSBaWxBxundA     HYBE LABELS   \n",
              "30728 2021-07-09 03:59:12+00:00  UC3IZKseVpdzPSBaWxBxundA     HYBE LABELS   \n",
              "33346 2023-12-04 23:07:10+00:00  UC6VcWc1rAoWdBCM0JxrRQ3A  Rockstar Games   \n",
              "15033 2021-09-10 04:00:13+00:00  UCOmHUn--16B90oW2L6FRR3A       BLACKPINK   \n",
              "35029 2021-11-24 21:00:01+00:00  UCX6OQ3DkcsbYNE6H8uQQuVA         MrBeast   \n",
              "59644 2023-07-14 04:00:00+00:00  UC3IZKseVpdzPSBaWxBxundA     HYBE LABELS   \n",
              "33851 2023-01-12 00:00:07+00:00  UCmS75G-98QihSusY7NfCZtw        Bizarrap   \n",
              "63868 2020-11-20 04:58:11+00:00  UC3IZKseVpdzPSBaWxBxundA  Big Hit Labels   \n",
              "31502 2022-08-19 04:00:13+00:00  UCOmHUn--16B90oW2L6FRR3A       BLACKPINK   \n",
              "2714  2021-04-01 15:00:09+00:00  UC3IZKseVpdzPSBaWxBxundA     HYBE LABELS   \n",
              "\n",
              "      trending_date                                               tags  \\\n",
              "31975    2021-05-22                    BIGHIT|빅히트|방탄소년단|BTS|BANGTAN|방탄   \n",
              "30728    2021-07-11                       HYBE|HYBE LABELS|하이브|하이브레이블즈   \n",
              "33346    2023-12-09  Rockstar Games|Grand Theft Auto VI|GTAVI|GTA 6...   \n",
              "15033    2021-09-12  YG Entertainment|YG|와이지|K-pop|BLACKPINK|블랙핑크|블...   \n",
              "35029    2021-11-27                                             [None]   \n",
              "59644    2023-07-21    HYBE|HYBE LABELS|하이브|하이브레이블즈|정국|Jung Kook|Seven   \n",
              "33851    2023-01-16  bizarrap|biza|bisa|bizzarrap|bzrp|bzrp music s...   \n",
              "63868    2020-11-21                    BIGHIT|빅히트|방탄소년단|BTS|BANGTAN|방탄   \n",
              "31502    2022-08-20  YG Entertainment|YG|와이지|K-pop|BLACKPINK|블랙핑크|블...   \n",
              "2714     2021-04-03                    BIGHIT|빅히트|방탄소년단|BTS|BANGTAN|방탄   \n",
              "\n",
              "       view_count     likes  dislikes  comment_count  \n",
              "31975   133484128  13361198     28528        5594286  \n",
              "30728   104344850  10977519     48846        2690970  \n",
              "33346   132403867  10405236         0         807468  \n",
              "15033   108406017   9971435     61285        2218950  \n",
              "35029    73215052   7582617     27644         406259  \n",
              "59644    87429438   7525925         0         805373  \n",
              "33851   123417009   7445765         0         427387  \n",
              "63868    84352431   6965393     38012        3411203  \n",
              "31502   103753267   6535560         0        2572087  \n",
              "2714     43199163   6207114     32096        1769268  "
            ],
            "text/html": [
              "\n",
              "  <div id=\"df-c1657376-51ee-4432-932f-7b00805de7be\" class=\"colab-df-container\">\n",
              "    <div>\n",
              "<style scoped>\n",
              "    .dataframe tbody tr th:only-of-type {\n",
              "        vertical-align: middle;\n",
              "    }\n",
              "\n",
              "    .dataframe tbody tr th {\n",
              "        vertical-align: top;\n",
              "    }\n",
              "\n",
              "    .dataframe thead th {\n",
              "        text-align: right;\n",
              "    }\n",
              "</style>\n",
              "<table border=\"1\" class=\"dataframe\">\n",
              "  <thead>\n",
              "    <tr style=\"text-align: right;\">\n",
              "      <th></th>\n",
              "      <th>Unnamed: 0</th>\n",
              "      <th>video_id</th>\n",
              "      <th>title</th>\n",
              "      <th>publishedAt</th>\n",
              "      <th>channelId</th>\n",
              "      <th>channelTitle</th>\n",
              "      <th>trending_date</th>\n",
              "      <th>tags</th>\n",
              "      <th>view_count</th>\n",
              "      <th>likes</th>\n",
              "      <th>dislikes</th>\n",
              "      <th>comment_count</th>\n",
              "    </tr>\n",
              "  </thead>\n",
              "  <tbody>\n",
              "    <tr>\n",
              "      <th>31975</th>\n",
              "      <td>55791</td>\n",
              "      <td>WMweEpGlu_U</td>\n",
              "      <td>BTS (방탄소년단) 'Butter' Official MV</td>\n",
              "      <td>2021-05-21 03:46:13+00:00</td>\n",
              "      <td>UC3IZKseVpdzPSBaWxBxundA</td>\n",
              "      <td>HYBE LABELS</td>\n",
              "      <td>2021-05-22</td>\n",
              "      <td>BIGHIT|빅히트|방탄소년단|BTS|BANGTAN|방탄</td>\n",
              "      <td>133484128</td>\n",
              "      <td>13361198</td>\n",
              "      <td>28528</td>\n",
              "      <td>5594286</td>\n",
              "    </tr>\n",
              "    <tr>\n",
              "      <th>30728</th>\n",
              "      <td>67793</td>\n",
              "      <td>CuklIb9d3fI</td>\n",
              "      <td>BTS (방탄소년단) 'Permission to Dance' Official MV</td>\n",
              "      <td>2021-07-09 03:59:12+00:00</td>\n",
              "      <td>UC3IZKseVpdzPSBaWxBxundA</td>\n",
              "      <td>HYBE LABELS</td>\n",
              "      <td>2021-07-11</td>\n",
              "      <td>HYBE|HYBE LABELS|하이브|하이브레이블즈</td>\n",
              "      <td>104344850</td>\n",
              "      <td>10977519</td>\n",
              "      <td>48846</td>\n",
              "      <td>2690970</td>\n",
              "    </tr>\n",
              "    <tr>\n",
              "      <th>33346</th>\n",
              "      <td>243009</td>\n",
              "      <td>QdBZY2fkU-0</td>\n",
              "      <td>Grand Theft Auto VI Trailer 1</td>\n",
              "      <td>2023-12-04 23:07:10+00:00</td>\n",
              "      <td>UC6VcWc1rAoWdBCM0JxrRQ3A</td>\n",
              "      <td>Rockstar Games</td>\n",
              "      <td>2023-12-09</td>\n",
              "      <td>Rockstar Games|Grand Theft Auto VI|GTAVI|GTA 6...</td>\n",
              "      <td>132403867</td>\n",
              "      <td>10405236</td>\n",
              "      <td>0</td>\n",
              "      <td>807468</td>\n",
              "    </tr>\n",
              "    <tr>\n",
              "      <th>15033</th>\n",
              "      <td>80397</td>\n",
              "      <td>awkkyBH2zEo</td>\n",
              "      <td>LISA - 'LALISA' M/V</td>\n",
              "      <td>2021-09-10 04:00:13+00:00</td>\n",
              "      <td>UCOmHUn--16B90oW2L6FRR3A</td>\n",
              "      <td>BLACKPINK</td>\n",
              "      <td>2021-09-12</td>\n",
              "      <td>YG Entertainment|YG|와이지|K-pop|BLACKPINK|블랙핑크|블...</td>\n",
              "      <td>108406017</td>\n",
              "      <td>9971435</td>\n",
              "      <td>61285</td>\n",
              "      <td>2218950</td>\n",
              "    </tr>\n",
              "    <tr>\n",
              "      <th>35029</th>\n",
              "      <td>95591</td>\n",
              "      <td>0e3GPea1Tyg</td>\n",
              "      <td>$456,000 Squid Game In Real Life!</td>\n",
              "      <td>2021-11-24 21:00:01+00:00</td>\n",
              "      <td>UCX6OQ3DkcsbYNE6H8uQQuVA</td>\n",
              "      <td>MrBeast</td>\n",
              "      <td>2021-11-27</td>\n",
              "      <td>[None]</td>\n",
              "      <td>73215052</td>\n",
              "      <td>7582617</td>\n",
              "      <td>27644</td>\n",
              "      <td>406259</td>\n",
              "    </tr>\n",
              "    <tr>\n",
              "      <th>59644</th>\n",
              "      <td>215112</td>\n",
              "      <td>QU9c0053UAU</td>\n",
              "      <td>정국 (Jung Kook) 'Seven (feat. Latto)' Official MV</td>\n",
              "      <td>2023-07-14 04:00:00+00:00</td>\n",
              "      <td>UC3IZKseVpdzPSBaWxBxundA</td>\n",
              "      <td>HYBE LABELS</td>\n",
              "      <td>2023-07-21</td>\n",
              "      <td>HYBE|HYBE LABELS|하이브|하이브레이블즈|정국|Jung Kook|Seven</td>\n",
              "      <td>87429438</td>\n",
              "      <td>7525925</td>\n",
              "      <td>0</td>\n",
              "      <td>805373</td>\n",
              "    </tr>\n",
              "    <tr>\n",
              "      <th>33851</th>\n",
              "      <td>178233</td>\n",
              "      <td>CocEMWdc7Ck</td>\n",
              "      <td>SHAKIRA || BZRP Music Sessions #53</td>\n",
              "      <td>2023-01-12 00:00:07+00:00</td>\n",
              "      <td>UCmS75G-98QihSusY7NfCZtw</td>\n",
              "      <td>Bizarrap</td>\n",
              "      <td>2023-01-16</td>\n",
              "      <td>bizarrap|biza|bisa|bizzarrap|bzrp|bzrp music s...</td>\n",
              "      <td>123417009</td>\n",
              "      <td>7445765</td>\n",
              "      <td>0</td>\n",
              "      <td>427387</td>\n",
              "    </tr>\n",
              "    <tr>\n",
              "      <th>63868</th>\n",
              "      <td>19998</td>\n",
              "      <td>-5q5mZbe3V8</td>\n",
              "      <td>BTS (방탄소년단) 'Life Goes On' Official MV</td>\n",
              "      <td>2020-11-20 04:58:11+00:00</td>\n",
              "      <td>UC3IZKseVpdzPSBaWxBxundA</td>\n",
              "      <td>Big Hit Labels</td>\n",
              "      <td>2020-11-21</td>\n",
              "      <td>BIGHIT|빅히트|방탄소년단|BTS|BANGTAN|방탄</td>\n",
              "      <td>84352431</td>\n",
              "      <td>6965393</td>\n",
              "      <td>38012</td>\n",
              "      <td>3411203</td>\n",
              "    </tr>\n",
              "    <tr>\n",
              "      <th>31502</th>\n",
              "      <td>148390</td>\n",
              "      <td>gQlMMD8auMs</td>\n",
              "      <td>BLACKPINK - ‘Pink Venom’ M/V</td>\n",
              "      <td>2022-08-19 04:00:13+00:00</td>\n",
              "      <td>UCOmHUn--16B90oW2L6FRR3A</td>\n",
              "      <td>BLACKPINK</td>\n",
              "      <td>2022-08-20</td>\n",
              "      <td>YG Entertainment|YG|와이지|K-pop|BLACKPINK|블랙핑크|블...</td>\n",
              "      <td>103753267</td>\n",
              "      <td>6535560</td>\n",
              "      <td>0</td>\n",
              "      <td>2572087</td>\n",
              "    </tr>\n",
              "    <tr>\n",
              "      <th>2714</th>\n",
              "      <td>46003</td>\n",
              "      <td>zFT3f9biz68</td>\n",
              "      <td>BTS (방탄소년단) 'Film out' Official MV</td>\n",
              "      <td>2021-04-01 15:00:09+00:00</td>\n",
              "      <td>UC3IZKseVpdzPSBaWxBxundA</td>\n",
              "      <td>HYBE LABELS</td>\n",
              "      <td>2021-04-03</td>\n",
              "      <td>BIGHIT|빅히트|방탄소년단|BTS|BANGTAN|방탄</td>\n",
              "      <td>43199163</td>\n",
              "      <td>6207114</td>\n",
              "      <td>32096</td>\n",
              "      <td>1769268</td>\n",
              "    </tr>\n",
              "  </tbody>\n",
              "</table>\n",
              "</div>\n",
              "    <div class=\"colab-df-buttons\">\n",
              "\n",
              "  <div class=\"colab-df-container\">\n",
              "    <button class=\"colab-df-convert\" onclick=\"convertToInteractive('df-c1657376-51ee-4432-932f-7b00805de7be')\"\n",
              "            title=\"Convert this dataframe to an interactive table.\"\n",
              "            style=\"display:none;\">\n",
              "\n",
              "  <svg xmlns=\"http://www.w3.org/2000/svg\" height=\"24px\" viewBox=\"0 -960 960 960\">\n",
              "    <path d=\"M120-120v-720h720v720H120Zm60-500h600v-160H180v160Zm220 220h160v-160H400v160Zm0 220h160v-160H400v160ZM180-400h160v-160H180v160Zm440 0h160v-160H620v160ZM180-180h160v-160H180v160Zm440 0h160v-160H620v160Z\"/>\n",
              "  </svg>\n",
              "    </button>\n",
              "\n",
              "  <style>\n",
              "    .colab-df-container {\n",
              "      display:flex;\n",
              "      gap: 12px;\n",
              "    }\n",
              "\n",
              "    .colab-df-convert {\n",
              "      background-color: #E8F0FE;\n",
              "      border: none;\n",
              "      border-radius: 50%;\n",
              "      cursor: pointer;\n",
              "      display: none;\n",
              "      fill: #1967D2;\n",
              "      height: 32px;\n",
              "      padding: 0 0 0 0;\n",
              "      width: 32px;\n",
              "    }\n",
              "\n",
              "    .colab-df-convert:hover {\n",
              "      background-color: #E2EBFA;\n",
              "      box-shadow: 0px 1px 2px rgba(60, 64, 67, 0.3), 0px 1px 3px 1px rgba(60, 64, 67, 0.15);\n",
              "      fill: #174EA6;\n",
              "    }\n",
              "\n",
              "    .colab-df-buttons div {\n",
              "      margin-bottom: 4px;\n",
              "    }\n",
              "\n",
              "    [theme=dark] .colab-df-convert {\n",
              "      background-color: #3B4455;\n",
              "      fill: #D2E3FC;\n",
              "    }\n",
              "\n",
              "    [theme=dark] .colab-df-convert:hover {\n",
              "      background-color: #434B5C;\n",
              "      box-shadow: 0px 1px 3px 1px rgba(0, 0, 0, 0.15);\n",
              "      filter: drop-shadow(0px 1px 2px rgba(0, 0, 0, 0.3));\n",
              "      fill: #FFFFFF;\n",
              "    }\n",
              "  </style>\n",
              "\n",
              "    <script>\n",
              "      const buttonEl =\n",
              "        document.querySelector('#df-c1657376-51ee-4432-932f-7b00805de7be button.colab-df-convert');\n",
              "      buttonEl.style.display =\n",
              "        google.colab.kernel.accessAllowed ? 'block' : 'none';\n",
              "\n",
              "      async function convertToInteractive(key) {\n",
              "        const element = document.querySelector('#df-c1657376-51ee-4432-932f-7b00805de7be');\n",
              "        const dataTable =\n",
              "          await google.colab.kernel.invokeFunction('convertToInteractive',\n",
              "                                                    [key], {});\n",
              "        if (!dataTable) return;\n",
              "\n",
              "        const docLinkHtml = 'Like what you see? Visit the ' +\n",
              "          '<a target=\"_blank\" href=https://colab.research.google.com/notebooks/data_table.ipynb>data table notebook</a>'\n",
              "          + ' to learn more about interactive tables.';\n",
              "        element.innerHTML = '';\n",
              "        dataTable['output_type'] = 'display_data';\n",
              "        await google.colab.output.renderOutput(dataTable, element);\n",
              "        const docLink = document.createElement('div');\n",
              "        docLink.innerHTML = docLinkHtml;\n",
              "        element.appendChild(docLink);\n",
              "      }\n",
              "    </script>\n",
              "  </div>\n",
              "\n",
              "\n",
              "<div id=\"df-bcfdd204-aeeb-4c5f-a174-7b61f1eecd89\">\n",
              "  <button class=\"colab-df-quickchart\" onclick=\"quickchart('df-bcfdd204-aeeb-4c5f-a174-7b61f1eecd89')\"\n",
              "            title=\"Suggest charts\"\n",
              "            style=\"display:none;\">\n",
              "\n",
              "<svg xmlns=\"http://www.w3.org/2000/svg\" height=\"24px\"viewBox=\"0 0 24 24\"\n",
              "     width=\"24px\">\n",
              "    <g>\n",
              "        <path d=\"M19 3H5c-1.1 0-2 .9-2 2v14c0 1.1.9 2 2 2h14c1.1 0 2-.9 2-2V5c0-1.1-.9-2-2-2zM9 17H7v-7h2v7zm4 0h-2V7h2v10zm4 0h-2v-4h2v4z\"/>\n",
              "    </g>\n",
              "</svg>\n",
              "  </button>\n",
              "\n",
              "<style>\n",
              "  .colab-df-quickchart {\n",
              "      --bg-color: #E8F0FE;\n",
              "      --fill-color: #1967D2;\n",
              "      --hover-bg-color: #E2EBFA;\n",
              "      --hover-fill-color: #174EA6;\n",
              "      --disabled-fill-color: #AAA;\n",
              "      --disabled-bg-color: #DDD;\n",
              "  }\n",
              "\n",
              "  [theme=dark] .colab-df-quickchart {\n",
              "      --bg-color: #3B4455;\n",
              "      --fill-color: #D2E3FC;\n",
              "      --hover-bg-color: #434B5C;\n",
              "      --hover-fill-color: #FFFFFF;\n",
              "      --disabled-bg-color: #3B4455;\n",
              "      --disabled-fill-color: #666;\n",
              "  }\n",
              "\n",
              "  .colab-df-quickchart {\n",
              "    background-color: var(--bg-color);\n",
              "    border: none;\n",
              "    border-radius: 50%;\n",
              "    cursor: pointer;\n",
              "    display: none;\n",
              "    fill: var(--fill-color);\n",
              "    height: 32px;\n",
              "    padding: 0;\n",
              "    width: 32px;\n",
              "  }\n",
              "\n",
              "  .colab-df-quickchart:hover {\n",
              "    background-color: var(--hover-bg-color);\n",
              "    box-shadow: 0 1px 2px rgba(60, 64, 67, 0.3), 0 1px 3px 1px rgba(60, 64, 67, 0.15);\n",
              "    fill: var(--button-hover-fill-color);\n",
              "  }\n",
              "\n",
              "  .colab-df-quickchart-complete:disabled,\n",
              "  .colab-df-quickchart-complete:disabled:hover {\n",
              "    background-color: var(--disabled-bg-color);\n",
              "    fill: var(--disabled-fill-color);\n",
              "    box-shadow: none;\n",
              "  }\n",
              "\n",
              "  .colab-df-spinner {\n",
              "    border: 2px solid var(--fill-color);\n",
              "    border-color: transparent;\n",
              "    border-bottom-color: var(--fill-color);\n",
              "    animation:\n",
              "      spin 1s steps(1) infinite;\n",
              "  }\n",
              "\n",
              "  @keyframes spin {\n",
              "    0% {\n",
              "      border-color: transparent;\n",
              "      border-bottom-color: var(--fill-color);\n",
              "      border-left-color: var(--fill-color);\n",
              "    }\n",
              "    20% {\n",
              "      border-color: transparent;\n",
              "      border-left-color: var(--fill-color);\n",
              "      border-top-color: var(--fill-color);\n",
              "    }\n",
              "    30% {\n",
              "      border-color: transparent;\n",
              "      border-left-color: var(--fill-color);\n",
              "      border-top-color: var(--fill-color);\n",
              "      border-right-color: var(--fill-color);\n",
              "    }\n",
              "    40% {\n",
              "      border-color: transparent;\n",
              "      border-right-color: var(--fill-color);\n",
              "      border-top-color: var(--fill-color);\n",
              "    }\n",
              "    60% {\n",
              "      border-color: transparent;\n",
              "      border-right-color: var(--fill-color);\n",
              "    }\n",
              "    80% {\n",
              "      border-color: transparent;\n",
              "      border-right-color: var(--fill-color);\n",
              "      border-bottom-color: var(--fill-color);\n",
              "    }\n",
              "    90% {\n",
              "      border-color: transparent;\n",
              "      border-bottom-color: var(--fill-color);\n",
              "    }\n",
              "  }\n",
              "</style>\n",
              "\n",
              "  <script>\n",
              "    async function quickchart(key) {\n",
              "      const quickchartButtonEl =\n",
              "        document.querySelector('#' + key + ' button');\n",
              "      quickchartButtonEl.disabled = true;  // To prevent multiple clicks.\n",
              "      quickchartButtonEl.classList.add('colab-df-spinner');\n",
              "      try {\n",
              "        const charts = await google.colab.kernel.invokeFunction(\n",
              "            'suggestCharts', [key], {});\n",
              "      } catch (error) {\n",
              "        console.error('Error during call to suggestCharts:', error);\n",
              "      }\n",
              "      quickchartButtonEl.classList.remove('colab-df-spinner');\n",
              "      quickchartButtonEl.classList.add('colab-df-quickchart-complete');\n",
              "    }\n",
              "    (() => {\n",
              "      let quickchartButtonEl =\n",
              "        document.querySelector('#df-bcfdd204-aeeb-4c5f-a174-7b61f1eecd89 button');\n",
              "      quickchartButtonEl.style.display =\n",
              "        google.colab.kernel.accessAllowed ? 'block' : 'none';\n",
              "    })();\n",
              "  </script>\n",
              "</div>\n",
              "\n",
              "  <div id=\"id_488b0794-3d1b-41b3-8b68-b8802fc3def0\">\n",
              "    <style>\n",
              "      .colab-df-generate {\n",
              "        background-color: #E8F0FE;\n",
              "        border: none;\n",
              "        border-radius: 50%;\n",
              "        cursor: pointer;\n",
              "        display: none;\n",
              "        fill: #1967D2;\n",
              "        height: 32px;\n",
              "        padding: 0 0 0 0;\n",
              "        width: 32px;\n",
              "      }\n",
              "\n",
              "      .colab-df-generate:hover {\n",
              "        background-color: #E2EBFA;\n",
              "        box-shadow: 0px 1px 2px rgba(60, 64, 67, 0.3), 0px 1px 3px 1px rgba(60, 64, 67, 0.15);\n",
              "        fill: #174EA6;\n",
              "      }\n",
              "\n",
              "      [theme=dark] .colab-df-generate {\n",
              "        background-color: #3B4455;\n",
              "        fill: #D2E3FC;\n",
              "      }\n",
              "\n",
              "      [theme=dark] .colab-df-generate:hover {\n",
              "        background-color: #434B5C;\n",
              "        box-shadow: 0px 1px 3px 1px rgba(0, 0, 0, 0.15);\n",
              "        filter: drop-shadow(0px 1px 2px rgba(0, 0, 0, 0.3));\n",
              "        fill: #FFFFFF;\n",
              "      }\n",
              "    </style>\n",
              "    <button class=\"colab-df-generate\" onclick=\"generateWithVariable('top_videos')\"\n",
              "            title=\"Generate code using this dataframe.\"\n",
              "            style=\"display:none;\">\n",
              "\n",
              "  <svg xmlns=\"http://www.w3.org/2000/svg\" height=\"24px\"viewBox=\"0 0 24 24\"\n",
              "       width=\"24px\">\n",
              "    <path d=\"M7,19H8.4L18.45,9,17,7.55,7,17.6ZM5,21V16.75L18.45,3.32a2,2,0,0,1,2.83,0l1.4,1.43a1.91,1.91,0,0,1,.58,1.4,1.91,1.91,0,0,1-.58,1.4L9.25,21ZM18.45,9,17,7.55Zm-12,3A5.31,5.31,0,0,0,4.9,8.1,5.31,5.31,0,0,0,1,6.5,5.31,5.31,0,0,0,4.9,4.9,5.31,5.31,0,0,0,6.5,1,5.31,5.31,0,0,0,8.1,4.9,5.31,5.31,0,0,0,12,6.5,5.46,5.46,0,0,0,6.5,12Z\"/>\n",
              "  </svg>\n",
              "    </button>\n",
              "    <script>\n",
              "      (() => {\n",
              "      const buttonEl =\n",
              "        document.querySelector('#id_488b0794-3d1b-41b3-8b68-b8802fc3def0 button.colab-df-generate');\n",
              "      buttonEl.style.display =\n",
              "        google.colab.kernel.accessAllowed ? 'block' : 'none';\n",
              "\n",
              "      buttonEl.onclick = () => {\n",
              "        google.colab.notebook.generateWithVariable('top_videos');\n",
              "      }\n",
              "      })();\n",
              "    </script>\n",
              "  </div>\n",
              "\n",
              "    </div>\n",
              "  </div>\n"
            ],
            "application/vnd.google.colaboratory.intrinsic+json": {
              "type": "dataframe",
              "variable_name": "top_videos",
              "summary": "{\n  \"name\": \"top_videos\",\n  \"rows\": 10,\n  \"fields\": [\n    {\n      \"column\": \"Unnamed: 0\",\n      \"properties\": {\n        \"dtype\": \"number\",\n        \"std\": 76460,\n        \"min\": 19998,\n        \"max\": 243009,\n        \"num_unique_values\": 10,\n        \"samples\": [\n          148390,\n          67793,\n          215112\n        ],\n        \"semantic_type\": \"\",\n        \"description\": \"\"\n      }\n    },\n    {\n      \"column\": \"video_id\",\n      \"properties\": {\n        \"dtype\": \"string\",\n        \"num_unique_values\": 10,\n        \"samples\": [\n          \"gQlMMD8auMs\",\n          \"CuklIb9d3fI\",\n          \"QU9c0053UAU\"\n        ],\n        \"semantic_type\": \"\",\n        \"description\": \"\"\n      }\n    },\n    {\n      \"column\": \"title\",\n      \"properties\": {\n        \"dtype\": \"string\",\n        \"num_unique_values\": 10,\n        \"samples\": [\n          \"BLACKPINK - \\u2018Pink Venom\\u2019 M/V\",\n          \"BTS (\\ubc29\\ud0c4\\uc18c\\ub144\\ub2e8) 'Permission to Dance' Official MV\",\n          \"\\uc815\\uad6d (Jung Kook) 'Seven (feat. Latto)' Official MV\"\n        ],\n        \"semantic_type\": \"\",\n        \"description\": \"\"\n      }\n    },\n    {\n      \"column\": \"publishedAt\",\n      \"properties\": {\n        \"dtype\": \"date\",\n        \"min\": \"2020-11-20 04:58:11+00:00\",\n        \"max\": \"2023-12-04 23:07:10+00:00\",\n        \"num_unique_values\": 10,\n        \"samples\": [\n          \"2022-08-19 04:00:13+00:00\",\n          \"2021-07-09 03:59:12+00:00\",\n          \"2023-07-14 04:00:00+00:00\"\n        ],\n        \"semantic_type\": \"\",\n        \"description\": \"\"\n      }\n    },\n    {\n      \"column\": \"channelId\",\n      \"properties\": {\n        \"dtype\": \"string\",\n        \"num_unique_values\": 5,\n        \"samples\": [\n          \"UC6VcWc1rAoWdBCM0JxrRQ3A\",\n          \"UCmS75G-98QihSusY7NfCZtw\",\n          \"UCOmHUn--16B90oW2L6FRR3A\"\n        ],\n        \"semantic_type\": \"\",\n        \"description\": \"\"\n      }\n    },\n    {\n      \"column\": \"channelTitle\",\n      \"properties\": {\n        \"dtype\": \"string\",\n        \"num_unique_values\": 6,\n        \"samples\": [\n          \"HYBE LABELS\",\n          \"Rockstar Games\",\n          \"Big Hit Labels\"\n        ],\n        \"semantic_type\": \"\",\n        \"description\": \"\"\n      }\n    },\n    {\n      \"column\": \"trending_date\",\n      \"properties\": {\n        \"dtype\": \"date\",\n        \"min\": \"2020-11-21 00:00:00\",\n        \"max\": \"2023-12-09 00:00:00\",\n        \"num_unique_values\": 10,\n        \"samples\": [\n          \"2022-08-20 00:00:00\",\n          \"2021-07-11 00:00:00\",\n          \"2023-07-21 00:00:00\"\n        ],\n        \"semantic_type\": \"\",\n        \"description\": \"\"\n      }\n    },\n    {\n      \"column\": \"tags\",\n      \"properties\": {\n        \"dtype\": \"string\",\n        \"num_unique_values\": 8,\n        \"samples\": [\n          \"HYBE|HYBE LABELS|\\ud558\\uc774\\ube0c|\\ud558\\uc774\\ube0c\\ub808\\uc774\\ube14\\uc988\",\n          \"HYBE|HYBE LABELS|\\ud558\\uc774\\ube0c|\\ud558\\uc774\\ube0c\\ub808\\uc774\\ube14\\uc988|\\uc815\\uad6d|Jung Kook|Seven\",\n          \"BIGHIT|\\ube45\\ud788\\ud2b8|\\ubc29\\ud0c4\\uc18c\\ub144\\ub2e8|BTS|BANGTAN|\\ubc29\\ud0c4\"\n        ],\n        \"semantic_type\": \"\",\n        \"description\": \"\"\n      }\n    },\n    {\n      \"column\": \"view_count\",\n      \"properties\": {\n        \"dtype\": \"number\",\n        \"std\": 28217842,\n        \"min\": 43199163,\n        \"max\": 133484128,\n        \"num_unique_values\": 10,\n        \"samples\": [\n          103753267,\n          104344850,\n          87429438\n        ],\n        \"semantic_type\": \"\",\n        \"description\": \"\"\n      }\n    },\n    {\n      \"column\": \"likes\",\n      \"properties\": {\n        \"dtype\": \"number\",\n        \"std\": 2346307,\n        \"min\": 6207114,\n        \"max\": 13361198,\n        \"num_unique_values\": 10,\n        \"samples\": [\n          6535560,\n          10977519,\n          7525925\n        ],\n        \"semantic_type\": \"\",\n        \"description\": \"\"\n      }\n    },\n    {\n      \"column\": \"dislikes\",\n      \"properties\": {\n        \"dtype\": \"number\",\n        \"std\": 22622,\n        \"min\": 0,\n        \"max\": 61285,\n        \"num_unique_values\": 7,\n        \"samples\": [\n          28528,\n          48846,\n          38012\n        ],\n        \"semantic_type\": \"\",\n        \"description\": \"\"\n      }\n    },\n    {\n      \"column\": \"comment_count\",\n      \"properties\": {\n        \"dtype\": \"number\",\n        \"std\": 1620329,\n        \"min\": 406259,\n        \"max\": 5594286,\n        \"num_unique_values\": 10,\n        \"samples\": [\n          2572087,\n          2690970,\n          805373\n        ],\n        \"semantic_type\": \"\",\n        \"description\": \"\"\n      }\n    }\n  ]\n}"
            }
          },
          "metadata": {},
          "execution_count": 35
        }
      ],
      "source": [
        "# Find videos with the highest engagement likes by running this code; remove triple quotes\n",
        "top_videos = youtube_df.sort_values(by=\"likes\", ascending=False).head(10)\n",
        "top_videos"
      ]
    },
    {
      "cell_type": "code",
      "execution_count": 36,
      "id": "dd709316-e4bc-49f1-9e4f-0c61293ceae5",
      "metadata": {
        "id": "dd709316-e4bc-49f1-9e4f-0c61293ceae5",
        "outputId": "c8bc7050-3ef1-49d2-9618-a05100a5a327",
        "colab": {
          "base_uri": "https://localhost:8080/",
          "height": 363
        }
      },
      "outputs": [
        {
          "output_type": "execute_result",
          "data": {
            "text/plain": [
              "                                                  title    channelTitle  \\\n",
              "31975                  BTS (방탄소년단) 'Butter' Official MV     HYBE LABELS   \n",
              "30728     BTS (방탄소년단) 'Permission to Dance' Official MV     HYBE LABELS   \n",
              "33346                     Grand Theft Auto VI Trailer 1  Rockstar Games   \n",
              "15033                               LISA - 'LALISA' M/V       BLACKPINK   \n",
              "35029                 $456,000 Squid Game In Real Life!         MrBeast   \n",
              "59644  정국 (Jung Kook) 'Seven (feat. Latto)' Official MV     HYBE LABELS   \n",
              "33851                SHAKIRA || BZRP Music Sessions #53        Bizarrap   \n",
              "63868            BTS (방탄소년단) 'Life Goes On' Official MV  Big Hit Labels   \n",
              "31502                      BLACKPINK - ‘Pink Venom’ M/V       BLACKPINK   \n",
              "2714                 BTS (방탄소년단) 'Film out' Official MV     HYBE LABELS   \n",
              "\n",
              "          likes  view_count  comment_count  \n",
              "31975  13361198   133484128        5594286  \n",
              "30728  10977519   104344850        2690970  \n",
              "33346  10405236   132403867         807468  \n",
              "15033   9971435   108406017        2218950  \n",
              "35029   7582617    73215052         406259  \n",
              "59644   7525925    87429438         805373  \n",
              "33851   7445765   123417009         427387  \n",
              "63868   6965393    84352431        3411203  \n",
              "31502   6535560   103753267        2572087  \n",
              "2714    6207114    43199163        1769268  "
            ],
            "text/html": [
              "\n",
              "  <div id=\"df-2099fb4c-665e-4e75-ad99-3f186e373222\" class=\"colab-df-container\">\n",
              "    <div>\n",
              "<style scoped>\n",
              "    .dataframe tbody tr th:only-of-type {\n",
              "        vertical-align: middle;\n",
              "    }\n",
              "\n",
              "    .dataframe tbody tr th {\n",
              "        vertical-align: top;\n",
              "    }\n",
              "\n",
              "    .dataframe thead th {\n",
              "        text-align: right;\n",
              "    }\n",
              "</style>\n",
              "<table border=\"1\" class=\"dataframe\">\n",
              "  <thead>\n",
              "    <tr style=\"text-align: right;\">\n",
              "      <th></th>\n",
              "      <th>title</th>\n",
              "      <th>channelTitle</th>\n",
              "      <th>likes</th>\n",
              "      <th>view_count</th>\n",
              "      <th>comment_count</th>\n",
              "    </tr>\n",
              "  </thead>\n",
              "  <tbody>\n",
              "    <tr>\n",
              "      <th>31975</th>\n",
              "      <td>BTS (방탄소년단) 'Butter' Official MV</td>\n",
              "      <td>HYBE LABELS</td>\n",
              "      <td>13361198</td>\n",
              "      <td>133484128</td>\n",
              "      <td>5594286</td>\n",
              "    </tr>\n",
              "    <tr>\n",
              "      <th>30728</th>\n",
              "      <td>BTS (방탄소년단) 'Permission to Dance' Official MV</td>\n",
              "      <td>HYBE LABELS</td>\n",
              "      <td>10977519</td>\n",
              "      <td>104344850</td>\n",
              "      <td>2690970</td>\n",
              "    </tr>\n",
              "    <tr>\n",
              "      <th>33346</th>\n",
              "      <td>Grand Theft Auto VI Trailer 1</td>\n",
              "      <td>Rockstar Games</td>\n",
              "      <td>10405236</td>\n",
              "      <td>132403867</td>\n",
              "      <td>807468</td>\n",
              "    </tr>\n",
              "    <tr>\n",
              "      <th>15033</th>\n",
              "      <td>LISA - 'LALISA' M/V</td>\n",
              "      <td>BLACKPINK</td>\n",
              "      <td>9971435</td>\n",
              "      <td>108406017</td>\n",
              "      <td>2218950</td>\n",
              "    </tr>\n",
              "    <tr>\n",
              "      <th>35029</th>\n",
              "      <td>$456,000 Squid Game In Real Life!</td>\n",
              "      <td>MrBeast</td>\n",
              "      <td>7582617</td>\n",
              "      <td>73215052</td>\n",
              "      <td>406259</td>\n",
              "    </tr>\n",
              "    <tr>\n",
              "      <th>59644</th>\n",
              "      <td>정국 (Jung Kook) 'Seven (feat. Latto)' Official MV</td>\n",
              "      <td>HYBE LABELS</td>\n",
              "      <td>7525925</td>\n",
              "      <td>87429438</td>\n",
              "      <td>805373</td>\n",
              "    </tr>\n",
              "    <tr>\n",
              "      <th>33851</th>\n",
              "      <td>SHAKIRA || BZRP Music Sessions #53</td>\n",
              "      <td>Bizarrap</td>\n",
              "      <td>7445765</td>\n",
              "      <td>123417009</td>\n",
              "      <td>427387</td>\n",
              "    </tr>\n",
              "    <tr>\n",
              "      <th>63868</th>\n",
              "      <td>BTS (방탄소년단) 'Life Goes On' Official MV</td>\n",
              "      <td>Big Hit Labels</td>\n",
              "      <td>6965393</td>\n",
              "      <td>84352431</td>\n",
              "      <td>3411203</td>\n",
              "    </tr>\n",
              "    <tr>\n",
              "      <th>31502</th>\n",
              "      <td>BLACKPINK - ‘Pink Venom’ M/V</td>\n",
              "      <td>BLACKPINK</td>\n",
              "      <td>6535560</td>\n",
              "      <td>103753267</td>\n",
              "      <td>2572087</td>\n",
              "    </tr>\n",
              "    <tr>\n",
              "      <th>2714</th>\n",
              "      <td>BTS (방탄소년단) 'Film out' Official MV</td>\n",
              "      <td>HYBE LABELS</td>\n",
              "      <td>6207114</td>\n",
              "      <td>43199163</td>\n",
              "      <td>1769268</td>\n",
              "    </tr>\n",
              "  </tbody>\n",
              "</table>\n",
              "</div>\n",
              "    <div class=\"colab-df-buttons\">\n",
              "\n",
              "  <div class=\"colab-df-container\">\n",
              "    <button class=\"colab-df-convert\" onclick=\"convertToInteractive('df-2099fb4c-665e-4e75-ad99-3f186e373222')\"\n",
              "            title=\"Convert this dataframe to an interactive table.\"\n",
              "            style=\"display:none;\">\n",
              "\n",
              "  <svg xmlns=\"http://www.w3.org/2000/svg\" height=\"24px\" viewBox=\"0 -960 960 960\">\n",
              "    <path d=\"M120-120v-720h720v720H120Zm60-500h600v-160H180v160Zm220 220h160v-160H400v160Zm0 220h160v-160H400v160ZM180-400h160v-160H180v160Zm440 0h160v-160H620v160ZM180-180h160v-160H180v160Zm440 0h160v-160H620v160Z\"/>\n",
              "  </svg>\n",
              "    </button>\n",
              "\n",
              "  <style>\n",
              "    .colab-df-container {\n",
              "      display:flex;\n",
              "      gap: 12px;\n",
              "    }\n",
              "\n",
              "    .colab-df-convert {\n",
              "      background-color: #E8F0FE;\n",
              "      border: none;\n",
              "      border-radius: 50%;\n",
              "      cursor: pointer;\n",
              "      display: none;\n",
              "      fill: #1967D2;\n",
              "      height: 32px;\n",
              "      padding: 0 0 0 0;\n",
              "      width: 32px;\n",
              "    }\n",
              "\n",
              "    .colab-df-convert:hover {\n",
              "      background-color: #E2EBFA;\n",
              "      box-shadow: 0px 1px 2px rgba(60, 64, 67, 0.3), 0px 1px 3px 1px rgba(60, 64, 67, 0.15);\n",
              "      fill: #174EA6;\n",
              "    }\n",
              "\n",
              "    .colab-df-buttons div {\n",
              "      margin-bottom: 4px;\n",
              "    }\n",
              "\n",
              "    [theme=dark] .colab-df-convert {\n",
              "      background-color: #3B4455;\n",
              "      fill: #D2E3FC;\n",
              "    }\n",
              "\n",
              "    [theme=dark] .colab-df-convert:hover {\n",
              "      background-color: #434B5C;\n",
              "      box-shadow: 0px 1px 3px 1px rgba(0, 0, 0, 0.15);\n",
              "      filter: drop-shadow(0px 1px 2px rgba(0, 0, 0, 0.3));\n",
              "      fill: #FFFFFF;\n",
              "    }\n",
              "  </style>\n",
              "\n",
              "    <script>\n",
              "      const buttonEl =\n",
              "        document.querySelector('#df-2099fb4c-665e-4e75-ad99-3f186e373222 button.colab-df-convert');\n",
              "      buttonEl.style.display =\n",
              "        google.colab.kernel.accessAllowed ? 'block' : 'none';\n",
              "\n",
              "      async function convertToInteractive(key) {\n",
              "        const element = document.querySelector('#df-2099fb4c-665e-4e75-ad99-3f186e373222');\n",
              "        const dataTable =\n",
              "          await google.colab.kernel.invokeFunction('convertToInteractive',\n",
              "                                                    [key], {});\n",
              "        if (!dataTable) return;\n",
              "\n",
              "        const docLinkHtml = 'Like what you see? Visit the ' +\n",
              "          '<a target=\"_blank\" href=https://colab.research.google.com/notebooks/data_table.ipynb>data table notebook</a>'\n",
              "          + ' to learn more about interactive tables.';\n",
              "        element.innerHTML = '';\n",
              "        dataTable['output_type'] = 'display_data';\n",
              "        await google.colab.output.renderOutput(dataTable, element);\n",
              "        const docLink = document.createElement('div');\n",
              "        docLink.innerHTML = docLinkHtml;\n",
              "        element.appendChild(docLink);\n",
              "      }\n",
              "    </script>\n",
              "  </div>\n",
              "\n",
              "\n",
              "<div id=\"df-1df1aefa-1774-419f-9faa-ee635ed36dc9\">\n",
              "  <button class=\"colab-df-quickchart\" onclick=\"quickchart('df-1df1aefa-1774-419f-9faa-ee635ed36dc9')\"\n",
              "            title=\"Suggest charts\"\n",
              "            style=\"display:none;\">\n",
              "\n",
              "<svg xmlns=\"http://www.w3.org/2000/svg\" height=\"24px\"viewBox=\"0 0 24 24\"\n",
              "     width=\"24px\">\n",
              "    <g>\n",
              "        <path d=\"M19 3H5c-1.1 0-2 .9-2 2v14c0 1.1.9 2 2 2h14c1.1 0 2-.9 2-2V5c0-1.1-.9-2-2-2zM9 17H7v-7h2v7zm4 0h-2V7h2v10zm4 0h-2v-4h2v4z\"/>\n",
              "    </g>\n",
              "</svg>\n",
              "  </button>\n",
              "\n",
              "<style>\n",
              "  .colab-df-quickchart {\n",
              "      --bg-color: #E8F0FE;\n",
              "      --fill-color: #1967D2;\n",
              "      --hover-bg-color: #E2EBFA;\n",
              "      --hover-fill-color: #174EA6;\n",
              "      --disabled-fill-color: #AAA;\n",
              "      --disabled-bg-color: #DDD;\n",
              "  }\n",
              "\n",
              "  [theme=dark] .colab-df-quickchart {\n",
              "      --bg-color: #3B4455;\n",
              "      --fill-color: #D2E3FC;\n",
              "      --hover-bg-color: #434B5C;\n",
              "      --hover-fill-color: #FFFFFF;\n",
              "      --disabled-bg-color: #3B4455;\n",
              "      --disabled-fill-color: #666;\n",
              "  }\n",
              "\n",
              "  .colab-df-quickchart {\n",
              "    background-color: var(--bg-color);\n",
              "    border: none;\n",
              "    border-radius: 50%;\n",
              "    cursor: pointer;\n",
              "    display: none;\n",
              "    fill: var(--fill-color);\n",
              "    height: 32px;\n",
              "    padding: 0;\n",
              "    width: 32px;\n",
              "  }\n",
              "\n",
              "  .colab-df-quickchart:hover {\n",
              "    background-color: var(--hover-bg-color);\n",
              "    box-shadow: 0 1px 2px rgba(60, 64, 67, 0.3), 0 1px 3px 1px rgba(60, 64, 67, 0.15);\n",
              "    fill: var(--button-hover-fill-color);\n",
              "  }\n",
              "\n",
              "  .colab-df-quickchart-complete:disabled,\n",
              "  .colab-df-quickchart-complete:disabled:hover {\n",
              "    background-color: var(--disabled-bg-color);\n",
              "    fill: var(--disabled-fill-color);\n",
              "    box-shadow: none;\n",
              "  }\n",
              "\n",
              "  .colab-df-spinner {\n",
              "    border: 2px solid var(--fill-color);\n",
              "    border-color: transparent;\n",
              "    border-bottom-color: var(--fill-color);\n",
              "    animation:\n",
              "      spin 1s steps(1) infinite;\n",
              "  }\n",
              "\n",
              "  @keyframes spin {\n",
              "    0% {\n",
              "      border-color: transparent;\n",
              "      border-bottom-color: var(--fill-color);\n",
              "      border-left-color: var(--fill-color);\n",
              "    }\n",
              "    20% {\n",
              "      border-color: transparent;\n",
              "      border-left-color: var(--fill-color);\n",
              "      border-top-color: var(--fill-color);\n",
              "    }\n",
              "    30% {\n",
              "      border-color: transparent;\n",
              "      border-left-color: var(--fill-color);\n",
              "      border-top-color: var(--fill-color);\n",
              "      border-right-color: var(--fill-color);\n",
              "    }\n",
              "    40% {\n",
              "      border-color: transparent;\n",
              "      border-right-color: var(--fill-color);\n",
              "      border-top-color: var(--fill-color);\n",
              "    }\n",
              "    60% {\n",
              "      border-color: transparent;\n",
              "      border-right-color: var(--fill-color);\n",
              "    }\n",
              "    80% {\n",
              "      border-color: transparent;\n",
              "      border-right-color: var(--fill-color);\n",
              "      border-bottom-color: var(--fill-color);\n",
              "    }\n",
              "    90% {\n",
              "      border-color: transparent;\n",
              "      border-bottom-color: var(--fill-color);\n",
              "    }\n",
              "  }\n",
              "</style>\n",
              "\n",
              "  <script>\n",
              "    async function quickchart(key) {\n",
              "      const quickchartButtonEl =\n",
              "        document.querySelector('#' + key + ' button');\n",
              "      quickchartButtonEl.disabled = true;  // To prevent multiple clicks.\n",
              "      quickchartButtonEl.classList.add('colab-df-spinner');\n",
              "      try {\n",
              "        const charts = await google.colab.kernel.invokeFunction(\n",
              "            'suggestCharts', [key], {});\n",
              "      } catch (error) {\n",
              "        console.error('Error during call to suggestCharts:', error);\n",
              "      }\n",
              "      quickchartButtonEl.classList.remove('colab-df-spinner');\n",
              "      quickchartButtonEl.classList.add('colab-df-quickchart-complete');\n",
              "    }\n",
              "    (() => {\n",
              "      let quickchartButtonEl =\n",
              "        document.querySelector('#df-1df1aefa-1774-419f-9faa-ee635ed36dc9 button');\n",
              "      quickchartButtonEl.style.display =\n",
              "        google.colab.kernel.accessAllowed ? 'block' : 'none';\n",
              "    })();\n",
              "  </script>\n",
              "</div>\n",
              "\n",
              "    </div>\n",
              "  </div>\n"
            ],
            "application/vnd.google.colaboratory.intrinsic+json": {
              "type": "dataframe",
              "summary": "{\n  \"name\": \"top_videos[[\\\"title\\\", \\\"channelTitle\\\", \\\"likes\\\", \\\"view_count\\\", \\\"comment_count\\\"]]\",\n  \"rows\": 10,\n  \"fields\": [\n    {\n      \"column\": \"title\",\n      \"properties\": {\n        \"dtype\": \"string\",\n        \"num_unique_values\": 10,\n        \"samples\": [\n          \"BLACKPINK - \\u2018Pink Venom\\u2019 M/V\",\n          \"BTS (\\ubc29\\ud0c4\\uc18c\\ub144\\ub2e8) 'Permission to Dance' Official MV\",\n          \"\\uc815\\uad6d (Jung Kook) 'Seven (feat. Latto)' Official MV\"\n        ],\n        \"semantic_type\": \"\",\n        \"description\": \"\"\n      }\n    },\n    {\n      \"column\": \"channelTitle\",\n      \"properties\": {\n        \"dtype\": \"string\",\n        \"num_unique_values\": 6,\n        \"samples\": [\n          \"HYBE LABELS\",\n          \"Rockstar Games\",\n          \"Big Hit Labels\"\n        ],\n        \"semantic_type\": \"\",\n        \"description\": \"\"\n      }\n    },\n    {\n      \"column\": \"likes\",\n      \"properties\": {\n        \"dtype\": \"number\",\n        \"std\": 2346307,\n        \"min\": 6207114,\n        \"max\": 13361198,\n        \"num_unique_values\": 10,\n        \"samples\": [\n          6535560,\n          10977519,\n          7525925\n        ],\n        \"semantic_type\": \"\",\n        \"description\": \"\"\n      }\n    },\n    {\n      \"column\": \"view_count\",\n      \"properties\": {\n        \"dtype\": \"number\",\n        \"std\": 28217842,\n        \"min\": 43199163,\n        \"max\": 133484128,\n        \"num_unique_values\": 10,\n        \"samples\": [\n          103753267,\n          104344850,\n          87429438\n        ],\n        \"semantic_type\": \"\",\n        \"description\": \"\"\n      }\n    },\n    {\n      \"column\": \"comment_count\",\n      \"properties\": {\n        \"dtype\": \"number\",\n        \"std\": 1620329,\n        \"min\": 406259,\n        \"max\": 5594286,\n        \"num_unique_values\": 10,\n        \"samples\": [\n          2572087,\n          2690970,\n          805373\n        ],\n        \"semantic_type\": \"\",\n        \"description\": \"\"\n      }\n    }\n  ]\n}"
            }
          },
          "metadata": {},
          "execution_count": 36
        }
      ],
      "source": [
        "# Display specific columns of top 10 videos by likes by running this code\n",
        "top_videos[[\"title\", \"channelTitle\", \"likes\", \"view_count\", \"comment_count\"]]"
      ]
    },
    {
      "cell_type": "code",
      "execution_count": 37,
      "id": "ef359948-a9bd-4e9d-a4e9-53d45b2f9761",
      "metadata": {
        "id": "ef359948-a9bd-4e9d-a4e9-53d45b2f9761",
        "outputId": "121369ba-0baf-4ba3-9997-ddb12fe64bf3",
        "colab": {
          "base_uri": "https://localhost:8080/"
        }
      },
      "outputs": [
        {
          "output_type": "stream",
          "name": "stdout",
          "text": [
            "       Unnamed: 0     video_id  \\\n",
            "31975       55791  WMweEpGlu_U   \n",
            "63868       19998  -5q5mZbe3V8   \n",
            "21449        5311  2L6gsn7rGqI   \n",
            "30728       67793  CuklIb9d3fI   \n",
            "31502      148390  gQlMMD8auMs   \n",
            "8963        60221  2IkoKhr6Tss   \n",
            "15033       80397  awkkyBH2zEo   \n",
            "26749        3200  vRXZj0DzXIA   \n",
            "2714        46003  zFT3f9biz68   \n",
            "8954       195265  jaVdD4Z8UCs   \n",
            "\n",
            "                                                   title  \\\n",
            "31975                   BTS (방탄소년단) 'Butter' Official MV   \n",
            "63868             BTS (방탄소년단) 'Life Goes On' Official MV   \n",
            "21449  GAME  (Full Video)  Shooter Kahlon | Sidhu Moo...   \n",
            "30728      BTS (방탄소년단) 'Permission to Dance' Official MV   \n",
            "31502                       BLACKPINK - ‘Pink Venom’ M/V   \n",
            "8963                 EXO 엑소 'Don't fight the feeling' MV   \n",
            "15033                                LISA - 'LALISA' M/V   \n",
            "26749    BLACKPINK - 'Ice Cream (with Selena Gomez)' M/V   \n",
            "2714                  BTS (방탄소년단) 'Film out' Official MV   \n",
            "8954   SIDHU MOOSE WALA : Mera Na (Official Video) Fe...   \n",
            "\n",
            "                    publishedAt                 channelId      channelTitle  \\\n",
            "31975 2021-05-21 03:46:13+00:00  UC3IZKseVpdzPSBaWxBxundA       HYBE LABELS   \n",
            "63868 2020-11-20 04:58:11+00:00  UC3IZKseVpdzPSBaWxBxundA    Big Hit Labels   \n",
            "21449 2020-09-03 02:30:13+00:00  UCV4iYJ7wTDWrRGbGZEvQsSg      5911 Records   \n",
            "30728 2021-07-09 03:59:12+00:00  UC3IZKseVpdzPSBaWxBxundA       HYBE LABELS   \n",
            "31502 2022-08-19 04:00:13+00:00  UCOmHUn--16B90oW2L6FRR3A         BLACKPINK   \n",
            "8963  2021-06-07 09:00:02+00:00  UCEf_Bc-KVd7onSeifS3py9g            SMTOWN   \n",
            "15033 2021-09-10 04:00:13+00:00  UCOmHUn--16B90oW2L6FRR3A         BLACKPINK   \n",
            "26749 2020-08-28 04:00:11+00:00  UCOmHUn--16B90oW2L6FRR3A         BLACKPINK   \n",
            "2714  2021-04-01 15:00:09+00:00  UC3IZKseVpdzPSBaWxBxundA       HYBE LABELS   \n",
            "8954  2023-04-07 04:27:24+00:00  UC9ChdqQRCaZmTCwSJ49tcbw  Sidhu Moose Wala   \n",
            "\n",
            "      trending_date                                               tags  \\\n",
            "31975    2021-05-22                    BIGHIT|빅히트|방탄소년단|BTS|BANGTAN|방탄   \n",
            "63868    2020-11-21                    BIGHIT|빅히트|방탄소년단|BTS|BANGTAN|방탄   \n",
            "21449    2020-09-07  sidhu moose wala|game official video|shooter k...   \n",
            "30728    2021-07-11                       HYBE|HYBE LABELS|하이브|하이브레이블즈   \n",
            "31502    2022-08-20  YG Entertainment|YG|와이지|K-pop|BLACKPINK|블랙핑크|블...   \n",
            "8963     2021-06-09                                             [None]   \n",
            "15033    2021-09-12  YG Entertainment|YG|와이지|K-pop|BLACKPINK|블랙핑크|블...   \n",
            "26749    2020-08-28  YG Entertainment|YG|와이지|K-pop|BLACKPINK|블랙핑크|블...   \n",
            "2714     2021-04-03                    BIGHIT|빅히트|방탄소년단|BTS|BANGTAN|방탄   \n",
            "8954     2023-04-11  mera na sidhu moose wala|sidhu moose wala|mera...   \n",
            "\n",
            "       view_count     likes  dislikes  comment_count  \n",
            "31975   133484128  13361198     28528        5594286  \n",
            "63868    84352431   6965393     38012        3411203  \n",
            "21449    17754517   1071964     50888        3115497  \n",
            "30728   104344850  10977519     48846        2690970  \n",
            "31502   103753267   6535560         0        2572087  \n",
            "8963     34721260   3514793     24727        2232654  \n",
            "15033   108406017   9971435     61285        2218950  \n",
            "26749    51234434   5912778    405329        1847794  \n",
            "2714     43199163   6207114     32096        1769268  \n",
            "8954     24248955   2807767         0        1205239  \n"
          ]
        }
      ],
      "source": [
        "# Adjust the following code to find videos with the highest comments\n",
        "# top_videos = youtube_df.sort_values(by=\"likes\", ascending=False).head(10)\n",
        "# top_videos\n",
        "top_videos = youtube_df.sort_values(by=\"comment_count\", ascending=False).head(10)\n",
        "print(top_videos)"
      ]
    },
    {
      "cell_type": "code",
      "execution_count": 38,
      "id": "9d0d057e-5293-4782-9d39-f1edb099917e",
      "metadata": {
        "id": "9d0d057e-5293-4782-9d39-f1edb099917e",
        "outputId": "6ed5a1ba-e130-477a-acb5-94f65cb70f78",
        "colab": {
          "base_uri": "https://localhost:8080/"
        }
      },
      "outputs": [
        {
          "output_type": "stream",
          "name": "stdout",
          "text": [
            "       Unnamed: 0     video_id  \\\n",
            "18552      266187  cc2-4ci4G84   \n",
            "31975       55791  WMweEpGlu_U   \n",
            "33346      243009  QdBZY2fkU-0   \n",
            "64310      262074  tWYsfOSY9vY   \n",
            "33851      178233  CocEMWdc7Ck   \n",
            "19176      213112  bUR_FKt7Iso   \n",
            "55181      117432  ia6fRSeK8I0   \n",
            "42420      219669  yhB3BgJyGl8   \n",
            "54076      268250  wboGYls1Bns   \n",
            "15033       80397  awkkyBH2zEo   \n",
            "\n",
            "                                                   title  \\\n",
            "18552                       Discord Loot Boxes are here.   \n",
            "31975                   BTS (방탄소년단) 'Butter' Official MV   \n",
            "33346                      Grand Theft Auto VI Trailer 1   \n",
            "64310             I Survived 7 Days In An Abandoned City   \n",
            "33851                 SHAKIRA || BZRP Music Sessions #53   \n",
            "19176  Salaar Teaser | Prabhas, Prashanth Neel, Prith...   \n",
            "55181                 jai shree ram 🚩#shorts #ashortaday   \n",
            "42420                             7 Days Stranded At Sea   \n",
            "54076  Pushpa 2 The Rule Teaser | Allu Arjun | Sukuma...   \n",
            "15033                                LISA - 'LALISA' M/V   \n",
            "\n",
            "                    publishedAt                 channelId  \\\n",
            "18552 2024-04-01 17:46:17+00:00  UCZ5XnGb-3t7jCkXdawN2tkA   \n",
            "31975 2021-05-21 03:46:13+00:00  UC3IZKseVpdzPSBaWxBxundA   \n",
            "33346 2023-12-04 23:07:10+00:00  UC6VcWc1rAoWdBCM0JxrRQ3A   \n",
            "64310 2024-03-02 17:00:00+00:00  UCX6OQ3DkcsbYNE6H8uQQuVA   \n",
            "33851 2023-01-12 00:00:07+00:00  UCmS75G-98QihSusY7NfCZtw   \n",
            "19176 2023-07-05 23:41:10+00:00  UCarJoVXH0T2pdtcHBu9J8Bw   \n",
            "55181 2022-03-15 03:21:02+00:00  UCuIpkP1H2Vb_NFu8dLIWoPw   \n",
            "42420 2023-08-05 16:00:01+00:00  UCX6OQ3DkcsbYNE6H8uQQuVA   \n",
            "54076 2024-04-08 05:37:05+00:00  UCKZSn5C-RzrLjuWJF8wWiDw   \n",
            "15033 2021-09-10 04:00:13+00:00  UCOmHUn--16B90oW2L6FRR3A   \n",
            "\n",
            "              channelTitle trending_date  \\\n",
            "18552              Discord    2024-04-03   \n",
            "31975          HYBE LABELS    2021-05-22   \n",
            "33346       Rockstar Games    2023-12-09   \n",
            "64310              MrBeast    2024-03-13   \n",
            "33851             Bizarrap    2023-01-16   \n",
            "19176        Hombale Films    2023-07-11   \n",
            "55181  CHANDAN ART ACADEMY    2022-03-18   \n",
            "42420              MrBeast    2023-08-13   \n",
            "54076  Mythri Movie Makers    2024-04-13   \n",
            "15033            BLACKPINK    2021-09-12   \n",
            "\n",
            "                                                    tags  view_count  \\\n",
            "18552                                             [None]  1407643634   \n",
            "31975                    BIGHIT|빅히트|방탄소년단|BTS|BANGTAN|방탄   133484128   \n",
            "33346  Rockstar Games|Grand Theft Auto VI|GTAVI|GTA 6...   132403867   \n",
            "64310                                             [None]   127664516   \n",
            "33851  bizarrap|biza|bisa|bizzarrap|bzrp|bzrp music s...   123417009   \n",
            "19176  salaar update|salaar teaser|salaar|salaar teas...   113519318   \n",
            "55181                                             [None]   111165125   \n",
            "42420                                             [None]   110394303   \n",
            "54076  Pushpa 2 The Rule Teaser|Allu Arjun|Sukumar|Ra...   109591727   \n",
            "15033  YG Entertainment|YG|와이지|K-pop|BLACKPINK|블랙핑크|블...   108406017   \n",
            "\n",
            "          likes  dislikes  comment_count  \n",
            "18552    126926         0          13987  \n",
            "31975  13361198     28528        5594286  \n",
            "33346  10405236         0         807468  \n",
            "64310   4792468         0         186163  \n",
            "33851   7445765         0         427387  \n",
            "19176   2161208         0         105211  \n",
            "55181   5945194         0          39531  \n",
            "42420   5013405         0         107861  \n",
            "54076   1566991         0          52785  \n",
            "15033   9971435     61285        2218950  \n"
          ]
        }
      ],
      "source": [
        "# Adjust the code above to find videos with the highest views\n",
        "top_videos = youtube_df.sort_values(by=\"view_count\", ascending=False).head(10)\n",
        "print(top_videos)"
      ]
    },
    {
      "cell_type": "markdown",
      "id": "9262440e-3238-4c5b-b204-7e15e29592d8",
      "metadata": {
        "id": "9262440e-3238-4c5b-b204-7e15e29592d8"
      },
      "source": [
        "### Feature Engineering"
      ]
    },
    {
      "cell_type": "code",
      "execution_count": 39,
      "id": "73b1b5a7-5418-45bf-b041-07f3ac1c7231",
      "metadata": {
        "id": "73b1b5a7-5418-45bf-b041-07f3ac1c7231"
      },
      "outputs": [],
      "source": [
        "# Create new columns for year, month, day of the week, and hour of trending_date\n",
        "youtube_df['trending_year'] = youtube_df['trending_date'].dt.year\n",
        "youtube_df['trending_month'] = youtube_df['trending_date'].dt.month\n",
        "youtube_df['trending_day_of_week'] = youtube_df['trending_date'].dt.day_name()\n",
        "youtube_df['trending_hour'] = youtube_df['trending_date'].dt.hour"
      ]
    },
    {
      "cell_type": "code",
      "execution_count": 40,
      "id": "1183b31a-029b-49b5-a1a1-fc9f9e83220b",
      "metadata": {
        "id": "1183b31a-029b-49b5-a1a1-fc9f9e83220b",
        "outputId": "db28e4a1-4fc7-4566-fab2-4e74f9135145",
        "colab": {
          "base_uri": "https://localhost:8080/"
        }
      },
      "outputs": [
        {
          "output_type": "stream",
          "name": "stdout",
          "text": [
            "Index(['Unnamed: 0', 'video_id', 'title', 'publishedAt', 'channelId',\n",
            "       'channelTitle', 'trending_date', 'tags', 'view_count', 'likes',\n",
            "       'dislikes', 'comment_count', 'trending_year', 'trending_month',\n",
            "       'trending_day_of_week', 'trending_hour'],\n",
            "      dtype='object')\n"
          ]
        }
      ],
      "source": [
        "# Verify your new columns are a part of the dataset by printing the column names\n",
        "print(youtube_df.columns)"
      ]
    },
    {
      "cell_type": "code",
      "execution_count": 65,
      "id": "ccb174c2-8039-4831-b3b2-f540c7ef5077",
      "metadata": {
        "id": "ccb174c2-8039-4831-b3b2-f540c7ef5077"
      },
      "outputs": [],
      "source": [
        "# Convert trending_date to datetime format, removing 'Z' and parsing correctly\n",
        "youtube_df[\"trending_date\"] = pd.to_datetime(\n",
        "    youtube_df[\"trending_date\"].astype(str).str.replace(\"Z\", \"\", regex=False),\n",
        "    format=\"%Y-%m-%dT%H:%M:%S\",\n",
        "    errors='coerce'\n",
        ")\n",
        "\n",
        "# Convert trending_date to datetime format, removing 'Z' and parsing correctly\n",
        "youtube_df[\"publishedAt\"] = pd.to_datetime(\n",
        "    youtube_df[\"publishedAt\"].astype(str).str.replace(\"Z\", \"\", regex=False),\n",
        "    format=\"%Y-%m-%dT%H:%M:%S\",\n",
        "    errors='coerce'\n",
        ")"
      ]
    },
    {
      "cell_type": "markdown",
      "id": "c36415f9-3768-406c-bfc5-336ad96d442d",
      "metadata": {
        "id": "c36415f9-3768-406c-bfc5-336ad96d442d"
      },
      "source": [
        "Now that we have converted the trending_date and publishedAt columns into proper datetime format, we can use them to gain deeper insights into how long it takes for a video to trend after being published.\n",
        "\n",
        "📌 Why is this important?\n",
        "- Not all videos immediately trend after being uploaded.\n",
        "- Some videos go viral quickly, while others take days or weeks to gain traction.\n",
        "- Understanding the time-to-trend can help us analyze patterns in content virality and the impact of the YouTube algorithm.\n",
        "\n",
        "**Next Step: Calculating Time to Trend**\n",
        "\n",
        "We will create a new column, time_to_trend, which calculates the difference between when a video was published and when it first appeared in the trending list.\n",
        "\n",
        "💡 Run the following code to compute this:"
      ]
    },
    {
      "cell_type": "code",
      "execution_count": 66,
      "id": "b2ba9d18-fc03-42a1-8f91-50dab7cea3ef",
      "metadata": {
        "id": "b2ba9d18-fc03-42a1-8f91-50dab7cea3ef"
      },
      "outputs": [],
      "source": [
        "# Create a new column for time between publish and trending\n",
        "youtube_df['time_to_trend'] = youtube_df['trending_date'] - youtube_df['publishedAt']"
      ]
    },
    {
      "cell_type": "markdown",
      "id": "516d3f86-f67e-4ac5-a29a-3ee66642cec2",
      "metadata": {
        "id": "516d3f86-f67e-4ac5-a29a-3ee66642cec2"
      },
      "source": [
        "Now that we've calculated time_to_trend, which represents the difference between when a video was published and when it trended, we need to make this value more interpretable.\n",
        "\n",
        "📌 Why Convert to Days and Hours?\n",
        "- The raw time difference is currently stored as a Timedelta object, which is useful for calculations but not intuitive for quick analysis.\n",
        "- Converting this into days and hours allows us to:\n",
        "- Compare how long different videos take to trend.\n",
        "- Analyze trends at a daily or hourly level.\n",
        "- Identify patterns, such as whether certain categories or video types tend to trend faster.\n",
        "\n",
        "**Next Step: Extracting Days and Hours from Time Difference**\n",
        "\n",
        "We will now convert time_to_trend into total days and hours using the total_seconds() function, which allows us to break down the difference into meaningful time units.\n",
        "\n",
        "💡 Run the following code:"
      ]
    },
    {
      "cell_type": "code",
      "execution_count": 64,
      "id": "90336e31-91e2-4129-a27f-4044e9db7a45",
      "metadata": {
        "id": "90336e31-91e2-4129-a27f-4044e9db7a45",
        "outputId": "b3c48d89-597f-4bc4-9ed9-4faaacb65568",
        "colab": {
          "base_uri": "https://localhost:8080/",
          "height": 206
        }
      },
      "outputs": [
        {
          "output_type": "execute_result",
          "data": {
            "text/plain": [
              "          video_id time_to_trend  days_to_trend  hours_to_trend\n",
              "47514  PORP0q8nThs           NaT            NaN             NaN\n",
              "16559  8Y_NXBHm92w           NaT            NaN             NaN\n",
              "18879  uet14uf9NsE           NaT            NaN             NaN\n",
              "38699  LI1hCQ-6P0Y           NaT            NaN             NaN\n",
              "16157  p6RatnMhDj8           NaT            NaN             NaN"
            ],
            "text/html": [
              "\n",
              "  <div id=\"df-99b3d2b3-ddfe-478c-bc3f-2b0ae5b8c3b8\" class=\"colab-df-container\">\n",
              "    <div>\n",
              "<style scoped>\n",
              "    .dataframe tbody tr th:only-of-type {\n",
              "        vertical-align: middle;\n",
              "    }\n",
              "\n",
              "    .dataframe tbody tr th {\n",
              "        vertical-align: top;\n",
              "    }\n",
              "\n",
              "    .dataframe thead th {\n",
              "        text-align: right;\n",
              "    }\n",
              "</style>\n",
              "<table border=\"1\" class=\"dataframe\">\n",
              "  <thead>\n",
              "    <tr style=\"text-align: right;\">\n",
              "      <th></th>\n",
              "      <th>video_id</th>\n",
              "      <th>time_to_trend</th>\n",
              "      <th>days_to_trend</th>\n",
              "      <th>hours_to_trend</th>\n",
              "    </tr>\n",
              "  </thead>\n",
              "  <tbody>\n",
              "    <tr>\n",
              "      <th>47514</th>\n",
              "      <td>PORP0q8nThs</td>\n",
              "      <td>NaT</td>\n",
              "      <td>NaN</td>\n",
              "      <td>NaN</td>\n",
              "    </tr>\n",
              "    <tr>\n",
              "      <th>16559</th>\n",
              "      <td>8Y_NXBHm92w</td>\n",
              "      <td>NaT</td>\n",
              "      <td>NaN</td>\n",
              "      <td>NaN</td>\n",
              "    </tr>\n",
              "    <tr>\n",
              "      <th>18879</th>\n",
              "      <td>uet14uf9NsE</td>\n",
              "      <td>NaT</td>\n",
              "      <td>NaN</td>\n",
              "      <td>NaN</td>\n",
              "    </tr>\n",
              "    <tr>\n",
              "      <th>38699</th>\n",
              "      <td>LI1hCQ-6P0Y</td>\n",
              "      <td>NaT</td>\n",
              "      <td>NaN</td>\n",
              "      <td>NaN</td>\n",
              "    </tr>\n",
              "    <tr>\n",
              "      <th>16157</th>\n",
              "      <td>p6RatnMhDj8</td>\n",
              "      <td>NaT</td>\n",
              "      <td>NaN</td>\n",
              "      <td>NaN</td>\n",
              "    </tr>\n",
              "  </tbody>\n",
              "</table>\n",
              "</div>\n",
              "    <div class=\"colab-df-buttons\">\n",
              "\n",
              "  <div class=\"colab-df-container\">\n",
              "    <button class=\"colab-df-convert\" onclick=\"convertToInteractive('df-99b3d2b3-ddfe-478c-bc3f-2b0ae5b8c3b8')\"\n",
              "            title=\"Convert this dataframe to an interactive table.\"\n",
              "            style=\"display:none;\">\n",
              "\n",
              "  <svg xmlns=\"http://www.w3.org/2000/svg\" height=\"24px\" viewBox=\"0 -960 960 960\">\n",
              "    <path d=\"M120-120v-720h720v720H120Zm60-500h600v-160H180v160Zm220 220h160v-160H400v160Zm0 220h160v-160H400v160ZM180-400h160v-160H180v160Zm440 0h160v-160H620v160ZM180-180h160v-160H180v160Zm440 0h160v-160H620v160Z\"/>\n",
              "  </svg>\n",
              "    </button>\n",
              "\n",
              "  <style>\n",
              "    .colab-df-container {\n",
              "      display:flex;\n",
              "      gap: 12px;\n",
              "    }\n",
              "\n",
              "    .colab-df-convert {\n",
              "      background-color: #E8F0FE;\n",
              "      border: none;\n",
              "      border-radius: 50%;\n",
              "      cursor: pointer;\n",
              "      display: none;\n",
              "      fill: #1967D2;\n",
              "      height: 32px;\n",
              "      padding: 0 0 0 0;\n",
              "      width: 32px;\n",
              "    }\n",
              "\n",
              "    .colab-df-convert:hover {\n",
              "      background-color: #E2EBFA;\n",
              "      box-shadow: 0px 1px 2px rgba(60, 64, 67, 0.3), 0px 1px 3px 1px rgba(60, 64, 67, 0.15);\n",
              "      fill: #174EA6;\n",
              "    }\n",
              "\n",
              "    .colab-df-buttons div {\n",
              "      margin-bottom: 4px;\n",
              "    }\n",
              "\n",
              "    [theme=dark] .colab-df-convert {\n",
              "      background-color: #3B4455;\n",
              "      fill: #D2E3FC;\n",
              "    }\n",
              "\n",
              "    [theme=dark] .colab-df-convert:hover {\n",
              "      background-color: #434B5C;\n",
              "      box-shadow: 0px 1px 3px 1px rgba(0, 0, 0, 0.15);\n",
              "      filter: drop-shadow(0px 1px 2px rgba(0, 0, 0, 0.3));\n",
              "      fill: #FFFFFF;\n",
              "    }\n",
              "  </style>\n",
              "\n",
              "    <script>\n",
              "      const buttonEl =\n",
              "        document.querySelector('#df-99b3d2b3-ddfe-478c-bc3f-2b0ae5b8c3b8 button.colab-df-convert');\n",
              "      buttonEl.style.display =\n",
              "        google.colab.kernel.accessAllowed ? 'block' : 'none';\n",
              "\n",
              "      async function convertToInteractive(key) {\n",
              "        const element = document.querySelector('#df-99b3d2b3-ddfe-478c-bc3f-2b0ae5b8c3b8');\n",
              "        const dataTable =\n",
              "          await google.colab.kernel.invokeFunction('convertToInteractive',\n",
              "                                                    [key], {});\n",
              "        if (!dataTable) return;\n",
              "\n",
              "        const docLinkHtml = 'Like what you see? Visit the ' +\n",
              "          '<a target=\"_blank\" href=https://colab.research.google.com/notebooks/data_table.ipynb>data table notebook</a>'\n",
              "          + ' to learn more about interactive tables.';\n",
              "        element.innerHTML = '';\n",
              "        dataTable['output_type'] = 'display_data';\n",
              "        await google.colab.output.renderOutput(dataTable, element);\n",
              "        const docLink = document.createElement('div');\n",
              "        docLink.innerHTML = docLinkHtml;\n",
              "        element.appendChild(docLink);\n",
              "      }\n",
              "    </script>\n",
              "  </div>\n",
              "\n",
              "\n",
              "<div id=\"df-09cc64b5-636d-4480-960f-8a24bdba176d\">\n",
              "  <button class=\"colab-df-quickchart\" onclick=\"quickchart('df-09cc64b5-636d-4480-960f-8a24bdba176d')\"\n",
              "            title=\"Suggest charts\"\n",
              "            style=\"display:none;\">\n",
              "\n",
              "<svg xmlns=\"http://www.w3.org/2000/svg\" height=\"24px\"viewBox=\"0 0 24 24\"\n",
              "     width=\"24px\">\n",
              "    <g>\n",
              "        <path d=\"M19 3H5c-1.1 0-2 .9-2 2v14c0 1.1.9 2 2 2h14c1.1 0 2-.9 2-2V5c0-1.1-.9-2-2-2zM9 17H7v-7h2v7zm4 0h-2V7h2v10zm4 0h-2v-4h2v4z\"/>\n",
              "    </g>\n",
              "</svg>\n",
              "  </button>\n",
              "\n",
              "<style>\n",
              "  .colab-df-quickchart {\n",
              "      --bg-color: #E8F0FE;\n",
              "      --fill-color: #1967D2;\n",
              "      --hover-bg-color: #E2EBFA;\n",
              "      --hover-fill-color: #174EA6;\n",
              "      --disabled-fill-color: #AAA;\n",
              "      --disabled-bg-color: #DDD;\n",
              "  }\n",
              "\n",
              "  [theme=dark] .colab-df-quickchart {\n",
              "      --bg-color: #3B4455;\n",
              "      --fill-color: #D2E3FC;\n",
              "      --hover-bg-color: #434B5C;\n",
              "      --hover-fill-color: #FFFFFF;\n",
              "      --disabled-bg-color: #3B4455;\n",
              "      --disabled-fill-color: #666;\n",
              "  }\n",
              "\n",
              "  .colab-df-quickchart {\n",
              "    background-color: var(--bg-color);\n",
              "    border: none;\n",
              "    border-radius: 50%;\n",
              "    cursor: pointer;\n",
              "    display: none;\n",
              "    fill: var(--fill-color);\n",
              "    height: 32px;\n",
              "    padding: 0;\n",
              "    width: 32px;\n",
              "  }\n",
              "\n",
              "  .colab-df-quickchart:hover {\n",
              "    background-color: var(--hover-bg-color);\n",
              "    box-shadow: 0 1px 2px rgba(60, 64, 67, 0.3), 0 1px 3px 1px rgba(60, 64, 67, 0.15);\n",
              "    fill: var(--button-hover-fill-color);\n",
              "  }\n",
              "\n",
              "  .colab-df-quickchart-complete:disabled,\n",
              "  .colab-df-quickchart-complete:disabled:hover {\n",
              "    background-color: var(--disabled-bg-color);\n",
              "    fill: var(--disabled-fill-color);\n",
              "    box-shadow: none;\n",
              "  }\n",
              "\n",
              "  .colab-df-spinner {\n",
              "    border: 2px solid var(--fill-color);\n",
              "    border-color: transparent;\n",
              "    border-bottom-color: var(--fill-color);\n",
              "    animation:\n",
              "      spin 1s steps(1) infinite;\n",
              "  }\n",
              "\n",
              "  @keyframes spin {\n",
              "    0% {\n",
              "      border-color: transparent;\n",
              "      border-bottom-color: var(--fill-color);\n",
              "      border-left-color: var(--fill-color);\n",
              "    }\n",
              "    20% {\n",
              "      border-color: transparent;\n",
              "      border-left-color: var(--fill-color);\n",
              "      border-top-color: var(--fill-color);\n",
              "    }\n",
              "    30% {\n",
              "      border-color: transparent;\n",
              "      border-left-color: var(--fill-color);\n",
              "      border-top-color: var(--fill-color);\n",
              "      border-right-color: var(--fill-color);\n",
              "    }\n",
              "    40% {\n",
              "      border-color: transparent;\n",
              "      border-right-color: var(--fill-color);\n",
              "      border-top-color: var(--fill-color);\n",
              "    }\n",
              "    60% {\n",
              "      border-color: transparent;\n",
              "      border-right-color: var(--fill-color);\n",
              "    }\n",
              "    80% {\n",
              "      border-color: transparent;\n",
              "      border-right-color: var(--fill-color);\n",
              "      border-bottom-color: var(--fill-color);\n",
              "    }\n",
              "    90% {\n",
              "      border-color: transparent;\n",
              "      border-bottom-color: var(--fill-color);\n",
              "    }\n",
              "  }\n",
              "</style>\n",
              "\n",
              "  <script>\n",
              "    async function quickchart(key) {\n",
              "      const quickchartButtonEl =\n",
              "        document.querySelector('#' + key + ' button');\n",
              "      quickchartButtonEl.disabled = true;  // To prevent multiple clicks.\n",
              "      quickchartButtonEl.classList.add('colab-df-spinner');\n",
              "      try {\n",
              "        const charts = await google.colab.kernel.invokeFunction(\n",
              "            'suggestCharts', [key], {});\n",
              "      } catch (error) {\n",
              "        console.error('Error during call to suggestCharts:', error);\n",
              "      }\n",
              "      quickchartButtonEl.classList.remove('colab-df-spinner');\n",
              "      quickchartButtonEl.classList.add('colab-df-quickchart-complete');\n",
              "    }\n",
              "    (() => {\n",
              "      let quickchartButtonEl =\n",
              "        document.querySelector('#df-09cc64b5-636d-4480-960f-8a24bdba176d button');\n",
              "      quickchartButtonEl.style.display =\n",
              "        google.colab.kernel.accessAllowed ? 'block' : 'none';\n",
              "    })();\n",
              "  </script>\n",
              "</div>\n",
              "\n",
              "    </div>\n",
              "  </div>\n"
            ],
            "application/vnd.google.colaboratory.intrinsic+json": {
              "type": "dataframe",
              "summary": "{\n  \"name\": \"youtube_df[[\\\"video_id\\\", \\\"time_to_trend\\\", \\\"days_to_trend\\\", \\\"hours_to_trend\\\"]]\",\n  \"rows\": 5,\n  \"fields\": [\n    {\n      \"column\": \"video_id\",\n      \"properties\": {\n        \"dtype\": \"string\",\n        \"num_unique_values\": 5,\n        \"samples\": [\n          \"8Y_NXBHm92w\",\n          \"p6RatnMhDj8\",\n          \"uet14uf9NsE\"\n        ],\n        \"semantic_type\": \"\",\n        \"description\": \"\"\n      }\n    },\n    {\n      \"column\": \"time_to_trend\",\n      \"properties\": {\n        \"dtype\": \"timedelta64[ns]\",\n        \"num_unique_values\": 0,\n        \"samples\": [],\n        \"semantic_type\": \"\",\n        \"description\": \"\"\n      }\n    },\n    {\n      \"column\": \"days_to_trend\",\n      \"properties\": {\n        \"dtype\": \"number\",\n        \"std\": null,\n        \"min\": null,\n        \"max\": null,\n        \"num_unique_values\": 0,\n        \"samples\": [],\n        \"semantic_type\": \"\",\n        \"description\": \"\"\n      }\n    },\n    {\n      \"column\": \"hours_to_trend\",\n      \"properties\": {\n        \"dtype\": \"number\",\n        \"std\": null,\n        \"min\": null,\n        \"max\": null,\n        \"num_unique_values\": 0,\n        \"samples\": [],\n        \"semantic_type\": \"\",\n        \"description\": \"\"\n      }\n    }\n  ]\n}"
            }
          },
          "metadata": {},
          "execution_count": 64
        }
      ],
      "source": [
        "# Calculate total time difference in days, including partial days\n",
        "youtube_df[\"days_to_trend\"] = youtube_df[\"time_to_trend\"].dt.total_seconds() / 86400  # Convert seconds to days\n",
        "\n",
        "# Calculate total time difference in hours\n",
        "youtube_df[\"hours_to_trend\"] = youtube_df[\"time_to_trend\"].dt.total_seconds() / 3600  # Convert seconds to hours\n",
        "\n",
        "# Display results\n",
        "youtube_df[[\"video_id\", \"time_to_trend\", \"days_to_trend\", \"hours_to_trend\"]].head()"
      ]
    },
    {
      "cell_type": "markdown",
      "id": "df689400-9537-443b-997f-1824bf5bee0e",
      "metadata": {
        "id": "df689400-9537-443b-997f-1824bf5bee0e"
      },
      "source": [
        "**Question 8: What is the average time-to-trend in days and hours?**"
      ]
    },
    {
      "cell_type": "markdown",
      "id": "5e8bd5b9-e08e-4fa9-a8d8-e11cbf4ed630",
      "metadata": {
        "id": "5e8bd5b9-e08e-4fa9-a8d8-e11cbf4ed630"
      },
      "source": [
        "The average time-to-trend is calculated by finding the mean of `time_to_trend` (in days) and `total_time_to_trend_hours` (in hours)."
      ]
    },
    {
      "cell_type": "markdown",
      "id": "8dd421c5-2ce7-4cf7-8064-770a3aac44d6",
      "metadata": {
        "id": "8dd421c5-2ce7-4cf7-8064-770a3aac44d6"
      },
      "source": [
        "---\n",
        "\n",
        "Now that we’ve calculated days and hours to trend, we can move beyond raw numbers and use visualizations to uncover trends and patterns in the data.\n",
        "\n",
        "📌 Why Use Visualizations?\n",
        "- Tables and raw numbers only tell part of the story—graphs help reveal patterns at a glance.\n",
        "- By plotting the distribution and trends of days_to_trend, we can answer key questions about how videos gain popularity.\n",
        "\n",
        "**Next Steps: Visualizing Time-to-Trend and Trending Patterns**\n",
        "\n",
        "We’ll now create basic visualizations to explore:  \n",
        "✅ When videos tend to trend (time of day, day of week, seasonality)  \n",
        "✅ The distribution of time-to-trend and whether there are outliers  \n",
        "✅ If there are patterns in how long it takes for videos to trend\n",
        "Basic Visualizations\n",
        "\n",
        "Now, let’s try to answer the following questions using visualizations:\n",
        "\n",
        "1️⃣ Which days see the most trending videos?  \n",
        "Hint: Try extracting the day of the week from trending_date and plot a bar chart."
      ]
    },
    {
      "cell_type": "code",
      "execution_count": 109,
      "id": "ff0655a5-4ecc-478f-8fa5-374065da95c2",
      "metadata": {
        "id": "ff0655a5-4ecc-478f-8fa5-374065da95c2",
        "outputId": "44fbded1-845b-4ed8-9b08-cd2e638667c2",
        "colab": {
          "base_uri": "https://localhost:8080/",
          "height": 780
        }
      },
      "outputs": [
        {
          "output_type": "error",
          "ename": "IndexError",
          "evalue": "index 0 is out of bounds for axis 0 with size 0",
          "traceback": [
            "\u001b[0;31m---------------------------------------------------------------------------\u001b[0m",
            "\u001b[0;31mIndexError\u001b[0m                                Traceback (most recent call last)",
            "\u001b[0;32m<ipython-input-109-ef1ab5c5e996>\u001b[0m in \u001b[0;36m<cell line: 0>\u001b[0;34m()\u001b[0m\n\u001b[0;32m----> 1\u001b[0;31m \u001b[0myoutube_df\u001b[0m\u001b[0;34m[\u001b[0m\u001b[0;34m'day_of_week'\u001b[0m\u001b[0;34m]\u001b[0m\u001b[0;34m.\u001b[0m\u001b[0mvalue_counts\u001b[0m\u001b[0;34m(\u001b[0m\u001b[0;34m)\u001b[0m\u001b[0;34m.\u001b[0m\u001b[0mplot\u001b[0m\u001b[0;34m(\u001b[0m\u001b[0mkind\u001b[0m\u001b[0;34m=\u001b[0m\u001b[0;34m'bar'\u001b[0m\u001b[0;34m)\u001b[0m\u001b[0;34m\u001b[0m\u001b[0;34m\u001b[0m\u001b[0m\n\u001b[0m\u001b[1;32m      2\u001b[0m \u001b[0mplt\u001b[0m\u001b[0;34m.\u001b[0m\u001b[0mtitle\u001b[0m\u001b[0;34m(\u001b[0m\u001b[0;34m'Days with Most Trending Videos'\u001b[0m\u001b[0;34m)\u001b[0m\u001b[0;34m\u001b[0m\u001b[0;34m\u001b[0m\u001b[0m\n\u001b[1;32m      3\u001b[0m \u001b[0mplt\u001b[0m\u001b[0;34m.\u001b[0m\u001b[0mshow\u001b[0m\u001b[0;34m(\u001b[0m\u001b[0;34m)\u001b[0m\u001b[0;34m\u001b[0m\u001b[0;34m\u001b[0m\u001b[0m\n\u001b[1;32m      4\u001b[0m \u001b[0;34m\u001b[0m\u001b[0m\n",
            "\u001b[0;32m/usr/local/lib/python3.11/dist-packages/pandas/plotting/_core.py\u001b[0m in \u001b[0;36m__call__\u001b[0;34m(self, *args, **kwargs)\u001b[0m\n\u001b[1;32m   1028\u001b[0m                     \u001b[0mdata\u001b[0m\u001b[0;34m.\u001b[0m\u001b[0mcolumns\u001b[0m \u001b[0;34m=\u001b[0m \u001b[0mlabel_name\u001b[0m\u001b[0;34m\u001b[0m\u001b[0;34m\u001b[0m\u001b[0m\n\u001b[1;32m   1029\u001b[0m \u001b[0;34m\u001b[0m\u001b[0m\n\u001b[0;32m-> 1030\u001b[0;31m         \u001b[0;32mreturn\u001b[0m \u001b[0mplot_backend\u001b[0m\u001b[0;34m.\u001b[0m\u001b[0mplot\u001b[0m\u001b[0;34m(\u001b[0m\u001b[0mdata\u001b[0m\u001b[0;34m,\u001b[0m \u001b[0mkind\u001b[0m\u001b[0;34m=\u001b[0m\u001b[0mkind\u001b[0m\u001b[0;34m,\u001b[0m \u001b[0;34m**\u001b[0m\u001b[0mkwargs\u001b[0m\u001b[0;34m)\u001b[0m\u001b[0;34m\u001b[0m\u001b[0;34m\u001b[0m\u001b[0m\n\u001b[0m\u001b[1;32m   1031\u001b[0m \u001b[0;34m\u001b[0m\u001b[0m\n\u001b[1;32m   1032\u001b[0m     \u001b[0m__call__\u001b[0m\u001b[0;34m.\u001b[0m\u001b[0m__doc__\u001b[0m \u001b[0;34m=\u001b[0m \u001b[0m__doc__\u001b[0m\u001b[0;34m\u001b[0m\u001b[0;34m\u001b[0m\u001b[0m\n",
            "\u001b[0;32m/usr/local/lib/python3.11/dist-packages/pandas/plotting/_matplotlib/__init__.py\u001b[0m in \u001b[0;36mplot\u001b[0;34m(data, kind, **kwargs)\u001b[0m\n\u001b[1;32m     69\u001b[0m             \u001b[0mkwargs\u001b[0m\u001b[0;34m[\u001b[0m\u001b[0;34m\"ax\"\u001b[0m\u001b[0;34m]\u001b[0m \u001b[0;34m=\u001b[0m \u001b[0mgetattr\u001b[0m\u001b[0;34m(\u001b[0m\u001b[0max\u001b[0m\u001b[0;34m,\u001b[0m \u001b[0;34m\"left_ax\"\u001b[0m\u001b[0;34m,\u001b[0m \u001b[0max\u001b[0m\u001b[0;34m)\u001b[0m\u001b[0;34m\u001b[0m\u001b[0;34m\u001b[0m\u001b[0m\n\u001b[1;32m     70\u001b[0m     \u001b[0mplot_obj\u001b[0m \u001b[0;34m=\u001b[0m \u001b[0mPLOT_CLASSES\u001b[0m\u001b[0;34m[\u001b[0m\u001b[0mkind\u001b[0m\u001b[0;34m]\u001b[0m\u001b[0;34m(\u001b[0m\u001b[0mdata\u001b[0m\u001b[0;34m,\u001b[0m \u001b[0;34m**\u001b[0m\u001b[0mkwargs\u001b[0m\u001b[0;34m)\u001b[0m\u001b[0;34m\u001b[0m\u001b[0;34m\u001b[0m\u001b[0m\n\u001b[0;32m---> 71\u001b[0;31m     \u001b[0mplot_obj\u001b[0m\u001b[0;34m.\u001b[0m\u001b[0mgenerate\u001b[0m\u001b[0;34m(\u001b[0m\u001b[0;34m)\u001b[0m\u001b[0;34m\u001b[0m\u001b[0;34m\u001b[0m\u001b[0m\n\u001b[0m\u001b[1;32m     72\u001b[0m     \u001b[0mplot_obj\u001b[0m\u001b[0;34m.\u001b[0m\u001b[0mdraw\u001b[0m\u001b[0;34m(\u001b[0m\u001b[0;34m)\u001b[0m\u001b[0;34m\u001b[0m\u001b[0;34m\u001b[0m\u001b[0m\n\u001b[1;32m     73\u001b[0m     \u001b[0;32mreturn\u001b[0m \u001b[0mplot_obj\u001b[0m\u001b[0;34m.\u001b[0m\u001b[0mresult\u001b[0m\u001b[0;34m\u001b[0m\u001b[0;34m\u001b[0m\u001b[0m\n",
            "\u001b[0;32m/usr/local/lib/python3.11/dist-packages/pandas/plotting/_matplotlib/core.py\u001b[0m in \u001b[0;36mgenerate\u001b[0;34m(self)\u001b[0m\n\u001b[1;32m    506\u001b[0m         \u001b[0;32mfor\u001b[0m \u001b[0max\u001b[0m \u001b[0;32min\u001b[0m \u001b[0mself\u001b[0m\u001b[0;34m.\u001b[0m\u001b[0maxes\u001b[0m\u001b[0;34m:\u001b[0m\u001b[0;34m\u001b[0m\u001b[0;34m\u001b[0m\u001b[0m\n\u001b[1;32m    507\u001b[0m             \u001b[0mself\u001b[0m\u001b[0;34m.\u001b[0m\u001b[0m_post_plot_logic_common\u001b[0m\u001b[0;34m(\u001b[0m\u001b[0max\u001b[0m\u001b[0;34m)\u001b[0m\u001b[0;34m\u001b[0m\u001b[0;34m\u001b[0m\u001b[0m\n\u001b[0;32m--> 508\u001b[0;31m             \u001b[0mself\u001b[0m\u001b[0;34m.\u001b[0m\u001b[0m_post_plot_logic\u001b[0m\u001b[0;34m(\u001b[0m\u001b[0max\u001b[0m\u001b[0;34m,\u001b[0m \u001b[0mself\u001b[0m\u001b[0;34m.\u001b[0m\u001b[0mdata\u001b[0m\u001b[0;34m)\u001b[0m\u001b[0;34m\u001b[0m\u001b[0;34m\u001b[0m\u001b[0m\n\u001b[0m\u001b[1;32m    509\u001b[0m \u001b[0;34m\u001b[0m\u001b[0m\n\u001b[1;32m    510\u001b[0m     \u001b[0;34m@\u001b[0m\u001b[0mfinal\u001b[0m\u001b[0;34m\u001b[0m\u001b[0;34m\u001b[0m\u001b[0m\n",
            "\u001b[0;32m/usr/local/lib/python3.11/dist-packages/pandas/plotting/_matplotlib/core.py\u001b[0m in \u001b[0;36m_post_plot_logic\u001b[0;34m(self, ax, data)\u001b[0m\n\u001b[1;32m   1964\u001b[0m             \u001b[0mstr_index\u001b[0m \u001b[0;34m=\u001b[0m \u001b[0;34m[\u001b[0m\u001b[0mpprint_thing\u001b[0m\u001b[0;34m(\u001b[0m\u001b[0mkey\u001b[0m\u001b[0;34m)\u001b[0m \u001b[0;32mfor\u001b[0m \u001b[0mkey\u001b[0m \u001b[0;32min\u001b[0m \u001b[0mrange\u001b[0m\u001b[0;34m(\u001b[0m\u001b[0mdata\u001b[0m\u001b[0;34m.\u001b[0m\u001b[0mshape\u001b[0m\u001b[0;34m[\u001b[0m\u001b[0;36m0\u001b[0m\u001b[0;34m]\u001b[0m\u001b[0;34m)\u001b[0m\u001b[0;34m]\u001b[0m\u001b[0;34m\u001b[0m\u001b[0;34m\u001b[0m\u001b[0m\n\u001b[1;32m   1965\u001b[0m \u001b[0;34m\u001b[0m\u001b[0m\n\u001b[0;32m-> 1966\u001b[0;31m         \u001b[0ms_edge\u001b[0m \u001b[0;34m=\u001b[0m \u001b[0mself\u001b[0m\u001b[0;34m.\u001b[0m\u001b[0max_pos\u001b[0m\u001b[0;34m[\u001b[0m\u001b[0;36m0\u001b[0m\u001b[0;34m]\u001b[0m \u001b[0;34m-\u001b[0m \u001b[0;36m0.25\u001b[0m \u001b[0;34m+\u001b[0m \u001b[0mself\u001b[0m\u001b[0;34m.\u001b[0m\u001b[0mlim_offset\u001b[0m\u001b[0;34m\u001b[0m\u001b[0;34m\u001b[0m\u001b[0m\n\u001b[0m\u001b[1;32m   1967\u001b[0m         \u001b[0me_edge\u001b[0m \u001b[0;34m=\u001b[0m \u001b[0mself\u001b[0m\u001b[0;34m.\u001b[0m\u001b[0max_pos\u001b[0m\u001b[0;34m[\u001b[0m\u001b[0;34m-\u001b[0m\u001b[0;36m1\u001b[0m\u001b[0;34m]\u001b[0m \u001b[0;34m+\u001b[0m \u001b[0;36m0.25\u001b[0m \u001b[0;34m+\u001b[0m \u001b[0mself\u001b[0m\u001b[0;34m.\u001b[0m\u001b[0mbar_width\u001b[0m \u001b[0;34m+\u001b[0m \u001b[0mself\u001b[0m\u001b[0;34m.\u001b[0m\u001b[0mlim_offset\u001b[0m\u001b[0;34m\u001b[0m\u001b[0;34m\u001b[0m\u001b[0m\n\u001b[1;32m   1968\u001b[0m \u001b[0;34m\u001b[0m\u001b[0m\n",
            "\u001b[0;31mIndexError\u001b[0m: index 0 is out of bounds for axis 0 with size 0"
          ]
        },
        {
          "output_type": "display_data",
          "data": {
            "text/plain": [
              "<Figure size 640x480 with 1 Axes>"
            ],
            "image/png": "[encoded data removed]"
          },
          "metadata": {}
        }
      ],
      "source": [
        "youtube_df['day_of_week'].value_counts().plot(kind='bar')\n",
        "plt.title('Days with Most Trending Videos')\n",
        "plt.show()\n",
        "\n"
      ]
    },
    {
      "cell_type": "markdown",
      "id": "5d9225e6-1650-4537-881a-95a8c709e013",
      "metadata": {
        "id": "5d9225e6-1650-4537-881a-95a8c709e013"
      },
      "source": [
        "2️⃣ Which time of day sees the most trending videos?  \n",
        "Hint: Extract hour of the day and create a histogram to show when videos trend most often."
      ]
    },
    {
      "cell_type": "code",
      "execution_count": 77,
      "id": "aa7f7a46-6634-468c-a7f4-b143f41698bc",
      "metadata": {
        "id": "aa7f7a46-6634-468c-a7f4-b143f41698bc",
        "outputId": "2e46dfd8-8024-4420-b4e6-a6d574186229",
        "colab": {
          "base_uri": "https://localhost:8080/",
          "height": 564
        }
      },
      "outputs": [
        {
          "output_type": "display_data",
          "data": {
            "text/plain": [
              "<Figure size 1000x600 with 1 Axes>"
            ],
            "image/png": "[encoded data removed]"
          },
          "metadata": {}
        }
      ],
      "source": [
        "plt.figure(figsize=(10, 6))\n",
        "youtube_df['trending_hour'].plot(kind='hist', bins=24, color='orange', edgecolor='black')\n",
        "plt.title('Distribution of Trending Videos by Hour of the Day')\n",
        "plt.xlabel('Hour of the Day (0-23)')\n",
        "plt.ylabel('Frequency')\n",
        "plt.xticks(range(0, 24))\n",
        "plt.show()"
      ]
    },
    {
      "cell_type": "markdown",
      "id": "d006ee86-e0e1-4258-9df9-7ad4875d099e",
      "metadata": {
        "id": "d006ee86-e0e1-4258-9df9-7ad4875d099e"
      },
      "source": [
        "3️⃣ Do more videos typically trend over the summer months?  \n",
        "Hint: Analyze seasonality by plotting trends across months."
      ]
    },
    {
      "cell_type": "code",
      "execution_count": 113,
      "id": "5971f4c2-d737-4f27-9d2e-7995ade37e57",
      "metadata": {
        "id": "5971f4c2-d737-4f27-9d2e-7995ade37e57",
        "outputId": "d8f1f2df-2a61-47a6-e2d4-6e2f58e6d748",
        "colab": {
          "base_uri": "https://localhost:8080/",
          "height": 889
        }
      },
      "outputs": [
        {
          "output_type": "error",
          "ename": "IndexError",
          "evalue": "index 0 is out of bounds for axis 0 with size 0",
          "traceback": [
            "\u001b[0;31m---------------------------------------------------------------------------\u001b[0m",
            "\u001b[0;31mIndexError\u001b[0m                                Traceback (most recent call last)",
            "\u001b[0;32m<ipython-input-113-27f7e1c22337>\u001b[0m in \u001b[0;36m<cell line: 0>\u001b[0;34m()\u001b[0m\n\u001b[1;32m      1\u001b[0m \u001b[0mplt\u001b[0m\u001b[0;34m.\u001b[0m\u001b[0mfigure\u001b[0m\u001b[0;34m(\u001b[0m\u001b[0mfigsize\u001b[0m\u001b[0;34m=\u001b[0m\u001b[0;34m(\u001b[0m\u001b[0;36m10\u001b[0m\u001b[0;34m,\u001b[0m \u001b[0;36m6\u001b[0m\u001b[0;34m)\u001b[0m\u001b[0;34m)\u001b[0m\u001b[0;34m\u001b[0m\u001b[0;34m\u001b[0m\u001b[0m\n\u001b[0;32m----> 2\u001b[0;31m \u001b[0myoutube_df\u001b[0m\u001b[0;34m[\u001b[0m\u001b[0;34m'day_of_week'\u001b[0m\u001b[0;34m]\u001b[0m\u001b[0;34m.\u001b[0m\u001b[0mvalue_counts\u001b[0m\u001b[0;34m(\u001b[0m\u001b[0;34m)\u001b[0m\u001b[0;34m.\u001b[0m\u001b[0mplot\u001b[0m\u001b[0;34m(\u001b[0m\u001b[0mkind\u001b[0m\u001b[0;34m=\u001b[0m\u001b[0;34m'bar'\u001b[0m\u001b[0;34m,\u001b[0m \u001b[0mcolor\u001b[0m\u001b[0;34m=\u001b[0m\u001b[0;34m'lightblue'\u001b[0m\u001b[0;34m,\u001b[0m \u001b[0medgecolor\u001b[0m\u001b[0;34m=\u001b[0m\u001b[0;34m'black'\u001b[0m\u001b[0;34m)\u001b[0m\u001b[0;34m\u001b[0m\u001b[0;34m\u001b[0m\u001b[0m\n\u001b[0m\u001b[1;32m      3\u001b[0m \u001b[0mplt\u001b[0m\u001b[0;34m.\u001b[0m\u001b[0mtitle\u001b[0m\u001b[0;34m(\u001b[0m\u001b[0;34m'Distribution of Trending Videos by Day of the Week'\u001b[0m\u001b[0;34m)\u001b[0m\u001b[0;34m\u001b[0m\u001b[0;34m\u001b[0m\u001b[0m\n\u001b[1;32m      4\u001b[0m \u001b[0mplt\u001b[0m\u001b[0;34m.\u001b[0m\u001b[0mxlabel\u001b[0m\u001b[0;34m(\u001b[0m\u001b[0;34m'Day of the Week'\u001b[0m\u001b[0;34m)\u001b[0m\u001b[0;34m\u001b[0m\u001b[0;34m\u001b[0m\u001b[0m\n\u001b[1;32m      5\u001b[0m \u001b[0mplt\u001b[0m\u001b[0;34m.\u001b[0m\u001b[0mylabel\u001b[0m\u001b[0;34m(\u001b[0m\u001b[0;34m'Number of Trending Videos'\u001b[0m\u001b[0;34m)\u001b[0m\u001b[0;34m\u001b[0m\u001b[0;34m\u001b[0m\u001b[0m\n",
            "\u001b[0;32m/usr/local/lib/python3.11/dist-packages/pandas/plotting/_core.py\u001b[0m in \u001b[0;36m__call__\u001b[0;34m(self, *args, **kwargs)\u001b[0m\n\u001b[1;32m   1028\u001b[0m                     \u001b[0mdata\u001b[0m\u001b[0;34m.\u001b[0m\u001b[0mcolumns\u001b[0m \u001b[0;34m=\u001b[0m \u001b[0mlabel_name\u001b[0m\u001b[0;34m\u001b[0m\u001b[0;34m\u001b[0m\u001b[0m\n\u001b[1;32m   1029\u001b[0m \u001b[0;34m\u001b[0m\u001b[0m\n\u001b[0;32m-> 1030\u001b[0;31m         \u001b[0;32mreturn\u001b[0m \u001b[0mplot_backend\u001b[0m\u001b[0;34m.\u001b[0m\u001b[0mplot\u001b[0m\u001b[0;34m(\u001b[0m\u001b[0mdata\u001b[0m\u001b[0;34m,\u001b[0m \u001b[0mkind\u001b[0m\u001b[0;34m=\u001b[0m\u001b[0mkind\u001b[0m\u001b[0;34m,\u001b[0m \u001b[0;34m**\u001b[0m\u001b[0mkwargs\u001b[0m\u001b[0;34m)\u001b[0m\u001b[0;34m\u001b[0m\u001b[0;34m\u001b[0m\u001b[0m\n\u001b[0m\u001b[1;32m   1031\u001b[0m \u001b[0;34m\u001b[0m\u001b[0m\n\u001b[1;32m   1032\u001b[0m     \u001b[0m__call__\u001b[0m\u001b[0;34m.\u001b[0m\u001b[0m__doc__\u001b[0m \u001b[0;34m=\u001b[0m \u001b[0m__doc__\u001b[0m\u001b[0;34m\u001b[0m\u001b[0;34m\u001b[0m\u001b[0m\n",
            "\u001b[0;32m/usr/local/lib/python3.11/dist-packages/pandas/plotting/_matplotlib/__init__.py\u001b[0m in \u001b[0;36mplot\u001b[0;34m(data, kind, **kwargs)\u001b[0m\n\u001b[1;32m     69\u001b[0m             \u001b[0mkwargs\u001b[0m\u001b[0;34m[\u001b[0m\u001b[0;34m\"ax\"\u001b[0m\u001b[0;34m]\u001b[0m \u001b[0;34m=\u001b[0m \u001b[0mgetattr\u001b[0m\u001b[0;34m(\u001b[0m\u001b[0max\u001b[0m\u001b[0;34m,\u001b[0m \u001b[0;34m\"left_ax\"\u001b[0m\u001b[0;34m,\u001b[0m \u001b[0max\u001b[0m\u001b[0;34m)\u001b[0m\u001b[0;34m\u001b[0m\u001b[0;34m\u001b[0m\u001b[0m\n\u001b[1;32m     70\u001b[0m     \u001b[0mplot_obj\u001b[0m \u001b[0;34m=\u001b[0m \u001b[0mPLOT_CLASSES\u001b[0m\u001b[0;34m[\u001b[0m\u001b[0mkind\u001b[0m\u001b[0;34m]\u001b[0m\u001b[0;34m(\u001b[0m\u001b[0mdata\u001b[0m\u001b[0;34m,\u001b[0m \u001b[0;34m**\u001b[0m\u001b[0mkwargs\u001b[0m\u001b[0;34m)\u001b[0m\u001b[0;34m\u001b[0m\u001b[0;34m\u001b[0m\u001b[0m\n\u001b[0;32m---> 71\u001b[0;31m     \u001b[0mplot_obj\u001b[0m\u001b[0;34m.\u001b[0m\u001b[0mgenerate\u001b[0m\u001b[0;34m(\u001b[0m\u001b[0;34m)\u001b[0m\u001b[0;34m\u001b[0m\u001b[0;34m\u001b[0m\u001b[0m\n\u001b[0m\u001b[1;32m     72\u001b[0m     \u001b[0mplot_obj\u001b[0m\u001b[0;34m.\u001b[0m\u001b[0mdraw\u001b[0m\u001b[0;34m(\u001b[0m\u001b[0;34m)\u001b[0m\u001b[0;34m\u001b[0m\u001b[0;34m\u001b[0m\u001b[0m\n\u001b[1;32m     73\u001b[0m     \u001b[0;32mreturn\u001b[0m \u001b[0mplot_obj\u001b[0m\u001b[0;34m.\u001b[0m\u001b[0mresult\u001b[0m\u001b[0;34m\u001b[0m\u001b[0;34m\u001b[0m\u001b[0m\n",
            "\u001b[0;32m/usr/local/lib/python3.11/dist-packages/pandas/plotting/_matplotlib/core.py\u001b[0m in \u001b[0;36mgenerate\u001b[0;34m(self)\u001b[0m\n\u001b[1;32m    506\u001b[0m         \u001b[0;32mfor\u001b[0m \u001b[0max\u001b[0m \u001b[0;32min\u001b[0m \u001b[0mself\u001b[0m\u001b[0;34m.\u001b[0m\u001b[0maxes\u001b[0m\u001b[0;34m:\u001b[0m\u001b[0;34m\u001b[0m\u001b[0;34m\u001b[0m\u001b[0m\n\u001b[1;32m    507\u001b[0m             \u001b[0mself\u001b[0m\u001b[0;34m.\u001b[0m\u001b[0m_post_plot_logic_common\u001b[0m\u001b[0;34m(\u001b[0m\u001b[0max\u001b[0m\u001b[0;34m)\u001b[0m\u001b[0;34m\u001b[0m\u001b[0;34m\u001b[0m\u001b[0m\n\u001b[0;32m--> 508\u001b[0;31m             \u001b[0mself\u001b[0m\u001b[0;34m.\u001b[0m\u001b[0m_post_plot_logic\u001b[0m\u001b[0;34m(\u001b[0m\u001b[0max\u001b[0m\u001b[0;34m,\u001b[0m \u001b[0mself\u001b[0m\u001b[0;34m.\u001b[0m\u001b[0mdata\u001b[0m\u001b[0;34m)\u001b[0m\u001b[0;34m\u001b[0m\u001b[0;34m\u001b[0m\u001b[0m\n\u001b[0m\u001b[1;32m    509\u001b[0m \u001b[0;34m\u001b[0m\u001b[0m\n\u001b[1;32m    510\u001b[0m     \u001b[0;34m@\u001b[0m\u001b[0mfinal\u001b[0m\u001b[0;34m\u001b[0m\u001b[0;34m\u001b[0m\u001b[0m\n",
            "\u001b[0;32m/usr/local/lib/python3.11/dist-packages/pandas/plotting/_matplotlib/core.py\u001b[0m in \u001b[0;36m_post_plot_logic\u001b[0;34m(self, ax, data)\u001b[0m\n\u001b[1;32m   1964\u001b[0m             \u001b[0mstr_index\u001b[0m \u001b[0;34m=\u001b[0m \u001b[0;34m[\u001b[0m\u001b[0mpprint_thing\u001b[0m\u001b[0;34m(\u001b[0m\u001b[0mkey\u001b[0m\u001b[0;34m)\u001b[0m \u001b[0;32mfor\u001b[0m \u001b[0mkey\u001b[0m \u001b[0;32min\u001b[0m \u001b[0mrange\u001b[0m\u001b[0;34m(\u001b[0m\u001b[0mdata\u001b[0m\u001b[0;34m.\u001b[0m\u001b[0mshape\u001b[0m\u001b[0;34m[\u001b[0m\u001b[0;36m0\u001b[0m\u001b[0;34m]\u001b[0m\u001b[0;34m)\u001b[0m\u001b[0;34m]\u001b[0m\u001b[0;34m\u001b[0m\u001b[0;34m\u001b[0m\u001b[0m\n\u001b[1;32m   1965\u001b[0m \u001b[0;34m\u001b[0m\u001b[0m\n\u001b[0;32m-> 1966\u001b[0;31m         \u001b[0ms_edge\u001b[0m \u001b[0;34m=\u001b[0m \u001b[0mself\u001b[0m\u001b[0;34m.\u001b[0m\u001b[0max_pos\u001b[0m\u001b[0;34m[\u001b[0m\u001b[0;36m0\u001b[0m\u001b[0;34m]\u001b[0m \u001b[0;34m-\u001b[0m \u001b[0;36m0.25\u001b[0m \u001b[0;34m+\u001b[0m \u001b[0mself\u001b[0m\u001b[0;34m.\u001b[0m\u001b[0mlim_offset\u001b[0m\u001b[0;34m\u001b[0m\u001b[0;34m\u001b[0m\u001b[0m\n\u001b[0m\u001b[1;32m   1967\u001b[0m         \u001b[0me_edge\u001b[0m \u001b[0;34m=\u001b[0m \u001b[0mself\u001b[0m\u001b[0;34m.\u001b[0m\u001b[0max_pos\u001b[0m\u001b[0;34m[\u001b[0m\u001b[0;34m-\u001b[0m\u001b[0;36m1\u001b[0m\u001b[0;34m]\u001b[0m \u001b[0;34m+\u001b[0m \u001b[0;36m0.25\u001b[0m \u001b[0;34m+\u001b[0m \u001b[0mself\u001b[0m\u001b[0;34m.\u001b[0m\u001b[0mbar_width\u001b[0m \u001b[0;34m+\u001b[0m \u001b[0mself\u001b[0m\u001b[0;34m.\u001b[0m\u001b[0mlim_offset\u001b[0m\u001b[0;34m\u001b[0m\u001b[0;34m\u001b[0m\u001b[0m\n\u001b[1;32m   1968\u001b[0m \u001b[0;34m\u001b[0m\u001b[0m\n",
            "\u001b[0;31mIndexError\u001b[0m: index 0 is out of bounds for axis 0 with size 0"
          ]
        },
        {
          "output_type": "display_data",
          "data": {
            "text/plain": [
              "<Figure size 1000x600 with 1 Axes>"
            ],
            "image/png": "[encoded data removed]"
          },
          "metadata": {}
        }
      ],
      "source": [
        "plt.figure(figsize=(10, 6))\n",
        "youtube_df['day_of_week'].value_counts().plot(kind='bar', color='lightblue', edgecolor='black')\n",
        "plt.title('Distribution of Trending Videos by Day of the Week')\n",
        "plt.xlabel('Day of the Week')\n",
        "plt.ylabel('Number of Trending Videos')\n",
        "plt.xticks(rotation=45)\n",
        "plt.show()"
      ]
    },
    {
      "cell_type": "markdown",
      "id": "7ab52f78-718b-4b14-a02d-ac9a175b3593",
      "metadata": {
        "id": "7ab52f78-718b-4b14-a02d-ac9a175b3593"
      },
      "source": [
        "4️⃣ Is there a significant number of outliers in trending videos?  \n",
        "Hint: A box plot of days_to_trend will help us identify extreme values."
      ]
    },
    {
      "cell_type": "code",
      "execution_count": 108,
      "id": "11a087ce-e622-4887-9f40-6bbd0411594c",
      "metadata": {
        "id": "11a087ce-e622-4887-9f40-6bbd0411594c",
        "outputId": "e2b4081b-2c3a-4b90-9563-1293ff08df92",
        "colab": {
          "base_uri": "https://localhost:8080/",
          "height": 564
        }
      },
      "outputs": [
        {
          "output_type": "display_data",
          "data": {
            "text/plain": [
              "<Figure size 1000x600 with 1 Axes>"
            ],
            "image/png": "[encoded data removed]"
          },
          "metadata": {}
        }
      ],
      "source": [
        "plt.figure(figsize=(10, 6))\n",
        "sns.boxplot(x=youtube_df['time_to_trend'], color='lightblue')\n",
        "plt.title('Box Plot of Time to Trend (Days)')\n",
        "plt.xlabel('Days to Trend')\n",
        "plt.show()"
      ]
    },
    {
      "cell_type": "markdown",
      "id": "d8a0e92e-e743-4778-bfd0-c37ea5cd3d52",
      "metadata": {
        "id": "d8a0e92e-e743-4778-bfd0-c37ea5cd3d52"
      },
      "source": [
        "5️⃣ How long does it typically take for a video to trend after being published?\n",
        "\n",
        "Hint: Create a histogram of days_to_trend to visualize the distribution."
      ]
    },
    {
      "cell_type": "code",
      "execution_count": 80,
      "id": "cff066c9-8210-4172-a5c0-6a0546569331",
      "metadata": {
        "id": "cff066c9-8210-4172-a5c0-6a0546569331",
        "outputId": "cca65672-3f74-4af5-99fe-b7034adcd04e",
        "colab": {
          "base_uri": "https://localhost:8080/",
          "height": 564
        }
      },
      "outputs": [
        {
          "output_type": "display_data",
          "data": {
            "text/plain": [
              "<Figure size 1000x600 with 1 Axes>"
            ],
            "image/png": "[encoded data removed]"
          },
          "metadata": {}
        }
      ],
      "source": [
        "plt.figure(figsize=(10, 6))\n",
        "youtube_df['time_to_trend'].plot(kind='hist', bins=30, color='purple', edgecolor='black')\n",
        "plt.title('Distribution of Time to Trend (Days)')\n",
        "plt.xlabel('Days to Trend')\n",
        "plt.ylabel('Frequency')\n",
        "plt.show()"
      ]
    },
    {
      "cell_type": "markdown",
      "id": "8eed52ad-9c65-4e14-9780-44ca25f890e5",
      "metadata": {
        "id": "8eed52ad-9c65-4e14-9780-44ca25f890e5"
      },
      "source": [
        "### Filtering Dataframes\n",
        "\n",
        "In real-world data analysis, filtering is an essential technique that allows us to focus on specific subsets of data that are most relevant to our investigation. Rather than analyzing the entire dataset at once—which can be overwhelming and filled with irrelevant information—we can narrow our focus to extract meaningful insights.\n",
        "\n",
        "📌 Why Filter a DataFrame?  \n",
        "- To analyze specific trends (e.g., identifying disinformation-related content).\n",
        "- To remove irrelevant data that may skew our analysis.\n",
        "- To explore targeted questions, such as which types of videos include certain keywords in their tags.\n",
        "\n",
        "Filtering on the **tags** Column\n",
        "\n",
        "In this case, we are particularly interested in the disinformation tag in trending YouTube videos. Since YouTube creators add tags to describe their videos, we can use this column to identify videos that explicitly mention \"disinformation.\"\n",
        "\n",
        "By filtering the dataset based on whether the tags contain the word \"disinformation,\" we can:  \n",
        "✅ Identify how many trending videos discuss disinformation.  \n",
        "✅ Determine which video categories or creators frequently use this term.  \n",
        "✅ Compare engagement metrics (views, likes, comments) between disinformation-related videos and other trending content.\n",
        "\n",
        "Now, let’s apply this filtering technique to extract all videos that include **\"disinformation\"**"
      ]
    },
    {
      "cell_type": "code",
      "execution_count": 81,
      "id": "8340554f-9360-40e6-b5d9-6f5cac8512a3",
      "metadata": {
        "id": "8340554f-9360-40e6-b5d9-6f5cac8512a3",
        "outputId": "5ac924b3-03c1-402a-aff2-45ccd37c6075",
        "colab": {
          "base_uri": "https://localhost:8080/",
          "height": 109
        }
      },
      "outputs": [
        {
          "output_type": "execute_result",
          "data": {
            "text/plain": [
              "Empty DataFrame\n",
              "Columns: [Unnamed: 0, video_id, title, publishedAt, channelId, channelTitle, trending_date, tags, view_count, likes, dislikes, comment_count, trending_year, trending_month, trending_day_of_week, trending_hour, time_to_trend, days_to_trend, hours_to_trend, day_of_week]\n",
              "Index: []"
            ],
            "text/html": [
              "\n",
              "  <div id=\"df-c8f98c44-5a9c-4572-8483-d95d86f9901e\" class=\"colab-df-container\">\n",
              "    <div>\n",
              "<style scoped>\n",
              "    .dataframe tbody tr th:only-of-type {\n",
              "        vertical-align: middle;\n",
              "    }\n",
              "\n",
              "    .dataframe tbody tr th {\n",
              "        vertical-align: top;\n",
              "    }\n",
              "\n",
              "    .dataframe thead th {\n",
              "        text-align: right;\n",
              "    }\n",
              "</style>\n",
              "<table border=\"1\" class=\"dataframe\">\n",
              "  <thead>\n",
              "    <tr style=\"text-align: right;\">\n",
              "      <th></th>\n",
              "      <th>Unnamed: 0</th>\n",
              "      <th>video_id</th>\n",
              "      <th>title</th>\n",
              "      <th>publishedAt</th>\n",
              "      <th>channelId</th>\n",
              "      <th>channelTitle</th>\n",
              "      <th>trending_date</th>\n",
              "      <th>tags</th>\n",
              "      <th>view_count</th>\n",
              "      <th>likes</th>\n",
              "      <th>dislikes</th>\n",
              "      <th>comment_count</th>\n",
              "      <th>trending_year</th>\n",
              "      <th>trending_month</th>\n",
              "      <th>trending_day_of_week</th>\n",
              "      <th>trending_hour</th>\n",
              "      <th>time_to_trend</th>\n",
              "      <th>days_to_trend</th>\n",
              "      <th>hours_to_trend</th>\n",
              "      <th>day_of_week</th>\n",
              "    </tr>\n",
              "  </thead>\n",
              "  <tbody>\n",
              "  </tbody>\n",
              "</table>\n",
              "</div>\n",
              "    <div class=\"colab-df-buttons\">\n",
              "\n",
              "  <div class=\"colab-df-container\">\n",
              "    <button class=\"colab-df-convert\" onclick=\"convertToInteractive('df-c8f98c44-5a9c-4572-8483-d95d86f9901e')\"\n",
              "            title=\"Convert this dataframe to an interactive table.\"\n",
              "            style=\"display:none;\">\n",
              "\n",
              "  <svg xmlns=\"http://www.w3.org/2000/svg\" height=\"24px\" viewBox=\"0 -960 960 960\">\n",
              "    <path d=\"M120-120v-720h720v720H120Zm60-500h600v-160H180v160Zm220 220h160v-160H400v160Zm0 220h160v-160H400v160ZM180-400h160v-160H180v160Zm440 0h160v-160H620v160ZM180-180h160v-160H180v160Zm440 0h160v-160H620v160Z\"/>\n",
              "  </svg>\n",
              "    </button>\n",
              "\n",
              "  <style>\n",
              "    .colab-df-container {\n",
              "      display:flex;\n",
              "      gap: 12px;\n",
              "    }\n",
              "\n",
              "    .colab-df-convert {\n",
              "      background-color: #E8F0FE;\n",
              "      border: none;\n",
              "      border-radius: 50%;\n",
              "      cursor: pointer;\n",
              "      display: none;\n",
              "      fill: #1967D2;\n",
              "      height: 32px;\n",
              "      padding: 0 0 0 0;\n",
              "      width: 32px;\n",
              "    }\n",
              "\n",
              "    .colab-df-convert:hover {\n",
              "      background-color: #E2EBFA;\n",
              "      box-shadow: 0px 1px 2px rgba(60, 64, 67, 0.3), 0px 1px 3px 1px rgba(60, 64, 67, 0.15);\n",
              "      fill: #174EA6;\n",
              "    }\n",
              "\n",
              "    .colab-df-buttons div {\n",
              "      margin-bottom: 4px;\n",
              "    }\n",
              "\n",
              "    [theme=dark] .colab-df-convert {\n",
              "      background-color: #3B4455;\n",
              "      fill: #D2E3FC;\n",
              "    }\n",
              "\n",
              "    [theme=dark] .colab-df-convert:hover {\n",
              "      background-color: #434B5C;\n",
              "      box-shadow: 0px 1px 3px 1px rgba(0, 0, 0, 0.15);\n",
              "      filter: drop-shadow(0px 1px 2px rgba(0, 0, 0, 0.3));\n",
              "      fill: #FFFFFF;\n",
              "    }\n",
              "  </style>\n",
              "\n",
              "    <script>\n",
              "      const buttonEl =\n",
              "        document.querySelector('#df-c8f98c44-5a9c-4572-8483-d95d86f9901e button.colab-df-convert');\n",
              "      buttonEl.style.display =\n",
              "        google.colab.kernel.accessAllowed ? 'block' : 'none';\n",
              "\n",
              "      async function convertToInteractive(key) {\n",
              "        const element = document.querySelector('#df-c8f98c44-5a9c-4572-8483-d95d86f9901e');\n",
              "        const dataTable =\n",
              "          await google.colab.kernel.invokeFunction('convertToInteractive',\n",
              "                                                    [key], {});\n",
              "        if (!dataTable) return;\n",
              "\n",
              "        const docLinkHtml = 'Like what you see? Visit the ' +\n",
              "          '<a target=\"_blank\" href=https://colab.research.google.com/notebooks/data_table.ipynb>data table notebook</a>'\n",
              "          + ' to learn more about interactive tables.';\n",
              "        element.innerHTML = '';\n",
              "        dataTable['output_type'] = 'display_data';\n",
              "        await google.colab.output.renderOutput(dataTable, element);\n",
              "        const docLink = document.createElement('div');\n",
              "        docLink.innerHTML = docLinkHtml;\n",
              "        element.appendChild(docLink);\n",
              "      }\n",
              "    </script>\n",
              "  </div>\n",
              "\n",
              "\n",
              "  <div id=\"id_cb5428d7-d969-4f9e-9cd6-e9f8287da62c\">\n",
              "    <style>\n",
              "      .colab-df-generate {\n",
              "        background-color: #E8F0FE;\n",
              "        border: none;\n",
              "        border-radius: 50%;\n",
              "        cursor: pointer;\n",
              "        display: none;\n",
              "        fill: #1967D2;\n",
              "        height: 32px;\n",
              "        padding: 0 0 0 0;\n",
              "        width: 32px;\n",
              "      }\n",
              "\n",
              "      .colab-df-generate:hover {\n",
              "        background-color: #E2EBFA;\n",
              "        box-shadow: 0px 1px 2px rgba(60, 64, 67, 0.3), 0px 1px 3px 1px rgba(60, 64, 67, 0.15);\n",
              "        fill: #174EA6;\n",
              "      }\n",
              "\n",
              "      [theme=dark] .colab-df-generate {\n",
              "        background-color: #3B4455;\n",
              "        fill: #D2E3FC;\n",
              "      }\n",
              "\n",
              "      [theme=dark] .colab-df-generate:hover {\n",
              "        background-color: #434B5C;\n",
              "        box-shadow: 0px 1px 3px 1px rgba(0, 0, 0, 0.15);\n",
              "        filter: drop-shadow(0px 1px 2px rgba(0, 0, 0, 0.3));\n",
              "        fill: #FFFFFF;\n",
              "      }\n",
              "    </style>\n",
              "    <button class=\"colab-df-generate\" onclick=\"generateWithVariable('disinfo')\"\n",
              "            title=\"Generate code using this dataframe.\"\n",
              "            style=\"display:none;\">\n",
              "\n",
              "  <svg xmlns=\"http://www.w3.org/2000/svg\" height=\"24px\"viewBox=\"0 0 24 24\"\n",
              "       width=\"24px\">\n",
              "    <path d=\"M7,19H8.4L18.45,9,17,7.55,7,17.6ZM5,21V16.75L18.45,3.32a2,2,0,0,1,2.83,0l1.4,1.43a1.91,1.91,0,0,1,.58,1.4,1.91,1.91,0,0,1-.58,1.4L9.25,21ZM18.45,9,17,7.55Zm-12,3A5.31,5.31,0,0,0,4.9,8.1,5.31,5.31,0,0,0,1,6.5,5.31,5.31,0,0,0,4.9,4.9,5.31,5.31,0,0,0,6.5,1,5.31,5.31,0,0,0,8.1,4.9,5.31,5.31,0,0,0,12,6.5,5.46,5.46,0,0,0,6.5,12Z\"/>\n",
              "  </svg>\n",
              "    </button>\n",
              "    <script>\n",
              "      (() => {\n",
              "      const buttonEl =\n",
              "        document.querySelector('#id_cb5428d7-d969-4f9e-9cd6-e9f8287da62c button.colab-df-generate');\n",
              "      buttonEl.style.display =\n",
              "        google.colab.kernel.accessAllowed ? 'block' : 'none';\n",
              "\n",
              "      buttonEl.onclick = () => {\n",
              "        google.colab.notebook.generateWithVariable('disinfo');\n",
              "      }\n",
              "      })();\n",
              "    </script>\n",
              "  </div>\n",
              "\n",
              "    </div>\n",
              "  </div>\n"
            ],
            "application/vnd.google.colaboratory.intrinsic+json": {
              "type": "dataframe",
              "variable_name": "disinfo",
              "repr_error": "Out of range float values are not JSON compliant: nan"
            }
          },
          "metadata": {},
          "execution_count": 81
        }
      ],
      "source": [
        "# The code below filters rows based on if the string \"disinformation\" is in the \"tag\" column\n",
        "disinfo = youtube_df[youtube_df['tags'].str.contains('disinformation', case=False)]\n",
        "disinfo"
      ]
    },
    {
      "cell_type": "markdown",
      "id": "af566fd1-dcba-4e07-b7fb-2d564c278f0c",
      "metadata": {
        "id": "af566fd1-dcba-4e07-b7fb-2d564c278f0c"
      },
      "source": [
        "*Mental Note: How many videos match this filer?  Do they have higher or lower engagement (views, likes, comments) compared to other videos?*"
      ]
    },
    {
      "cell_type": "code",
      "execution_count": 84,
      "id": "91e9ac07-d089-4f16-ab9e-d1b6215a3569",
      "metadata": {
        "id": "91e9ac07-d089-4f16-ab9e-d1b6215a3569",
        "outputId": "e6dc297d-06a1-47fb-b643-72df425b4bf2",
        "colab": {
          "base_uri": "https://localhost:8080/"
        }
      },
      "outputs": [
        {
          "output_type": "stream",
          "name": "stdout",
          "text": [
            "Empty DataFrame\n",
            "Columns: [Unnamed: 0, video_id, title, publishedAt, channelId, channelTitle, trending_date, tags, view_count, likes, dislikes, comment_count, trending_year, trending_month, trending_day_of_week, trending_hour, time_to_trend, days_to_trend, hours_to_trend, day_of_week]\n",
            "Index: []\n"
          ]
        }
      ],
      "source": [
        "# Modify the code above to filter rows based on any tag of interest\n",
        "# Save the dataframe as tag_1\n",
        "tag_of_interest = 'comment_count'\n",
        "tag_1 = youtube_df[youtube_df['tags'].str.contains(tag_of_interest, case=False, na=False)]\n",
        "print(tag_1.head())"
      ]
    },
    {
      "cell_type": "markdown",
      "id": "0ae32aa6-d081-4912-84ca-6991ed4d69d0",
      "metadata": {
        "id": "0ae32aa6-d081-4912-84ca-6991ed4d69d0"
      },
      "source": [
        "### Aggregating data\n",
        "Now that we’ve learned how to filter the dataset to focus on specific topics, the next step is to aggregate the data to uncover broader patterns.\n",
        "\n",
        "📌 Why Aggregate Data?  \n",
        "While filtering allows us to zoom in on specific videos, aggregation helps us summarize trends across multiple entries.\n",
        "\n",
        "**Aggregation allows us to answer questions like:**  \n",
        "    ✅ Which channels post the most videos on a given topic?  \n",
        "    ✅ Are certain content creators or networks consistently producing trending content with specific tags?  \n",
        "    ✅ How does the frequency of a topic vary across different creators?\n",
        "\n",
        "📌 Why Group by channelId?\n",
        "- By grouping the dataset by channelId, we can analyze how many unique videos each channel has posted with a given tag.\n",
        "- This helps identify which channels contribute the most content related to a specific topic, such as political content or misinformation.\n",
        "\n",
        "**Next Step: Aggregating Video Counts for Specific Tags**\n",
        "\n",
        "To demonstrate this, we’ll filter videos that contain the tag \"Trump\", and then identify which channels post the most videos with this tag.\n",
        "\n",
        "💡 Run the following code:"
      ]
    },
    {
      "cell_type": "code",
      "execution_count": 85,
      "id": "db018fa1-0943-4f0e-a9cf-36187dd525bc",
      "metadata": {
        "scrolled": true,
        "id": "db018fa1-0943-4f0e-a9cf-36187dd525bc",
        "outputId": "9400029b-5585-44a0-f6ad-eb807c012064",
        "colab": {
          "base_uri": "https://localhost:8080/",
          "height": 109
        }
      },
      "outputs": [
        {
          "output_type": "execute_result",
          "data": {
            "text/plain": [
              "Empty DataFrame\n",
              "Columns: [Unnamed: 0, video_id, title, publishedAt, channelId, channelTitle, trending_date, tags, view_count, likes, dislikes, comment_count, trending_year, trending_month, trending_day_of_week, trending_hour, time_to_trend, days_to_trend, hours_to_trend, day_of_week]\n",
              "Index: []"
            ],
            "text/html": [
              "\n",
              "  <div id=\"df-32088d09-bc36-454a-96f4-5f36bb15e707\" class=\"colab-df-container\">\n",
              "    <div>\n",
              "<style scoped>\n",
              "    .dataframe tbody tr th:only-of-type {\n",
              "        vertical-align: middle;\n",
              "    }\n",
              "\n",
              "    .dataframe tbody tr th {\n",
              "        vertical-align: top;\n",
              "    }\n",
              "\n",
              "    .dataframe thead th {\n",
              "        text-align: right;\n",
              "    }\n",
              "</style>\n",
              "<table border=\"1\" class=\"dataframe\">\n",
              "  <thead>\n",
              "    <tr style=\"text-align: right;\">\n",
              "      <th></th>\n",
              "      <th>Unnamed: 0</th>\n",
              "      <th>video_id</th>\n",
              "      <th>title</th>\n",
              "      <th>publishedAt</th>\n",
              "      <th>channelId</th>\n",
              "      <th>channelTitle</th>\n",
              "      <th>trending_date</th>\n",
              "      <th>tags</th>\n",
              "      <th>view_count</th>\n",
              "      <th>likes</th>\n",
              "      <th>dislikes</th>\n",
              "      <th>comment_count</th>\n",
              "      <th>trending_year</th>\n",
              "      <th>trending_month</th>\n",
              "      <th>trending_day_of_week</th>\n",
              "      <th>trending_hour</th>\n",
              "      <th>time_to_trend</th>\n",
              "      <th>days_to_trend</th>\n",
              "      <th>hours_to_trend</th>\n",
              "      <th>day_of_week</th>\n",
              "    </tr>\n",
              "  </thead>\n",
              "  <tbody>\n",
              "  </tbody>\n",
              "</table>\n",
              "</div>\n",
              "    <div class=\"colab-df-buttons\">\n",
              "\n",
              "  <div class=\"colab-df-container\">\n",
              "    <button class=\"colab-df-convert\" onclick=\"convertToInteractive('df-32088d09-bc36-454a-96f4-5f36bb15e707')\"\n",
              "            title=\"Convert this dataframe to an interactive table.\"\n",
              "            style=\"display:none;\">\n",
              "\n",
              "  <svg xmlns=\"http://www.w3.org/2000/svg\" height=\"24px\" viewBox=\"0 -960 960 960\">\n",
              "    <path d=\"M120-120v-720h720v720H120Zm60-500h600v-160H180v160Zm220 220h160v-160H400v160Zm0 220h160v-160H400v160ZM180-400h160v-160H180v160Zm440 0h160v-160H620v160ZM180-180h160v-160H180v160Zm440 0h160v-160H620v160Z\"/>\n",
              "  </svg>\n",
              "    </button>\n",
              "\n",
              "  <style>\n",
              "    .colab-df-container {\n",
              "      display:flex;\n",
              "      gap: 12px;\n",
              "    }\n",
              "\n",
              "    .colab-df-convert {\n",
              "      background-color: #E8F0FE;\n",
              "      border: none;\n",
              "      border-radius: 50%;\n",
              "      cursor: pointer;\n",
              "      display: none;\n",
              "      fill: #1967D2;\n",
              "      height: 32px;\n",
              "      padding: 0 0 0 0;\n",
              "      width: 32px;\n",
              "    }\n",
              "\n",
              "    .colab-df-convert:hover {\n",
              "      background-color: #E2EBFA;\n",
              "      box-shadow: 0px 1px 2px rgba(60, 64, 67, 0.3), 0px 1px 3px 1px rgba(60, 64, 67, 0.15);\n",
              "      fill: #174EA6;\n",
              "    }\n",
              "\n",
              "    .colab-df-buttons div {\n",
              "      margin-bottom: 4px;\n",
              "    }\n",
              "\n",
              "    [theme=dark] .colab-df-convert {\n",
              "      background-color: #3B4455;\n",
              "      fill: #D2E3FC;\n",
              "    }\n",
              "\n",
              "    [theme=dark] .colab-df-convert:hover {\n",
              "      background-color: #434B5C;\n",
              "      box-shadow: 0px 1px 3px 1px rgba(0, 0, 0, 0.15);\n",
              "      filter: drop-shadow(0px 1px 2px rgba(0, 0, 0, 0.3));\n",
              "      fill: #FFFFFF;\n",
              "    }\n",
              "  </style>\n",
              "\n",
              "    <script>\n",
              "      const buttonEl =\n",
              "        document.querySelector('#df-32088d09-bc36-454a-96f4-5f36bb15e707 button.colab-df-convert');\n",
              "      buttonEl.style.display =\n",
              "        google.colab.kernel.accessAllowed ? 'block' : 'none';\n",
              "\n",
              "      async function convertToInteractive(key) {\n",
              "        const element = document.querySelector('#df-32088d09-bc36-454a-96f4-5f36bb15e707');\n",
              "        const dataTable =\n",
              "          await google.colab.kernel.invokeFunction('convertToInteractive',\n",
              "                                                    [key], {});\n",
              "        if (!dataTable) return;\n",
              "\n",
              "        const docLinkHtml = 'Like what you see? Visit the ' +\n",
              "          '<a target=\"_blank\" href=https://colab.research.google.com/notebooks/data_table.ipynb>data table notebook</a>'\n",
              "          + ' to learn more about interactive tables.';\n",
              "        element.innerHTML = '';\n",
              "        dataTable['output_type'] = 'display_data';\n",
              "        await google.colab.output.renderOutput(dataTable, element);\n",
              "        const docLink = document.createElement('div');\n",
              "        docLink.innerHTML = docLinkHtml;\n",
              "        element.appendChild(docLink);\n",
              "      }\n",
              "    </script>\n",
              "  </div>\n",
              "\n",
              "\n",
              "  <div id=\"id_03b908eb-594a-4ee8-b0b1-91c4cfff4e38\">\n",
              "    <style>\n",
              "      .colab-df-generate {\n",
              "        background-color: #E8F0FE;\n",
              "        border: none;\n",
              "        border-radius: 50%;\n",
              "        cursor: pointer;\n",
              "        display: none;\n",
              "        fill: #1967D2;\n",
              "        height: 32px;\n",
              "        padding: 0 0 0 0;\n",
              "        width: 32px;\n",
              "      }\n",
              "\n",
              "      .colab-df-generate:hover {\n",
              "        background-color: #E2EBFA;\n",
              "        box-shadow: 0px 1px 2px rgba(60, 64, 67, 0.3), 0px 1px 3px 1px rgba(60, 64, 67, 0.15);\n",
              "        fill: #174EA6;\n",
              "      }\n",
              "\n",
              "      [theme=dark] .colab-df-generate {\n",
              "        background-color: #3B4455;\n",
              "        fill: #D2E3FC;\n",
              "      }\n",
              "\n",
              "      [theme=dark] .colab-df-generate:hover {\n",
              "        background-color: #434B5C;\n",
              "        box-shadow: 0px 1px 3px 1px rgba(0, 0, 0, 0.15);\n",
              "        filter: drop-shadow(0px 1px 2px rgba(0, 0, 0, 0.3));\n",
              "        fill: #FFFFFF;\n",
              "      }\n",
              "    </style>\n",
              "    <button class=\"colab-df-generate\" onclick=\"generateWithVariable('tag_1')\"\n",
              "            title=\"Generate code using this dataframe.\"\n",
              "            style=\"display:none;\">\n",
              "\n",
              "  <svg xmlns=\"http://www.w3.org/2000/svg\" height=\"24px\"viewBox=\"0 0 24 24\"\n",
              "       width=\"24px\">\n",
              "    <path d=\"M7,19H8.4L18.45,9,17,7.55,7,17.6ZM5,21V16.75L18.45,3.32a2,2,0,0,1,2.83,0l1.4,1.43a1.91,1.91,0,0,1,.58,1.4,1.91,1.91,0,0,1-.58,1.4L9.25,21ZM18.45,9,17,7.55Zm-12,3A5.31,5.31,0,0,0,4.9,8.1,5.31,5.31,0,0,0,1,6.5,5.31,5.31,0,0,0,4.9,4.9,5.31,5.31,0,0,0,6.5,1,5.31,5.31,0,0,0,8.1,4.9,5.31,5.31,0,0,0,12,6.5,5.46,5.46,0,0,0,6.5,12Z\"/>\n",
              "  </svg>\n",
              "    </button>\n",
              "    <script>\n",
              "      (() => {\n",
              "      const buttonEl =\n",
              "        document.querySelector('#id_03b908eb-594a-4ee8-b0b1-91c4cfff4e38 button.colab-df-generate');\n",
              "      buttonEl.style.display =\n",
              "        google.colab.kernel.accessAllowed ? 'block' : 'none';\n",
              "\n",
              "      buttonEl.onclick = () => {\n",
              "        google.colab.notebook.generateWithVariable('tag_1');\n",
              "      }\n",
              "      })();\n",
              "    </script>\n",
              "  </div>\n",
              "\n",
              "    </div>\n",
              "  </div>\n"
            ],
            "application/vnd.google.colaboratory.intrinsic+json": {
              "type": "dataframe",
              "variable_name": "tag_1",
              "repr_error": "Out of range float values are not JSON compliant: nan"
            }
          },
          "metadata": {},
          "execution_count": 85
        }
      ],
      "source": [
        "tag_1 = youtube_df[youtube_df['tags'].str.contains('trump', case=False)]\n",
        "tag_1"
      ]
    },
    {
      "cell_type": "code",
      "execution_count": 86,
      "id": "cd5bfb31-1a7d-44b6-b211-50f19f0c5d36",
      "metadata": {
        "id": "cd5bfb31-1a7d-44b6-b211-50f19f0c5d36",
        "outputId": "5c2b3d4b-e2e5-4766-ccc8-e309eda41ccd",
        "colab": {
          "base_uri": "https://localhost:8080/",
          "height": 115
        }
      },
      "outputs": [
        {
          "output_type": "execute_result",
          "data": {
            "text/plain": [
              "Series([], Name: video_id, dtype: int64)"
            ],
            "text/html": [
              "<div>\n",
              "<style scoped>\n",
              "    .dataframe tbody tr th:only-of-type {\n",
              "        vertical-align: middle;\n",
              "    }\n",
              "\n",
              "    .dataframe tbody tr th {\n",
              "        vertical-align: top;\n",
              "    }\n",
              "\n",
              "    .dataframe thead th {\n",
              "        text-align: right;\n",
              "    }\n",
              "</style>\n",
              "<table border=\"1\" class=\"dataframe\">\n",
              "  <thead>\n",
              "    <tr style=\"text-align: right;\">\n",
              "      <th></th>\n",
              "      <th>video_id</th>\n",
              "    </tr>\n",
              "    <tr>\n",
              "      <th>channelId</th>\n",
              "      <th></th>\n",
              "    </tr>\n",
              "  </thead>\n",
              "  <tbody>\n",
              "  </tbody>\n",
              "</table>\n",
              "</div><br><label><b>dtype:</b> int64</label>"
            ]
          },
          "metadata": {},
          "execution_count": 86
        }
      ],
      "source": [
        "\n",
        "#Identify if specific channels post more videos with this tag than others\n",
        "tag_1.groupby('channelId')['video_id'].nunique().sort_values().tail(20)"
      ]
    },
    {
      "cell_type": "code",
      "execution_count": 92,
      "id": "8c47fc96-9aa9-47da-a514-db833cb758b2",
      "metadata": {
        "id": "8c47fc96-9aa9-47da-a514-db833cb758b2"
      },
      "outputs": [],
      "source": [
        "# Try the above code grouping by ChannelTitle\n",
        "channel_counts = tag_1.groupby('channelTitle').size().sort_values(ascending=False)\n"
      ]
    },
    {
      "cell_type": "markdown",
      "id": "3957ea81-ede6-452a-954b-7c3e8fc0d003",
      "metadata": {
        "id": "3957ea81-ede6-452a-954b-7c3e8fc0d003"
      },
      "source": [
        "*Mental Note: Which channels frequently post videos with this tag?  Are the most active channelgs news-based, political, or entertainment focused?*"
      ]
    },
    {
      "cell_type": "code",
      "execution_count": 99,
      "id": "5c054553-13b5-4163-a2c2-55ec059cbd5a",
      "metadata": {
        "id": "5c054553-13b5-4163-a2c2-55ec059cbd5a",
        "outputId": "3ee33f27-6cdc-45ec-9926-e20f555b64d1",
        "colab": {
          "base_uri": "https://localhost:8080/"
        }
      },
      "outputs": [
        {
          "output_type": "stream",
          "name": "stdout",
          "text": [
            "Series([], Name: video_id, dtype: int64)\n"
          ]
        }
      ],
      "source": [
        "channel_tag_counts = tag_1.groupby('channelId')['video_id'].nunique().sort_values().tail(20)\n",
        "print(channel_tag_counts)"
      ]
    },
    {
      "cell_type": "code",
      "execution_count": 103,
      "id": "01ba9ecd-f7c0-44fd-b266-3e387d60af13",
      "metadata": {
        "id": "01ba9ecd-f7c0-44fd-b266-3e387d60af13",
        "outputId": "5de46c3c-a398-4ccb-fe3d-1dd7ef85d97f",
        "colab": {
          "base_uri": "https://localhost:8080/"
        }
      },
      "outputs": [
        {
          "output_type": "stream",
          "name": "stdout",
          "text": [
            "Series([], Name: video_id, dtype: int64)\n"
          ]
        }
      ],
      "source": [
        "channel_title_tag_counts = tag_1.groupby('channelTitle')['video_id'].nunique().sort_values().tail(20)\n",
        "print(channel_title_tag_counts)"
      ]
    },
    {
      "cell_type": "code",
      "execution_count": 98,
      "id": "8ccabe20-0055-48f9-beb0-c05804a7fb44",
      "metadata": {
        "id": "8ccabe20-0055-48f9-beb0-c05804a7fb44",
        "outputId": "78aeae99-7b69-4853-b8ad-dfc4f9c8cc41",
        "colab": {
          "base_uri": "https://localhost:8080/",
          "height": 304
        }
      },
      "outputs": [
        {
          "output_type": "error",
          "ename": "KeyError",
          "evalue": "\"Columns not found: 'comments'\"",
          "traceback": [
            "\u001b[0;31m---------------------------------------------------------------------------\u001b[0m",
            "\u001b[0;31mKeyError\u001b[0m                                  Traceback (most recent call last)",
            "\u001b[0;32m<ipython-input-98-fcacaf3a01f7>\u001b[0m in \u001b[0;36m<cell line: 0>\u001b[0;34m()\u001b[0m\n\u001b[0;32m----> 1\u001b[0;31m \u001b[0mtag_engagement\u001b[0m \u001b[0;34m=\u001b[0m \u001b[0myoutube_df\u001b[0m\u001b[0;34m.\u001b[0m\u001b[0mgroupby\u001b[0m\u001b[0;34m(\u001b[0m\u001b[0;34m'tags'\u001b[0m\u001b[0;34m)\u001b[0m\u001b[0;34m[\u001b[0m\u001b[0;34m[\u001b[0m\u001b[0;34m'view_count'\u001b[0m\u001b[0;34m,\u001b[0m \u001b[0;34m'likes'\u001b[0m\u001b[0;34m,\u001b[0m \u001b[0;34m'comments'\u001b[0m\u001b[0;34m]\u001b[0m\u001b[0;34m]\u001b[0m\u001b[0;34m.\u001b[0m\u001b[0msum\u001b[0m\u001b[0;34m(\u001b[0m\u001b[0;34m)\u001b[0m\u001b[0;34m.\u001b[0m\u001b[0msort_values\u001b[0m\u001b[0;34m(\u001b[0m\u001b[0;34m'view_count'\u001b[0m\u001b[0;34m,\u001b[0m \u001b[0mascending\u001b[0m\u001b[0;34m=\u001b[0m\u001b[0;32mFalse\u001b[0m\u001b[0;34m)\u001b[0m\u001b[0;34m\u001b[0m\u001b[0;34m\u001b[0m\u001b[0m\n\u001b[0m\u001b[1;32m      2\u001b[0m \u001b[0mprint\u001b[0m\u001b[0;34m(\u001b[0m\u001b[0mtag_engagement\u001b[0m\u001b[0;34m.\u001b[0m\u001b[0mhead\u001b[0m\u001b[0;34m(\u001b[0m\u001b[0;36m20\u001b[0m\u001b[0;34m)\u001b[0m\u001b[0;34m)\u001b[0m\u001b[0;34m\u001b[0m\u001b[0;34m\u001b[0m\u001b[0m\n",
            "\u001b[0;32m/usr/local/lib/python3.11/dist-packages/pandas/core/groupby/generic.py\u001b[0m in \u001b[0;36m__getitem__\u001b[0;34m(self, key)\u001b[0m\n\u001b[1;32m   1949\u001b[0m                 \u001b[0;34m\"Use a list instead.\"\u001b[0m\u001b[0;34m\u001b[0m\u001b[0;34m\u001b[0m\u001b[0m\n\u001b[1;32m   1950\u001b[0m             )\n\u001b[0;32m-> 1951\u001b[0;31m         \u001b[0;32mreturn\u001b[0m \u001b[0msuper\u001b[0m\u001b[0;34m(\u001b[0m\u001b[0;34m)\u001b[0m\u001b[0;34m.\u001b[0m\u001b[0m__getitem__\u001b[0m\u001b[0;34m(\u001b[0m\u001b[0mkey\u001b[0m\u001b[0;34m)\u001b[0m\u001b[0;34m\u001b[0m\u001b[0;34m\u001b[0m\u001b[0m\n\u001b[0m\u001b[1;32m   1952\u001b[0m \u001b[0;34m\u001b[0m\u001b[0m\n\u001b[1;32m   1953\u001b[0m     \u001b[0;32mdef\u001b[0m \u001b[0m_gotitem\u001b[0m\u001b[0;34m(\u001b[0m\u001b[0mself\u001b[0m\u001b[0;34m,\u001b[0m \u001b[0mkey\u001b[0m\u001b[0;34m,\u001b[0m \u001b[0mndim\u001b[0m\u001b[0;34m:\u001b[0m \u001b[0mint\u001b[0m\u001b[0;34m,\u001b[0m \u001b[0msubset\u001b[0m\u001b[0;34m=\u001b[0m\u001b[0;32mNone\u001b[0m\u001b[0;34m)\u001b[0m\u001b[0;34m:\u001b[0m\u001b[0;34m\u001b[0m\u001b[0;34m\u001b[0m\u001b[0m\n",
            "\u001b[0;32m/usr/local/lib/python3.11/dist-packages/pandas/core/base.py\u001b[0m in \u001b[0;36m__getitem__\u001b[0;34m(self, key)\u001b[0m\n\u001b[1;32m    237\u001b[0m             \u001b[0;32mif\u001b[0m \u001b[0mlen\u001b[0m\u001b[0;34m(\u001b[0m\u001b[0mself\u001b[0m\u001b[0;34m.\u001b[0m\u001b[0mobj\u001b[0m\u001b[0;34m.\u001b[0m\u001b[0mcolumns\u001b[0m\u001b[0;34m.\u001b[0m\u001b[0mintersection\u001b[0m\u001b[0;34m(\u001b[0m\u001b[0mkey\u001b[0m\u001b[0;34m)\u001b[0m\u001b[0;34m)\u001b[0m \u001b[0;34m!=\u001b[0m \u001b[0mlen\u001b[0m\u001b[0;34m(\u001b[0m\u001b[0mset\u001b[0m\u001b[0;34m(\u001b[0m\u001b[0mkey\u001b[0m\u001b[0;34m)\u001b[0m\u001b[0;34m)\u001b[0m\u001b[0;34m:\u001b[0m\u001b[0;34m\u001b[0m\u001b[0;34m\u001b[0m\u001b[0m\n\u001b[1;32m    238\u001b[0m                 \u001b[0mbad_keys\u001b[0m \u001b[0;34m=\u001b[0m \u001b[0mlist\u001b[0m\u001b[0;34m(\u001b[0m\u001b[0mset\u001b[0m\u001b[0;34m(\u001b[0m\u001b[0mkey\u001b[0m\u001b[0;34m)\u001b[0m\u001b[0;34m.\u001b[0m\u001b[0mdifference\u001b[0m\u001b[0;34m(\u001b[0m\u001b[0mself\u001b[0m\u001b[0;34m.\u001b[0m\u001b[0mobj\u001b[0m\u001b[0;34m.\u001b[0m\u001b[0mcolumns\u001b[0m\u001b[0;34m)\u001b[0m\u001b[0;34m)\u001b[0m\u001b[0;34m\u001b[0m\u001b[0;34m\u001b[0m\u001b[0m\n\u001b[0;32m--> 239\u001b[0;31m                 \u001b[0;32mraise\u001b[0m \u001b[0mKeyError\u001b[0m\u001b[0;34m(\u001b[0m\u001b[0;34mf\"Columns not found: {str(bad_keys)[1:-1]}\"\u001b[0m\u001b[0;34m)\u001b[0m\u001b[0;34m\u001b[0m\u001b[0;34m\u001b[0m\u001b[0m\n\u001b[0m\u001b[1;32m    240\u001b[0m             \u001b[0;32mreturn\u001b[0m \u001b[0mself\u001b[0m\u001b[0;34m.\u001b[0m\u001b[0m_gotitem\u001b[0m\u001b[0;34m(\u001b[0m\u001b[0mlist\u001b[0m\u001b[0;34m(\u001b[0m\u001b[0mkey\u001b[0m\u001b[0;34m)\u001b[0m\u001b[0;34m,\u001b[0m \u001b[0mndim\u001b[0m\u001b[0;34m=\u001b[0m\u001b[0;36m2\u001b[0m\u001b[0;34m)\u001b[0m\u001b[0;34m\u001b[0m\u001b[0;34m\u001b[0m\u001b[0m\n\u001b[1;32m    241\u001b[0m \u001b[0;34m\u001b[0m\u001b[0m\n",
            "\u001b[0;31mKeyError\u001b[0m: \"Columns not found: 'comments'\""
          ]
        }
      ],
      "source": []
    },
    {
      "cell_type": "code",
      "execution_count": 106,
      "id": "a2b78c98-5560-4cbd-ad21-3e9c5e5aa1c5",
      "metadata": {
        "id": "a2b78c98-5560-4cbd-ad21-3e9c5e5aa1c5",
        "outputId": "378193a5-e242-45a9-d4c7-b27ad8c85be5",
        "colab": {
          "base_uri": "https://localhost:8080/"
        }
      },
      "outputs": [
        {
          "output_type": "stream",
          "name": "stdout",
          "text": [
            "Series([], Name: channelTitle, dtype: int64)\n"
          ]
        }
      ],
      "source": [
        "tag_channel_counts = youtube_df.groupby('tags')['channelTitle'].nunique().sort_values().tail(20)\n",
        "print(tag_channel_counts)"
      ]
    },
    {
      "cell_type": "markdown",
      "id": "9ac19200-71f6-4109-87fc-a2dde73913f7",
      "metadata": {
        "id": "9ac19200-71f6-4109-87fc-a2dde73913f7"
      },
      "source": [
        "---\n",
        "\n",
        "🧠 In 2–3 sentences, summarize one trend or anomaly you found. What might explain it? How would you investigate further?"
      ]
    },
    {
      "cell_type": "markdown",
      "id": "1b88a8e9-58bc-4f43-bfad-feccac8df320",
      "metadata": {
        "id": "1b88a8e9-58bc-4f43-bfad-feccac8df320"
      },
      "source": [
        "Videos tagged with \"disinformation\" tend to have higher engagement metrics, such as likes and views, compared to other tags."
      ]
    },
    {
      "cell_type": "markdown",
      "id": "a96e3671-87e4-4dfd-b6c9-f25c3f0cced4",
      "metadata": {
        "id": "a96e3671-87e4-4dfd-b6c9-f25c3f0cced4"
      },
      "source": [
        "---\n",
        "Once complete, please submit by saving your ipynb file to the [Assignment 5 Student Submissions Folder](https://github.com/BevRice/CMI_Course/tree/main/Student_Submissions/Assignment_5)\n",
        "\n",
        "In order to do so you will need to complete the following ([screenshots found here](https://github.com/BevRice/CMI_Course/blob/main/Student_Submissions/Submitting%20ipynb.pdf)):\n",
        "\n",
        "1. Accept the invitation to be a contributer to the repository if you haven't already done so.  You should have received an email at the address linked to your github account.  You can also accept the invitation by logging into github, clicking the notifications icon, and viewing the invitation from there.\n",
        "\n",
        "2. From Google Colab\n",
        "- a. Click File\n",
        "- b. Click Download\n",
        "- c. Select Download .ipynb\n",
        "\n",
        "3. Go to the submissions folder and click \"Add File\" then \"Upload File\"\n",
        "\n",
        "4. Drag and drop the file into github or click on \"choose your files\"; please make sure the file name has your first or last name in it otherwise it may overwrite another's assignment\n",
        "\n",
        "5. Add a comment under \"Commit changes\" where it says \"Add file via upload\"; this comment can be \"Student X Assignment Y Submission\"; then click Commit changes\n",
        "\n",
        "Please upload to the folder by 11:59pm, Fri 28 Mar\n",
        "\n",
        "If you can't finish the assignment in a single session, you can save the file locally and reopen the file in Google Colab by going to File -> Upload Notebook -> Upload -> Browse -> Select your file"
      ]
    },
    {
      "cell_type": "markdown",
      "id": "431d383c-4d4c-460e-b6e9-243ebc1ab695",
      "metadata": {
        "id": "431d383c-4d4c-460e-b6e9-243ebc1ab695"
      },
      "source": [
        "---"
      ]
    },
    {
      "cell_type": "markdown",
      "id": "1d208a59-416f-41c4-b0c5-57b3f01c6b5a",
      "metadata": {
        "id": "1d208a59-416f-41c4-b0c5-57b3f01c6b5a"
      },
      "source": [
        "Grading Criteria (20 Points Total)\n",
        "\n",
        "- ✅ Code Completeness (5 pts) → Attempts all coding exercises\n",
        "- ✅ Code Accuracy (2 pts) -> No errors in executions\n",
        "- ✅ Interpretation of Results (8 pts) → Thoughtful answers to questions 1-8\n",
        "- ✅ Summary of at leasnt one trend or anomaly found (5 pts) →"
      ]
    },
    {
      "cell_type": "markdown",
      "id": "a7c9e0cc-d0e4-409a-b53f-b62e7619ef98",
      "metadata": {
        "id": "a7c9e0cc-d0e4-409a-b53f-b62e7619ef98"
      },
      "source": [
        "[Provide Anonymous Feedback on this Assignment Here](https://forms.gle/4ZRmNr5rmGCAR1Re6)"
      ]
    }
  ],
  "metadata": {
    "kernelspec": {
      "display_name": "Python 3 (ipykernel)",
      "language": "python",
      "name": "python3"
    },
    "language_info": {
      "codemirror_mode": {
        "name": "ipython",
        "version": 3
      },
      "file_extension": ".py",
      "mimetype": "text/x-python",
      "name": "python",
      "nbconvert_exporter": "python",
      "pygments_lexer": "ipython3",
      "version": "3.13.2"
    },
    "colab": {
      "provenance": []
    }
  },
  "nbformat": 4,
  "nbformat_minor": 5
}