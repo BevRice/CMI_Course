{
  "cells": [
    {
      "cell_type": "markdown",
      "id": "f391d88b-bc40-4380-bfac-249445c7f733",
      "metadata": {
        "id": "f391d88b-bc40-4380-bfac-249445c7f733"
      },
      "source": [
        "# 📝 Assignment 5"
      ]
    },
    {
      "cell_type": "markdown",
      "id": "5965582e-b21c-4927-839e-e3f2319ba06b",
      "metadata": {
        "id": "5965582e-b21c-4927-839e-e3f2319ba06b"
      },
      "source": [
        "[![Open In Colab](https://colab.research.google.com/assets/colab-badge.svg)](https://colab.research.google.com/github/BevRice/CMI_Course/blob/main/docs/source/notebooks/Assignment5_Week3.ipynb)"
      ]
    },
    {
      "cell_type": "markdown",
      "id": "6fc7e588-3639-4dfb-9799-1c6b578bb1aa",
      "metadata": {
        "id": "6fc7e588-3639-4dfb-9799-1c6b578bb1aa"
      },
      "source": [
        "## EDA Exercises in Python\n",
        "\n",
        "⏳ Estimated Duration: 2 Hours  \n",
        "🎯 Due: Friday, 28 March at 11:59pm"
      ]
    },
    {
      "cell_type": "markdown",
      "id": "35dc869f-2d4a-407d-b8db-05c0a5dc293b",
      "metadata": {
        "id": "35dc869f-2d4a-407d-b8db-05c0a5dc293b"
      },
      "source": [
        "📌 **Assignment Overview**\n",
        "In this assignment, you will conduct an Exploratory Data Analysis (EDA) on the YouTube Trending Videos in the US dataset found [here](https://www.kaggle.com/datasets/rsrishav/youtube-trending-video-dataset?select=US_youtube_trending_data.csv).\n",
        "\n",
        "The dataset contains engagement metrics such as views, likes, dislikes, and comment counts across multiple countries.\n",
        "\n",
        "Your goal is to analyze trends, detect anomalies, and gain insights into what makes a video trend.\n",
        "\n",
        "**Hint:** Pull up Lesson 7 side by side with this assignment in google colab and run the appropriate code from the lesson\n",
        "\n",
        "*Questions in italics are mental notes and are not graded in this assignment*"
      ]
    },
    {
      "cell_type": "markdown",
      "id": "e06956e3-9aa1-4562-a2b1-67d5775d292f",
      "metadata": {
        "id": "e06956e3-9aa1-4562-a2b1-67d5775d292f"
      },
      "source": [
        "### Load Data"
      ]
    },
    {
      "cell_type": "code",
      "execution_count": 86,
      "id": "d80b3092-3c80-4883-9de9-f9b5f6e04438",
      "metadata": {
        "id": "d80b3092-3c80-4883-9de9-f9b5f6e04438"
      },
      "outputs": [],
      "source": [
        "# Import the pandas library\n",
        "import pandas as pd"
      ]
    },
    {
      "cell_type": "markdown",
      "id": "bd3a1293-a870-498e-957a-db9d3eb0ca24",
      "metadata": {
        "id": "bd3a1293-a870-498e-957a-db9d3eb0ca24"
      },
      "source": [
        "**Question 1: What file type is this data?**  \n",
        "US_youtube_trending_data.csv"
      ]
    },
    {
      "cell_type": "markdown",
      "id": "58e69f4d-cd7d-4a1d-bac6-e1df47411c34",
      "metadata": {
        "id": "58e69f4d-cd7d-4a1d-bac6-e1df47411c34"
      },
      "source": [
        "The file type is CSV (Comma-Separated Values)."
      ]
    },
    {
      "cell_type": "code",
      "execution_count": 87,
      "id": "e897dd7c-90d4-4a5e-8edb-24e0e282f87e",
      "metadata": {
        "id": "e897dd7c-90d4-4a5e-8edb-24e0e282f87e"
      },
      "outputs": [],
      "source": [
        "# Load dataset; remove all triple quotes\n",
        "\n",
        "youtube_df = pd.read_csv(\"https://raw.githubusercontent.com/BevRice/CMI_Course/refs/heads/main/docs/source/data/US_youtube_trending_data_sample.csv\")"
      ]
    },
    {
      "cell_type": "markdown",
      "id": "07afdfcf-d433-4c5b-9a86-425bb6a49adf",
      "metadata": {
        "id": "07afdfcf-d433-4c5b-9a86-425bb6a49adf"
      },
      "source": [
        "### Understand Your Data\n",
        "\n",
        "*Mental Note: The first step of EDA is understanding the dataset structure.  What functions or methods should be run to do this?*"
      ]
    },
    {
      "cell_type": "code",
      "execution_count": 88,
      "id": "c83617d5-d288-47cf-ad04-0fa3e7faa8f1",
      "metadata": {
        "colab": {
          "base_uri": "https://localhost:8080/"
        },
        "id": "c83617d5-d288-47cf-ad04-0fa3e7faa8f1",
        "outputId": "a4c91761-f354-4917-868e-427a598e7910"
      },
      "outputs": [
        {
          "output_type": "stream",
          "name": "stdout",
          "text": [
            "<class 'pandas.core.frame.DataFrame'>\n",
            "RangeIndex: 64509 entries, 0 to 64508\n",
            "Data columns (total 12 columns):\n",
            " #   Column         Non-Null Count  Dtype \n",
            "---  ------         --------------  ----- \n",
            " 0   Unnamed: 0     64509 non-null  int64 \n",
            " 1   video_id       64509 non-null  object\n",
            " 2   title          64509 non-null  object\n",
            " 3   publishedAt    64509 non-null  object\n",
            " 4   channelId      64509 non-null  object\n",
            " 5   channelTitle   64509 non-null  object\n",
            " 6   trending_date  64509 non-null  object\n",
            " 7   tags           64509 non-null  object\n",
            " 8   view_count     64509 non-null  int64 \n",
            " 9   likes          64509 non-null  int64 \n",
            " 10  dislikes       64509 non-null  int64 \n",
            " 11  comment_count  64509 non-null  int64 \n",
            "dtypes: int64(5), object(7)\n",
            "memory usage: 5.9+ MB\n"
          ]
        }
      ],
      "source": [
        "# Display basic information about the dataset\n",
        "youtube_df.info()"
      ]
    },
    {
      "cell_type": "code",
      "execution_count": 89,
      "id": "9f9cf527-5845-4160-90fe-368a96870a02",
      "metadata": {
        "colab": {
          "base_uri": "https://localhost:8080/",
          "height": 590
        },
        "id": "9f9cf527-5845-4160-90fe-368a96870a02",
        "outputId": "2984a195-f29d-4da1-e5b0-99bbab2273be"
      },
      "outputs": [
        {
          "output_type": "execute_result",
          "data": {
            "text/plain": [
              "   Unnamed: 0     video_id                                              title  \\\n",
              "0      110604  GY_5Hk7mRl8    Tremors 3: Back to Perfection (2001) KILL COUNT   \n",
              "1      147802  SH9r94NkZpE  What Really Happened During the Yellowstone Pa...   \n",
              "2      267248  Uh6XHxqNDNU  Govana x Jada Kingdom - Pull Over (Official Mu...   \n",
              "3       84107  lqiETA-U-Pg      Ravens Locker Room Reaction After Detroit Win   \n",
              "4       49865  IRSWmkSJJEs                                     got some money   \n",
              "\n",
              "            publishedAt                 channelId           channelTitle  \\\n",
              "0  2022-02-11T14:00:07Z  UC2IYWWifoIht9T47z1Z5lJw              Dead Meat   \n",
              "1  2022-08-16T12:30:14Z  UCMOqf8ab-42UUQIdVoKwjlQ  Practical Engineering   \n",
              "2  2024-04-05T15:00:08Z  UCGluLwnhI9qBeDAA1ZOpFcQ                 Govana   \n",
              "3  2021-09-26T22:26:22Z  UCbpj2JAUMb8G_oQQFPeGrhg       Baltimore Ravens   \n",
              "4  2021-04-19T20:45:11Z  UCq6aw03lNILzV96UvEAASfQ             bill wurtz   \n",
              "\n",
              "          trending_date                                               tags  \\\n",
              "0  2022-02-12T00:00:00Z  horror|dead meat|movie|scary|kill|kill count|b...   \n",
              "1  2022-08-17T00:00:00Z  Yellowstone National Park|Montana and Yellowst...   \n",
              "2  2024-04-08T00:00:00Z                                             govana   \n",
              "3  2021-09-30T00:00:00Z  NFL|Baltimore Ravens|Baltimore|Maryland|Ravens...   \n",
              "4  2021-04-22T00:00:00Z                                             [None]   \n",
              "\n",
              "   view_count   likes  dislikes  comment_count  \n",
              "0      546263   38476         0           3017  \n",
              "1      589224   20602         0           1044  \n",
              "2      249016   21446         0            760  \n",
              "3      133954    3939        66            538  \n",
              "4      974385  163805       418          13554  "
            ],
            "text/html": [
              "\n",
              "  <div id=\"df-f1ff064a-690d-4223-8e79-e21897a8e5f5\" class=\"colab-df-container\">\n",
              "    <div>\n",
              "<style scoped>\n",
              "    .dataframe tbody tr th:only-of-type {\n",
              "        vertical-align: middle;\n",
              "    }\n",
              "\n",
              "    .dataframe tbody tr th {\n",
              "        vertical-align: top;\n",
              "    }\n",
              "\n",
              "    .dataframe thead th {\n",
              "        text-align: right;\n",
              "    }\n",
              "</style>\n",
              "<table border=\"1\" class=\"dataframe\">\n",
              "  <thead>\n",
              "    <tr style=\"text-align: right;\">\n",
              "      <th></th>\n",
              "      <th>Unnamed: 0</th>\n",
              "      <th>video_id</th>\n",
              "      <th>title</th>\n",
              "      <th>publishedAt</th>\n",
              "      <th>channelId</th>\n",
              "      <th>channelTitle</th>\n",
              "      <th>trending_date</th>\n",
              "      <th>tags</th>\n",
              "      <th>view_count</th>\n",
              "      <th>likes</th>\n",
              "      <th>dislikes</th>\n",
              "      <th>comment_count</th>\n",
              "    </tr>\n",
              "  </thead>\n",
              "  <tbody>\n",
              "    <tr>\n",
              "      <th>0</th>\n",
              "      <td>110604</td>\n",
              "      <td>GY_5Hk7mRl8</td>\n",
              "      <td>Tremors 3: Back to Perfection (2001) KILL COUNT</td>\n",
              "      <td>2022-02-11T14:00:07Z</td>\n",
              "      <td>UC2IYWWifoIht9T47z1Z5lJw</td>\n",
              "      <td>Dead Meat</td>\n",
              "      <td>2022-02-12T00:00:00Z</td>\n",
              "      <td>horror|dead meat|movie|scary|kill|kill count|b...</td>\n",
              "      <td>546263</td>\n",
              "      <td>38476</td>\n",
              "      <td>0</td>\n",
              "      <td>3017</td>\n",
              "    </tr>\n",
              "    <tr>\n",
              "      <th>1</th>\n",
              "      <td>147802</td>\n",
              "      <td>SH9r94NkZpE</td>\n",
              "      <td>What Really Happened During the Yellowstone Pa...</td>\n",
              "      <td>2022-08-16T12:30:14Z</td>\n",
              "      <td>UCMOqf8ab-42UUQIdVoKwjlQ</td>\n",
              "      <td>Practical Engineering</td>\n",
              "      <td>2022-08-17T00:00:00Z</td>\n",
              "      <td>Yellowstone National Park|Montana and Yellowst...</td>\n",
              "      <td>589224</td>\n",
              "      <td>20602</td>\n",
              "      <td>0</td>\n",
              "      <td>1044</td>\n",
              "    </tr>\n",
              "    <tr>\n",
              "      <th>2</th>\n",
              "      <td>267248</td>\n",
              "      <td>Uh6XHxqNDNU</td>\n",
              "      <td>Govana x Jada Kingdom - Pull Over (Official Mu...</td>\n",
              "      <td>2024-04-05T15:00:08Z</td>\n",
              "      <td>UCGluLwnhI9qBeDAA1ZOpFcQ</td>\n",
              "      <td>Govana</td>\n",
              "      <td>2024-04-08T00:00:00Z</td>\n",
              "      <td>govana</td>\n",
              "      <td>249016</td>\n",
              "      <td>21446</td>\n",
              "      <td>0</td>\n",
              "      <td>760</td>\n",
              "    </tr>\n",
              "    <tr>\n",
              "      <th>3</th>\n",
              "      <td>84107</td>\n",
              "      <td>lqiETA-U-Pg</td>\n",
              "      <td>Ravens Locker Room Reaction After Detroit Win</td>\n",
              "      <td>2021-09-26T22:26:22Z</td>\n",
              "      <td>UCbpj2JAUMb8G_oQQFPeGrhg</td>\n",
              "      <td>Baltimore Ravens</td>\n",
              "      <td>2021-09-30T00:00:00Z</td>\n",
              "      <td>NFL|Baltimore Ravens|Baltimore|Maryland|Ravens...</td>\n",
              "      <td>133954</td>\n",
              "      <td>3939</td>\n",
              "      <td>66</td>\n",
              "      <td>538</td>\n",
              "    </tr>\n",
              "    <tr>\n",
              "      <th>4</th>\n",
              "      <td>49865</td>\n",
              "      <td>IRSWmkSJJEs</td>\n",
              "      <td>got some money</td>\n",
              "      <td>2021-04-19T20:45:11Z</td>\n",
              "      <td>UCq6aw03lNILzV96UvEAASfQ</td>\n",
              "      <td>bill wurtz</td>\n",
              "      <td>2021-04-22T00:00:00Z</td>\n",
              "      <td>[None]</td>\n",
              "      <td>974385</td>\n",
              "      <td>163805</td>\n",
              "      <td>418</td>\n",
              "      <td>13554</td>\n",
              "    </tr>\n",
              "  </tbody>\n",
              "</table>\n",
              "</div>\n",
              "    <div class=\"colab-df-buttons\">\n",
              "\n",
              "  <div class=\"colab-df-container\">\n",
              "    <button class=\"colab-df-convert\" onclick=\"convertToInteractive('df-f1ff064a-690d-4223-8e79-e21897a8e5f5')\"\n",
              "            title=\"Convert this dataframe to an interactive table.\"\n",
              "            style=\"display:none;\">\n",
              "\n",
              "  <svg xmlns=\"http://www.w3.org/2000/svg\" height=\"24px\" viewBox=\"0 -960 960 960\">\n",
              "    <path d=\"M120-120v-720h720v720H120Zm60-500h600v-160H180v160Zm220 220h160v-160H400v160Zm0 220h160v-160H400v160ZM180-400h160v-160H180v160Zm440 0h160v-160H620v160ZM180-180h160v-160H180v160Zm440 0h160v-160H620v160Z\"/>\n",
              "  </svg>\n",
              "    </button>\n",
              "\n",
              "  <style>\n",
              "    .colab-df-container {\n",
              "      display:flex;\n",
              "      gap: 12px;\n",
              "    }\n",
              "\n",
              "    .colab-df-convert {\n",
              "      background-color: #E8F0FE;\n",
              "      border: none;\n",
              "      border-radius: 50%;\n",
              "      cursor: pointer;\n",
              "      display: none;\n",
              "      fill: #1967D2;\n",
              "      height: 32px;\n",
              "      padding: 0 0 0 0;\n",
              "      width: 32px;\n",
              "    }\n",
              "\n",
              "    .colab-df-convert:hover {\n",
              "      background-color: #E2EBFA;\n",
              "      box-shadow: 0px 1px 2px rgba(60, 64, 67, 0.3), 0px 1px 3px 1px rgba(60, 64, 67, 0.15);\n",
              "      fill: #174EA6;\n",
              "    }\n",
              "\n",
              "    .colab-df-buttons div {\n",
              "      margin-bottom: 4px;\n",
              "    }\n",
              "\n",
              "    [theme=dark] .colab-df-convert {\n",
              "      background-color: #3B4455;\n",
              "      fill: #D2E3FC;\n",
              "    }\n",
              "\n",
              "    [theme=dark] .colab-df-convert:hover {\n",
              "      background-color: #434B5C;\n",
              "      box-shadow: 0px 1px 3px 1px rgba(0, 0, 0, 0.15);\n",
              "      filter: drop-shadow(0px 1px 2px rgba(0, 0, 0, 0.3));\n",
              "      fill: #FFFFFF;\n",
              "    }\n",
              "  </style>\n",
              "\n",
              "    <script>\n",
              "      const buttonEl =\n",
              "        document.querySelector('#df-f1ff064a-690d-4223-8e79-e21897a8e5f5 button.colab-df-convert');\n",
              "      buttonEl.style.display =\n",
              "        google.colab.kernel.accessAllowed ? 'block' : 'none';\n",
              "\n",
              "      async function convertToInteractive(key) {\n",
              "        const element = document.querySelector('#df-f1ff064a-690d-4223-8e79-e21897a8e5f5');\n",
              "        const dataTable =\n",
              "          await google.colab.kernel.invokeFunction('convertToInteractive',\n",
              "                                                    [key], {});\n",
              "        if (!dataTable) return;\n",
              "\n",
              "        const docLinkHtml = 'Like what you see? Visit the ' +\n",
              "          '<a target=\"_blank\" href=https://colab.research.google.com/notebooks/data_table.ipynb>data table notebook</a>'\n",
              "          + ' to learn more about interactive tables.';\n",
              "        element.innerHTML = '';\n",
              "        dataTable['output_type'] = 'display_data';\n",
              "        await google.colab.output.renderOutput(dataTable, element);\n",
              "        const docLink = document.createElement('div');\n",
              "        docLink.innerHTML = docLinkHtml;\n",
              "        element.appendChild(docLink);\n",
              "      }\n",
              "    </script>\n",
              "  </div>\n",
              "\n",
              "\n",
              "<div id=\"df-ae13a7b8-298a-4a71-9fae-7eae56f036a8\">\n",
              "  <button class=\"colab-df-quickchart\" onclick=\"quickchart('df-ae13a7b8-298a-4a71-9fae-7eae56f036a8')\"\n",
              "            title=\"Suggest charts\"\n",
              "            style=\"display:none;\">\n",
              "\n",
              "<svg xmlns=\"http://www.w3.org/2000/svg\" height=\"24px\"viewBox=\"0 0 24 24\"\n",
              "     width=\"24px\">\n",
              "    <g>\n",
              "        <path d=\"M19 3H5c-1.1 0-2 .9-2 2v14c0 1.1.9 2 2 2h14c1.1 0 2-.9 2-2V5c0-1.1-.9-2-2-2zM9 17H7v-7h2v7zm4 0h-2V7h2v10zm4 0h-2v-4h2v4z\"/>\n",
              "    </g>\n",
              "</svg>\n",
              "  </button>\n",
              "\n",
              "<style>\n",
              "  .colab-df-quickchart {\n",
              "      --bg-color: #E8F0FE;\n",
              "      --fill-color: #1967D2;\n",
              "      --hover-bg-color: #E2EBFA;\n",
              "      --hover-fill-color: #174EA6;\n",
              "      --disabled-fill-color: #AAA;\n",
              "      --disabled-bg-color: #DDD;\n",
              "  }\n",
              "\n",
              "  [theme=dark] .colab-df-quickchart {\n",
              "      --bg-color: #3B4455;\n",
              "      --fill-color: #D2E3FC;\n",
              "      --hover-bg-color: #434B5C;\n",
              "      --hover-fill-color: #FFFFFF;\n",
              "      --disabled-bg-color: #3B4455;\n",
              "      --disabled-fill-color: #666;\n",
              "  }\n",
              "\n",
              "  .colab-df-quickchart {\n",
              "    background-color: var(--bg-color);\n",
              "    border: none;\n",
              "    border-radius: 50%;\n",
              "    cursor: pointer;\n",
              "    display: none;\n",
              "    fill: var(--fill-color);\n",
              "    height: 32px;\n",
              "    padding: 0;\n",
              "    width: 32px;\n",
              "  }\n",
              "\n",
              "  .colab-df-quickchart:hover {\n",
              "    background-color: var(--hover-bg-color);\n",
              "    box-shadow: 0 1px 2px rgba(60, 64, 67, 0.3), 0 1px 3px 1px rgba(60, 64, 67, 0.15);\n",
              "    fill: var(--button-hover-fill-color);\n",
              "  }\n",
              "\n",
              "  .colab-df-quickchart-complete:disabled,\n",
              "  .colab-df-quickchart-complete:disabled:hover {\n",
              "    background-color: var(--disabled-bg-color);\n",
              "    fill: var(--disabled-fill-color);\n",
              "    box-shadow: none;\n",
              "  }\n",
              "\n",
              "  .colab-df-spinner {\n",
              "    border: 2px solid var(--fill-color);\n",
              "    border-color: transparent;\n",
              "    border-bottom-color: var(--fill-color);\n",
              "    animation:\n",
              "      spin 1s steps(1) infinite;\n",
              "  }\n",
              "\n",
              "  @keyframes spin {\n",
              "    0% {\n",
              "      border-color: transparent;\n",
              "      border-bottom-color: var(--fill-color);\n",
              "      border-left-color: var(--fill-color);\n",
              "    }\n",
              "    20% {\n",
              "      border-color: transparent;\n",
              "      border-left-color: var(--fill-color);\n",
              "      border-top-color: var(--fill-color);\n",
              "    }\n",
              "    30% {\n",
              "      border-color: transparent;\n",
              "      border-left-color: var(--fill-color);\n",
              "      border-top-color: var(--fill-color);\n",
              "      border-right-color: var(--fill-color);\n",
              "    }\n",
              "    40% {\n",
              "      border-color: transparent;\n",
              "      border-right-color: var(--fill-color);\n",
              "      border-top-color: var(--fill-color);\n",
              "    }\n",
              "    60% {\n",
              "      border-color: transparent;\n",
              "      border-right-color: var(--fill-color);\n",
              "    }\n",
              "    80% {\n",
              "      border-color: transparent;\n",
              "      border-right-color: var(--fill-color);\n",
              "      border-bottom-color: var(--fill-color);\n",
              "    }\n",
              "    90% {\n",
              "      border-color: transparent;\n",
              "      border-bottom-color: var(--fill-color);\n",
              "    }\n",
              "  }\n",
              "</style>\n",
              "\n",
              "  <script>\n",
              "    async function quickchart(key) {\n",
              "      const quickchartButtonEl =\n",
              "        document.querySelector('#' + key + ' button');\n",
              "      quickchartButtonEl.disabled = true;  // To prevent multiple clicks.\n",
              "      quickchartButtonEl.classList.add('colab-df-spinner');\n",
              "      try {\n",
              "        const charts = await google.colab.kernel.invokeFunction(\n",
              "            'suggestCharts', [key], {});\n",
              "      } catch (error) {\n",
              "        console.error('Error during call to suggestCharts:', error);\n",
              "      }\n",
              "      quickchartButtonEl.classList.remove('colab-df-spinner');\n",
              "      quickchartButtonEl.classList.add('colab-df-quickchart-complete');\n",
              "    }\n",
              "    (() => {\n",
              "      let quickchartButtonEl =\n",
              "        document.querySelector('#df-ae13a7b8-298a-4a71-9fae-7eae56f036a8 button');\n",
              "      quickchartButtonEl.style.display =\n",
              "        google.colab.kernel.accessAllowed ? 'block' : 'none';\n",
              "    })();\n",
              "  </script>\n",
              "</div>\n",
              "\n",
              "    </div>\n",
              "  </div>\n"
            ],
            "application/vnd.google.colaboratory.intrinsic+json": {
              "type": "dataframe",
              "variable_name": "youtube_df",
              "summary": "{\n  \"name\": \"youtube_df\",\n  \"rows\": 64509,\n  \"fields\": [\n    {\n      \"column\": \"Unnamed: 0\",\n      \"properties\": {\n        \"dtype\": \"number\",\n        \"std\": 77541,\n        \"min\": 6,\n        \"max\": 268775,\n        \"num_unique_values\": 64509,\n        \"samples\": [\n          126604,\n          173573,\n          124977\n        ],\n        \"semantic_type\": \"\",\n        \"description\": \"\"\n      }\n    },\n    {\n      \"column\": \"video_id\",\n      \"properties\": {\n        \"dtype\": \"string\",\n        \"num_unique_values\": 36047,\n        \"samples\": [\n          \"w7A9BW0z5rE\",\n          \"GQy4xOSbj8k\",\n          \"CIv7bnNHkqg\"\n        ],\n        \"semantic_type\": \"\",\n        \"description\": \"\"\n      }\n    },\n    {\n      \"column\": \"title\",\n      \"properties\": {\n        \"dtype\": \"string\",\n        \"num_unique_values\": 36253,\n        \"samples\": [\n          \"Digital Only Physical Games - Scott The Woz\",\n          \"Can We Win The 2024 Farmers Insurance Pro Am?\",\n          \"Horror Short Film Requiem | ALTER | Starring Bella Ramsey\"\n        ],\n        \"semantic_type\": \"\",\n        \"description\": \"\"\n      }\n    },\n    {\n      \"column\": \"publishedAt\",\n      \"properties\": {\n        \"dtype\": \"object\",\n        \"num_unique_values\": 35694,\n        \"samples\": [\n          \"2021-08-10T22:59:11Z\",\n          \"2020-10-01T00:00:11Z\",\n          \"2022-03-26T15:45:00Z\"\n        ],\n        \"semantic_type\": \"\",\n        \"description\": \"\"\n      }\n    },\n    {\n      \"column\": \"channelId\",\n      \"properties\": {\n        \"dtype\": \"category\",\n        \"num_unique_values\": 7343,\n        \"samples\": [\n          \"UChcgcbX3zMBwd0wTJyy2JlA\",\n          \"UCeSofZSF7wuRRU8uJRCUxrg\",\n          \"UC6yW44UGJJBvYTlfC7CRg2Q\"\n        ],\n        \"semantic_type\": \"\",\n        \"description\": \"\"\n      }\n    },\n    {\n      \"column\": \"channelTitle\",\n      \"properties\": {\n        \"dtype\": \"category\",\n        \"num_unique_values\": 7534,\n        \"samples\": [\n          \"NekoKaren\",\n          \"Junior H - Topic\",\n          \"Verizon\"\n        ],\n        \"semantic_type\": \"\",\n        \"description\": \"\"\n      }\n    },\n    {\n      \"column\": \"trending_date\",\n      \"properties\": {\n        \"dtype\": \"object\",\n        \"num_unique_values\": 1323,\n        \"samples\": [\n          \"2024-03-17T00:00:00Z\",\n          \"2021-02-07T00:00:00Z\",\n          \"2023-04-05T00:00:00Z\"\n        ],\n        \"semantic_type\": \"\",\n        \"description\": \"\"\n      }\n    },\n    {\n      \"column\": \"tags\",\n      \"properties\": {\n        \"dtype\": \"category\",\n        \"num_unique_values\": 25161,\n        \"samples\": [\n          \"David|Kushner|Skin|and|Bones|(Lyric|Video)|Miserable|Music|Group|LLC|Pop\",\n          \"Overwatch|overwatch 2|act man|the act man|actman|overwatch 2 pve|overwatch 2 gameplay|activision blizzard|blizzard|overwatch pve cancelled|overwatch cancelled|pve|overwatch pve|overwatch 2 pve cancelled|decline of|decline of blizzard|decline of overwatch|overwatch 2 update|overwatch 2 trailer|overwatch cinematic|overwatch story|overwatch league|overwatch gameplay\",\n          \"Nas Daily|Nasmeanspeople|1minute|Travel|Nuseir Yassin|Nas Studio|\\u82f1\\u8a9e\\u5b66\\u7fd2|people|Nas Academy|Lesan.io|shorts|smoke|cigarette|smoking|Why I Never Smoke\"\n        ],\n        \"semantic_type\": \"\",\n        \"description\": \"\"\n      }\n    },\n    {\n      \"column\": \"view_count\",\n      \"properties\": {\n        \"dtype\": \"number\",\n        \"std\": 10589920,\n        \"min\": 0,\n        \"max\": 1407643634,\n        \"num_unique_values\": 63686,\n        \"samples\": [\n          1359803,\n          1942393,\n          686199\n        ],\n        \"semantic_type\": \"\",\n        \"description\": \"\"\n      }\n    },\n    {\n      \"column\": \"likes\",\n      \"properties\": {\n        \"dtype\": \"number\",\n        \"std\": 467197,\n        \"min\": 0,\n        \"max\": 16021534,\n        \"num_unique_values\": 51314,\n        \"samples\": [\n          49899,\n          168898,\n          27792\n        ],\n        \"semantic_type\": \"\",\n        \"description\": \"\"\n      }\n    },\n    {\n      \"column\": \"dislikes\",\n      \"properties\": {\n        \"dtype\": \"number\",\n        \"std\": 7453,\n        \"min\": 0,\n        \"max\": 848974,\n        \"num_unique_values\": 6439,\n        \"samples\": [\n          28766,\n          18462,\n          5989\n        ],\n        \"semantic_type\": \"\",\n        \"description\": \"\"\n      }\n    },\n    {\n      \"column\": \"comment_count\",\n      \"properties\": {\n        \"dtype\": \"number\",\n        \"std\": 77941,\n        \"min\": 0,\n        \"max\": 6738537,\n        \"num_unique_values\": 17858,\n        \"samples\": [\n          40247,\n          78494,\n          7411\n        ],\n        \"semantic_type\": \"\",\n        \"description\": \"\"\n      }\n    }\n  ]\n}"
            }
          },
          "metadata": {},
          "execution_count": 89
        }
      ],
      "source": [
        "# Display the first 5 rows of data\n",
        "youtube_df.head()"
      ]
    },
    {
      "cell_type": "code",
      "execution_count": 90,
      "id": "dac65138-1747-49a6-a8ee-627ff543ad57",
      "metadata": {
        "colab": {
          "base_uri": "https://localhost:8080/",
          "height": 625
        },
        "id": "dac65138-1747-49a6-a8ee-627ff543ad57",
        "outputId": "b8379e31-6a23-4c95-a0e7-c785a57c9e89"
      },
      "outputs": [
        {
          "output_type": "execute_result",
          "data": {
            "text/plain": [
              "       Unnamed: 0     video_id  \\\n",
              "12964      267926  cc2-4ci4G84   \n",
              "58949      118976  pMu6sdF_AFc   \n",
              "9040       151114  OS3_RZ3sC7Q   \n",
              "21027      229001  cxeSriAzzb0   \n",
              "25280       62646  0VwTqmTfymw   \n",
              "\n",
              "                                                   title  \\\n",
              "12964                       Discord Loot Boxes are here.   \n",
              "58949  Resumen y goles | Tigres 2-0 Rayados | Grita M...   \n",
              "9040   Anthony Joshua confronts Oleksandr Usyk after ...   \n",
              "21027  Anuel AA & ​Nio García - Oh Na Na (Video Oficial)   \n",
              "25280  YouTubers React to FaZe Jarvis vs Michael Le F...   \n",
              "\n",
              "                publishedAt                 channelId       channelTitle  \\\n",
              "12964  2024-04-01T17:46:17Z  UCZ5XnGb-3t7jCkXdawN2tkA            Discord   \n",
              "58949  2022-03-20T03:09:58Z  UCTIyEyDNHPrwVFPhpi5dm0A        TUDN México   \n",
              "9040   2022-08-20T23:35:41Z  UC_JQGBtA7P0RwkRxd7xpJcA  Sky Sports Boxing   \n",
              "21027  2023-09-29T00:00:04Z  UCRI7hheejBbWS6etTNwMT0g           Anuel AA   \n",
              "25280  2021-06-12T21:21:34Z  UCFB-QxUdWLN3jxmfBHha9vQ           FaZe Kay   \n",
              "\n",
              "              trending_date  \\\n",
              "12964  2024-04-11T00:00:00Z   \n",
              "58949  2022-03-25T00:00:00Z   \n",
              "9040   2022-09-02T00:00:00Z   \n",
              "21027  2023-09-30T00:00:00Z   \n",
              "25280  2021-06-15T00:00:00Z   \n",
              "\n",
              "                                                    tags  view_count   likes  \\\n",
              "12964                                             [None]     3380889  198178   \n",
              "58949  Televisa|Univision|TUDN|Televisa deportes|TUDN...     1637025   16667   \n",
              "9040   sky sports boxing|sky sports boxing stream|box...     4520241   30514   \n",
              "21027  Anuel AA|anuel|Free anuel|Emmanuel|Real hasta ...     2052510  201806   \n",
              "25280  kay|fazekay|faze kay|jarvis|little brother|pg|...     2380198   86355   \n",
              "\n",
              "       dislikes  comment_count  \n",
              "12964         0          21064  \n",
              "58949         0           1851  \n",
              "9040          0          12121  \n",
              "21027         0          15147  \n",
              "25280      1008           4438  "
            ],
            "text/html": [
              "\n",
              "  <div id=\"df-95538dc8-3d78-4213-b2dc-07ad813ae9d3\" class=\"colab-df-container\">\n",
              "    <div>\n",
              "<style scoped>\n",
              "    .dataframe tbody tr th:only-of-type {\n",
              "        vertical-align: middle;\n",
              "    }\n",
              "\n",
              "    .dataframe tbody tr th {\n",
              "        vertical-align: top;\n",
              "    }\n",
              "\n",
              "    .dataframe thead th {\n",
              "        text-align: right;\n",
              "    }\n",
              "</style>\n",
              "<table border=\"1\" class=\"dataframe\">\n",
              "  <thead>\n",
              "    <tr style=\"text-align: right;\">\n",
              "      <th></th>\n",
              "      <th>Unnamed: 0</th>\n",
              "      <th>video_id</th>\n",
              "      <th>title</th>\n",
              "      <th>publishedAt</th>\n",
              "      <th>channelId</th>\n",
              "      <th>channelTitle</th>\n",
              "      <th>trending_date</th>\n",
              "      <th>tags</th>\n",
              "      <th>view_count</th>\n",
              "      <th>likes</th>\n",
              "      <th>dislikes</th>\n",
              "      <th>comment_count</th>\n",
              "    </tr>\n",
              "  </thead>\n",
              "  <tbody>\n",
              "    <tr>\n",
              "      <th>12964</th>\n",
              "      <td>267926</td>\n",
              "      <td>cc2-4ci4G84</td>\n",
              "      <td>Discord Loot Boxes are here.</td>\n",
              "      <td>2024-04-01T17:46:17Z</td>\n",
              "      <td>UCZ5XnGb-3t7jCkXdawN2tkA</td>\n",
              "      <td>Discord</td>\n",
              "      <td>2024-04-11T00:00:00Z</td>\n",
              "      <td>[None]</td>\n",
              "      <td>3380889</td>\n",
              "      <td>198178</td>\n",
              "      <td>0</td>\n",
              "      <td>21064</td>\n",
              "    </tr>\n",
              "    <tr>\n",
              "      <th>58949</th>\n",
              "      <td>118976</td>\n",
              "      <td>pMu6sdF_AFc</td>\n",
              "      <td>Resumen y goles | Tigres 2-0 Rayados | Grita M...</td>\n",
              "      <td>2022-03-20T03:09:58Z</td>\n",
              "      <td>UCTIyEyDNHPrwVFPhpi5dm0A</td>\n",
              "      <td>TUDN México</td>\n",
              "      <td>2022-03-25T00:00:00Z</td>\n",
              "      <td>Televisa|Univision|TUDN|Televisa deportes|TUDN...</td>\n",
              "      <td>1637025</td>\n",
              "      <td>16667</td>\n",
              "      <td>0</td>\n",
              "      <td>1851</td>\n",
              "    </tr>\n",
              "    <tr>\n",
              "      <th>9040</th>\n",
              "      <td>151114</td>\n",
              "      <td>OS3_RZ3sC7Q</td>\n",
              "      <td>Anthony Joshua confronts Oleksandr Usyk after ...</td>\n",
              "      <td>2022-08-20T23:35:41Z</td>\n",
              "      <td>UC_JQGBtA7P0RwkRxd7xpJcA</td>\n",
              "      <td>Sky Sports Boxing</td>\n",
              "      <td>2022-09-02T00:00:00Z</td>\n",
              "      <td>sky sports boxing|sky sports boxing stream|box...</td>\n",
              "      <td>4520241</td>\n",
              "      <td>30514</td>\n",
              "      <td>0</td>\n",
              "      <td>12121</td>\n",
              "    </tr>\n",
              "    <tr>\n",
              "      <th>21027</th>\n",
              "      <td>229001</td>\n",
              "      <td>cxeSriAzzb0</td>\n",
              "      <td>Anuel AA &amp; ​Nio García - Oh Na Na (Video Oficial)</td>\n",
              "      <td>2023-09-29T00:00:04Z</td>\n",
              "      <td>UCRI7hheejBbWS6etTNwMT0g</td>\n",
              "      <td>Anuel AA</td>\n",
              "      <td>2023-09-30T00:00:00Z</td>\n",
              "      <td>Anuel AA|anuel|Free anuel|Emmanuel|Real hasta ...</td>\n",
              "      <td>2052510</td>\n",
              "      <td>201806</td>\n",
              "      <td>0</td>\n",
              "      <td>15147</td>\n",
              "    </tr>\n",
              "    <tr>\n",
              "      <th>25280</th>\n",
              "      <td>62646</td>\n",
              "      <td>0VwTqmTfymw</td>\n",
              "      <td>YouTubers React to FaZe Jarvis vs Michael Le F...</td>\n",
              "      <td>2021-06-12T21:21:34Z</td>\n",
              "      <td>UCFB-QxUdWLN3jxmfBHha9vQ</td>\n",
              "      <td>FaZe Kay</td>\n",
              "      <td>2021-06-15T00:00:00Z</td>\n",
              "      <td>kay|fazekay|faze kay|jarvis|little brother|pg|...</td>\n",
              "      <td>2380198</td>\n",
              "      <td>86355</td>\n",
              "      <td>1008</td>\n",
              "      <td>4438</td>\n",
              "    </tr>\n",
              "  </tbody>\n",
              "</table>\n",
              "</div>\n",
              "    <div class=\"colab-df-buttons\">\n",
              "\n",
              "  <div class=\"colab-df-container\">\n",
              "    <button class=\"colab-df-convert\" onclick=\"convertToInteractive('df-95538dc8-3d78-4213-b2dc-07ad813ae9d3')\"\n",
              "            title=\"Convert this dataframe to an interactive table.\"\n",
              "            style=\"display:none;\">\n",
              "\n",
              "  <svg xmlns=\"http://www.w3.org/2000/svg\" height=\"24px\" viewBox=\"0 -960 960 960\">\n",
              "    <path d=\"M120-120v-720h720v720H120Zm60-500h600v-160H180v160Zm220 220h160v-160H400v160Zm0 220h160v-160H400v160ZM180-400h160v-160H180v160Zm440 0h160v-160H620v160ZM180-180h160v-160H180v160Zm440 0h160v-160H620v160Z\"/>\n",
              "  </svg>\n",
              "    </button>\n",
              "\n",
              "  <style>\n",
              "    .colab-df-container {\n",
              "      display:flex;\n",
              "      gap: 12px;\n",
              "    }\n",
              "\n",
              "    .colab-df-convert {\n",
              "      background-color: #E8F0FE;\n",
              "      border: none;\n",
              "      border-radius: 50%;\n",
              "      cursor: pointer;\n",
              "      display: none;\n",
              "      fill: #1967D2;\n",
              "      height: 32px;\n",
              "      padding: 0 0 0 0;\n",
              "      width: 32px;\n",
              "    }\n",
              "\n",
              "    .colab-df-convert:hover {\n",
              "      background-color: #E2EBFA;\n",
              "      box-shadow: 0px 1px 2px rgba(60, 64, 67, 0.3), 0px 1px 3px 1px rgba(60, 64, 67, 0.15);\n",
              "      fill: #174EA6;\n",
              "    }\n",
              "\n",
              "    .colab-df-buttons div {\n",
              "      margin-bottom: 4px;\n",
              "    }\n",
              "\n",
              "    [theme=dark] .colab-df-convert {\n",
              "      background-color: #3B4455;\n",
              "      fill: #D2E3FC;\n",
              "    }\n",
              "\n",
              "    [theme=dark] .colab-df-convert:hover {\n",
              "      background-color: #434B5C;\n",
              "      box-shadow: 0px 1px 3px 1px rgba(0, 0, 0, 0.15);\n",
              "      filter: drop-shadow(0px 1px 2px rgba(0, 0, 0, 0.3));\n",
              "      fill: #FFFFFF;\n",
              "    }\n",
              "  </style>\n",
              "\n",
              "    <script>\n",
              "      const buttonEl =\n",
              "        document.querySelector('#df-95538dc8-3d78-4213-b2dc-07ad813ae9d3 button.colab-df-convert');\n",
              "      buttonEl.style.display =\n",
              "        google.colab.kernel.accessAllowed ? 'block' : 'none';\n",
              "\n",
              "      async function convertToInteractive(key) {\n",
              "        const element = document.querySelector('#df-95538dc8-3d78-4213-b2dc-07ad813ae9d3');\n",
              "        const dataTable =\n",
              "          await google.colab.kernel.invokeFunction('convertToInteractive',\n",
              "                                                    [key], {});\n",
              "        if (!dataTable) return;\n",
              "\n",
              "        const docLinkHtml = 'Like what you see? Visit the ' +\n",
              "          '<a target=\"_blank\" href=https://colab.research.google.com/notebooks/data_table.ipynb>data table notebook</a>'\n",
              "          + ' to learn more about interactive tables.';\n",
              "        element.innerHTML = '';\n",
              "        dataTable['output_type'] = 'display_data';\n",
              "        await google.colab.output.renderOutput(dataTable, element);\n",
              "        const docLink = document.createElement('div');\n",
              "        docLink.innerHTML = docLinkHtml;\n",
              "        element.appendChild(docLink);\n",
              "      }\n",
              "    </script>\n",
              "  </div>\n",
              "\n",
              "\n",
              "<div id=\"df-fa7a9e17-1bf2-45e2-b358-2bc3b583e8a7\">\n",
              "  <button class=\"colab-df-quickchart\" onclick=\"quickchart('df-fa7a9e17-1bf2-45e2-b358-2bc3b583e8a7')\"\n",
              "            title=\"Suggest charts\"\n",
              "            style=\"display:none;\">\n",
              "\n",
              "<svg xmlns=\"http://www.w3.org/2000/svg\" height=\"24px\"viewBox=\"0 0 24 24\"\n",
              "     width=\"24px\">\n",
              "    <g>\n",
              "        <path d=\"M19 3H5c-1.1 0-2 .9-2 2v14c0 1.1.9 2 2 2h14c1.1 0 2-.9 2-2V5c0-1.1-.9-2-2-2zM9 17H7v-7h2v7zm4 0h-2V7h2v10zm4 0h-2v-4h2v4z\"/>\n",
              "    </g>\n",
              "</svg>\n",
              "  </button>\n",
              "\n",
              "<style>\n",
              "  .colab-df-quickchart {\n",
              "      --bg-color: #E8F0FE;\n",
              "      --fill-color: #1967D2;\n",
              "      --hover-bg-color: #E2EBFA;\n",
              "      --hover-fill-color: #174EA6;\n",
              "      --disabled-fill-color: #AAA;\n",
              "      --disabled-bg-color: #DDD;\n",
              "  }\n",
              "\n",
              "  [theme=dark] .colab-df-quickchart {\n",
              "      --bg-color: #3B4455;\n",
              "      --fill-color: #D2E3FC;\n",
              "      --hover-bg-color: #434B5C;\n",
              "      --hover-fill-color: #FFFFFF;\n",
              "      --disabled-bg-color: #3B4455;\n",
              "      --disabled-fill-color: #666;\n",
              "  }\n",
              "\n",
              "  .colab-df-quickchart {\n",
              "    background-color: var(--bg-color);\n",
              "    border: none;\n",
              "    border-radius: 50%;\n",
              "    cursor: pointer;\n",
              "    display: none;\n",
              "    fill: var(--fill-color);\n",
              "    height: 32px;\n",
              "    padding: 0;\n",
              "    width: 32px;\n",
              "  }\n",
              "\n",
              "  .colab-df-quickchart:hover {\n",
              "    background-color: var(--hover-bg-color);\n",
              "    box-shadow: 0 1px 2px rgba(60, 64, 67, 0.3), 0 1px 3px 1px rgba(60, 64, 67, 0.15);\n",
              "    fill: var(--button-hover-fill-color);\n",
              "  }\n",
              "\n",
              "  .colab-df-quickchart-complete:disabled,\n",
              "  .colab-df-quickchart-complete:disabled:hover {\n",
              "    background-color: var(--disabled-bg-color);\n",
              "    fill: var(--disabled-fill-color);\n",
              "    box-shadow: none;\n",
              "  }\n",
              "\n",
              "  .colab-df-spinner {\n",
              "    border: 2px solid var(--fill-color);\n",
              "    border-color: transparent;\n",
              "    border-bottom-color: var(--fill-color);\n",
              "    animation:\n",
              "      spin 1s steps(1) infinite;\n",
              "  }\n",
              "\n",
              "  @keyframes spin {\n",
              "    0% {\n",
              "      border-color: transparent;\n",
              "      border-bottom-color: var(--fill-color);\n",
              "      border-left-color: var(--fill-color);\n",
              "    }\n",
              "    20% {\n",
              "      border-color: transparent;\n",
              "      border-left-color: var(--fill-color);\n",
              "      border-top-color: var(--fill-color);\n",
              "    }\n",
              "    30% {\n",
              "      border-color: transparent;\n",
              "      border-left-color: var(--fill-color);\n",
              "      border-top-color: var(--fill-color);\n",
              "      border-right-color: var(--fill-color);\n",
              "    }\n",
              "    40% {\n",
              "      border-color: transparent;\n",
              "      border-right-color: var(--fill-color);\n",
              "      border-top-color: var(--fill-color);\n",
              "    }\n",
              "    60% {\n",
              "      border-color: transparent;\n",
              "      border-right-color: var(--fill-color);\n",
              "    }\n",
              "    80% {\n",
              "      border-color: transparent;\n",
              "      border-right-color: var(--fill-color);\n",
              "      border-bottom-color: var(--fill-color);\n",
              "    }\n",
              "    90% {\n",
              "      border-color: transparent;\n",
              "      border-bottom-color: var(--fill-color);\n",
              "    }\n",
              "  }\n",
              "</style>\n",
              "\n",
              "  <script>\n",
              "    async function quickchart(key) {\n",
              "      const quickchartButtonEl =\n",
              "        document.querySelector('#' + key + ' button');\n",
              "      quickchartButtonEl.disabled = true;  // To prevent multiple clicks.\n",
              "      quickchartButtonEl.classList.add('colab-df-spinner');\n",
              "      try {\n",
              "        const charts = await google.colab.kernel.invokeFunction(\n",
              "            'suggestCharts', [key], {});\n",
              "      } catch (error) {\n",
              "        console.error('Error during call to suggestCharts:', error);\n",
              "      }\n",
              "      quickchartButtonEl.classList.remove('colab-df-spinner');\n",
              "      quickchartButtonEl.classList.add('colab-df-quickchart-complete');\n",
              "    }\n",
              "    (() => {\n",
              "      let quickchartButtonEl =\n",
              "        document.querySelector('#df-fa7a9e17-1bf2-45e2-b358-2bc3b583e8a7 button');\n",
              "      quickchartButtonEl.style.display =\n",
              "        google.colab.kernel.accessAllowed ? 'block' : 'none';\n",
              "    })();\n",
              "  </script>\n",
              "</div>\n",
              "\n",
              "    </div>\n",
              "  </div>\n"
            ],
            "application/vnd.google.colaboratory.intrinsic+json": {
              "type": "dataframe",
              "repr_error": "0"
            }
          },
          "metadata": {},
          "execution_count": 90
        }
      ],
      "source": [
        "# Display 5 sample rows  youtby running -> youtube_df.sample(5)\n",
        "youtube_df.sample(5)"
      ]
    },
    {
      "cell_type": "code",
      "execution_count": 91,
      "id": "5b28046f-8bf5-425a-af05-6d48f166d60f",
      "metadata": {
        "colab": {
          "base_uri": "https://localhost:8080/",
          "height": 300
        },
        "id": "5b28046f-8bf5-425a-af05-6d48f166d60f",
        "outputId": "ab076763-0245-42cc-f998-264ad7ce345c"
      },
      "outputs": [
        {
          "output_type": "execute_result",
          "data": {
            "text/plain": [
              "          Unnamed: 0    view_count         likes       dislikes  comment_count\n",
              "count   64509.000000  6.450900e+04  6.450900e+04   64509.000000   6.450900e+04\n",
              "mean   134809.827466  2.762730e+06  1.330931e+05    1107.734363   1.046779e+04\n",
              "std     77541.139490  1.058992e+07  4.671971e+05    7453.916204   7.794118e+04\n",
              "min         6.000000  0.000000e+00  0.000000e+00       0.000000   0.000000e+00\n",
              "25%     67472.000000  4.724020e+05  1.799700e+04       0.000000   1.278000e+03\n",
              "50%    135151.000000  9.383980e+05  4.038500e+04       0.000000   2.755000e+03\n",
              "75%    202158.000000  2.130613e+06  9.950800e+04     461.000000   6.422000e+03\n",
              "max    268775.000000  1.407644e+09  1.602153e+07  848974.000000   6.738537e+06"
            ],
            "text/html": [
              "\n",
              "  <div id=\"df-af931167-2c1a-4aac-80e7-2111f51a5a57\" class=\"colab-df-container\">\n",
              "    <div>\n",
              "<style scoped>\n",
              "    .dataframe tbody tr th:only-of-type {\n",
              "        vertical-align: middle;\n",
              "    }\n",
              "\n",
              "    .dataframe tbody tr th {\n",
              "        vertical-align: top;\n",
              "    }\n",
              "\n",
              "    .dataframe thead th {\n",
              "        text-align: right;\n",
              "    }\n",
              "</style>\n",
              "<table border=\"1\" class=\"dataframe\">\n",
              "  <thead>\n",
              "    <tr style=\"text-align: right;\">\n",
              "      <th></th>\n",
              "      <th>Unnamed: 0</th>\n",
              "      <th>view_count</th>\n",
              "      <th>likes</th>\n",
              "      <th>dislikes</th>\n",
              "      <th>comment_count</th>\n",
              "    </tr>\n",
              "  </thead>\n",
              "  <tbody>\n",
              "    <tr>\n",
              "      <th>count</th>\n",
              "      <td>64509.000000</td>\n",
              "      <td>6.450900e+04</td>\n",
              "      <td>6.450900e+04</td>\n",
              "      <td>64509.000000</td>\n",
              "      <td>6.450900e+04</td>\n",
              "    </tr>\n",
              "    <tr>\n",
              "      <th>mean</th>\n",
              "      <td>134809.827466</td>\n",
              "      <td>2.762730e+06</td>\n",
              "      <td>1.330931e+05</td>\n",
              "      <td>1107.734363</td>\n",
              "      <td>1.046779e+04</td>\n",
              "    </tr>\n",
              "    <tr>\n",
              "      <th>std</th>\n",
              "      <td>77541.139490</td>\n",
              "      <td>1.058992e+07</td>\n",
              "      <td>4.671971e+05</td>\n",
              "      <td>7453.916204</td>\n",
              "      <td>7.794118e+04</td>\n",
              "    </tr>\n",
              "    <tr>\n",
              "      <th>min</th>\n",
              "      <td>6.000000</td>\n",
              "      <td>0.000000e+00</td>\n",
              "      <td>0.000000e+00</td>\n",
              "      <td>0.000000</td>\n",
              "      <td>0.000000e+00</td>\n",
              "    </tr>\n",
              "    <tr>\n",
              "      <th>25%</th>\n",
              "      <td>67472.000000</td>\n",
              "      <td>4.724020e+05</td>\n",
              "      <td>1.799700e+04</td>\n",
              "      <td>0.000000</td>\n",
              "      <td>1.278000e+03</td>\n",
              "    </tr>\n",
              "    <tr>\n",
              "      <th>50%</th>\n",
              "      <td>135151.000000</td>\n",
              "      <td>9.383980e+05</td>\n",
              "      <td>4.038500e+04</td>\n",
              "      <td>0.000000</td>\n",
              "      <td>2.755000e+03</td>\n",
              "    </tr>\n",
              "    <tr>\n",
              "      <th>75%</th>\n",
              "      <td>202158.000000</td>\n",
              "      <td>2.130613e+06</td>\n",
              "      <td>9.950800e+04</td>\n",
              "      <td>461.000000</td>\n",
              "      <td>6.422000e+03</td>\n",
              "    </tr>\n",
              "    <tr>\n",
              "      <th>max</th>\n",
              "      <td>268775.000000</td>\n",
              "      <td>1.407644e+09</td>\n",
              "      <td>1.602153e+07</td>\n",
              "      <td>848974.000000</td>\n",
              "      <td>6.738537e+06</td>\n",
              "    </tr>\n",
              "  </tbody>\n",
              "</table>\n",
              "</div>\n",
              "    <div class=\"colab-df-buttons\">\n",
              "\n",
              "  <div class=\"colab-df-container\">\n",
              "    <button class=\"colab-df-convert\" onclick=\"convertToInteractive('df-af931167-2c1a-4aac-80e7-2111f51a5a57')\"\n",
              "            title=\"Convert this dataframe to an interactive table.\"\n",
              "            style=\"display:none;\">\n",
              "\n",
              "  <svg xmlns=\"http://www.w3.org/2000/svg\" height=\"24px\" viewBox=\"0 -960 960 960\">\n",
              "    <path d=\"M120-120v-720h720v720H120Zm60-500h600v-160H180v160Zm220 220h160v-160H400v160Zm0 220h160v-160H400v160ZM180-400h160v-160H180v160Zm440 0h160v-160H620v160ZM180-180h160v-160H180v160Zm440 0h160v-160H620v160Z\"/>\n",
              "  </svg>\n",
              "    </button>\n",
              "\n",
              "  <style>\n",
              "    .colab-df-container {\n",
              "      display:flex;\n",
              "      gap: 12px;\n",
              "    }\n",
              "\n",
              "    .colab-df-convert {\n",
              "      background-color: #E8F0FE;\n",
              "      border: none;\n",
              "      border-radius: 50%;\n",
              "      cursor: pointer;\n",
              "      display: none;\n",
              "      fill: #1967D2;\n",
              "      height: 32px;\n",
              "      padding: 0 0 0 0;\n",
              "      width: 32px;\n",
              "    }\n",
              "\n",
              "    .colab-df-convert:hover {\n",
              "      background-color: #E2EBFA;\n",
              "      box-shadow: 0px 1px 2px rgba(60, 64, 67, 0.3), 0px 1px 3px 1px rgba(60, 64, 67, 0.15);\n",
              "      fill: #174EA6;\n",
              "    }\n",
              "\n",
              "    .colab-df-buttons div {\n",
              "      margin-bottom: 4px;\n",
              "    }\n",
              "\n",
              "    [theme=dark] .colab-df-convert {\n",
              "      background-color: #3B4455;\n",
              "      fill: #D2E3FC;\n",
              "    }\n",
              "\n",
              "    [theme=dark] .colab-df-convert:hover {\n",
              "      background-color: #434B5C;\n",
              "      box-shadow: 0px 1px 3px 1px rgba(0, 0, 0, 0.15);\n",
              "      filter: drop-shadow(0px 1px 2px rgba(0, 0, 0, 0.3));\n",
              "      fill: #FFFFFF;\n",
              "    }\n",
              "  </style>\n",
              "\n",
              "    <script>\n",
              "      const buttonEl =\n",
              "        document.querySelector('#df-af931167-2c1a-4aac-80e7-2111f51a5a57 button.colab-df-convert');\n",
              "      buttonEl.style.display =\n",
              "        google.colab.kernel.accessAllowed ? 'block' : 'none';\n",
              "\n",
              "      async function convertToInteractive(key) {\n",
              "        const element = document.querySelector('#df-af931167-2c1a-4aac-80e7-2111f51a5a57');\n",
              "        const dataTable =\n",
              "          await google.colab.kernel.invokeFunction('convertToInteractive',\n",
              "                                                    [key], {});\n",
              "        if (!dataTable) return;\n",
              "\n",
              "        const docLinkHtml = 'Like what you see? Visit the ' +\n",
              "          '<a target=\"_blank\" href=https://colab.research.google.com/notebooks/data_table.ipynb>data table notebook</a>'\n",
              "          + ' to learn more about interactive tables.';\n",
              "        element.innerHTML = '';\n",
              "        dataTable['output_type'] = 'display_data';\n",
              "        await google.colab.output.renderOutput(dataTable, element);\n",
              "        const docLink = document.createElement('div');\n",
              "        docLink.innerHTML = docLinkHtml;\n",
              "        element.appendChild(docLink);\n",
              "      }\n",
              "    </script>\n",
              "  </div>\n",
              "\n",
              "\n",
              "<div id=\"df-ef6fc5fd-8da4-43bf-8980-2803b2db6da4\">\n",
              "  <button class=\"colab-df-quickchart\" onclick=\"quickchart('df-ef6fc5fd-8da4-43bf-8980-2803b2db6da4')\"\n",
              "            title=\"Suggest charts\"\n",
              "            style=\"display:none;\">\n",
              "\n",
              "<svg xmlns=\"http://www.w3.org/2000/svg\" height=\"24px\"viewBox=\"0 0 24 24\"\n",
              "     width=\"24px\">\n",
              "    <g>\n",
              "        <path d=\"M19 3H5c-1.1 0-2 .9-2 2v14c0 1.1.9 2 2 2h14c1.1 0 2-.9 2-2V5c0-1.1-.9-2-2-2zM9 17H7v-7h2v7zm4 0h-2V7h2v10zm4 0h-2v-4h2v4z\"/>\n",
              "    </g>\n",
              "</svg>\n",
              "  </button>\n",
              "\n",
              "<style>\n",
              "  .colab-df-quickchart {\n",
              "      --bg-color: #E8F0FE;\n",
              "      --fill-color: #1967D2;\n",
              "      --hover-bg-color: #E2EBFA;\n",
              "      --hover-fill-color: #174EA6;\n",
              "      --disabled-fill-color: #AAA;\n",
              "      --disabled-bg-color: #DDD;\n",
              "  }\n",
              "\n",
              "  [theme=dark] .colab-df-quickchart {\n",
              "      --bg-color: #3B4455;\n",
              "      --fill-color: #D2E3FC;\n",
              "      --hover-bg-color: #434B5C;\n",
              "      --hover-fill-color: #FFFFFF;\n",
              "      --disabled-bg-color: #3B4455;\n",
              "      --disabled-fill-color: #666;\n",
              "  }\n",
              "\n",
              "  .colab-df-quickchart {\n",
              "    background-color: var(--bg-color);\n",
              "    border: none;\n",
              "    border-radius: 50%;\n",
              "    cursor: pointer;\n",
              "    display: none;\n",
              "    fill: var(--fill-color);\n",
              "    height: 32px;\n",
              "    padding: 0;\n",
              "    width: 32px;\n",
              "  }\n",
              "\n",
              "  .colab-df-quickchart:hover {\n",
              "    background-color: var(--hover-bg-color);\n",
              "    box-shadow: 0 1px 2px rgba(60, 64, 67, 0.3), 0 1px 3px 1px rgba(60, 64, 67, 0.15);\n",
              "    fill: var(--button-hover-fill-color);\n",
              "  }\n",
              "\n",
              "  .colab-df-quickchart-complete:disabled,\n",
              "  .colab-df-quickchart-complete:disabled:hover {\n",
              "    background-color: var(--disabled-bg-color);\n",
              "    fill: var(--disabled-fill-color);\n",
              "    box-shadow: none;\n",
              "  }\n",
              "\n",
              "  .colab-df-spinner {\n",
              "    border: 2px solid var(--fill-color);\n",
              "    border-color: transparent;\n",
              "    border-bottom-color: var(--fill-color);\n",
              "    animation:\n",
              "      spin 1s steps(1) infinite;\n",
              "  }\n",
              "\n",
              "  @keyframes spin {\n",
              "    0% {\n",
              "      border-color: transparent;\n",
              "      border-bottom-color: var(--fill-color);\n",
              "      border-left-color: var(--fill-color);\n",
              "    }\n",
              "    20% {\n",
              "      border-color: transparent;\n",
              "      border-left-color: var(--fill-color);\n",
              "      border-top-color: var(--fill-color);\n",
              "    }\n",
              "    30% {\n",
              "      border-color: transparent;\n",
              "      border-left-color: var(--fill-color);\n",
              "      border-top-color: var(--fill-color);\n",
              "      border-right-color: var(--fill-color);\n",
              "    }\n",
              "    40% {\n",
              "      border-color: transparent;\n",
              "      border-right-color: var(--fill-color);\n",
              "      border-top-color: var(--fill-color);\n",
              "    }\n",
              "    60% {\n",
              "      border-color: transparent;\n",
              "      border-right-color: var(--fill-color);\n",
              "    }\n",
              "    80% {\n",
              "      border-color: transparent;\n",
              "      border-right-color: var(--fill-color);\n",
              "      border-bottom-color: var(--fill-color);\n",
              "    }\n",
              "    90% {\n",
              "      border-color: transparent;\n",
              "      border-bottom-color: var(--fill-color);\n",
              "    }\n",
              "  }\n",
              "</style>\n",
              "\n",
              "  <script>\n",
              "    async function quickchart(key) {\n",
              "      const quickchartButtonEl =\n",
              "        document.querySelector('#' + key + ' button');\n",
              "      quickchartButtonEl.disabled = true;  // To prevent multiple clicks.\n",
              "      quickchartButtonEl.classList.add('colab-df-spinner');\n",
              "      try {\n",
              "        const charts = await google.colab.kernel.invokeFunction(\n",
              "            'suggestCharts', [key], {});\n",
              "      } catch (error) {\n",
              "        console.error('Error during call to suggestCharts:', error);\n",
              "      }\n",
              "      quickchartButtonEl.classList.remove('colab-df-spinner');\n",
              "      quickchartButtonEl.classList.add('colab-df-quickchart-complete');\n",
              "    }\n",
              "    (() => {\n",
              "      let quickchartButtonEl =\n",
              "        document.querySelector('#df-ef6fc5fd-8da4-43bf-8980-2803b2db6da4 button');\n",
              "      quickchartButtonEl.style.display =\n",
              "        google.colab.kernel.accessAllowed ? 'block' : 'none';\n",
              "    })();\n",
              "  </script>\n",
              "</div>\n",
              "\n",
              "    </div>\n",
              "  </div>\n"
            ],
            "application/vnd.google.colaboratory.intrinsic+json": {
              "type": "dataframe",
              "summary": "{\n  \"name\": \"youtube_df\",\n  \"rows\": 8,\n  \"fields\": [\n    {\n      \"column\": \"Unnamed: 0\",\n      \"properties\": {\n        \"dtype\": \"number\",\n        \"std\": 85658.0500567935,\n        \"min\": 6.0,\n        \"max\": 268775.0,\n        \"num_unique_values\": 8,\n        \"samples\": [\n          134809.827465935,\n          135151.0,\n          64509.0\n        ],\n        \"semantic_type\": \"\",\n        \"description\": \"\"\n      }\n    },\n    {\n      \"column\": \"view_count\",\n      \"properties\": {\n        \"dtype\": \"number\",\n        \"std\": 496832768.0803092,\n        \"min\": 0.0,\n        \"max\": 1407643634.0,\n        \"num_unique_values\": 8,\n        \"samples\": [\n          2762730.095211521,\n          938398.0,\n          64509.0\n        ],\n        \"semantic_type\": \"\",\n        \"description\": \"\"\n      }\n    },\n    {\n      \"column\": \"likes\",\n      \"properties\": {\n        \"dtype\": \"number\",\n        \"std\": 5624888.247810913,\n        \"min\": 0.0,\n        \"max\": 16021534.0,\n        \"num_unique_values\": 8,\n        \"samples\": [\n          133093.11361205412,\n          40385.0,\n          64509.0\n        ],\n        \"semantic_type\": \"\",\n        \"description\": \"\"\n      }\n    },\n    {\n      \"column\": \"dislikes\",\n      \"properties\": {\n        \"dtype\": \"number\",\n        \"std\": 297272.88565134717,\n        \"min\": 0.0,\n        \"max\": 848974.0,\n        \"num_unique_values\": 6,\n        \"samples\": [\n          64509.0,\n          1107.7343626470724,\n          848974.0\n        ],\n        \"semantic_type\": \"\",\n        \"description\": \"\"\n      }\n    },\n    {\n      \"column\": \"comment_count\",\n      \"properties\": {\n        \"dtype\": \"number\",\n        \"std\": 2374379.077917475,\n        \"min\": 0.0,\n        \"max\": 6738537.0,\n        \"num_unique_values\": 8,\n        \"samples\": [\n          10467.785595808336,\n          2755.0,\n          64509.0\n        ],\n        \"semantic_type\": \"\",\n        \"description\": \"\"\n      }\n    }\n  ]\n}"
            }
          },
          "metadata": {},
          "execution_count": 91
        }
      ],
      "source": [
        "# Display basic statistics of the numerical columns\n",
        "youtube_df.describe()"
      ]
    },
    {
      "cell_type": "markdown",
      "id": "bbc81501-978d-4060-a57f-6f75d947f0f9",
      "metadata": {
        "id": "bbc81501-978d-4060-a57f-6f75d947f0f9"
      },
      "source": [
        "*Mental Note: Look at the mean, median, and standard deviation.  Are there any surprising outliers or trends?*"
      ]
    },
    {
      "cell_type": "markdown",
      "id": "98674ad2-8389-41e2-a354-019dfc4e88ca",
      "metadata": {
        "id": "98674ad2-8389-41e2-a354-019dfc4e88ca"
      },
      "source": [
        "**Question 2: What are some key observations so far?**"
      ]
    },
    {
      "cell_type": "markdown",
      "id": "d541cd33-4dd7-4761-b4a2-bfce1e014580",
      "metadata": {
        "id": "d541cd33-4dd7-4761-b4a2-bfce1e014580"
      },
      "source": [
        "Key Observations:\n",
        "\n",
        "The dataset includes columns like video_id, title, channel_title, category_id, publish_time, views, likes, dislikes, and comment_count.\n",
        "\n",
        "Each row represents a trending YouTube video for a specific day.\n",
        "\n",
        "Most columns are of type object or integer. There don’t appear to be missing values.\n",
        "\n",
        "Views, likes, and comment counts vary a lot — some videos go viral with millions of views, while others have much lower numbers.\n",
        "\n",
        "The standard deviation for views and likes is high, showing there are some major outliers.\n",
        "\n",
        "Some video titles and channels repeat, meaning they trended on multiple days.\n",
        "\n",
        "The average (mean) values are much higher than the median for views and likes, suggesting the data is skewed by a few very popular videos.Double click and enter answer here"
      ]
    },
    {
      "cell_type": "code",
      "source": [],
      "metadata": {
        "id": "PB2Y1ixknPUn"
      },
      "id": "PB2Y1ixknPUn",
      "execution_count": 91,
      "outputs": []
    },
    {
      "cell_type": "markdown",
      "id": "d6b48486-1ca3-4c10-bf01-b41bab8500bb",
      "metadata": {
        "id": "d6b48486-1ca3-4c10-bf01-b41bab8500bb"
      },
      "source": [
        "### Dealing with Duplicates\n",
        "\n",
        "In real-world datasets, duplicate entries can introduce bias in analysis. To check for exact duplicate rows, use the duplicated() method.\n",
        "Run the following code to count the number of duplicate rows in the dataset:"
      ]
    },
    {
      "cell_type": "code",
      "execution_count": 92,
      "id": "181460f0-6f91-42e5-8a63-84613d004a26",
      "metadata": {
        "colab": {
          "base_uri": "https://localhost:8080/"
        },
        "id": "181460f0-6f91-42e5-8a63-84613d004a26",
        "outputId": "e7c7730f-c574-4435-fb19-da4e23ba8eae"
      },
      "outputs": [
        {
          "output_type": "stream",
          "name": "stdout",
          "text": [
            "Total exact duplicate rows: 0\n"
          ]
        }
      ],
      "source": [
        "# Check for completely identical rows; remove triple quotes\n",
        "\n",
        "duplicate_rows = youtube_df[youtube_df.duplicated()]\n",
        "print(f\"Total exact duplicate rows: {duplicate_rows.shape[0]}\")"
      ]
    },
    {
      "cell_type": "code",
      "execution_count": 93,
      "id": "191cd9c7-4697-40dc-9027-776e63537111",
      "metadata": {
        "id": "191cd9c7-4697-40dc-9027-776e63537111"
      },
      "outputs": [],
      "source": [
        "# Drop identical rows by running -> youtube_df = youtube_df.drop_duplicates()\n",
        "youtube_df = youtube_df.drop_duplicates()"
      ]
    },
    {
      "cell_type": "code",
      "execution_count": 94,
      "id": "ca45327f-6bea-4b46-b928-8e612ffc4b48",
      "metadata": {
        "colab": {
          "base_uri": "https://localhost:8080/"
        },
        "id": "ca45327f-6bea-4b46-b928-8e612ffc4b48",
        "outputId": "2a74bb88-3af1-4a67-8ef0-47e27e1f2df0"
      },
      "outputs": [
        {
          "output_type": "stream",
          "name": "stdout",
          "text": [
            "New dataset size after removing duplicates: (64509, 12)\n"
          ]
        }
      ],
      "source": [
        "# Verify the new shape; remove triple quotes\n",
        "print(f\"New dataset size after removing duplicates: {youtube_df.shape}\")"
      ]
    },
    {
      "cell_type": "markdown",
      "id": "d77df3b7-c2c9-4b66-bedb-09a323e0cbf9",
      "metadata": {
        "id": "d77df3b7-c2c9-4b66-bedb-09a323e0cbf9"
      },
      "source": [
        "After checking for exact duplicate rows, the next step is to determine if certain videos appear multiple times in the dataset.\n",
        "\n",
        "📌 **Why does this matter?**\n",
        "\n",
        "- Some videos may trend on multiple days, meaning they are not exact duplicates but still appear more than once.\n",
        "- Understanding how often videos trend can provide insights into content virality and platform engagement trends.\n",
        "\n",
        "**Task**: Identifying Videos That Appeared Multiple Times\n",
        "\n",
        "Now, let's check how many times each video ID appears in the dataset. This will help us find videos that repeatedly trended over time.\n",
        "\n",
        "💡 Run the following code to count occurrences of each video_id:"
      ]
    },
    {
      "cell_type": "code",
      "execution_count": 95,
      "id": "f359a785-c81f-47ae-9f4e-ad6ccb0e4697",
      "metadata": {
        "colab": {
          "base_uri": "https://localhost:8080/",
          "height": 446
        },
        "id": "f359a785-c81f-47ae-9f4e-ad6ccb0e4697",
        "outputId": "20fe83e2-20ca-4aad-a650-11b80229841f"
      },
      "outputs": [
        {
          "output_type": "stream",
          "name": "stdout",
          "text": [
            "Total videos that appeared more than once: 18987\n"
          ]
        },
        {
          "output_type": "execute_result",
          "data": {
            "text/plain": [
              "video_id\n",
              "zKBtLtB9M20    13\n",
              "HeZO_LcQALI    13\n",
              "O17DfQco2JQ    12\n",
              "mwKJfNYwvm8    12\n",
              "HjBo--1n8lI    12\n",
              "9RhWXPcKBI8    11\n",
              "3OFj6l2tQ9s    11\n",
              "Q_3cpQvjU50    10\n",
              "g2Al27LJ5-0    10\n",
              "nLxmuh6wCVY    10\n",
              "Name: count, dtype: int64"
            ],
            "text/html": [
              "<div>\n",
              "<style scoped>\n",
              "    .dataframe tbody tr th:only-of-type {\n",
              "        vertical-align: middle;\n",
              "    }\n",
              "\n",
              "    .dataframe tbody tr th {\n",
              "        vertical-align: top;\n",
              "    }\n",
              "\n",
              "    .dataframe thead th {\n",
              "        text-align: right;\n",
              "    }\n",
              "</style>\n",
              "<table border=\"1\" class=\"dataframe\">\n",
              "  <thead>\n",
              "    <tr style=\"text-align: right;\">\n",
              "      <th></th>\n",
              "      <th>count</th>\n",
              "    </tr>\n",
              "    <tr>\n",
              "      <th>video_id</th>\n",
              "      <th></th>\n",
              "    </tr>\n",
              "  </thead>\n",
              "  <tbody>\n",
              "    <tr>\n",
              "      <th>zKBtLtB9M20</th>\n",
              "      <td>13</td>\n",
              "    </tr>\n",
              "    <tr>\n",
              "      <th>HeZO_LcQALI</th>\n",
              "      <td>13</td>\n",
              "    </tr>\n",
              "    <tr>\n",
              "      <th>O17DfQco2JQ</th>\n",
              "      <td>12</td>\n",
              "    </tr>\n",
              "    <tr>\n",
              "      <th>mwKJfNYwvm8</th>\n",
              "      <td>12</td>\n",
              "    </tr>\n",
              "    <tr>\n",
              "      <th>HjBo--1n8lI</th>\n",
              "      <td>12</td>\n",
              "    </tr>\n",
              "    <tr>\n",
              "      <th>9RhWXPcKBI8</th>\n",
              "      <td>11</td>\n",
              "    </tr>\n",
              "    <tr>\n",
              "      <th>3OFj6l2tQ9s</th>\n",
              "      <td>11</td>\n",
              "    </tr>\n",
              "    <tr>\n",
              "      <th>Q_3cpQvjU50</th>\n",
              "      <td>10</td>\n",
              "    </tr>\n",
              "    <tr>\n",
              "      <th>g2Al27LJ5-0</th>\n",
              "      <td>10</td>\n",
              "    </tr>\n",
              "    <tr>\n",
              "      <th>nLxmuh6wCVY</th>\n",
              "      <td>10</td>\n",
              "    </tr>\n",
              "  </tbody>\n",
              "</table>\n",
              "</div><br><label><b>dtype:</b> int64</label>"
            ]
          },
          "metadata": {},
          "execution_count": 95
        }
      ],
      "source": [
        "# Count occurrences of each video_id; remove triple quotes\n",
        "duplicate_videos = youtube_df[\"video_id\"].value_counts()\n",
        "\n",
        "# Display videos that trended multiple times\n",
        "multiple_trending_videos = duplicate_videos[duplicate_videos > 1]\n",
        "print(f\"Total videos that appeared more than once: {len(multiple_trending_videos)}\")\n",
        "multiple_trending_videos.head(10)  # Show top repeated videos\n"
      ]
    },
    {
      "cell_type": "markdown",
      "id": "11648b61-1876-48b7-a653-4f3625b54a41",
      "metadata": {
        "id": "11648b61-1876-48b7-a653-4f3625b54a41"
      },
      "source": [
        "**Question 3: Why might there be duplicate video entries in the dataset?**"
      ]
    },
    {
      "cell_type": "markdown",
      "id": "d9a09d93-fbda-4354-a2f0-c23c2cf6a9b6",
      "metadata": {
        "id": "d9a09d93-fbda-4354-a2f0-c23c2cf6a9b6"
      },
      "source": [
        "There might be duplicate video entries because the same video can trend on multiple days. These aren't exact duplicates, they represent the same video appearing on different dates with updated metrics like views, likes, and comments. This helps track how a video's popularity changes over time and how long it stays trending."
      ]
    },
    {
      "cell_type": "markdown",
      "id": "485ad66a-fbcb-4e71-a534-f735b622e1fd",
      "metadata": {
        "id": "485ad66a-fbcb-4e71-a534-f735b622e1fd"
      },
      "source": [
        "Depending on our analysis goals, we may choose to:\n",
        "- 1. Keep only the first entry of each video to analyze the time it takes for a video to trend after publishing and to examine its initial engagement metrics.\n",
        "- 2. Use the latest entry of each video to assess the most up-to-date engagement statistics and understand how a video performed over time."
      ]
    },
    {
      "cell_type": "code",
      "execution_count": 96,
      "id": "86535577-6c87-4fd4-9df0-734379fb323b",
      "metadata": {
        "id": "86535577-6c87-4fd4-9df0-734379fb323b"
      },
      "outputs": [],
      "source": [
        "# We will proceed with Option 1: Keeping only the first entry of each video\n",
        "# This allows us to analyze the time between publishing and trending, along with initial engagement metrics.\n",
        "# Remove triple quotes\n",
        "\n",
        "# Sort by trending date and keep only the first instance of each video\n",
        "youtube_df = youtube_df.sort_values(\"trending_date\").drop_duplicates(subset=\"video_id\", keep=\"first\")"
      ]
    },
    {
      "cell_type": "markdown",
      "id": "b510a601-5d64-43a8-aac1-591faa902671",
      "metadata": {
        "id": "b510a601-5d64-43a8-aac1-591faa902671"
      },
      "source": [
        "### Handle Missing Values"
      ]
    },
    {
      "cell_type": "code",
      "execution_count": 97,
      "id": "c33a9e9c-a5cc-4e57-88d0-f0a0c3234a1c",
      "metadata": {
        "colab": {
          "base_uri": "https://localhost:8080/",
          "height": 460
        },
        "id": "c33a9e9c-a5cc-4e57-88d0-f0a0c3234a1c",
        "outputId": "e70c8a6c-9d3e-4009-fca2-a25a225a1e4b"
      },
      "outputs": [
        {
          "output_type": "execute_result",
          "data": {
            "text/plain": [
              "Unnamed: 0       0\n",
              "video_id         0\n",
              "title            0\n",
              "publishedAt      0\n",
              "channelId        0\n",
              "channelTitle     0\n",
              "trending_date    0\n",
              "tags             0\n",
              "view_count       0\n",
              "likes            0\n",
              "dislikes         0\n",
              "comment_count    0\n",
              "dtype: int64"
            ],
            "text/html": [
              "<div>\n",
              "<style scoped>\n",
              "    .dataframe tbody tr th:only-of-type {\n",
              "        vertical-align: middle;\n",
              "    }\n",
              "\n",
              "    .dataframe tbody tr th {\n",
              "        vertical-align: top;\n",
              "    }\n",
              "\n",
              "    .dataframe thead th {\n",
              "        text-align: right;\n",
              "    }\n",
              "</style>\n",
              "<table border=\"1\" class=\"dataframe\">\n",
              "  <thead>\n",
              "    <tr style=\"text-align: right;\">\n",
              "      <th></th>\n",
              "      <th>0</th>\n",
              "    </tr>\n",
              "  </thead>\n",
              "  <tbody>\n",
              "    <tr>\n",
              "      <th>Unnamed: 0</th>\n",
              "      <td>0</td>\n",
              "    </tr>\n",
              "    <tr>\n",
              "      <th>video_id</th>\n",
              "      <td>0</td>\n",
              "    </tr>\n",
              "    <tr>\n",
              "      <th>title</th>\n",
              "      <td>0</td>\n",
              "    </tr>\n",
              "    <tr>\n",
              "      <th>publishedAt</th>\n",
              "      <td>0</td>\n",
              "    </tr>\n",
              "    <tr>\n",
              "      <th>channelId</th>\n",
              "      <td>0</td>\n",
              "    </tr>\n",
              "    <tr>\n",
              "      <th>channelTitle</th>\n",
              "      <td>0</td>\n",
              "    </tr>\n",
              "    <tr>\n",
              "      <th>trending_date</th>\n",
              "      <td>0</td>\n",
              "    </tr>\n",
              "    <tr>\n",
              "      <th>tags</th>\n",
              "      <td>0</td>\n",
              "    </tr>\n",
              "    <tr>\n",
              "      <th>view_count</th>\n",
              "      <td>0</td>\n",
              "    </tr>\n",
              "    <tr>\n",
              "      <th>likes</th>\n",
              "      <td>0</td>\n",
              "    </tr>\n",
              "    <tr>\n",
              "      <th>dislikes</th>\n",
              "      <td>0</td>\n",
              "    </tr>\n",
              "    <tr>\n",
              "      <th>comment_count</th>\n",
              "      <td>0</td>\n",
              "    </tr>\n",
              "  </tbody>\n",
              "</table>\n",
              "</div><br><label><b>dtype:</b> int64</label>"
            ]
          },
          "metadata": {},
          "execution_count": 97
        }
      ],
      "source": [
        "# Count the number of null values in each column by running -> youtube_df.isnull().sum()\n",
        "youtube_df.isnull().sum()"
      ]
    },
    {
      "cell_type": "markdown",
      "id": "dbb2a987-4e7e-431e-85cf-2915be18a586",
      "metadata": {
        "id": "dbb2a987-4e7e-431e-85cf-2915be18a586"
      },
      "source": [
        "**Question 4: What are some options for handling the missing data?**"
      ]
    },
    {
      "cell_type": "markdown",
      "id": "6732784b-d97b-46cb-be88-e045f3c948e5",
      "metadata": {
        "id": "6732784b-d97b-46cb-be88-e045f3c948e5"
      },
      "source": [
        "Drop missing values\n",
        "Remove rows with missing entries if they're few and not essential.\n",
        "Example: youtube_df.dropna(inplace=True)\n",
        "\n",
        "Fill with a default value\n",
        "Replace missing values with a placeholder like 0, \"Unknown\", or \"N/A\".\n",
        "Example: youtube_df[\"column_name\"].fillna(\"Unknown\", inplace=True)\n",
        "\n",
        "Fill with statistical values\n",
        "Use the column's mean, median, or mode to fill gaps.\n",
        "Example: youtube_df[\"views\"].fillna(youtube_df[\"views\"].mean(), inplace=True)\n",
        "\n",
        "Use interpolation\n",
        "Estimate values based on nearby data points.\n",
        "Example: youtube_df[\"views\"].interpolate(method='linear', inplace=True)\n",
        "\n",
        "Leave them as-is\n",
        "If the missing data won’t affect your analysis, you can leave them untouched."
      ]
    },
    {
      "cell_type": "code",
      "execution_count": 98,
      "id": "62fcfecc-26aa-46eb-a2b0-60f007c0e619",
      "metadata": {
        "id": "62fcfecc-26aa-46eb-a2b0-60f007c0e619"
      },
      "outputs": [],
      "source": [
        "# Fill the missing values\n",
        "youtube_df.dropna(inplace=True)\n"
      ]
    },
    {
      "cell_type": "markdown",
      "id": "08aecfcd-3e38-4f5e-a3a9-8005c4defb38",
      "metadata": {
        "id": "08aecfcd-3e38-4f5e-a3a9-8005c4defb38"
      },
      "source": [
        "### Standardize Values"
      ]
    },
    {
      "cell_type": "code",
      "execution_count": 99,
      "id": "f4e981ae-9872-441e-9af2-fabe1ad45a9c",
      "metadata": {
        "id": "f4e981ae-9872-441e-9af2-fabe1ad45a9c"
      },
      "outputs": [],
      "source": [
        "# Convert trending_date to datetime format, removing 'Z' and parsing correctly\n",
        "youtube_df[\"trending_date\"] = pd.to_datetime(\n",
        "    youtube_df[\"trending_date\"].str.replace(\"Z\", \"\"), format=\"%Y-%m-%dT%H:%M:%S\"\n",
        ")"
      ]
    },
    {
      "cell_type": "markdown",
      "id": "3060ca8e-0b49-4328-bcd7-d812448802e4",
      "metadata": {
        "id": "3060ca8e-0b49-4328-bcd7-d812448802e4"
      },
      "source": [
        "### Explore Distributions"
      ]
    },
    {
      "cell_type": "code",
      "execution_count": null,
      "id": "f1e6296f-9ba5-468a-a256-7c3731c62198",
      "metadata": {
        "id": "f1e6296f-9ba5-468a-a256-7c3731c62198"
      },
      "outputs": [],
      "source": [
        "# Import matplotlib and seaborn by running this code\n",
        "import matplotlib.pyplot as plt\n",
        "import seaborn as sns"
      ]
    },
    {
      "cell_type": "code",
      "execution_count": null,
      "id": "2af7471d-20ed-4b12-85c0-114c49170dcf",
      "metadata": {
        "id": "2af7471d-20ed-4b12-85c0-114c49170dcf"
      },
      "outputs": [],
      "source": [
        "# Plot histograms for numerical columns\n",
        "for col in numerical_cols:\n",
        "    plt.figure(figsize=(8, 4))\n",
        "    sns.histplot(youtube_df[col], bins=50, kde=True)\n",
        "    plt.title(f\"Distribution of {col.capitalize()}\")\n",
        "    plt.xlabel(col.capitalize())\n",
        "    plt.ylabel(\"Frequency\")\n",
        "    plt.tight_layout()\n",
        "    plt.show()"
      ]
    },
    {
      "cell_type": "markdown",
      "id": "5b5987cd-57fa-42be-b1bf-fbc7378bcab6",
      "metadata": {
        "id": "5b5987cd-57fa-42be-b1bf-fbc7378bcab6"
      },
      "source": [
        "*Mental Note: Does the data follow normal distributions?  Are there extreme outlier?  If so, what could explain these?*"
      ]
    },
    {
      "cell_type": "markdown",
      "id": "a90dca50-0591-49bd-8204-672e86fdc0e7",
      "metadata": {
        "id": "a90dca50-0591-49bd-8204-672e86fdc0e7"
      },
      "source": [
        "Right-Skewed Distributions\n",
        "The views, likes, dislikes, and comment_count histograms are heavily right-skewed, meaning most videos have low to moderate engagement, while a few have extremely high numbers (viral content).\n",
        "\n",
        "Presence of Outliers\n",
        "There are clear outliers—some videos have millions of views, likes, and comments, far above the average. These likely come from highly popular creators or trending topics.\n",
        "\n",
        "Majority of Videos Have Low Interaction\n",
        "Most data points fall on the lower end of the scale, showing that while many videos trend, only a few dominate in terms of engagement.\n",
        "\n",
        "Non-Normal Distributions\n",
        "The data does not follow a normal distribution. This means using statistical measures like the mean might be misleading without accounting for skewness."
      ]
    },
    {
      "cell_type": "markdown",
      "id": "e58344c2-e3b8-4629-ac0a-07b96db29804",
      "metadata": {
        "id": "e58344c2-e3b8-4629-ac0a-07b96db29804"
      },
      "source": [
        "Double click and enter answer here"
      ]
    },
    {
      "cell_type": "code",
      "execution_count": null,
      "id": "282c6f51-9ddf-4d3e-8401-ee7d54e5b5f4",
      "metadata": {
        "id": "282c6f51-9ddf-4d3e-8401-ee7d54e5b5f4"
      },
      "outputs": [],
      "source": [
        "# Print list of column names by running -> youtube_df.columns\n",
        "youtube_df.columns"
      ]
    },
    {
      "cell_type": "markdown",
      "id": "eb898b4f-9aa6-4a30-9cbd-36fbfa24b277",
      "metadata": {
        "id": "eb898b4f-9aa6-4a30-9cbd-36fbfa24b277"
      },
      "source": [
        "### Explore Engagement Metrics"
      ]
    },
    {
      "cell_type": "code",
      "execution_count": null,
      "id": "965348ee-c18e-40b0-b09e-37a779c6b857",
      "metadata": {
        "id": "965348ee-c18e-40b0-b09e-37a779c6b857"
      },
      "outputs": [],
      "source": [
        "# Plot boxplots of engagement metrics (view_count, likes, what else???)\n",
        "engagement_cols = [\"views\", \"likes\", \"dislikes\", \"comment_count\"]\n"
      ]
    },
    {
      "cell_type": "markdown",
      "id": "606219e2-df25-4440-8de8-1934e7bbf879",
      "metadata": {
        "id": "606219e2-df25-4440-8de8-1934e7bbf879"
      },
      "source": [
        "**Question 6: What are some key observations from the boxplots?**"
      ]
    },
    {
      "cell_type": "markdown",
      "id": "f6c8315f-523f-4095-809b-5a99037bc518",
      "metadata": {
        "id": "f6c8315f-523f-4095-809b-5a99037bc518"
      },
      "source": [
        "Presence of Outliers\n",
        "All metrics—views, likes, dislikes, and comment_count—show extreme outliers. A small number of videos have much higher engagement than the rest.\n",
        "\n",
        "Skewed Data\n",
        "The distributions are heavily right-skewed, meaning most videos get lower engagement, and only a few go viral.\n",
        "\n",
        "Compact IQR\n",
        "The interquartile range (middle 50%) is narrow, showing that the majority of trending videos have moderate engagement compared to the outliers.\n",
        "\n",
        "Likes > Dislikes\n",
        "As expected, videos receive far more likes than dislikes, indicating overall positive engagement on trending content.\n",
        "\n",
        "Comment Count is Lower\n",
        "Comment counts are generally much lower than views or likes, which is typical since not all viewers engage by commenting."
      ]
    },
    {
      "cell_type": "code",
      "execution_count": null,
      "id": "dfefdb4a-afac-497b-a8c5-37cc9407f1a6",
      "metadata": {
        "scrolled": true,
        "id": "dfefdb4a-afac-497b-a8c5-37cc9407f1a6"
      },
      "outputs": [],
      "source": [
        "# Find videos with the highest engagement likes by running this code; remove triple quotes\n",
        "top_videos = youtube_df.sort_values(by=\"likes\", ascending=False).head(10)\n",
        "top_videos"
      ]
    },
    {
      "cell_type": "code",
      "execution_count": null,
      "id": "dd709316-e4bc-49f1-9e4f-0c61293ceae5",
      "metadata": {
        "id": "dd709316-e4bc-49f1-9e4f-0c61293ceae5"
      },
      "outputs": [],
      "source": [
        "# Display specific columns of top 10 videos by likes by running this code\n",
        "# Remove triple quotes\n",
        "'''\n",
        "top_videos[[\"title\", \"channelTitle\", \"likes\", \"view_count\", \"comment_count\"]]\n",
        "'''"
      ]
    },
    {
      "cell_type": "code",
      "execution_count": null,
      "id": "ef359948-a9bd-4e9d-a4e9-53d45b2f9761",
      "metadata": {
        "id": "ef359948-a9bd-4e9d-a4e9-53d45b2f9761"
      },
      "outputs": [],
      "source": [
        "# Adjust the following code to find videos with the highest comments\n",
        "\n",
        "# Adjust the following code to find videos with the highest comments\n",
        "# Replace 'channel_title' and 'views' with actual column names\n",
        "top_videos [[\"title\",\"channelTitle\",\"likes\",\"view_count\",\"comment_count\"]]"
      ]
    },
    {
      "source": [
        "# Adjust the following code to find videos with the highest comments\n",
        "# Replace 'channel_title' and 'views' with actual column names\n",
        "top_videos [[\"title\",\"channelTitle\",\"likes\",\"view_count\",\"comment_count\"]]"
      ],
      "cell_type": "code",
      "metadata": {
        "id": "OMd5LY1LwiU8"
      },
      "id": "OMd5LY1LwiU8",
      "execution_count": null,
      "outputs": []
    },
    {
      "cell_type": "code",
      "execution_count": null,
      "id": "9d0d057e-5293-4782-9d39-f1edb099917e",
      "metadata": {
        "id": "9d0d057e-5293-4782-9d39-f1edb099917e"
      },
      "outputs": [],
      "source": [
        "# Adjust the code above to find videos with the highest views\n",
        "# Enter code here"
      ]
    },
    {
      "cell_type": "markdown",
      "id": "9262440e-3238-4c5b-b204-7e15e29592d8",
      "metadata": {
        "id": "9262440e-3238-4c5b-b204-7e15e29592d8"
      },
      "source": [
        "### Feature Engineering"
      ]
    },
    {
      "cell_type": "code",
      "execution_count": null,
      "id": "73b1b5a7-5418-45bf-b041-07f3ac1c7231",
      "metadata": {
        "id": "73b1b5a7-5418-45bf-b041-07f3ac1c7231"
      },
      "outputs": [],
      "source": [
        "# Create new columns for year, month, day of the week, and hour of trending_date\n",
        "# Create new columns for year, month, day of the week, and hour of trending_date\n",
        "# Assuming you want to find videos with the highest views and store them in 'top_views'\n",
        "top_views = youtube_df.sort_values(by=\"view_count\", ascending=False).head(10)\n",
        "top_views[[\"title\", \"channelTitle\", \"view_count\", \"likes\", \"comment_count\"]]\n"
      ]
    },
    {
      "cell_type": "code",
      "execution_count": null,
      "id": "1183b31a-029b-49b5-a1a1-fc9f9e83220b",
      "metadata": {
        "id": "1183b31a-029b-49b5-a1a1-fc9f9e83220b"
      },
      "outputs": [],
      "source": [
        "# Verify your new columns are a part of the dataset by printing the column names"
      ]
    },
    {
      "cell_type": "code",
      "execution_count": null,
      "id": "ccb174c2-8039-4831-b3b2-f540c7ef5077",
      "metadata": {
        "id": "ccb174c2-8039-4831-b3b2-f540c7ef5077"
      },
      "outputs": [],
      "source": [
        "# Convert trending_date to datetime format, removing 'Z' and parsing correctly\n",
        "# Remvoe triple quotes\n",
        "'''\n",
        "youtube_df[\"trending_date\"] = pd.to_datetime(youtube_df[\"trending_date\"].str.replace(\"Z\", \"\"), format=\"%Y-%m-%dT%H:%M:%S\")\n",
        "\n",
        "# Convert trending_date to datetime format, removing 'Z' and parsing correctly\n",
        "youtube_df[\"publishedAt\"] = pd.to_datetime(youtube_df[\"publishedAt\"].str.replace(\"Z\", \"\"), format=\"%Y-%m-%dT%H:%M:%S\")\n",
        "'''"
      ]
    },
    {
      "cell_type": "markdown",
      "id": "c36415f9-3768-406c-bfc5-336ad96d442d",
      "metadata": {
        "id": "c36415f9-3768-406c-bfc5-336ad96d442d"
      },
      "source": [
        "Now that we have converted the trending_date and publishedAt columns into proper datetime format, we can use them to gain deeper insights into how long it takes for a video to trend after being published.\n",
        "\n",
        "📌 Why is this important?\n",
        "- Not all videos immediately trend after being uploaded.\n",
        "- Some videos go viral quickly, while others take days or weeks to gain traction.\n",
        "- Understanding the time-to-trend can help us analyze patterns in content virality and the impact of the YouTube algorithm.\n",
        "\n",
        "**Next Step: Calculating Time to Trend**\n",
        "\n",
        "We will create a new column, time_to_trend, which calculates the difference between when a video was published and when it first appeared in the trending list.\n",
        "\n",
        "💡 Run the following code to compute this:"
      ]
    },
    {
      "cell_type": "code",
      "execution_count": null,
      "id": "b2ba9d18-fc03-42a1-8f91-50dab7cea3ef",
      "metadata": {
        "id": "b2ba9d18-fc03-42a1-8f91-50dab7cea3ef"
      },
      "outputs": [],
      "source": [
        "# Create a new column for time between publish and trending\n",
        "youtube_df[\"trending_date\"] = pd.to_datetime(youtube_df[\"trending_date\"])\n",
        "youtube_df[\"publishedAt\"] = pd.to_datetime(youtube_df[\"publishedAt\"])\n"
      ]
    },
    {
      "cell_type": "markdown",
      "id": "516d3f86-f67e-4ac5-a29a-3ee66642cec2",
      "metadata": {
        "id": "516d3f86-f67e-4ac5-a29a-3ee66642cec2"
      },
      "source": [
        "Now that we've calculated time_to_trend, which represents the difference between when a video was published and when it trended, we need to make this value more interpretable.\n",
        "\n",
        "📌 Why Convert to Days and Hours?\n",
        "- The raw time difference is currently stored as a Timedelta object, which is useful for calculations but not intuitive for quick analysis.\n",
        "- Converting this into days and hours allows us to:\n",
        "- Compare how long different videos take to trend.\n",
        "- Analyze trends at a daily or hourly level.\n",
        "- Identify patterns, such as whether certain categories or video types tend to trend faster.\n",
        "\n",
        "**Next Step: Extracting Days and Hours from Time Difference**\n",
        "\n",
        "We will now convert time_to_trend into total days and hours using the total_seconds() function, which allows us to break down the difference into meaningful time units.\n",
        "\n",
        "💡 Run the following code:"
      ]
    },
    {
      "cell_type": "code",
      "execution_count": null,
      "id": "90336e31-91e2-4129-a27f-4044e9db7a45",
      "metadata": {
        "id": "90336e31-91e2-4129-a27f-4044e9db7a45"
      },
      "outputs": [],
      "source": [
        "# Remove triple quotes\n",
        "# Calculate total time difference in days, including partial days\n",
        "# Create a new column for time between publish and trending\n",
        "youtube_df[\"trending_date\"] = pd.to_datetime(youtube_df[\"trending_date\"])\n",
        "youtube_df[\"publishedAt\"] = pd.to_datetime(youtube_df[\"publishedAt\"])\n",
        "\n",
        "# Calculate the time difference and store it in 'time_to_trend' column\n",
        "youtube_df[\"time_to_trend\"] = youtube_df[\"trending_date\"] - youtube_df[\"publishedAt\"]\n",
        "\n",
        "# Calculate total time difference in days, including partial days"
      ]
    },
    {
      "cell_type": "markdown",
      "id": "df689400-9537-443b-997f-1824bf5bee0e",
      "metadata": {
        "id": "df689400-9537-443b-997f-1824bf5bee0e"
      },
      "source": [
        "**Question 8: What is the average time-to-trend in days and hours?**"
      ]
    },
    {
      "cell_type": "markdown",
      "id": "5e8bd5b9-e08e-4fa9-a8d8-e11cbf4ed630",
      "metadata": {
        "id": "5e8bd5b9-e08e-4fa9-a8d8-e11cbf4ed630"
      },
      "source": [
        "Double click and enter answer here"
      ]
    },
    {
      "cell_type": "markdown",
      "id": "8dd421c5-2ce7-4cf7-8064-770a3aac44d6",
      "metadata": {
        "id": "8dd421c5-2ce7-4cf7-8064-770a3aac44d6"
      },
      "source": [
        "---\n",
        "\n",
        "Now that we’ve calculated days and hours to trend, we can move beyond raw numbers and use visualizations to uncover trends and patterns in the data.\n",
        "\n",
        "📌 Why Use Visualizations?\n",
        "- Tables and raw numbers only tell part of the story—graphs help reveal patterns at a glance.\n",
        "- By plotting the distribution and trends of days_to_trend, we can answer key questions about how videos gain popularity.\n",
        "\n",
        "**Next Steps: Visualizing Time-to-Trend and Trending Patterns**\n",
        "\n",
        "We’ll now create basic visualizations to explore:  \n",
        "✅ When videos tend to trend (time of day, day of week, seasonality)  \n",
        "✅ The distribution of time-to-trend and whether there are outliers  \n",
        "✅ If there are patterns in how long it takes for videos to trend\n",
        "Basic Visualizations\n",
        "\n",
        "Now, let’s try to answer the following questions using visualizations:\n",
        "\n",
        "1️⃣ Which days see the most trending videos?  \n",
        "Hint: Try extracting the day of the week from trending_date and plot a bar chart."
      ]
    },
    {
      "cell_type": "code",
      "execution_count": null,
      "id": "ff0655a5-4ecc-478f-8fa5-374065da95c2",
      "metadata": {
        "id": "ff0655a5-4ecc-478f-8fa5-374065da95c2"
      },
      "outputs": [],
      "source": [
        "# Extract day of week from trending_date (e.g., Monday, Tuesday, etc.)\n",
        "youtube_df[\"trending_dayofweek\"] = youtube_df[\"trending_date\"].dt.day_name()\n",
        "\n",
        "import matplotlib.pyplot as plt\n",
        "import seaborn as sns\n",
        "\n",
        "# Count number of videos trending each day of the week\n",
        "plt.figure(figsize=(10, 5))\n",
        "sns.countplot(data=youtube_df, x=\"trending_dayofweek\", order=[\"Monday\", \"Tuesday\", \"Wednesday\", \"Thursday\", \"Friday\", \"Saturday\", \"Sunday\"])\n",
        "plt.title(\"Number of Trending Videos by Day of the Week\")\n",
        "plt.xlabel(\"Day of the Week\")\n",
        "plt.ylabel(\"Number of Videos\")\n",
        "plt.xticks(rotation=45)\n",
        "plt.tight_layout()\n",
        "plt.show()\n"
      ]
    },
    {
      "cell_type": "markdown",
      "id": "5d9225e6-1650-4537-881a-95a8c709e013",
      "metadata": {
        "id": "5d9225e6-1650-4537-881a-95a8c709e013"
      },
      "source": [
        "2️⃣ Which time of day sees the most trending videos?  \n",
        "Hint: Extract hour of the day and create a histogram to show when videos trend most often."
      ]
    },
    {
      "cell_type": "code",
      "execution_count": null,
      "id": "aa7f7a46-6634-468c-a7f4-b143f41698bc",
      "metadata": {
        "id": "aa7f7a46-6634-468c-a7f4-b143f41698bc"
      },
      "outputs": [],
      "source": [
        "youtube_df[\"trending_hour\"] = youtube_df[\"trending_date\"].dt.hour\n",
        "\n",
        "import matplotlib.pyplot as plt\n",
        "import seaborn as sns\n",
        "\n",
        "plt.figure(figsize=(10, 5))\n",
        "sns.histplot(data=youtube_df, x=\"trending_hour\", bins=24, kde=False)\n",
        "plt.title(\"Trending Videos by Hour of the Day\")\n",
        "plt.xlabel(\"Hour of the Day (0–23)\")\n",
        "plt.ylabel(\"Number of Videos\")\n",
        "plt.xticks(range(0, 24))\n",
        "plt.tight_layout()\n",
        "plt.show()"
      ]
    },
    {
      "cell_type": "markdown",
      "id": "d006ee86-e0e1-4258-9df9-7ad4875d099e",
      "metadata": {
        "id": "d006ee86-e0e1-4258-9df9-7ad4875d099e"
      },
      "source": [
        "3️⃣ Do more videos typically trend over the summer months?  \n",
        "Hint: Analyze seasonality by plotting trends across months."
      ]
    },
    {
      "cell_type": "code",
      "execution_count": null,
      "id": "5971f4c2-d737-4f27-9d2e-7995ade37e57",
      "metadata": {
        "id": "5971f4c2-d737-4f27-9d2e-7995ade37e57"
      },
      "outputs": [],
      "source": [
        "youtube_df[\"trending_month\"] = youtube_df[\"trending_date\"].dt.month\n",
        "\n",
        "import matplotlib.pyplot as plt\n",
        "import seaborn as sns\n",
        "\n",
        "# Set month names for readability\n",
        "month_names = [\n",
        "    \"January\", \"February\", \"March\", \"April\", \"May\", \"June\",\n",
        "    \"July\", \"August\", \"September\", \"October\", \"November\", \"December\"\n",
        "]\n",
        "\n",
        "plt.figure(figsize=(10, 5))\n",
        "sns.countplot(data=youtube_df, x=\"trending_month\")\n",
        "plt.title(\"Number of Trending Videos by Month\")\n",
        "plt.xlabel(\"Month\")\n",
        "plt.ylabel(\"Number of Videos\")\n",
        "plt.xticks(ticks=range(12), labels=month_names, rotation=45)\n",
        "plt.tight_layout()\n",
        "plt.show()\n"
      ]
    },
    {
      "cell_type": "markdown",
      "id": "7ab52f78-718b-4b14-a02d-ac9a175b3593",
      "metadata": {
        "id": "7ab52f78-718b-4b14-a02d-ac9a175b3593"
      },
      "source": [
        "4️⃣ Is there a significant number of outliers in trending videos?  \n",
        "Hint: A box plot of days_to_trend will help us identify extreme values."
      ]
    },
    {
      "cell_type": "code",
      "execution_count": null,
      "id": "11a087ce-e622-4887-9f40-6bbd0411594c",
      "metadata": {
        "id": "11a087ce-e622-4887-9f40-6bbd0411594c"
      },
      "outputs": [],
      "source": [
        "# Convert both columns to datetime and remove timezone info\n",
        "youtube_df[\"trending_date\"] = pd.to_datetime(youtube_df[\"trending_date\"]).dt.tz_localize(None)\n",
        "youtube_df[\"publishedAt\"] = pd.to_datetime(youtube_df[\"publishedAt\"]).dt.tz_localize(None)\n",
        "\n",
        "# Now safely create time_to_trend\n",
        "youtube_df[\"time_to_trend\"] = youtube_df[\"trending_date\"] - youtube_df[\"publishedAt\"]\n",
        "\n",
        "# Calculate total time difference in days, including partial days\n",
        "youtube_df[\"days_to_trend\"] = youtube_df[\"time_to_trend\"].dt.total_seconds() / (60 * 60 * 24)\n",
        "\n",
        "# Plot boxplot\n",
        "import matplotlib.pyplot as plt\n",
        "import seaborn as sns\n",
        "\n",
        "plt.figure(figsize=(10, 4))\n",
        "sns.boxplot(x=youtube_df[\"days_to_trend\"])\n",
        "plt.title(\"Box Plot of Days to Trend\")\n",
        "plt.xlabel(\"Days from Publish to Trending\")\n",
        "plt.tight_layout()\n",
        "plt.show()\n"
      ]
    },
    {
      "cell_type": "markdown",
      "id": "d8a0e92e-e743-4778-bfd0-c37ea5cd3d52",
      "metadata": {
        "id": "d8a0e92e-e743-4778-bfd0-c37ea5cd3d52"
      },
      "source": [
        "5️⃣ How long does it typically take for a video to trend after being published?\n",
        "\n",
        "Hint: Create a histogram of days_to_trend to visualize the distribution."
      ]
    },
    {
      "cell_type": "code",
      "execution_count": null,
      "id": "cff066c9-8210-4172-a5c0-6a0546569331",
      "metadata": {
        "id": "cff066c9-8210-4172-a5c0-6a0546569331"
      },
      "outputs": [],
      "source": [
        "import matplotlib.pyplot as plt\n",
        "import seaborn as sns\n",
        "\n",
        "plt.figure(figsize=(10, 5))\n",
        "sns.histplot(data=youtube_df, x=\"days_to_trend\", bins=30, kde=True)\n",
        "plt.title(\"Distribution of Days to Trend\")\n",
        "plt.xlabel(\"Days from Publish to Trending\")\n",
        "plt.ylabel(\"Number of Videos\")\n",
        "plt.tight_layout()\n",
        "plt.show()\n"
      ]
    },
    {
      "cell_type": "markdown",
      "id": "8eed52ad-9c65-4e14-9780-44ca25f890e5",
      "metadata": {
        "id": "8eed52ad-9c65-4e14-9780-44ca25f890e5"
      },
      "source": [
        "### Filtering Dataframes\n",
        "\n",
        "In real-world data analysis, filtering is an essential technique that allows us to focus on specific subsets of data that are most relevant to our investigation. Rather than analyzing the entire dataset at once—which can be overwhelming and filled with irrelevant information—we can narrow our focus to extract meaningful insights.\n",
        "\n",
        "📌 Why Filter a DataFrame?  \n",
        "- To analyze specific trends (e.g., identifying disinformation-related content).\n",
        "- To remove irrelevant data that may skew our analysis.\n",
        "- To explore targeted questions, such as which types of videos include certain keywords in their tags.\n",
        "\n",
        "Filtering on the **tags** Column\n",
        "\n",
        "In this case, we are particularly interested in the disinformation tag in trending YouTube videos. Since YouTube creators add tags to describe their videos, we can use this column to identify videos that explicitly mention \"disinformation.\"\n",
        "\n",
        "By filtering the dataset based on whether the tags contain the word \"disinformation,\" we can:  \n",
        "✅ Identify how many trending videos discuss disinformation.  \n",
        "✅ Determine which video categories or creators frequently use this term.  \n",
        "✅ Compare engagement metrics (views, likes, comments) between disinformation-related videos and other trending content.\n",
        "\n",
        "Now, let’s apply this filtering technique to extract all videos that include **\"disinformation\"**"
      ]
    },
    {
      "cell_type": "code",
      "execution_count": null,
      "id": "8340554f-9360-40e6-b5d9-6f5cac8512a3",
      "metadata": {
        "id": "8340554f-9360-40e6-b5d9-6f5cac8512a3"
      },
      "outputs": [],
      "source": [
        "# Remove triple quotes\n",
        "\n",
        "# Filter videos that mention \"disinformation\" in the tags\n",
        "disinfo = youtube_df[youtube_df['tags'].str.contains('disinformation', case=False)]\n",
        "disinfo\n"
      ]
    },
    {
      "cell_type": "markdown",
      "id": "af566fd1-dcba-4e07-b7fb-2d564c278f0c",
      "metadata": {
        "id": "af566fd1-dcba-4e07-b7fb-2d564c278f0c"
      },
      "source": [
        "*Mental Note: How many videos match this filer?  Do they have higher or lower engagement (views, likes, comments) compared to other videos?*"
      ]
    },
    {
      "cell_type": "code",
      "source": [],
      "metadata": {
        "id": "Td9jTPwlFPNW"
      },
      "id": "Td9jTPwlFPNW",
      "execution_count": null,
      "outputs": []
    },
    {
      "cell_type": "code",
      "execution_count": null,
      "id": "91e9ac07-d089-4f16-ab9e-d1b6215a3569",
      "metadata": {
        "id": "91e9ac07-d089-4f16-ab9e-d1b6215a3569"
      },
      "outputs": [],
      "source": [
        "# Modify the code above to filter rows based on any tag of interest\n",
        "# Filter videos with the tag \"trump\"\n",
        "tag_1 = youtube_df[youtube_df['tags'].str.contains('trump', case=False)]\n",
        "tag_1\n"
      ]
    },
    {
      "cell_type": "markdown",
      "id": "0ae32aa6-d081-4912-84ca-6991ed4d69d0",
      "metadata": {
        "id": "0ae32aa6-d081-4912-84ca-6991ed4d69d0"
      },
      "source": [
        "### Aggregating data\n",
        "Now that we’ve learned how to filter the dataset to focus on specific topics, the next step is to aggregate the data to uncover broader patterns.\n",
        "\n",
        "📌 Why Aggregate Data?  \n",
        "While filtering allows us to zoom in on specific videos, aggregation helps us summarize trends across multiple entries.\n",
        "\n",
        "**Aggregation allows us to answer questions like:**  \n",
        "    ✅ Which channels post the most videos on a given topic?  \n",
        "    ✅ Are certain content creators or networks consistently producing trending content with specific tags?  \n",
        "    ✅ How does the frequency of a topic vary across different creators?\n",
        "\n",
        "📌 Why Group by channelId?\n",
        "- By grouping the dataset by channelId, we can analyze how many unique videos each channel has posted with a given tag.\n",
        "- This helps identify which channels contribute the most content related to a specific topic, such as political content or misinformation.\n",
        "\n",
        "**Next Step: Aggregating Video Counts for Specific Tags**\n",
        "\n",
        "To demonstrate this, we’ll filter videos that contain the tag \"Trump\", and then identify which channels post the most videos with this tag.\n",
        "\n",
        "💡 Run the following code:"
      ]
    },
    {
      "cell_type": "code",
      "execution_count": null,
      "id": "db018fa1-0943-4f0e-a9cf-36187dd525bc",
      "metadata": {
        "scrolled": true,
        "id": "db018fa1-0943-4f0e-a9cf-36187dd525bc"
      },
      "outputs": [],
      "source": [
        "#Remove triple quotes\n",
        "# Count unique videos per channel using channelId\n",
        "tag_1.groupby('channelId')['video_id'].nunique().sort_values(ascending=False).head(20)\n"
      ]
    },
    {
      "cell_type": "code",
      "execution_count": null,
      "id": "cd5bfb31-1a7d-44b6-b211-50f19f0c5d36",
      "metadata": {
        "id": "cd5bfb31-1a7d-44b6-b211-50f19f0c5d36"
      },
      "outputs": [],
      "source": [
        "#Remove triple quotes\n",
        "'''\n",
        "#Identify if specific channels post more videos with this tag than others\n",
        "tag_1.groupby('channelId')['video_id'].nunique().sort_values().tail(20)\n",
        "'''"
      ]
    },
    {
      "cell_type": "code",
      "execution_count": null,
      "id": "8c47fc96-9aa9-47da-a514-db833cb758b2",
      "metadata": {
        "id": "8c47fc96-9aa9-47da-a514-db833cb758b2"
      },
      "outputs": [],
      "source": [
        "# Try the above code grouping by ChannelTitle\n",
        "# Count unique videos per channel using channelTitle\n",
        "tag_1.groupby('channelTitle')['video_id'].nunique().sort_values(ascending=False).head(20)\n"
      ]
    },
    {
      "cell_type": "markdown",
      "id": "3957ea81-ede6-452a-954b-7c3e8fc0d003",
      "metadata": {
        "id": "3957ea81-ede6-452a-954b-7c3e8fc0d003"
      },
      "source": [
        "*Mental Note: Which channels frequently post videos with this tag?  Are the most active channelgs news-based, political, or entertainment focused?*"
      ]
    },
    {
      "cell_type": "code",
      "execution_count": null,
      "id": "5c054553-13b5-4163-a2c2-55ec059cbd5a",
      "metadata": {
        "id": "5c054553-13b5-4163-a2c2-55ec059cbd5a"
      },
      "outputs": [],
      "source": [
        "# Count of videos with the tag, grouped by channel title\n",
        "top_tag_channels = tag_1.groupby(\"channelTitle\")[\"video_id\"].nunique().sort_values(ascending=False).head(10)\n",
        "print(top_tag_channels)\n"
      ]
    },
    {
      "cell_type": "code",
      "execution_count": null,
      "id": "01ba9ecd-f7c0-44fd-b266-3e387d60af13",
      "metadata": {
        "id": "01ba9ecd-f7c0-44fd-b266-3e387d60af13"
      },
      "outputs": [],
      "source": [
        "# Bar plot of top 10 channels with most tagged videos\n",
        "import matplotlib.pyplot as plt\n",
        "import seaborn as sns\n",
        "\n",
        "plt.figure(figsize=(10, 6))\n",
        "sns.barplot(x=top_tag_channels.values, y=top_tag_channels.index, palette=\"viridis\")\n",
        "plt.title(\"Top 10 Channels Posting Videos Tagged with 'Trump'\")\n",
        "plt.xlabel(\"Number of Videos\")\n",
        "plt.ylabel(\"Channel Title\")\n",
        "plt.tight_layout()\n",
        "plt.show()\n"
      ]
    },
    {
      "cell_type": "code",
      "execution_count": null,
      "id": "8ccabe20-0055-48f9-beb0-c05804a7fb44",
      "metadata": {
        "id": "8ccabe20-0055-48f9-beb0-c05804a7fb44"
      },
      "outputs": [],
      "source": [
        "# Compare mean views, likes, and comments of tagged videos\n",
        "tag_engagement = tag_1[[\"view_count\", \"likes\", \"comment_count\"]].mean() # Changed 'like_count' to 'likes'\n",
        "overall_engagement = youtube_df[[\"view_count\", \"likes\", \"comment_count\"]].mean() # Changed 'like_count' to 'likes'\n",
        "\n",
        "comparison_df = pd.DataFrame({\n",
        "    \"Tagged ('Trump') Videos\": tag_engagement,\n",
        "    \"All Videos\": overall_engagement\n",
        "})\n",
        "comparison_df\n"
      ]
    },
    {
      "cell_type": "code",
      "execution_count": null,
      "id": "a2b78c98-5560-4cbd-ad21-3e9c5e5aa1c5",
      "metadata": {
        "id": "a2b78c98-5560-4cbd-ad21-3e9c5e5aa1c5"
      },
      "outputs": [],
      "source": [
        "# Compare mean views, likes, and comments of tagged videos\n",
        "tag_engagement = tag_1[[\"view_count\", \"likes\", \"comment_count\"]].mean() # Changed 'like_count' to 'likes'\n",
        "overall_engagement = youtube_df[[\"view_count\", \"likes\", \"comment_count\"]].mean() # Changed 'like_count' to 'likes'\n",
        "\n",
        "comparison_df = pd.DataFrame({\n",
        "    \"Tagged ('Trump') Videos\": tag_engagement,\n",
        "    \"All Videos\": overall_engagement\n",
        "})\n",
        "\n",
        "\n",
        "# Now you can use comparison_df to create the plot\n",
        "comparison_df.plot(kind='bar', figsize=(10,5))\n",
        "plt.title(\"Average Engagement: Tagged vs. All Trending Videos\")\n",
        "plt.ylabel(\"Average Count\")\n",
        "plt.xticks(rotation=0)\n",
        "plt.tight_layout()\n",
        "plt.show()"
      ]
    },
    {
      "cell_type": "markdown",
      "id": "9ac19200-71f6-4109-87fc-a2dde73913f7",
      "metadata": {
        "id": "9ac19200-71f6-4109-87fc-a2dde73913f7"
      },
      "source": [
        "---\n",
        "\n",
        "🧠 In 2–3 sentences, summarize one trend or anomaly you found. What might explain it? How would you investigate further?"
      ]
    },
    {
      "cell_type": "markdown",
      "id": "1b88a8e9-58bc-4f43-bfad-feccac8df320",
      "metadata": {
        "id": "1b88a8e9-58bc-4f43-bfad-feccac8df320"
      },
      "source": [
        "One clear trend is that most trending videos appear within 1–3 days of being published, but there are noticeable outliers that take significantly longer—sometimes weeks—to trend. This could be due to delayed virality sparked by news coverage, influencer shares, or YouTube's recommendation algorithm. To investigate further, I would analyze the content, tags, and engagement patterns of these late-trending videos to identify common triggers"
      ]
    },
    {
      "cell_type": "markdown",
      "id": "a96e3671-87e4-4dfd-b6c9-f25c3f0cced4",
      "metadata": {
        "id": "a96e3671-87e4-4dfd-b6c9-f25c3f0cced4"
      },
      "source": [
        "---\n",
        "Once complete, please submit by saving your ipynb file to the [Assignment 5 Student Submissions Folder](https://github.com/BevRice/CMI_Course/tree/main/Student_Submissions/Assignment_5)\n",
        "\n",
        "In order to do so you will need to complete the following ([screenshots found here](https://github.com/BevRice/CMI_Course/blob/main/Student_Submissions/Submitting%20ipynb.pdf)):\n",
        "\n",
        "1. Accept the invitation to be a contributer to the repository if you haven't already done so.  You should have received an email at the address linked to your github account.  You can also accept the invitation by logging into github, clicking the notifications icon, and viewing the invitation from there.\n",
        "\n",
        "2. From Google Colab\n",
        "- a. Click File\n",
        "- b. Click Download\n",
        "- c. Select Download .ipynb\n",
        "\n",
        "3. Go to the submissions folder and click \"Add File\" then \"Upload File\"\n",
        "\n",
        "4. Drag and drop the file into github or click on \"choose your files\"; please make sure the file name has your first or last name in it otherwise it may overwrite another's assignment\n",
        "\n",
        "5. Add a comment under \"Commit changes\" where it says \"Add file via upload\"; this comment can be \"Student X Assignment Y Submission\"; then click Commit changes\n",
        "\n",
        "Please upload to the folder by 11:59pm, Fri 28 Mar\n",
        "\n",
        "If you can't finish the assignment in a single session, you can save the file locally and reopen the file in Google Colab by going to File -> Upload Notebook -> Upload -> Browse -> Select your file"
      ]
    },
    {
      "cell_type": "markdown",
      "id": "431d383c-4d4c-460e-b6e9-243ebc1ab695",
      "metadata": {
        "id": "431d383c-4d4c-460e-b6e9-243ebc1ab695"
      },
      "source": [
        "---"
      ]
    },
    {
      "cell_type": "markdown",
      "id": "1d208a59-416f-41c4-b0c5-57b3f01c6b5a",
      "metadata": {
        "id": "1d208a59-416f-41c4-b0c5-57b3f01c6b5a"
      },
      "source": [
        "Grading Criteria (20 Points Total)\n",
        "\n",
        "- ✅ Code Completeness (5 pts) → Attempts all coding exercises\n",
        "- ✅ Code Accuracy (2 pts) -> No errors in executions\n",
        "- ✅ Interpretation of Results (8 pts) → Thoughtful answers to questions 1-8\n",
        "- ✅ Summary of at leasnt one trend or anomaly found (5 pts) →"
      ]
    },
    {
      "cell_type": "markdown",
      "id": "a7c9e0cc-d0e4-409a-b53f-b62e7619ef98",
      "metadata": {
        "id": "a7c9e0cc-d0e4-409a-b53f-b62e7619ef98"
      },
      "source": [
        "[Provide Anonymous Feedback on this Assignment Here](https://forms.gle/4ZRmNr5rmGCAR1Re6)"
      ]
    }
  ],
  "metadata": {
    "kernelspec": {
      "display_name": "Python 3 (ipykernel)",
      "language": "python",
      "name": "python3"
    },
    "language_info": {
      "codemirror_mode": {
        "name": "ipython",
        "version": 3
      },
      "file_extension": ".py",
      "mimetype": "text/x-python",
      "name": "python",
      "nbconvert_exporter": "python",
      "pygments_lexer": "ipython3",
      "version": "3.13.2"
    },
    "colab": {
      "provenance": []
    }
  },
  "nbformat": 4,
  "nbformat_minor": 5
}