{
 "cells": [
  {
   "cell_type": "markdown",
   "id": "f391d88b-bc40-4380-bfac-249445c7f733",
   "metadata": {},
   "source": [
    "# 📝 Assignment 6"
   ]
  },
  {
   "cell_type": "markdown",
   "id": "9b57d585-2ac6-48e5-8e48-21ad355a5550",
   "metadata": {},
   "source": [
    "## Strategic MDM Interventions – Scenario-Based Strategy Analysis\n",
    "\n",
    "⏳ Estimated Duration: 2–3 Hours  \n",
    "🎯 Due: @ 11:59pm Friday, 4 April\n",
    "\n",
    "### Assignment Overview\n",
    "\n",
    "This assignment challenges you to apply your understanding of **strategic interventions to counter MDM** in real-world scenarios. Drawing on the ten intervention categories discussed in Lesson 9—from supporting local journalism to changing recommentation algorithms—you’ll analyze scenarios involving complex MDM threats and propose effective, context-sensitive responses.\n",
    "\n",
    "You’ll choose **two out of five scenarios** below and recommend **2–3 strategic interventions** for each. Then, you’ll engage with at least **two peers' responses**, using constructive critique to expand the discussion—even if your preferred interventions were already proposed.\n",
    "\n",
    "---\n",
    "\n",
    "## 📌 Instructions\n",
    "\n",
    "### Step 1: Review the Scenarios Below\n",
    "\n",
    "Choose **two** of the following five scenarios to respond to.\n",
    "\n",
    "#### 📍 Scenario 1 – Disinformation During a Natural Disaster in the Philippines  \n",
    "A tropical cyclone strikes the Philippines, and within hours, social media is flooded with false reports of dam collapses, looting, and contaminated water. A mix of local Facebook groups, TikTok videos, and WhatsApp forwards intensify public panic. Mainstream media struggles to respond quickly, and some users blame the government for withholding information.\n",
    "\n",
    "#### 📍 Scenario 2 – Election Interference in Papua New Guinea  \n",
    "During national elections, a wave of deepfake videos and AI-generated political ads circulate online, falsely showing candidates endorsing opposition parties. The election commission lacks the technical expertise to detect or respond to synthetic media. Local journalists attempt to counter the narratives but face threats from unknown accounts.\n",
    "\n",
    "#### 📍 Scenario 3 – Religious Disinformation in India  \n",
    "A coordinated network of accounts spreads disinformation about a minority religious group, falsely claiming it is linked to a foreign intelligence service. The content goes viral on Telegram and YouTube, stoking communal tension and leading to local protests. Fact-checkers issue corrections, but the narrative keeps re-emerging with slight variations.\n",
    "\n",
    "#### 📍 Scenario 4 – Foreign Influence Operation Targeting Taiwan  \n",
    "In the lead-up to Taiwan’s presidential election, a suspected state-sponsored campaign begins spreading misinformation through seemingly authentic social media accounts. The content includes conspiracy theories about election rigging, undermining trust in democratic institutions. International observers call for digital transparency, but platform response is slow and opaque.\n",
    "\n",
    "#### 📍 Scenario 5 – Viral Health Misinformation in Rural Indonesia  \n",
    "A viral WhatsApp message claims a newly released vaccine contains harmful ingredients and is part of a foreign plot. The message includes manipulated images and fabricated endorsements from local doctors. The health ministry denies the claims but has little reach in rural provinces, where trust in government sources is low and access to verified information is limited.\n",
    "\n",
    "---\n",
    "\n",
    "### Step 2: Respond to Two Scenarios on [GitHub Discussions Assignment 6](https://github.com/BevRice/CMI_Course/discussions/13)\n",
    "\n",
    "For each of your two selected scenarios:\n",
    "- Propose **2–3 strategic interventions** from Lesson 9 that would be most effective.\n",
    "- Justify your selections using evidence and regional context.\n",
    "\n",
    "> ✨ You may focus on:\n",
    "> - **Preventative strategies** (i.e., interventions that could have reduced the risk before MDM took hold)  \n",
    "> - **Responsive strategies** (i.e., interventions that could minimize harm or help recover once MDM is already active)  \n",
    "> - Or a **combination of both**, depending on what you believe is most effective in that situation.\n",
    "\n",
    "> 💡 If another student has already suggested the most obvious or effective intervention, acknowledge their point, then argue for an **alternative or complementary strategy** to expand the overall discussion.\n",
    "\n",
    "---\n",
    "\n",
    "### Step 3: Engage with Your Peers\n",
    "\n",
    "In addition to your response, you must comment on **at least two peer entries**, offering:\n",
    "- Alternative strategies or adaptations\n",
    "- Constructive critique or support\n",
    "- Relevant case studies or regional parallels\n",
    "\n",
    "This part of the assignment ensures that you're engaging with the complexity and diversity of approaches to countering MDM threats.\n",
    "\n",
    "---\n",
    "\n",
    "### 📌 Evaluation Criteria (10 Points Total)\n",
    "\n",
    "| Criterion | Points | Description |\n",
    "|----------|--------|-------------|\n",
    "| **Strategic Insight** | 4 pts | Demonstrates clear understanding of the scenario and applies appropriate MDM strategies. |\n",
    "| **Use of Evidence** | 1 pt | Supports proposals with examples from the Indo-Pacific, course materials, or research articles. |\n",
    "| **Clarity & Organization** | 1 pt | Responses are well-written, structured, and free of major errors. |\n",
    "| **Peer Engagement** | 4 pts | Responds thoughtfully to at least two peer submissions. |\n",
    "\n",
    "---\n",
    "\n",
    "### 💡 Why This Matters\n",
    "\n",
    "MDM doesn't follow a single script—sometimes it surges in a crisis, other times it festers slowly. The most effective responses combine **foresight with flexibility**. This assignment helps you explore how strategic interventions can be applied **before**, **during**, or **after** an MDM threat arises—preparing you for dynamic real-world decision-making.\n",
    "\n",
    "---\n"
   ]
  },
  {
   "cell_type": "markdown",
   "id": "6fc7e588-3639-4dfb-9799-1c6b578bb1aa",
   "metadata": {},
   "source": [
    "[Provide Anonymous Feedback on this Assignment Here](https://forms.gle/4ZRmNr5rmGCAR1Re6)"
   ]
  }
 ],
 "metadata": {
  "kernelspec": {
   "display_name": "Python 3 (ipykernel)",
   "language": "python",
   "name": "python3"
  },
  "language_info": {
   "codemirror_mode": {
    "name": "ipython",
    "version": 3
   },
   "file_extension": ".py",
   "mimetype": "text/x-python",
   "name": "python",
   "nbconvert_exporter": "python",
   "pygments_lexer": "ipython3",
   "version": "3.13.2"
  }
 },
 "nbformat": 4,
 "nbformat_minor": 5
}
