{
 "cells": [
  {
   "cell_type": "markdown",
   "id": "951517af-1e98-4d62-8950-9dd55e1f393b",
   "metadata": {
    "editable": true,
    "slideshow": {
     "slide_type": ""
    },
    "tags": []
   },
   "source": [
    "# 🎤 Defense Threat Reduction Agency"
   ]
  },
  {
   "cell_type": "markdown",
   "id": "ed8b98e3-3477-4ff5-822e-0f9596f3edc9",
   "metadata": {},
   "source": [
    "Date: Tuesday, 25 March @ 1pm  \n",
    "[Zoom Link](https://us06web.zoom.us/j/87850495731?pwd=3AeGx7WNTVA6g0jQww3DJf2tRxOkXU.1)"
   ]
  },
  {
   "cell_type": "markdown",
   "id": "d602957f-2c0d-487c-8d65-688642319b69",
   "metadata": {},
   "source": [
    "![sgarlata2](../_static/Sgarlata_Bio.png)"
   ]
  },
  {
   "cell_type": "markdown",
   "id": "bc8dc142-e9b3-4713-84b6-73e04677344f",
   "metadata": {},
   "source": [
    "Optional Reading: [GAO Foreign Disinformation: Defining and Detecting Threats](https://github.com/BevRice/CMI_Course/blob/main/docs/source/textbook_and_papers/Foreign%20Disinformation_GAO.pdf)"
   ]
  }
 ],
 "metadata": {
  "kernelspec": {
   "display_name": "Python 3 (ipykernel)",
   "language": "python",
   "name": "python3"
  },
  "language_info": {
   "codemirror_mode": {
    "name": "ipython",
    "version": 3
   },
   "file_extension": ".py",
   "mimetype": "text/x-python",
   "name": "python",
   "nbconvert_exporter": "python",
   "pygments_lexer": "ipython3",
   "version": "3.13.2"
  }
 },
 "nbformat": 4,
 "nbformat_minor": 5
}
