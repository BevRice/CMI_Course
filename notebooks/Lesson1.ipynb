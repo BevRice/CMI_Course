{
 "cells": [
  {
   "cell_type": "markdown",
   "id": "4a44b17f-1bba-4e2b-a6ac-068205e74f1f",
   "metadata": {
    "editable": true,
    "slideshow": {
     "slide_type": ""
    },
    "tags": []
   },
   "source": [
    "# 📚 What is MDM?"
   ]
  },
  {
   "cell_type": "markdown",
   "id": "3f5e30d1-a811-446d-9fe5-19ac99b37e54",
   "metadata": {
    "editable": true,
    "slideshow": {
     "slide_type": ""
    },
    "tags": []
   },
   "source": [
    "<big> Watch & Listen or Read Through</big>"
   ]
  },
  {
   "cell_type": "code",
   "execution_count": 1,
   "id": "8dcafcf3-0d2a-4032-9e86-39ae84aa5ecc",
   "metadata": {
    "execution": {
     "iopub.execute_input": "2025-03-28T06:28:26.160143Z",
     "iopub.status.busy": "2025-03-28T06:28:26.159519Z",
     "iopub.status.idle": "2025-03-28T06:28:26.822718Z",
     "shell.execute_reply": "2025-03-28T06:28:26.821435Z"
    }
   },
   "outputs": [
    {
     "data": {
      "image/jpeg": "[encoded data removed]",
      "text/html": [
       "\n",
       "        <iframe\n",
       "            width=\"600\"\n",
       "            height=\"450\"\n",
       "            src=\"https://www.youtube.com/embed/aKcqoPOIvfE\"\n",
       "            frameborder=\"0\"\n",
       "            allowfullscreen\n",
       "            \n",
       "        ></iframe>\n",
       "        "
      ],
      "text/plain": [
       "<IPython.lib.display.YouTubeVideo at 0x25f8d79c440>"
      ]
     },
     "execution_count": 1,
     "metadata": {},
     "output_type": "execute_result"
    }
   ],
   "source": [
    "#Import appropriate library\n",
    "from IPython.display import YouTubeVideo\n",
    "YouTubeVideo(\"aKcqoPOIvfE\", width=600, height=450)"
   ]
  },
  {
   "cell_type": "markdown",
   "id": "92951dfd-59e3-4668-bcc7-79a47e21affe",
   "metadata": {},
   "source": [
    "---\n",
    "\n",
    "**Slides and transcripts are below**"
   ]
  },
  {
   "cell_type": "markdown",
   "id": "8f848696-b085-4c13-8858-ab2ac509e294",
   "metadata": {},
   "source": [
    "![Slide1](../_static/Slide1.png)"
   ]
  },
  {
   "cell_type": "markdown",
   "id": "e76490f5-e49a-4202-a88b-1efcd478c341",
   "metadata": {},
   "source": [
    "Welcome to the first lecture of the course, Introduction to Misinformation and Disinformation. Today, we’ll explore what information is, how misinformation and disinformation differ, and how these concepts have evolved throughout history. By the end of this lecture, you’ll have a solid understanding of these terms and their broader implications."
   ]
  },
  {
   "cell_type": "markdown",
   "id": "bac94b66-5aca-4a57-b398-bf9a0c0a4fe5",
   "metadata": {},
   "source": [
    "![Slide3](../_static/Slide3.png)"
   ]
  },
  {
   "cell_type": "markdown",
   "id": "0b1c6d7e-cf72-4f15-979f-7aa8929d1dfc",
   "metadata": {},
   "source": [
    "Before we can understand misinformation and disinformation, we first need to define information itself.\n",
    "\n",
    "Data consists of raw, unprocessed facts and figures. By itself, data lacks context and interpretation—it’s just numbers, words, or measurements.\n",
    "\n",
    "Information, on the other hand, is processed, organized, or structured data that provides meaning and knowledge. It has context, making it useful for decision-making and communication.\n",
    "\n",
    "Here are four key characteristics of information:  \n",
    "    - 1.\tIt’s organized—structured in a way that makes sense.  \n",
    "    - 2.\tIt’s contextualized—relevant to a specific situation.  \n",
    "    - 3.\tIt’s communicable—it can be shared and understood by others.  \n",
    "    - 4.\tIt’s actionable—it helps us make informed decisions.\n",
    "\n",
    "For example, a news report structures and summarizes current events. A weather forecast interprets temperature and atmospheric data to predict upcoming conditions. A bank statement organizes financial transactions, while a scientific paper presents research findings with analysis and context."
   ]
  },
  {
   "cell_type": "markdown",
   "id": "8a8de20f-0626-4877-baa2-fd820f212e90",
   "metadata": {},
   "source": [
    "![Slide4](../_static/Slide4.png)"
   ]
  },
  {
   "cell_type": "markdown",
   "id": "1501df1d-b88f-4854-ab0b-72cb37d937c8",
   "metadata": {},
   "source": [
    "## 🔹 MDM History"
   ]
  },
  {
   "cell_type": "markdown",
   "id": "5f0dbcff-5c52-4bd6-bce0-eed31b7108a5",
   "metadata": {},
   "source": [
    "So let’s talk about misinformation and disinformation.\n",
    "\n",
    "If you look up these terms on ChatGPT, Google, DuckDuckGo, or even in peer-reviewed academic papers, you’ll quickly realize that there’s no universal consensus on their definitions.\n",
    "One paper, Defining Misinformation and Related Terms in Health-Related Literature, analyzed 75 different definitions for misinformation. Even experts in the field disagree on whether things like propaganda or satire should be classified as misinformation.\n",
    "\n",
    "For this course, we’ll use a broad framework that aligns with common discussions on the topic. However, understand that definitions vary depending on who you ask.\n",
    "At its core, misinformation and disinformation refer to false or misleading information—but the key difference is intent.\n",
    "\n",
    "Let’s break this down using the graphic on the slide:  \n",
    "    •\tMisinformation occurs when someone shares false or misleading information without malicious intent. They genuinely believe it’s true and spread it to inform or help others.  \n",
    "    •\tDisinformation is deliberately created or spread to manipulate, deceive, or serve an agenda.  \n",
    "    \n",
    "For example, imagine someone sharing an anti-vaccine article:  \n",
    "    •\tYour aunt might forward it because she truly believes vaccines are harmful and wants to warn people. That would be misinformation.  \n",
    "    •\tYour neighbor, however, runs an anti-vaccine Instagram page and deliberately posts the same article to stir controversy, increase engagement, and earn more money from ads. That would be disinformation.\n",
    "\n",
    "While intent is a key factor, it’s not always clear-cut. Some content creators may claim they were ‘just joking’ or ‘raising questions’ to avoid responsibility, even if their messaging spreads falsehoods. In these cases, context, patterns of behavior, and motivations become important factors in determining intent.  While the terms are modern, the concepts are ancient...humans have been spreading misleading information for centuries.\n"
   ]
  },
  {
   "cell_type": "markdown",
   "id": "c15d913a-1a02-4c7d-af40-de92db2f9b7a",
   "metadata": {},
   "source": [
    "![Slide5](../_static/Slide5.png)"
   ]
  },
  {
   "cell_type": "markdown",
   "id": "0bb2b75c-86b2-4718-be95-1c5385e20c5b",
   "metadata": {},
   "source": [
    "Throughout history, people have used myths, legends, and falsehoods to explain natural events, uphold power, and shape societal beliefs.\n",
    "\n",
    "Take Norse mythology—the idea that Thor’s hammer caused thunder. While this explanation made sense to people at the time, it’s not scientifically accurate. If taken literally, it could be considered misinformation.\n",
    "\n",
    "Similarly, consider the Divine Right of Kings—the belief that monarchs ruled because of God’s will. This concept was reinforced through religious texts, myths, and propaganda, which helped keep monarchs in power. Because it was often deliberately spread to justify rule and control people, it falls under disinformation.\n",
    "\n",
    "A more harmful historical example is Blood Libel—an antisemitic falsehood from the Middle Ages accusing Jewish people of ritual murder. This started as misinformation, based on existing prejudices, but it became disinformation when leaders intentionally spread it to vilify Jewish communities.\n",
    "\n",
    "With the invention of printing, misinformation and disinformation became easier to spread and harder to erase. The oldest surviving printed book, the Diamond Sutra, is depicted above and has preserved and disseminated its ideas over generations.  Printed materials, whether accurate or not, have the ability to preserve misinformation over time.  It can also give certain ideologies and narratives longevity, sometimes solidifying them as historical truths even if they were misleading. The Gutenberg Press took this further, enabling the mass production of texts, meaning false information could reach more people faster—a trend we’ll see repeating in later eras.\n"
   ]
  },
  {
   "cell_type": "markdown",
   "id": "d8457439-6cab-41da-9784-09ef5f89067a",
   "metadata": {},
   "source": [
    "![Slide6](../_static/Slide6.png)"
   ]
  },
  {
   "cell_type": "markdown",
   "id": "3b1c877f-2d4b-4d9a-8cc2-5403ef02d74f",
   "metadata": {},
   "source": [
    "During the late 17th to 18th centuries, print media exploded.\n",
    "\n",
    "Political propaganda was widespread, used both to support political factions and discredit opponents. Enlightenment thinkers, who challenged traditional religious and governmental authorities, often became targets of misinformation campaigns. Ironically, these same thinkers sometimes used disinformation against their adversaries as well.  For example, Voltaire, an advocate for free speech, secularism, and reason used satire and fabricated stories to attack the Catholic Church and Monarchy.\n",
    "\n",
    "Beyond books, new forms of media emerged to include pamphlets, newspapers, and periodicals.  This made information more engaging, visually appealing, and digestible.\n"
   ]
  },
  {
   "cell_type": "markdown",
   "id": "1cfb73a0-6e8d-4546-87db-71c43fc3f319",
   "metadata": {},
   "source": [
    "![Slide7](../_static/Slide7.png)"
   ]
  },
  {
   "cell_type": "markdown",
   "id": "d0303ad8-6e8a-4381-b3b9-5a7a98db24d9",
   "metadata": {},
   "source": [
    "By the 19th and early 20th centuries, sensationalized journalism—or yellow journalism—took off.\n",
    "\n",
    "Yellow journalism intensifed the appeal to emotion, and relied on exaggerations, fear-mongering, and scandals to attract readers. Competing newspapers in the 1890s used dramatic headlines, faked interviews, and fabricated events to sell copies.\n",
    "\n",
    "At the same time, governments were actively using propaganda.\n",
    "During World War I, both Allied and Central Powers ran campaigns to sway public opinion and justify their actions. False reports of enemy atrocities were widely circulated to demonize opponents.\n",
    "\n",
    "By World War II, these tactics evolved into full-scale deception operations, such as Operation Bodyguard, where the Allies used fake radio transmissions and inflatable tanks to mislead the Germans about the D-Day invasion.  This can be categorized as strategy but nevertheless illustrates the use of disinformation.\n"
   ]
  },
  {
   "cell_type": "markdown",
   "id": "a6cba160-051c-46cd-9ba2-cfe0cc6389b6",
   "metadata": {},
   "source": [
    "![Slide8](../_static/Slide8.png)"
   ]
  },
  {
   "cell_type": "markdown",
   "id": "47400966-b058-4ca1-9c89-0b6a54f56bdf",
   "metadata": {},
   "source": [
    "During the Cold War, misinformation and disinformation became key tools of statecraft. Intelligence agencies, propaganda ministries, and media outlets were mobilized to distort facts, manufacture narratives, and suppress dissenting viewpoints.\n",
    "\n",
    "The KGB ran extensive disinformation campaigns, including fabricating documents, planting false stories in Western media, and supporting front organizations to spread anti-American sentiments. One notable example was \"Operation INFEKTION,\" a campaign to spread the false claim that the U.S. created HIV/AIDS as a bioweapon.\n",
    "\n",
    "The U.S. and its allies countered Soviet disinformation with their own information campaigns. Radio Free Europe and Voice of America broadcast Western perspectives behind the Iron Curtain, providing censored information to Soviet-bloc populations.\n",
    "\n",
    "Both sides infiltrated and manipulated news organizations to amplify favorable narratives. The CIA secretly funded magazines, newspapers, and cultural organizations to promote democracy and capitalism, while the USSR funneled resources into Communist-aligned publications worldwide.\n",
    "\n",
    "Propaganda became a defining feature of Cold War society. Governments, media, and entertainment industries were used to instill ideological loyalty and vilify the opposing bloc.\n",
    "Anti-Communist propaganda flourished in the U.S., portraying Communists as existential threats to democracy. Government-led efforts, such as the House Un-American Activities Committee (HUAC), targeted suspected Communists in media, academia, and politics.\n",
    "\n",
    "The Cold War era saw transformative advancements in communication technologies, which both facilitated and complicated information control.\n",
    "By the 1950s, television became the dominant medium for news and political messaging. Governments used televised speeches, documentaries, and news reports to influence public opinion. Iconic moments, such as the televised Nixon-Khrushchev \"Kitchen Debate\" and the moon landing, became ideological battlegrounds.\n",
    "\n",
    "Governments began using computational analysis for intelligence gathering, propaganda dissemination, and surveillance. The U.S. ARPANET, a precursor to the internet, emerged as a military project for secure communication, laying the groundwork for the digital age.\n",
    "Satellites revolutionized communication, enabling real-time broadcasting across continents. The 1960 launch of the first weather satellite and subsequent Cold War spy satellites transformed military intelligence and news dissemination, making information warfare more immediate and impactful.\n"
   ]
  },
  {
   "cell_type": "markdown",
   "id": "dd3ceeba-6af8-4566-aa9d-541a34cb0ab7",
   "metadata": {},
   "source": [
    "![Slide9](../_static/Slide9.png)"
   ]
  },
  {
   "cell_type": "markdown",
   "id": "aa7c4398-a551-46eb-a0cb-5d94489cd4be",
   "metadata": {},
   "source": [
    "We now live in the digital and social media age, where the proliferation of mobile technology and smartphones has made access to information, misinformation, and disinformation instantaneous. Never before has false or misleading content been able to spread so quickly or reach such vast audiences with just a few taps on a screen.\n",
    "\n",
    "One major example was the 2016 U.S. Presidential Election, which underscored the significant role of social media platforms like Facebook, Twitter, and YouTube in amplifying misinformation.\n",
    "\n",
    "Foreign actors, particularly Russia’s Internet Research Agency, orchestrated a large-scale disinformation campaign that leveraged automated bot accounts, coordinated troll farms, and micro-targeted political advertisements to manipulate public opinion.  Automated bot networks artificially boosted misleading content, making it appear more popular and credible than it actually was.  Troll farms created and managed fake social media accounts that posed as American citizens, engaging in divisive discussions, spreading false claims, and attacking political candidates.  Targeted disinformation ads used Facebook’s micro-targeting features to push inflammatory messages to specific demographic groups, often exploiting existing social and racial tensions.  Fabricated news stories—such as false claims about voter fraud, rigged ballots, or conspiracy theories linking candidates to criminal activity—were widely shared across platforms, influencing public perceptions.\n",
    "\n",
    "The digital age has pushed many users into echo chambers and filter bubbles. Because algorithms tailor content to individual preferences, people are increasingly exposed only to information that aligns with their pre-existing beliefs. This reinforces biases, reduces critical engagement with opposing viewpoints, and makes misinformation even harder to recognize.\n",
    "\n",
    "We'll explore why misinformation is so believable in the next lecture, but for now, keep in mind that the combination of mobile technology, algorithm-driven content, and bot networks has fundamentally changed how misinformation spreads in the modern era.\n"
   ]
  },
  {
   "cell_type": "markdown",
   "id": "929142f9-61de-4ffe-9255-75d66a8971bb",
   "metadata": {},
   "source": [
    "## 🔹 10 Types of MDM"
   ]
  },
  {
   "cell_type": "markdown",
   "id": "9e04886c-3e02-4321-87ff-dfc489272f83",
   "metadata": {},
   "source": [
    "![Slide10](../_static/Slide10.png)"
   ]
  },
  {
   "cell_type": "markdown",
   "id": "9bddab16-7097-4648-a236-403ba1f5b713",
   "metadata": {},
   "source": [
    "Take a moment to pause, stretch, or reflect, because next, we’ll discuss 10 types of misinformation and disinformation. Some of these categories, like propaganda and error, are still debated, but we’ll break them down in detail."
   ]
  },
  {
   "cell_type": "markdown",
   "id": "5e86eecc-a755-4388-937d-1d2f77e522aa",
   "metadata": {},
   "source": [
    "![Slide11](../_static/Slide11.png)"
   ]
  },
  {
   "cell_type": "markdown",
   "id": "479441a6-60f5-46e4-800a-8fa607f16497",
   "metadata": {},
   "source": [
    "False connection occurs when a headline, visual, or caption is misleadingly linked to unrelated content.\n",
    "\n",
    "Take the image on the right—it shows trash scattered across a park. The person who posted it falsely claimed this was left behind by climate change protestors. In reality, the image is **from an entirely different event—**a 420 celebration at the same park.\n",
    "\n",
    "Other examples of false connection include:  \n",
    "    •\tAssociating violence at a political rally with a candidate’s ideology, even when there’s no evidence to support the claim.  \n",
    "    •\tMisattributing scientific research to individuals or organizations that had no involvement, misleading audiences about the credibility or origins of the work.\n",
    "\n",
    "False connections can distort perceptions and fuel misinterpretations, even when the content itself isn’t fabricated.\n"
   ]
  },
  {
   "cell_type": "markdown",
   "id": "433770af-e5b3-497a-b3bd-a43bc9689491",
   "metadata": {},
   "source": [
    "![Slide12](../_static/Slide12.png)"
   ]
  },
  {
   "cell_type": "markdown",
   "id": "c4eb9269-25dd-482d-9a74-76ede8080a6a",
   "metadata": {},
   "source": [
    "False context occurs when text, images, or video are accurately associated with a topic, but the accompanying details or implications are misleading.\n",
    "\n",
    "Take the image on the right—it shows a 2014 photo of immigration detention centers. However, in 2018, some media outlets used it to criticize Trump’s immigration policies, falsely implying the image depicted events from his administration rather than Obama’s.\n",
    "\n",
    "You’ll notice additional examples on the slide—I won’t go through all of them now, but feel free to pause the video or review the PDF version of the slides later. I’ve also included more examples in the Actors and Motivations section, so you’ll have multiple references.\n"
   ]
  },
  {
   "cell_type": "markdown",
   "id": "5ba66882-e4ef-4abd-a9f4-b92bf64eaa1f",
   "metadata": {},
   "source": [
    "![Slide13](../_static/Slide13.png)"
   ]
  },
  {
   "cell_type": "markdown",
   "id": "5b5f58d7-65bb-447c-b910-0d003bf5d45e",
   "metadata": {},
   "source": [
    "Manipulated content includes edited images, videos, or audio designed to deceive the audience.\n",
    "\n",
    "Let’s look at an example—this manipulated video of Nancy Pelosi was deliberately slowed down to make her appear intoxicated.\n",
    "\n",
    "Although the only edit was a slower playback speed, when paired with a sensational headline like “House Speaker Convenes Meeting While Drunk,” many people believed the content as truth.\n",
    "\n",
    "Look at the social media comments below the video—this false narrative gained traction, with people reacting as if the manipulated content was legitimate.\n",
    "\n",
    "Manipulated content is particularly dangerous because small edits can dramatically alter perception, especially in the era of deepfakes.\n"
   ]
  },
  {
   "cell_type": "markdown",
   "id": "265f45bf-bf92-497c-a837-f60b970eeaa3",
   "metadata": {},
   "source": [
    "![Slide14](../_static/Slide14.png)"
   ]
  },
  {
   "cell_type": "markdown",
   "id": "409d2d8a-e8ab-4902-8e49-58d4e950d8b0",
   "metadata": {},
   "source": [
    "Misleading content is when wording or visuals suggest an interpretation that isn’t entirely accurate.\n",
    "\n",
    "Take the example on the right—an article with the headline:\n",
    "“Sugar as Addictive as Cocaine and Heroin.”\n",
    "This headline immediately grabs attention, but if readers don’t go beyond the headline, they might assume this claim is universally accepted. In reality, the study referenced in the article was conducted on rats, not humans.\n",
    "\n",
    "Many people skim headlines or share articles without reading them in full. Misleading content thrives on that behavior, allowing misinformation to spread even when the underlying research is more nuanced than the headline suggests."
   ]
  },
  {
   "cell_type": "markdown",
   "id": "03ddf1e9-107d-49e7-8bfd-b4bdd1d08f42",
   "metadata": {},
   "source": [
    "![Slide15](../_static/Slide15.png)"
   ]
  },
  {
   "cell_type": "markdown",
   "id": "c8af7982-301f-43fa-b8a4-7653782f5168",
   "metadata": {},
   "source": [
    "Fabricated content is entirely made up—it has no basis in reality.\n",
    "\n",
    "A well-known example is Pizzagate, a politically charged conspiracy theory that gained traction during the 2016 U.S. Presidential Election.\n",
    "\n",
    "The false claim alleged that Comet Ping Pong, a pizza restaurant in Washington, D.C., was running a child sex trafficking ring led by Hillary Clinton and other Democratic officials.\n",
    "\n",
    "Despite being completely baseless, this fabrication led to real-world consequences, including an armed individual entering the restaurant believing the claims were true.\n"
   ]
  },
  {
   "cell_type": "markdown",
   "id": "9ba51e78-9c0c-43ee-8c4d-0e7b0ad168b1",
   "metadata": {},
   "source": [
    "![Slide16](../_static/Slide16.png)"
   ]
  },
  {
   "cell_type": "markdown",
   "id": "1db7974b-2a33-4d9d-8538-7604ea68f37d",
   "metadata": {},
   "source": [
    "Imposter content imitates legitimate sources or individuals to spread false information.\n",
    "\n",
    "In the image on the right, the Denver Guardian, which sounds like a credible news outlet but is, in fact, a fabricated source, published this article about an FBI agent involved in the investigation of Hillary Clinton's email leaks.  Some notes about the Denver Guardian include\n",
    "\n",
    "- The domain was first registered in July 2016, just a few months before the election.  \n",
    "- The only story published was a fake murder-suicide involving an FBI agent tied to Hillary Clinton’s emails.  \n",
    "- Any other fake headline on the site led to an error message.  \n",
    "- The article cited a Walkerville Police Chief named Pat Frederick—but Walkerville didn’t exist, and neither did the officer.  \n",
    "- The listed newsroom address was simply a parking lot.\n",
    "\n",
    "By appearing credible, imposter content deceives audiences into trusting false information, making it a powerful tool for disinformation campaigns.\n"
   ]
  },
  {
   "cell_type": "markdown",
   "id": "1ac91ec9-441f-41bd-b14e-200b9f5f4e41",
   "metadata": {},
   "source": [
    "![Slide17](../_static/Slide17.png)"
   ]
  },
  {
   "cell_type": "markdown",
   "id": "030bee7f-976b-4467-ba34-f79c0e04857e",
   "metadata": {},
   "source": [
    "Satire and parody are humorous or exaggerated content meant for entertainment—but sometimes, they are mistaken for truth.\n",
    "\n",
    "I personally enjoy shows like The Daily Show with Trevor Noah and publications like The Onion. For my ROTC folks, Duffel Blog is a great satirical site focused on military humor.\n",
    "Most people recognize satire when it’s clearly labeled, but when taken out of context, satirical content can be misunderstood.\n",
    "\n",
    "In casual discussions or when satire is circulated without its original framing, people may assume it’s real news, contributing to misinformation.\n"
   ]
  },
  {
   "cell_type": "markdown",
   "id": "0ec7aee5-3726-483e-ae14-62e79f464e61",
   "metadata": {},
   "source": [
    "![Slide18](../_static/Slide18.png)"
   ]
  },
  {
   "cell_type": "markdown",
   "id": "0015b7bd-a0ce-430b-9982-85fd172a2ec4",
   "metadata": {},
   "source": [
    "These last three categories are not always considered misinformation or disinformation, but they are important to be aware of.\n",
    "\n",
    "Sponsored content is paid messaging, but when improperly disclosed, it can mislead audiences into thinking it’s unbiased information.\n",
    "\n",
    "There are two types of sponsored content:  \n",
    "1. Advertising & Promotions – Clearly labeled ads are fine, but when promotional content is disguised as editorial opinion, it can be deceptive.   \n",
    "    \n",
    "2. Influencer Marketing – Influencers promoting products should disclose sponsorships, but when they don’t, followers may believe their endorsements are impartial, which blurs the line between information and persuasion.\n",
    "\n",
    "When disclosures are missing or unclear, sponsored content can mislead audiences into believing they’re consuming neutral, informative content, rather than paid promotions.\n"
   ]
  },
  {
   "cell_type": "markdown",
   "id": "00188d46-af51-4fdc-87ea-4d2bea70b572",
   "metadata": {},
   "source": [
    "![Slide19](../_static/Slide19.png)"
   ]
  },
  {
   "cell_type": "markdown",
   "id": "6311a464-7378-4876-a13b-a94dcceab01a",
   "metadata": {},
   "source": [
    "Propaganda is content designed to influence attitudes, values, and beliefs—often for political or ideological purposes.\n",
    "\n",
    "On the right, you’ll see Nazi propaganda from World War II, which demonized Jewish people, normalized hatred, and encouraged nationalism and racial purity.\n",
    "\n",
    "Relentless propaganda campaigns can lead to:  \n",
    "    • Widespread acceptance of harmful beliefs.  \n",
    "    • Dehumanization of targeted groups.  \n",
    "    • Justification for violence or discrimination.\n",
    "\n",
    "Propaganda doesn’t have to be false to be effective—it simply has to manipulate perceptions in a way that benefits those spreading it.\n"
   ]
  },
  {
   "cell_type": "markdown",
   "id": "d07cca38-13b9-4870-88ac-472a75e51b5e",
   "metadata": {},
   "source": [
    "![Slide20](../_static/Slide20.png)"
   ]
  },
  {
   "cell_type": "markdown",
   "id": "474b5f36-8e36-4ccb-bf31-ff4a6c95b775",
   "metadata": {},
   "source": [
    "Not all misinformation is deliberate—some are simply errors or honest mistakes.\n",
    "\n",
    "A well-known example comes from San Francisco’s KTVU news station, which mistakenly reported racist prank names as the pilots of Asiana Flight 214, a plane that crashed at San Francisco International Airport.\n",
    "\n",
    "1. The news team rushed to publish names without double-checking their validity.\n",
    "2. They didn’t realize it was a prank before broadcasting it live.\n",
    "\n",
    "This was not intentional misinformation, but a failure in verification—which, as we’ll see throughout this course, is a major factor in how misinformation spreads\n"
   ]
  },
  {
   "cell_type": "markdown",
   "id": "e06b6e79-119e-40d4-adaa-2941a13d96ec",
   "metadata": {},
   "source": [
    "![Slide21](../_static/Slide21.png)"
   ]
  },
  {
   "cell_type": "markdown",
   "id": "76b474e4-c32b-4932-9020-dfebf9bc7f5e",
   "metadata": {},
   "source": [
    "By now, you’ve likely noticed that misinformation and disinformation don’t always fit neatly into a single category. A single piece of misleading content can fall into multiple types depending on how it is created, shared, and interpreted.\n",
    "\n",
    "For example:\n",
    "1. A false connection (where a headline doesn’t match the article) can also be misleading content if the wording suggests a different conclusion than the actual information.\n",
    "2. A manipulated image (altered to mislead viewers) can also be imposter content if it falsely attributes the image to a legitimate source.\n",
    "3. A satirical news article can become false context if someone shares it as if it were a real event.\n",
    "\n",
    "The point in reviewing these 10 types is to be able to identify and categorize content."
   ]
  },
  {
   "cell_type": "markdown",
   "id": "9961c4a8-15b6-49c9-8f27-4aca0f86b0a1",
   "metadata": {},
   "source": [
    "![Slide22](../_static/Slide22.png)"
   ]
  },
  {
   "cell_type": "markdown",
   "id": "ef9ba201-d01e-4925-ac2e-70ffbfd65656",
   "metadata": {},
   "source": [
    "At a glance, it might seem surprising that misinformation persists—even when fact-checking is available and contradictory evidence exists. However, human psychology, social dynamics, and digital environments all contribute to why MDM is so convincing.\n",
    "\n",
    "People naturally seek out and believe information that aligns with their preexisting beliefs and tend to trust repeated claims, even if they are false.\n",
    "\n",
    "MDM is often designed to trigger fear, anger, or outrage, making it more likely to be believed and shared.\n",
    "\n",
    "Social media algorithms prioritize engagement over accuracy, amplifying falsehoods that provoke strong reactions. Meanwhile, echo chambers reinforce certain narratives, making misinformation feel even more credible.\n",
    "\n",
    "In today’s digital age, people are bombarded with content, making it difficult to critically evaluate every claim they encounter.\n",
    "\n",
    "While these factors offer a glimpse into why MDM is so persuasive, they are just the tip of the iceberg. In our next lecture, we will take a deeper dive into the psychology behind misinformation, exploring how cognitive biases, social influences, and digital ecosystems shape belief formation—and, most importantly, what we can do to recognize and resist manipulation.\n"
   ]
  },
  {
   "cell_type": "markdown",
   "id": "e610faa1-33a5-421d-b799-cb124e8d6f58",
   "metadata": {},
   "source": [
    "[Provide Anonymous Feedback on this Lesson Here](https://forms.gle/4ZRmNr5rmGCAR1Re6)"
   ]
  }
 ],
 "metadata": {
  "kernelspec": {
   "display_name": "Python 3 (ipykernel)",
   "language": "python",
   "name": "python3"
  },
  "language_info": {
   "codemirror_mode": {
    "name": "ipython",
    "version": 3
   },
   "file_extension": ".py",
   "mimetype": "text/x-python",
   "name": "python",
   "nbconvert_exporter": "python",
   "pygments_lexer": "ipython3",
   "version": "3.13.2"
  }
 },
 "nbformat": 4,
 "nbformat_minor": 5
}
