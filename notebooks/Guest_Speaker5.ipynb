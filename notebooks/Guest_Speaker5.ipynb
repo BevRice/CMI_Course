{
 "cells": [
  {
   "cell_type": "markdown",
   "id": "4329560c-dd0c-4d2a-a194-ac8373e22ed3",
   "metadata": {
    "editable": true,
    "slideshow": {
     "slide_type": ""
    },
    "tags": []
   },
   "source": [
    "# 🎤 Career Panel"
   ]
  },
  {
   "cell_type": "markdown",
   "id": "b44f215d-f653-4962-8dec-57a4a57a5aca",
   "metadata": {},
   "source": [
    "Available: Saturday, 5 April @ 0800"
   ]
  }
 ],
 "metadata": {
  "kernelspec": {
   "display_name": "Python 3 (ipykernel)",
   "language": "python",
   "name": "python3"
  },
  "language_info": {
   "codemirror_mode": {
    "name": "ipython",
    "version": 3
   },
   "file_extension": ".py",
   "mimetype": "text/x-python",
   "name": "python",
   "nbconvert_exporter": "python",
   "pygments_lexer": "ipython3",
   "version": "3.13.2"
  }
 },
 "nbformat": 4,
 "nbformat_minor": 5
}
