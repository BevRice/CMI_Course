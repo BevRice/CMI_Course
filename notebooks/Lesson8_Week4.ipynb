{
 "cells": [
  {
   "cell_type": "markdown",
   "id": "4fabbd8c-b203-4907-b72f-26ecf4f826e0",
   "metadata": {
    "editable": true,
    "slideshow": {
     "slide_type": ""
    },
    "tags": []
   },
   "source": [
    "# 📚 NLP and Sentiment Analysis"
   ]
  },
  {
   "cell_type": "markdown",
   "id": "68fd80d7-8454-456e-b8d9-ca45df1b97ab",
   "metadata": {},
   "source": [
    "<big> Watch & Listen or Read Through</big>"
   ]
  },
  {
   "cell_type": "code",
   "execution_count": 1,
   "id": "1df8691b-04d0-4eff-8062-83db1120229b",
   "metadata": {
    "execution": {
     "iopub.execute_input": "2025-03-28T06:18:18.060718Z",
     "iopub.status.busy": "2025-03-28T06:18:18.060456Z",
     "iopub.status.idle": "2025-03-28T06:18:18.463623Z",
     "shell.execute_reply": "2025-03-28T06:18:18.462703Z"
    }
   },
   "outputs": [
    {
     "data": {
      "image/jpeg": "[encoded data removed]",
      "text/html": [
       "\n",
       "        <iframe\n",
       "            width=\"600\"\n",
       "            height=\"450\"\n",
       "            src=\"https://www.youtube.com/embed/aKcqoPOIvfE\"\n",
       "            frameborder=\"0\"\n",
       "            allowfullscreen\n",
       "            \n",
       "        ></iframe>\n",
       "        "
      ],
      "text/plain": [
       "<IPython.lib.display.YouTubeVideo at 0x1c361898440>"
      ]
     },
     "execution_count": 1,
     "metadata": {},
     "output_type": "execute_result"
    }
   ],
   "source": [
    "#Import appropriate library\n",
    "from IPython.display import YouTubeVideo\n",
    "YouTubeVideo(\"aKcqoPOIvfE\", width=600, height=450)"
   ]
  },
  {
   "cell_type": "markdown",
   "id": "987c2000-720b-4b1c-902a-13c214adda2c",
   "metadata": {},
   "source": [
    "---\n",
    "\n",
    "**Slides and transcripts are below**"
   ]
  },
  {
   "cell_type": "markdown",
   "id": "e2219b08-0469-4685-8606-4796ac995270",
   "metadata": {},
   "source": [
    "![NLPSlide1](../_static/NLP_Slides/Slide1.jpg)"
   ]
  },
  {
   "cell_type": "markdown",
   "id": "8fbd7611-2b70-47c5-8ee9-ed2d9a61058d",
   "metadata": {},
   "source": [
    "Welcome, everyone, to Lesson 8—our introduction to Natural Language Processing, or NLP.  Today, we’ll explore how NLP enables computers to interpret, understand, and generate human language.  We’ll also examine how NLP intersects with MDM—misinformation, disinformation, and malinformation—making it a crucial tool in identifying, analyzing, and combating deceptive content online. "
   ]
  },
  {
   "cell_type": "markdown",
   "id": "6545ab9f-eef7-4237-9d4f-70593f1985b3",
   "metadata": {},
   "source": [
    "![NLPSlide2](../_static/NLP_Slides/Slide2.jpg)"
   ]
  },
  {
   "cell_type": "markdown",
   "id": "cf0cb715-8e23-4c69-9a1a-5bed2d86ebbf",
   "metadata": {},
   "source": [
    "So, what exactly is NLP?  It’s a subfield of computer science focused on helping computers understand and work with human language.  It builds on something called computational linguistics—which gives us the theo-retical framework for how language works. That includes things like syntax, semantics, morphology, and phonetics.  In short: computational linguistics explains how language works, and NLP is the set of tools and techniques that lets machines use that theory in practical ways, often through machine learning.  NLP is what allows your devices to read and respond to text or speech like a human would.  Pause for a moment and try to think of specific tools you might use in your day to day life that employs NLP. "
   ]
  },
  {
   "cell_type": "markdown",
   "id": "a9b086cb-2b1c-4d0e-87d3-dd158d7eae3a",
   "metadata": {},
   "source": [
    "![NLPSlide3](../_static/NLP_Slides/Slide3.jpg)"
   ]
  },
  {
   "cell_type": "markdown",
   "id": "47013ff1-c34e-4de6-8017-a92e53a9f53f",
   "metadata": {},
   "source": [
    "NLP is all around us—even if you don’t realize it.  Some common tools you use every day that are powered by NLP include:  Virtual assistants like Siri, Alexa, or Google Assistant.  My first virtual assistant was clippy in Microsoft word which most of you are probably too young to have encountered.  NLP tools also include Voice-to-text features, Autocorrect, spell check, and grammar tools, Predictive text or autocomplete, Search engines that suggest queries or rank results, Real-time subtitles, Spam filters and priority inboxes, and translation services like Google Translate.  So, you’re already interacting with NLP all the time. The question is: how does it work? "
   ]
  },
  {
   "cell_type": "markdown",
   "id": "715fbab8-3d08-4c96-83fb-089564cb8bb0",
   "metadata": {},
   "source": [
    "![NLPSlide4](../_static/NLP_Slides/Slide4.jpg)"
   ]
  },
  {
   "cell_type": "markdown",
   "id": "e31dbbf7-3bab-4bfe-9adf-7648040c7f17",
   "metadata": {},
   "source": [
    "NLP usually happens in six general stages.  It starts with pre-processing—which is about cleaning up and standardizing the raw text.  Then comes the lexical stage, where we reduce words to their simplest forms. The syntactic stage looks at grammar and structure—figuring out how words relate to one another. Then we dive into semantics, which is all about extracting meaning from words and sentences. The discourse stage helps us interpret meaning across larger texts—paragraphs, conversations, or entire documents. Finally, pragmatics considers real-world context and speaker intent. This is especially important when we’re looking at misleading or manipulative content. We’ll work through each of these steps—starting with pre-processing. "
   ]
  },
  {
   "cell_type": "markdown",
   "id": "7195d11a-cf39-434e-9bcf-c941788d253a",
   "metadata": {},
   "source": [
    "![NLPSlide5](../_static/NLP_Slides/Slide5.jpg)"
   ]
  },
  {
   "cell_type": "markdown",
   "id": "5b7f0352-d3e5-4bb9-8a85-0a6669f2966e",
   "metadata": {},
   "source": [
    "Step one: Pre-processing. This is where we take raw, messy text and clean it up. Imagine you’re trying to analyze a chaotic tweet filled with all-caps, hashtags, punctuation, and a suspicious URL. We want to strip out all the unnecessary noise and standardize the content. Key techniques include: Tokenization: breaking the text into individual elements like words or punctuation. Stop word removal: filtering out common words like “is,” “and,” “the” that don’t add much meaning. Punctuation removal: getting rid of symbols, URLs, and other non-essential characters. And finally, lowercasing, to ensure consistency. By the end, we have a cleaned-up version of the text that’s easier for a computer to work with. "
   ]
  },
  {
   "cell_type": "markdown",
   "id": "465f73b9-9b73-4d82-ac8e-38c10e4486c6",
   "metadata": {},
   "source": [
    "![NLPSlide6](../_static/NLP_Slides/Slide6.jpg)"
   ]
  },
  {
   "cell_type": "markdown",
   "id": "4376d25d-2d13-4a50-9807-d3b8549d040f",
   "metadata": {},
   "source": [
    "Let’s try this out together. Here’s a headline and news excerpt: \"Arrow head lines: Writer suggests that the Ravens and Chiefs should swap draft picks...\" Our first step is lowercasing—making all the words uniform in case. Next, we remove punctuation—getting rid of colons, commas, and periods that don’t add meaning. Then we tokenize—splitting the sentence into individual words. And finally, we remove stop words—filtering out filler words like “the,” “are,” and “with” to focus on meaningful content. What we’re left with is a condensed list of meaningful terms—things like “ravens,” “chiefs,” “draft,” and “picks.” These are the core ideas the sentence is communicating. "
   ]
  },
  {
   "cell_type": "markdown",
   "id": "db030520-acb4-4d18-9d96-db0cc2954c7a",
   "metadata": {},
   "source": [
    "![NLPSlide7](../_static/NLP_Slides/Slide7.jpg)"
   ]
  },
  {
   "cell_type": "markdown",
   "id": "4adaa927-36c3-4b3e-a86c-0e322561d292",
   "metadata": {},
   "source": [
    "Let’s try another one. Here’s the input: \"Trump’s auto tariffs will hit many companies, but Elon Musk’s Tesla less so...” Just like in the previous example, think through each step: Lowercasing, Punctuation removal, Tokenization, and Stop word removal.  Once you’ve done all that, what are the final, deduplicated tokens? Pause the video and try it out for yourself.  This step is about distilling the text down to its essence—eliminating noise and redundancy to make the text ready for further analysis.   "
   ]
  },
  {
   "cell_type": "markdown",
   "id": "81f7246f-306c-42b2-899e-2a2237f86ffd",
   "metadata": {},
   "source": [
    "![NLPSlide8](../_static/NLP_Slides/Slide8.jpg)"
   ]
  },
  {
   "cell_type": "markdown",
   "id": "c14ca989-4168-414a-ba5b-d40bff4fed4b",
   "metadata": {},
   "source": [
    "After cleaning and reducing, here’s what we end up with: ‘trumps’, ‘auto’, ‘tariffs’, ‘hit’, ‘many’, ‘companies’, ‘elon’, ‘musks’, ‘tesla’’ and so forth.  Notice how these tokens capture the core entities and actions—“Trump,” “tariffs,” “Tesla,” “companies,” “fallout”—without all the grammatical glue.  These cleaned-up tokens are what we’d feed into the next stages of NLP for deeper meaning extraction.  "
   ]
  },
  {
   "cell_type": "markdown",
   "id": "55e48293-4f17-4e42-91b4-c832fe2f87e2",
   "metadata": {},
   "source": [
    "![NLPSlide9a](../_static/NLP_Slides/Slide9.jpg)"
   ]
  },
  {
   "cell_type": "markdown",
   "id": "ccb6aac6-5464-4e35-8ca0-2a4f80ac7a1d",
   "metadata": {},
   "source": [
    "The second stage is the Lexical Stage, where we reduce our tokens to their simplest or root forms. There are two main techniques here: Stemming: a fast, rule-based method that cuts words down to their root—like turning “running” into r-u-n-n.  It’s quick but sometimes messy. And Lemmatization: a more accurate, dictionary-based method that considers context—so “running” becomes simply “run.” This preserves proper grammar and is better for tasks like sentiment analysis or chatbots.  Think of stemming as a rough cut and lemmatization as a precision trim. You might choose one over the other depending on your goal. "
   ]
  },
  {
   "cell_type": "markdown",
   "id": "3e778083-e70f-4c02-818c-b56b40b3d3fe",
   "metadata": {},
   "source": [
    "![NLPSlide10](../_static/NLP_Slides/Slide10.jpg)"
   ]
  },
  {
   "cell_type": "markdown",
   "id": "969bb54b-eb3c-48ee-80b7-a12a2cbee7b0",
   "metadata": {},
   "source": [
    "Next is the Syntactic Stage, where we focus on grammar and sentence structure.  This is where NLP systems figure out the roles that different words play in a sentence.  Two key techniques here are: Part-of-Speech Tagging: labeling each word as a noun, verb, adjective, etcetera, and Parsing: understanding how words relate to each other—like which word is the subject vs object and the action being taken.  Tools like Google’s Natural Language API use syntactic analysis to help machines interpret the sentence structure the way a hu-man would. This helps machines grasp not just the words—but how the words are working together. "
   ]
  },
  {
   "cell_type": "markdown",
   "id": "500e903d-647e-412a-af31-c5f695e3ab76",
   "metadata": {},
   "source": [
    "![NLPSlide11](../_static/NLP_Slides/Slide11.jpg)"
   ]
  },
  {
   "cell_type": "markdown",
   "id": "0b0b676e-b9f9-4fd7-b1fa-13793b796591",
   "metadata": {},
   "source": [
    "Now we enter the Semantic Stage, where things start to get deeper.  Here, the focus is on extracting meaning from text—not just individual words, but what those words actually refer to in context. We use tools like: Named Entity Recognition, or NER, to identify specific people, places, or organizations. Word Sense Disambiguation to figure out which meaning of a word is being used—like whether “viral” refers to a disease or a social media trend. And Relationship Extraction to map out how these entities are connected. For example, in the sentence “The CDC funded secret experiments with Pfizer to suppress vaccine side effects,” we can identify CDC and Pfizer as entities and map their relationship—like who did what to whom.  \n"
   ]
  },
  {
   "cell_type": "markdown",
   "id": "57b9e0d3-e3c6-4ff6-bf2c-bdcbc8f83deb",
   "metadata": {},
   "source": [
    "![NLPSlide12](../_static/NLP_Slides/Slide12.jpg)"
   ]
  },
  {
   "cell_type": "markdown",
   "id": "d976f729-dd94-47a3-a853-95a6ee65f423",
   "metadata": {},
   "source": [
    "Semantic analysis is rich with linguistic detail. Let’s walk through some of the core ele-ments. Hyponymy: When one word is a more specific instance of another. For example, “bioweapon” is a kind of “weapon,” and “SVR” is a type of “foreign intelligence organiza-tion.” Homonymy: When the same word has completely different meanings—like “mask” (a physical object) versus “mask” (to hide). Synonymy: Words with similar meanings, like “experiment” and “trial,” or “poison” and “toxin.” These help NLP systems identify para-phrased or restated claims. These types of word relationships are critical for detecting nu-ance, identifying misinformation, and understanding how language can be manipulated. "
   ]
  },
  {
   "cell_type": "markdown",
   "id": "a3d7bf78-926f-4e47-b04e-4ccf7209ccee",
   "metadata": {},
   "source": [
    "![NLPSlide13](../_static/NLP_Slides/Slide13.jpg)"
   ]
  },
  {
   "cell_type": "markdown",
   "id": "1bd8c382-152a-4195-b924-c44d46f87e15",
   "metadata": {},
   "source": [
    "Continuing with semantic elements: Antonymy is when two words mean opposite things—like “real” versus “fake” or “safe” versus “dangerous.” Polysemy refers to a single word hav-ing multiple related meanings—like “boost” meaning “to increase immunity” or just “to help.” Meronomy is when a word refers to a part of something bigger—like a “tire” being part of a “car,” or a “sentence” being part of a “research article.” These distinctions matter when analyzing narratives. They help systems tell the difference between a literal versus figurative use or between related but distinct ideas—vital for accurate content interpreta-tion. "
   ]
  },
  {
   "cell_type": "markdown",
   "id": "dd78a59d-47bb-4f0d-a795-ab0d657a474b",
   "metadata": {},
   "source": [
    "![NLPSlide14](../_static/NLP_Slides/Slide14.jpg)"
   ]
  },
  {
   "cell_type": "markdown",
   "id": "4f80bc9c-11a4-43ff-82a7-6b35d9357a0b",
   "metadata": {},
   "source": [
    "To get even more precise, we can use First-Order Predicate Logic to represent meaning in formal logic. This is especially useful in misinformation detection, where people often make sweeping or exaggerated claims. For example, the claim “All vaccines cause harm” would be expressed as: For all x, if x is a vaccine, then x causes harm which can be countered with the idea that there exists at least one vaccine that does not cause harm. This kind of logic-based structure helps us formalize, assess, and even automatically flag questionable or false claims. "
   ]
  },
  {
   "cell_type": "markdown",
   "id": "e6cb110b-b310-409a-bdfa-3892d1d15bbf",
   "metadata": {},
   "source": [
    "![NLPSlide15](../_static/NLP_Slides/Slide15.jpg)"
   ]
  },
  {
   "cell_type": "markdown",
   "id": "9d26a7fa-9517-4fb2-b6c1-535b9299d13a",
   "metadata": {},
   "source": [
    "Let’s try applying this logic to a real-world example. The claim: “Every election is rigged.”  Pause the video and try to interpret the statements.  This is a powerful tool for both human and machine-based fact-checking. "
   ]
  },
  {
   "cell_type": "markdown",
   "id": "4d8b38b8-2a51-4993-8cbe-5a3b1ea4487e",
   "metadata": {},
   "source": [
    "![NLPSlide16](../_static/NLP_Slides/Slide16.jpg)"
   ]
  },
  {
   "cell_type": "markdown",
   "id": "18682e34-4dbf-49f2-81dd-c83a49aeb851",
   "metadata": {},
   "source": [
    "Let’s break it down.  Claim: “Every election is rigged.” In logical terms, we say: “For all x, if x is an election, then x is rigged.” This claim leaves no room for exceptions, which is what makes it so easy to challenge with logic.  So we do.. with a single counterexample: “There exists an x such that x is an election, and x is not rigged.” If even one fair election exists, the original claim is no longer universally true.  This kind of logical reasoning is incredibly useful when we’re trying to unpack extreme or false claims in misinformation and disinformation. "
   ]
  },
  {
   "cell_type": "markdown",
   "id": "43bb9355-1580-4787-821c-85195b2ebdfd",
   "metadata": {},
   "source": [
    "![NLPSlide17](../_static/NLP_Slides/Slide17.jpg)"
   ]
  },
  {
   "cell_type": "markdown",
   "id": "2f19720f-5ae1-45dd-865b-e5620991aa93",
   "metadata": {},
   "source": [
    "Another powerful way to extract meaning is through rule-based architectures.  These sys-tems use if-then logic to flag certain patterns in text. For example, a rule might say:\n",
    "\n",
    "“If the subject is vaccine, and the verb is cause, and the object is DNA or population, then this should be flagged as high-risk misinformation.” These rules are simple, transparent, and explainable—perfect for building tools that moderate content or teach users how to spot misinformation. While they may not catch everything, they’re excellent for identifying known, repeated misinformation patterns. \n"
   ]
  },
  {
   "cell_type": "markdown",
   "id": "1cbead72-9a57-406a-b54c-8421ebc63ec5",
   "metadata": {},
   "source": [
    "![NLPSlide18](../_static/NLP_Slides/Slide18.jpg)"
   ]
  },
  {
   "cell_type": "markdown",
   "id": "a8df0082-9224-4e5c-8990-2081a2ba5d8d",
   "metadata": {},
   "source": [
    "Semantic nets take things a step further by mapping relationships between concepts. Think of it like a mind map—you’ve got nodes like “Bill Gates,” “vaccine,” “microchip,” and “con-trol,” and edges that describe how these concepts are linked—like “funds,” “contains,” “enables,” and “spreads.” Disinformation often works by linking unrelated ideas together in ways that sound plausible. Semantic networks help us trace those linkages and make them visible. This is especially useful when building disinformation knowledge graphs that expose how narratives evolve or who’s central to their spread. "
   ]
  },
  {
   "cell_type": "markdown",
   "id": "96ff8948-f5bf-48b9-ae46-63e7accd8e43",
   "metadata": {},
   "source": [
    "![NLPSlide19](../_static/NLP_Slides/Slide19.jpg)"
   ]
  },
  {
   "cell_type": "markdown",
   "id": "47efdfbe-2696-4a3c-b1fc-4769da8f3359",
   "metadata": {},
   "source": [
    "Now let’s talk about frames. Frames are mental models or worldviews that shape how we interpret information. Misinformation often relies on manipulating frames—especially emotional ones—to stir fear, anger, or distrust. Take these three statements about vaccines: “Vaccines reduce transmission”  framed as a health issue… “Vaccines are tools of population control”  framed as a conspiracy… and “Mandatory vaccines violate our free-dom” framed as a freedom issue.  The facts might not change, but the framing does—affecting how people react.  By recognizing frames, we can better detect bias, manipulation, and intent in the language being used. "
   ]
  },
  {
   "cell_type": "markdown",
   "id": "d534036b-f6b4-4e23-8404-4123b23dca70",
   "metadata": {},
   "source": [
    "![NLPSlide20](../_static/NLP_Slides/Slide20.jpg)"
   ]
  },
  {
   "cell_type": "markdown",
   "id": "179bb7e0-b0ee-4248-83d6-df505e869834",
   "metadata": {},
   "source": [
    "After understanding meaning at the word and sentence level, the next step is discourse analysis—looking at meaning across longer texts like paragraphs, conversations, or so-cial media threads. Here, we focus on: Co-reference resolution: figuring out what pro-nouns like “it” or “they” refer to. Discourse parsing: identifying logical connections like cause and effect or contrast. Topic tracking: following how the subject of a discussion changes. Anaphora resolution: resolving backward-pointing references like “this” or “that”.  Rhetorical structure: understanding how different parts of a message relate hierarchically.  "
   ]
  },
  {
   "cell_type": "markdown",
   "id": "bf6d8c49-5713-47d2-9561-8ba014b1df21",
   "metadata": {},
   "source": [
    "![NLPSlide21](../_static/NLP_Slides/Slide21.jpg)"
   ]
  },
  {
   "cell_type": "markdown",
   "id": "4f0ad748-1e9d-4e91-9f73-9a42c35857a8",
   "metadata": {},
   "source": [
    "Let’s talk about Pragmatics—the final stage of NLP. This is where machines try to figure out not just what was said… but what was meant. It deals with intent, social context, and re-al-world knowledge. For example, someone might say, “Oh great, another vaccine.” But depending on the tone and context, that could be sincere—or completely sarcastic. Prag-matic analysis involves: Speech act recognition: Is this a threat, a promise, or a question? Intent detection: What’s the speaker trying to do—persuade, mislead, provoke? Deixis resolution: Understanding words like “here,” “now,” or “that” based on context. Implicature detection: Catching what’s implied but not directly said. Irony and sarcasm detec-tion: Which is vital for social media and satire. This level is critical for spotting manipula-tion, bias, and insinuation—especially in disinformation.  These employ complex algorithms we won’t go too far into detail on.  "
   ]
  },
  {
   "cell_type": "markdown",
   "id": "46e3e92f-52c5-4362-8df9-13421a187f3a",
   "metadata": {},
   "source": [
    "![NLPSlide22](../_static/NLP_Slides/Slide22.jpg)"
   ]
  },
  {
   "cell_type": "markdown",
   "id": "e0324afd-21f7-44c5-acb4-f85ec65661c9",
   "metadata": {},
   "source": [
    "A major application of NLP—especially in the context of MDM—is sentiment analysis. It helps us understand how people feel about a topic based on their language. Is the senti-ment positive, negative, or neutral? Is the language emotional or objective? Sentiment analysis can be applied to anything from tweets and comments to full articles—making it a valuable tool for identifying outrage, fear, or trust across online discourse. "
   ]
  },
  {
   "cell_type": "markdown",
   "id": "62c9adbb-733e-4920-9199-b8294c1cc282",
   "metadata": {},
   "source": [
    "![NLPSlide23](../_static/NLP_Slides/Slide23.jpg)"
   ]
  },
  {
   "cell_type": "markdown",
   "id": "6a3daa00-c7cb-4a76-a9b6-acf7762b6a0b",
   "metadata": {},
   "source": [
    "One component of sentiment analysis is polarity—most often we use it to describe an emotional tone.  For example: “Vaccines save lives!” is a positive statement. “Vaccines cause autism!” is negative.  “It is a vaccine” is a factual, unemeotional description and therefore neutral.  In this context, polarity is usually scored from  negative 1 to  positive 1, with 0 being neutral. It helps us flag content that’s promoting trust and health versus content that’s instilling fear, anger, or resistance.\n",
    "\n",
    "But polarity can also reflect ideological direction, not just emotional tone.\n",
    "\n",
    "For example, statements or entire news outlets might lean liberal or conservative.\n",
    "\n",
    "You may have seen media bias charts that place outlets like NPR or The New York Times on one end, and Fox News or Breitbart on the other. NLP systems can detect this political polarity by analyzing word choice, framing, and even co-occurrence patterns.\n",
    "\n",
    "So whether we’re talking about emotional sentiment or political slant, polarity helps us better understand the underlying message—and how it might influence public opinion. \n"
   ]
  },
  {
   "cell_type": "markdown",
   "id": "21d392f3-112e-4e1f-b486-14ab826b8d60",
   "metadata": {},
   "source": [
    "![NLPSlide24](../_static/NLP_Slides/Slide24.jpg)"
   ]
  },
  {
   "cell_type": "markdown",
   "id": "4e28b719-4aec-45be-b749-5276012cb60c",
   "metadata": {},
   "source": [
    "The next piece is subjectivity. This measures how much of a statement is based on per-sonal opinion versus verifiable fact. For example: “The article was shared over 2,000 times in 2 hours” is objective and measurable.  “The article was clearly designed to mis-lead the public” however, is subjective, based on judgment.  Subjectivity scores range from 0 (completely objective) to 1 (highly subjective). High subjectivity often signals emotionally driven or opinionated content—something we watch closely when analyzing MDM narratives. "
   ]
  },
  {
   "cell_type": "markdown",
   "id": "b5fdf510-5845-423e-bd0d-3459a5d386fb",
   "metadata": {},
   "source": [
    "![NLPSlide25](../_static/NLP_Slides/Slide25.jpg)"
   ]
  },
  {
   "cell_type": "markdown",
   "id": "50478c6a-5aa9-4bca-bb40-c80dc5718d93",
   "metadata": {},
   "source": [
    "Beyond polarity and subjectivity, we can also analyze emotion and intensity—what mood is being expressed, and how strongly.\n",
    "\n",
    "For instance, a statement might carry emotions like fear, anger, happiness, or surprise—but those can range from mild unease to intense outrage.\n",
    "\n",
    "One useful framework is the emotion wheel, originally developed by psychologist Robert Plutchik, which has evolved over time.\n",
    "\n",
    "It illustrates how core emotions like joy, trust, fear, and anger can blend into more complex feelings—like anticipation turning into anxiety, or joy into pride.\n",
    "\n",
    "NLP tools often use versions of this wheel to tag language not just with a single emotion, but with emotion categories and intensities, giving us a more nuanced read on what a speaker or writer is trying to evoke.\n",
    "\n",
    "In MDM detection, these emotional cues are often red flags—especially when strong emotional appeals are paired with low factual content or high subjectivity.\n",
    "\n",
    "Understanding sentiment in all its forms—including the emotional tone, its strength, and where it sits on the wheel—helps us pinpoint which messages are most likely to influence behavior or perception. \n"
   ]
  },
  {
   "cell_type": "markdown",
   "id": "9f0a1f16-19e7-40be-9897-60938876d6b3",
   "metadata": {},
   "source": [
    "![NLPSlide26](../_static/NLP_Slides/Slide26.jpg)"
   ]
  },
  {
   "cell_type": "markdown",
   "id": "288be508-4ca8-4c64-9631-40b7d3b76351",
   "metadata": {},
   "source": [
    "Let’s look at some examples of sentiment outputs. First, we have: “Vaccines save mil-lions of lives every year!”. Polarity is Positive, Subjectivity is Low, and detected Emotions include Trust and hope. Contrast that with: “The government is hiding the real number of vaccine-related deaths” where Polarity is Negative, Subjectivity is High, and detected Emotions include Fear and Suspicion. These examples show how NLP tools help break down the emotional tone, factual base, and intent behind different types of content.  Pause the video and judge the remaining texts.  "
   ]
  },
  {
   "cell_type": "markdown",
   "id": "55852a13-6e98-44c7-8561-28f849220c30",
   "metadata": {},
   "source": [
    "![NLPSlide27a](../_static/NLP_Slides/Slide27.jpg)"
   ]
  },
  {
   "cell_type": "markdown",
   "id": "e0b63367-7f5e-43d2-915f-ac14085dddfd",
   "metadata": {},
   "source": [
    "Were your assessments correct? “Wake up! They’re injecting us with experimental chemicals to control us” is Negative with high subjectivity. “The article was shared over 10,000 times in less than an hour” has neutral polarity with low subjectivity while “Mandatory vaccines violate our basic human rights” has negative polarity and high subjectivity. These cases are especially important in MDM analysis because strong emo-tional language can drive engagement, virality, and belief—even when the content isn’t fac-tually accurate. "
   ]
  },
  {
   "cell_type": "markdown",
   "id": "da68f078-bc7f-4f40-9f58-dba27f882ca4",
   "metadata": {},
   "source": [
    "![NLPSlide28](../_static/NLP_Slides/Slide28.jpg)"
   ]
  },
  {
   "cell_type": "markdown",
   "id": "32c201db-06c5-462b-b7e3-b3d3be54ff4f",
   "metadata": {},
   "source": [
    "So let’s recap.  We walked through all six stages of Natural Language Processing—from cleaning raw text to detecting speaker intent. We explored how machines can extract mean-ing, detect patterns, and even identify emotional tone. And we learned how these tools can be used not just for automation or analytics—but for identifying and responding to MDM.   "
   ]
  },
  {
   "cell_type": "markdown",
   "id": "dedde9c8-3969-434f-8058-b0c0899bf479",
   "metadata": {},
   "source": [
    "![NLPSlide29](../_static/NLP_Slides/Slide29.jpg)"
   ]
  },
  {
   "cell_type": "markdown",
   "id": "1954ace9-73a1-4936-a797-5cff110fbb72",
   "metadata": {},
   "source": [
    "When we combine all these tools—we can start to assign MDM risk scores to individual posts. Imagine a system that flags a post as high-risk not just because it contains false claims, but also because it uses emotional framing, subjective language, and known disinformation patterns. This is the kind of integrated analysis that powers modern moderation tools, automated fact-checkers, and even intelligence dashboards. It’s where NLP meets the real-world challenge of protecting truth and reducing harm online.  "
   ]
  },
  {
   "cell_type": "markdown",
   "id": "c8e32534-5e30-45f8-983d-808d3de401a7",
   "metadata": {},
   "source": [
    "![NLPSlide30](../_static/NLP_Slides/Slide30.jpg)"
   ]
  },
  {
   "cell_type": "markdown",
   "id": "1fada508-febd-4456-908f-ad8a5f19a074",
   "metadata": {},
   "source": [
    "Thank you for engaging with this lesson—I hope you now have a stronger sense of how language, data, and machine learning all come together to help us navigate complex digital landscapes."
   ]
  },
  {
   "cell_type": "markdown",
   "id": "a9808448-f42b-41a0-9dbe-1572daeb3b45",
   "metadata": {},
   "source": [
    "[Provide Anonymous Feedback on this Lesson Here](https://forms.gle/4ZRmNr5rmGCAR1Re6)"
   ]
  }
 ],
 "metadata": {
  "kernelspec": {
   "display_name": "Python 3 (ipykernel)",
   "language": "python",
   "name": "python3"
  },
  "language_info": {
   "codemirror_mode": {
    "name": "ipython",
    "version": 3
   },
   "file_extension": ".py",
   "mimetype": "text/x-python",
   "name": "python",
   "nbconvert_exporter": "python",
   "pygments_lexer": "ipython3",
   "version": "3.13.2"
  }
 },
 "nbformat": 4,
 "nbformat_minor": 5
}
