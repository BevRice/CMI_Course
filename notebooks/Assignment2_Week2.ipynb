{
 "cells": [
  {
   "cell_type": "markdown",
   "id": "c34afa32-57ae-4ac9-9b08-2d3defaae48d",
   "metadata": {},
   "source": [
    "# 📝 Assignment 2"
   ]
  },
  {
   "cell_type": "markdown",
   "id": "c805fc4e-34be-40d7-bc8e-9319f869a754",
   "metadata": {},
   "source": [
    "## AI-Driven MDM Detection – Case Studies & Ethical Challenges\n",
    "\n",
    "⏳ Estimated Duration: 2-3 Hours  \n",
    "🎯 Due: Friday, 21 March at 11:59pm\n",
    "\n",
    "**Assignment Overview:**  \n",
    "This assignment focuses on critically analyzing real-world challenges in AI-powered misinformation detection systems. You will engage with two detailed case studies that explore the risks, biases, and ethical dilemmas arising from relying on single-platform data and heavy reliance on AI. Your task is to contribute thoughtful, evidence-based responses to discussion prompts for each case study on GitHub Discussions, and to interact with at least one peer’s submission per case study.\n",
    "\n",
    "---\n",
    "\n",
    "**📌 Instruction**\n",
    "\n",
    "**Step 1: Review the Case Studies Below**\n",
    "\n",
    "**1️⃣ Case Study 1 – Single-Platform Data Challenges:**  \n",
    "A misinformation research team develops an AI-powered detection system trained exclusively on Twitter (X) data. While the system successfully identifies false claims circulating on Twitter, policymakers find that its findings are not easily transferable to broader misinformation regulation.  \n",
    "\n",
    "**Discussion Prompts:**  \n",
    "- What are the risks of developing a misinformation detection system trained on data from a single social media platform?  \n",
    "- How might misinformation patterns differ across platforms (e.g., Twitter vs. TikTok vs. Facebook)?  \n",
    "- What steps could researchers take to ensure a broader, more representative dataset while maintaining efficiency?  \n",
    "- If platform restrictions (e.g., API access limitations) prevent multi-platform data collection, what alternative solutions could mitigate bias?\n",
    "\n",
    "**Participation Guidelines for Case Study 1:**  \n",
    "- Share your insights and possible solutions to the challenges of single-platform misinformation detection.  \n",
    "- Engage by replying to at least one other participant’s response.  \n",
    "- Support your arguments with real-world examples, research articles, or case studies where applicable.\n",
    "\n",
    "**2️⃣ Case Study 2 – Challenges in AI-Driven Misinformation Detection:**  \n",
    "Following their initial approach, the research team refines their Twitter-based model to boost detection accuracy. However, the updated system begins to flag satirical content and opinion-based discussions as misinformation, shows a bias toward high-engagement content, and disproportionately flags posts from independent journalists and alternative news sources. These issues spark public backlash and raise serious ethical and technical concerns.  \n",
    "\n",
    "**Discussion Prompts:**  \n",
    "- What are the risks of relying too heavily on AI for misinformation detection?  \n",
    "- How can AI models be designed to reduce false positives while maintaining detection accuracy?  \n",
    "- What role should human moderators play in misinformation detection alongside AI?  \n",
    "- How can platforms ensure transparency in their misinformation detection algorithms without exposing vulnerabilities to bad actors?\n",
    "\n",
    "**Participation Guidelines for Case Study 2:**  \n",
    "- Provide your perspective on the challenges of AI-driven misinformation detection and suggest potential solutions.  \n",
    "- Respond to at least one peer’s comment to encourage a rich discussion.  \n",
    "- Cite relevant real-world examples, research studies, or case law to support your points.\n",
    "\n",
    "---\n",
    "\n",
    "**📢 Step 2: Post Your Responses**  \n",
    "- **Submit your discussion responses directly on GitHub Discussions** under the appropriate case study threads.\n",
    "    - [Case Study 1](https://github.com/BevRice/CMI_Course/discussions/3)\n",
    "    - [Case Study 2](https://github.com/BevRice/CMI_Course/discussions/5)\n",
    "- Ensure each case study contribution adheres to the participation guidelines and that you have engaged with at least one other participant per case study.\n",
    "\n",
    "---\n",
    "\n",
    "**📌 Evaluation Criteria (10 Points Total):**\n",
    "\n",
    "- **Depth of Analysis (4 pts):** Demonstrate clear understanding and critical evaluation of the ethical, technical, and practical challenges in each case study.\n",
    "- **Engagement (3 pts):** Offer thoughtful, constructive responses to both case studies and engage with at least one peer’s submission in each discussion.\n",
    "- **Clarity & Presentation (2 pts):** Organize your responses clearly, ensuring they are well-written and free from major errors.\n",
    "- **Use of Evidence (1 pt):** Support your arguments with relevant real-world examples, research articles, or case studies.\n",
    "\n",
    "---\n",
    "\n",
    "**💡 Why This Matters:**  \n",
    "This assignment helps you explore the ethical and technical complexities of AI-driven misinformation detection. It also prepares you for future projects by emphasizing the importance of diverse data sources, transparency, and balanced regulation in the fight against misinformation."
   ]
  },
  {
   "cell_type": "markdown",
   "id": "b90ad3a8-e2fc-4459-b478-4849796dbe1d",
   "metadata": {},
   "source": [
    "[Provide Anonymous Feedback on this Assignment Here](https://forms.gle/4ZRmNr5rmGCAR1Re6)"
   ]
  }
 ],
 "metadata": {
  "kernelspec": {
   "display_name": "Python 3 (ipykernel)",
   "language": "python",
   "name": "python3"
  },
  "language_info": {
   "codemirror_mode": {
    "name": "ipython",
    "version": 3
   },
   "file_extension": ".py",
   "mimetype": "text/x-python",
   "name": "python",
   "nbconvert_exporter": "python",
   "pygments_lexer": "ipython3",
   "version": "3.13.2"
  }
 },
 "nbformat": 4,
 "nbformat_minor": 5
}
