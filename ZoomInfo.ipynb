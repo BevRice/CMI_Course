{
 "cells": [
  {
   "cell_type": "markdown",
   "id": "13c76820-1750-4a4f-8323-85d8424a4586",
   "metadata": {},
   "source": [
    "# Zoom Info"
   ]
  },
  {
   "cell_type": "markdown",
   "id": "92eb5faf-8567-4872-9790-ff5cbd51573a",
   "metadata": {},
   "source": [
    "**Course Kickoff, Friday March 7 @ 1pm**\n",
    "- [Kickoff Meeting Link](https://us06web.zoom.us/j/81826315093?pwd=z2WPqKGwwKMK2o0bCdEHZhpNG6e7Zo.1)\n",
    "\n",
    "**Mandatory Zoom Meetings**\n",
    "Students are required to attend mandatory meetings on the following dates:\n",
    "- **Tuesdays at 1 PM** on **March 11, March 25, April 1, April 8, and April 15**.\n",
    "- No mandatory meeting during Spring Break - Mar 18\n",
    "- [Mandatory Meeting Zoom Link](https://us06web.zoom.us/j/87850495731?pwd=3AeGx7WNTVA6g0jQww3DJf2tRxOkXU.1)\n",
    "\n",
    "\n",
    "**Office Hours**\n",
    "- **Instructor:** Beverly Rice\n",
    "- **Email:** ricebg@hawaii.edu\n",
    "- **Office Hours:** Thu 6pm (zoom), Fri 1pm (zoom + Chaminade), Also available upon request  \n",
    "        - [Officer Hours Zoom Link](https://us06web.zoom.us/j/83826697863?pwd=I6Fg72l7AFx6bZoecSUHpseOUSbzdi.1)"
   ]
  }
 ],
 "metadata": {
  "kernelspec": {
   "display_name": "Python 3 (ipykernel)",
   "language": "python",
   "name": "python3"
  },
  "language_info": {
   "codemirror_mode": {
    "name": "ipython",
    "version": 3
   },
   "file_extension": ".py",
   "mimetype": "text/x-python",
   "name": "python",
   "nbconvert_exporter": "python",
   "pygments_lexer": "ipython3",
   "version": "3.13.2"
  }
 },
 "nbformat": 4,
 "nbformat_minor": 5
}
