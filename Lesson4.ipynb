{
 "cells": [
  {
   "cell_type": "markdown",
   "id": "f18d50cc",
   "metadata": {},
   "source": [
    "# 📚 Data Collection"
   ]
  },
  {
   "cell_type": "markdown",
   "id": "3545c946-db60-4664-8e18-52ad2f93a270",
   "metadata": {},
   "source": [
    "Available: Saturday, 15 March @ 0800"
   ]
  }
 ],
 "metadata": {
  "kernelspec": {
   "display_name": "Python 3 (ipykernel)",
   "language": "python",
   "name": "python3"
  },
  "language_info": {
   "codemirror_mode": {
    "name": "ipython",
    "version": 3
   },
   "file_extension": ".py",
   "mimetype": "text/x-python",
   "name": "python",
   "nbconvert_exporter": "python",
   "pygments_lexer": "ipython3",
   "version": "3.13.2"
  }
 },
 "nbformat": 4,
 "nbformat_minor": 5
}
