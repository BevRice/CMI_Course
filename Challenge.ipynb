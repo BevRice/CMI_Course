{
 "cells": [
  {
   "cell_type": "markdown",
   "id": "39e171c1-15e4-4117-8370-faf8b93e29c3",
   "metadata": {
    "editable": true,
    "slideshow": {
     "slide_type": ""
    },
    "tags": []
   },
   "source": [
    "# 📝 Challenge Instructions"
   ]
  },
  {
   "cell_type": "markdown",
   "id": "5c0787f6-62ac-4324-ad46-baacb5ab598f",
   "metadata": {},
   "source": [
    "Available: Saturday, 15 March @ 0800"
   ]
  }
 ],
 "metadata": {
  "kernelspec": {
   "display_name": "Python 3 (ipykernel)",
   "language": "python",
   "name": "python3"
  },
  "language_info": {
   "codemirror_mode": {
    "name": "ipython",
    "version": 3
   },
   "file_extension": ".py",
   "mimetype": "text/x-python",
   "name": "python",
   "nbconvert_exporter": "python",
   "pygments_lexer": "ipython3",
   "version": "3.13.2"
  }
 },
 "nbformat": 4,
 "nbformat_minor": 5
}
