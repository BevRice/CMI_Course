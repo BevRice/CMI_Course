{
 "cells": [
  {
   "cell_type": "markdown",
   "id": "c34afa32-57ae-4ac9-9b08-2d3defaae48d",
   "metadata": {},
   "source": [
    "# 📝 Assignment 2"
   ]
  },
  {
   "cell_type": "markdown",
   "id": "c805fc4e-34be-40d7-bc8e-9319f869a754",
   "metadata": {},
   "source": [
    "Available: Saturday, 15 March @ 0800"
   ]
  }
 ],
 "metadata": {
  "kernelspec": {
   "display_name": "Python 3 (ipykernel)",
   "language": "python",
   "name": "python3"
  },
  "language_info": {
   "codemirror_mode": {
    "name": "ipython",
    "version": 3
   },
   "file_extension": ".py",
   "mimetype": "text/x-python",
   "name": "python",
   "nbconvert_exporter": "python",
   "pygments_lexer": "ipython3",
   "version": "3.13.2"
  }
 },
 "nbformat": 4,
 "nbformat_minor": 5
}
