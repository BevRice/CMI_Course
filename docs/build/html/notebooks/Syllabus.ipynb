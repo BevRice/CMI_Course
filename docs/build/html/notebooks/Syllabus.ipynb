{
 "cells": [
  {
   "cell_type": "markdown",
   "id": "f37bae5b-0c39-4cce-b649-5b82619f1132",
   "metadata": {},
   "source": [
    "# Syllabus"
   ]
  },
  {
   "cell_type": "markdown",
   "id": "22aadbd6-8819-4802-a530-4e1a479566ec",
   "metadata": {},
   "source": [
    "**Counter Malign Influence: Strategies, Insights, and Tools**\n",
    "\n",
    "**Course Description**\n",
    "This course is designed to equip students with the skills to analyze and combat misinformation, disinformation, and malinformation (MDM) using data analytics and critical thinking. By the end of this course, students will gain hands-on experience in data acquisition, cleaning, exploration, visualization, and analysis with a strong focus on real-world applications.\n",
    "\n",
    "**Course Schedule**\n",
    "\n",
    "Weeks 1-4: Core Learning\n",
    "Each week explores a theme, integrating **critical thinking and data analytics**.\n",
    "\n",
    "| **Week** | **Theme** | **Lessons** | **Guest Speaker Focus** | **Assignment Focus** |\n",
    "|----------|------------|------------------|------------------|------------------|\n",
    "| **1** | Foundations of MDM | (1) What is MDM? (2) Thinking Critically against MDM | UN CIFAL: MDM in academia | (1) Mapping MDM Narratives |\n",
    "| **2** | Detecting MDM | (3) Data Foundations (4) Defining the Research Question and Identifying Credible Data | Spring Break, no mandatory meeting | (2) Case Study Analysis (3) Identifying Data |\n",
    "| **3** | Analyzing MDM | (5) EDA & Patterns in MDM (6) Intro to Python (7) EDA Walkthrough | DTRA: MDM & national security | (4) Basic Python (5) EDA in Python |\n",
    "| **4** | Fighting MDM | (8) Sentiment Analysis (9) Strategic MDM Interventions | USSF Intelligence Directorate | (6) Sentiment Analysis |\n",
    "| **5** | Captsone Challenge | No Lessons | Joint Staff Future Capabilities: AI & MDM | Capstone |\n",
    "| **6** | Captsone Challenge | No Lessons | Career Panel | Capstone |\n",
    "\n",
    "**Learning Objectives**\n",
    "By the end of this course, students will:\n",
    "- Develop **critical thinking** skills to evaluate and combat MDM.\n",
    "- Gain **hands-on experience** with Python-based data analytics tools.\n",
    "- Learn to **identify patterns in data** using real-world datasets.\n",
    "- Understand **counter-MDM strategies and policy implications**.\n",
    "- Present actionable insights based on their analysis.\n",
    "\n",
    "**Course Materials**\n",
    "- **Datasets & Case Studies**: Provided within Jupyter Notebooks and assignments.\n",
    "- **External Readings**: Supplementary reports and academic papers on MDM.\n",
    "\n",
    "**Assessment & Grading**\n",
    "- **Weekly Assignments (40%)** – Hands-on exercises analyzing MDM.\n",
    "- **Capstone Challenge (40%)** – Final project and presentation.\n",
    "- **Participation (20%)** – Engagement in discussions and guest speaker reflections.\n",
    "\n",
    "**Mandatory Zoom Meetings**\n",
    "Students are required to attend mandatory meetings on the following dates:\n",
    "- **Tuesdays at 1 PM** on **March 11, March 25, April 1, April 8, and April 15**.\n",
    "- No mandatory meeting during Spring Break - Mar 18\n",
    "- [Mandatory Meeting Zoom Link](https://us06web.zoom.us/j/87850495731?pwd=3AeGx7WNTVA6g0jQww3DJf2tRxOkXU.1)\n",
    "\n",
    "**Technical Requirements**\n",
    "- Internet access for course materials and discussions.\n",
    "- GitHub & Gmail account for accessing course content.\n",
    "\n",
    "**Course Platform**\n",
    "- The course is hosted on **GitHub Pages** with interactive notebooks deployed on **Google Colab** for seamless execution.\n",
    "- **Discussions and Q&A**: Handled via **GitHub Discussions**.\n",
    "\n",
    "**Instructor & Contact Information**\n",
    "- **Instructor:** Beverly Rice\n",
    "- **Email:** ricebg@hawaii.edu\n",
    "- **Office Hours:** Thu 5pm (zoom), Fri 12pm (zoom + Chaminade), Also available upon request  \n",
    "        - [Officer Hours Zoom Link](https://us06web.zoom.us/j/83826697863?pwd=I6Fg72l7AFx6bZoecSUHpseOUSbzdi.1)\n",
    "\n",
    "**Grants**\n",
    "- NSF INCLUDES Alliance HRD-2217242\n",
    "- Pacific Intelligence Innovation Initiative"
   ]
  }
 ],
 "metadata": {
  "kernelspec": {
   "display_name": "Python 3 (ipykernel)",
   "language": "python",
   "name": "python3"
  },
  "language_info": {
   "codemirror_mode": {
    "name": "ipython",
    "version": 3
   },
   "file_extension": ".py",
   "mimetype": "text/x-python",
   "name": "python",
   "nbconvert_exporter": "python",
   "pygments_lexer": "ipython3",
   "version": "3.13.2"
  }
 },
 "nbformat": 4,
 "nbformat_minor": 5
}
