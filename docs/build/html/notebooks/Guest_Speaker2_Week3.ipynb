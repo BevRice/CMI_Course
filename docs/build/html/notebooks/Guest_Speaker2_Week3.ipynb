{
 "cells": [
  {
   "cell_type": "markdown",
   "id": "951517af-1e98-4d62-8950-9dd55e1f393b",
   "metadata": {
    "editable": true,
    "slideshow": {
     "slide_type": ""
    },
    "tags": []
   },
   "source": [
    "# 🎤 Defense Threat Reduction Agency"
   ]
  },
  {
   "cell_type": "markdown",
   "id": "fc81942a-851d-4d84-b5cc-73ab5528c1ce",
   "metadata": {
    "editable": true,
    "slideshow": {
     "slide_type": ""
    },
    "tags": []
   },
   "source": [
    "Date: Tuesday, 25 March @ 1pm  \n",
    "[Zoom Link](https://us06web.zoom.us/j/87850495731?pwd=3AeGx7WNTVA6g0jQww3DJf2tRxOkXU.1)"
   ]
  },
  {
   "cell_type": "markdown",
   "id": "a3d3a679-b0ea-49a3-83b9-198c1b856628",
   "metadata": {},
   "source": [
    "## Guest Speaker: Mr. Jeffrey Sgarlata"
   ]
  },
  {
   "cell_type": "markdown",
   "id": "cf095aea-5c97-4b3f-af75-98fdd2f67c8b",
   "metadata": {},
   "source": [
    "![sgarlata](../_static/sgarlata.jpg)"
   ]
  },
  {
   "cell_type": "markdown",
   "id": "fe4cf98b-2009-49b9-b121-37c17b8c5a91",
   "metadata": {},
   "source": [
    "### Current Role: Chief of Staff at DTRA"
   ]
  },
  {
   "cell_type": "markdown",
   "id": "a520a328-202d-4fa9-af80-880fbba915f6",
   "metadata": {},
   "source": [
    "[Jeffrey Sgarlata LinkedIn](https://www.linkedin.com/in/jeffrey-sgarlata-20ab70280/)"
   ]
  },
  {
   "cell_type": "markdown",
   "id": "4807d12f-853c-48e7-84f1-2770b807a4c4",
   "metadata": {},
   "source": [
    "[DTRA Link](https://www.dtra.mil/)"
   ]
  },
  {
   "cell_type": "markdown",
   "id": "185733b1-4671-4965-b434-a393c2b6cf3a",
   "metadata": {},
   "source": [
    "Previous Roles\n",
    "- Senior Consultant, Freelance\n",
    "- Director, Intelligence Directorate, Air Forces Central Command\n",
    "- Director, J2 Targeting Division, Combined Joint Task Force - Operation Inherent Resolve\n",
    "- Director, J25 Strategic Analysis, Targeting, Exercises & Plans Division, UNited States Forces Korea\n",
    "- Deputy Chief, Intelligence, Surveillance, & Reconnaissance Division, 609th Air Operations Center\n",
    "- Student, United States Army War College\n",
    "- Squadron, Commander, 303d Intelligence Squadron logo"
   ]
  },
  {
   "cell_type": "markdown",
   "id": "ccfc6a08-b922-4592-86ad-bf82183e9050",
   "metadata": {},
   "source": [
    "## Optional Reading: [Foreign Disinformation: Defining and Detecting Threats](https://www.gao.gov/products/gao-24-107600)"
   ]
  }
 ],
 "metadata": {
  "kernelspec": {
   "display_name": "Python 3 (ipykernel)",
   "language": "python",
   "name": "python3"
  },
  "language_info": {
   "codemirror_mode": {
    "name": "ipython",
    "version": 3
   },
   "file_extension": ".py",
   "mimetype": "text/x-python",
   "name": "python",
   "nbconvert_exporter": "python",
   "pygments_lexer": "ipython3",
   "version": "3.13.2"
  }
 },
 "nbformat": 4,
 "nbformat_minor": 5
}
