{
 "cells": [
  {
   "cell_type": "markdown",
   "id": "f391d88b-bc40-4380-bfac-249445c7f733",
   "metadata": {},
   "source": [
    "# 📝 Assignment 4"
   ]
  },
  {
   "cell_type": "markdown",
   "id": "62897a0d-e74d-4cad-bb90-3de86a930066",
   "metadata": {},
   "source": [
    "[![Open In Colab](https://colab.research.google.com/assets/colab-badge.svg)](https://colab.research.google.com/github/my-org/my-course/blob/main/lesson1.ipynb)"
   ]
  },
  {
   "cell_type": "markdown",
   "id": "6fc7e588-3639-4dfb-9799-1c6b578bb1aa",
   "metadata": {},
   "source": [
    "## 🔹 Getting Started with Google Colab\n",
    "\n",
    "For this lesson, we will be using **Google Colab**, a free, cloud-based Jupyter Notebook environment that allows us to write and execute Python code **without needing to install anything** on our own computers.  \n",
    "\n",
    "### 🔹 Why Google Colab?  \n",
    "✔ **No Installation Required** – Runs in your web browser, no need to install Python, libraries, or Jupyter Notebook.  \n",
    "✔ **Pre-Installed Libraries** – Most of the common data analysis libraries (`NumPy`, `pandas`, `matplotlib`, `seaborn`, `statsmodels`) are already included.  \n",
    "✔ **Cloud-Based & Auto-Saving** – Your work is stored in Google Drive, so you can access it from anywhere.  \n",
    "✔ **Free GPU Access** – Useful for advanced machine learning, though not necessary for this course.  \n",
    "\n",
    "### 🔹 How to Open Google Colab  \n",
    "1️⃣ **Go to** [colab.research.google.com](https://colab.research.google.com/)  \n",
    "2️⃣ **Sign in** with your Google account.  \n",
    "3️⃣ **Click** [![Open In Colab](https://colab.research.google.com/assets/colab-badge.svg)](https://colab.research.google.com/github/my-org/my-course/blob/main/lesson1.ipynb)\n",
    "\n",
    "---\n",
    "\n",
    "### 💻 What If I Want to Run Python Locally?  \n",
    "If you’re interested in running Python on your own computer instead of using Google Colab, you can install **Anaconda**, which includes Python and Jupyter Notebook.  \n",
    "\n",
    "🔹 **Anaconda Benefits:**  \n",
    "- Comes with everything you need for data analysis.  \n",
    "- Lets you work offline and manage different project environments.  \n",
    "- Supports additional tools like R and Julia if you’re interested in expanding your coding skills.  \n",
    "\n",
    "If you'd like guidance on **installing and setting up Anaconda**, I'm happy to walk through it with you during **office hours**! 😊  \n"
   ]
  },
  {
   "cell_type": "markdown",
   "id": "da017a30-1805-4312-bfa3-83c254fe3232",
   "metadata": {},
   "source": [
    "## Python Basics\n",
    "---"
   ]
  },
  {
   "cell_type": "markdown",
   "id": "156eae05-40b2-43eb-a4b5-81efe48c7627",
   "metadata": {},
   "source": [
    "### 📌 Exercise 1: Working with Variables\n",
    "1. Create a variable called category\n",
    "2. Assign any MDM-related string to it\n",
    "3. Print the variable\n",
    "4. Check and print the data type of category"
   ]
  },
  {
   "cell_type": "code",
   "execution_count": 1,
   "id": "5fa8fd36-4c3c-4c86-8966-d8586d9cde75",
   "metadata": {
    "execution": {
     "iopub.execute_input": "2025-02-28T19:31:44.244723Z",
     "iopub.status.busy": "2025-02-28T19:31:44.243844Z",
     "iopub.status.idle": "2025-02-28T19:31:44.256447Z",
     "shell.execute_reply": "2025-02-28T19:31:44.254395Z"
    }
   },
   "outputs": [],
   "source": [
    "#Enter code here"
   ]
  },
  {
   "cell_type": "markdown",
   "id": "46d7287f-7b9f-424e-88b5-4ecf68697e72",
   "metadata": {},
   "source": [
    "---\n",
    "\n",
    "### 📌 Exercise 2: Working with Variables\n",
    "1. Change the value stored in category to a complex data type\n",
    "2. Print the variable\n",
    "3. Check and print the new data type of category"
   ]
  },
  {
   "cell_type": "code",
   "execution_count": 2,
   "id": "8366c5a7-bfb8-44b6-8cbc-d54da9186ca9",
   "metadata": {
    "execution": {
     "iopub.execute_input": "2025-02-28T19:31:44.263463Z",
     "iopub.status.busy": "2025-02-28T19:31:44.262775Z",
     "iopub.status.idle": "2025-02-28T19:31:44.271673Z",
     "shell.execute_reply": "2025-02-28T19:31:44.269493Z"
    }
   },
   "outputs": [],
   "source": [
    "#Enter code here"
   ]
  },
  {
   "cell_type": "markdown",
   "id": "eb6b5cce-db5f-411c-9765-44cbdaca7be2",
   "metadata": {},
   "source": [
    "---"
   ]
  },
  {
   "cell_type": "code",
   "execution_count": 3,
   "id": "8aea950a-da4d-46f9-a21c-cfb106827539",
   "metadata": {
    "execution": {
     "iopub.execute_input": "2025-02-28T19:31:44.278507Z",
     "iopub.status.busy": "2025-02-28T19:31:44.277758Z",
     "iopub.status.idle": "2025-02-28T19:31:44.287133Z",
     "shell.execute_reply": "2025-02-28T19:31:44.285650Z"
    }
   },
   "outputs": [
    {
     "name": "stdout",
     "output_type": "stream",
     "text": [
      "Never gonna give you up\n",
      "Never gonna let you down\n",
      "Never gonna run around and desert you\n",
      "Never gonna make you cry\n",
      "Never gonna say goodbye\n",
      "Never gonna tell a lie and hurt you\n"
     ]
    }
   ],
   "source": [
    "# Run this cell\n",
    "rickroll = \"\"\"Never gonna give you up\n",
    "Never gonna let you down\n",
    "Never gonna run around and desert you\n",
    "Never gonna make you cry\n",
    "Never gonna say goodbye\n",
    "Never gonna tell a lie and hurt you\"\"\"\n",
    "\n",
    "print(rickroll)"
   ]
  },
  {
   "cell_type": "markdown",
   "id": "f8d5f699-2702-4493-affd-15b667a5c42d",
   "metadata": {},
   "source": [
    "### Question 1: Is what was printed above structured or unstructured data?"
   ]
  },
  {
   "cell_type": "markdown",
   "id": "2256c080-77ef-4cf9-8b2b-4df3aa78f7b8",
   "metadata": {},
   "source": [
    "Double click and enter answer here"
   ]
  },
  {
   "cell_type": "markdown",
   "id": "db9dbf3f-9066-4121-b7e1-250a5a949234",
   "metadata": {},
   "source": [
    "---"
   ]
  },
  {
   "cell_type": "code",
   "execution_count": 4,
   "id": "74a94db2-5d79-4754-a0bf-3547c8b8b9a6",
   "metadata": {
    "execution": {
     "iopub.execute_input": "2025-02-28T19:31:44.292253Z",
     "iopub.status.busy": "2025-02-28T19:31:44.291654Z",
     "iopub.status.idle": "2025-02-28T19:31:45.575941Z",
     "shell.execute_reply": "2025-02-28T19:31:45.574289Z"
    }
   },
   "outputs": [
    {
     "name": "stdout",
     "output_type": "stream",
     "text": [
      "      Name  Age  Followers\n",
      "0    Alice   49       9103\n",
      "1      Bob   41       4997\n",
      "2  Charlie   46        871\n",
      "3    David   57       4919\n",
      "4      Eve   36       3434\n",
      "5    Frank   59       4032\n",
      "6    Grace   59       6922\n",
      "7   Hannah   24        713\n",
      "8      Ian   33       2149\n",
      "9     Jack   45       9433\n"
     ]
    }
   ],
   "source": [
    "# Run this cell and data will be generated for you\n",
    "import pandas as pd\n",
    "import random\n",
    "\n",
    "# Sample data for the dataframe\n",
    "names = [\"Alice\", \"Bob\", \"Charlie\", \"David\", \"Eve\", \"Frank\", \"Grace\", \"Hannah\", \"Ian\", \"Jack\"]\n",
    "ages = [random.randint(18, 60) for _ in range(10)]\n",
    "followers = [random.randint(100, 10000) for _ in range(10)]\n",
    "\n",
    "# Create DataFrame\n",
    "df = pd.DataFrame({\n",
    "    \"Name\": names,\n",
    "    \"Age\": ages,\n",
    "    \"Followers\": followers\n",
    "})\n",
    "\n",
    "print(df)"
   ]
  },
  {
   "cell_type": "markdown",
   "id": "a1e3a423-4f27-401c-ada7-a62fe0b91429",
   "metadata": {},
   "source": [
    "### Question 2: Is what was printed above structured or unstructured data?"
   ]
  },
  {
   "cell_type": "markdown",
   "id": "7c6d0781-d4fd-4cd7-8445-2eeffdc00fc4",
   "metadata": {},
   "source": [
    "Double click and enter answer here"
   ]
  },
  {
   "cell_type": "markdown",
   "id": "680ca8d8-affe-4670-8b85-de6239742395",
   "metadata": {},
   "source": [
    "---\n",
    "\n",
    "### 📌 Exercise 3: Importing libraries\n",
    "1. Import the pandas and numpy libraries\n",
    "2. Check the version of each library by running the following:\n",
    "    - print(pd.__version__)\n",
    "    - print(np.__version__)"
   ]
  },
  {
   "cell_type": "code",
   "execution_count": 5,
   "id": "85012092-c902-4172-b211-65e38456f667",
   "metadata": {
    "execution": {
     "iopub.execute_input": "2025-02-28T19:31:45.579235Z",
     "iopub.status.busy": "2025-02-28T19:31:45.578668Z",
     "iopub.status.idle": "2025-02-28T19:31:45.583502Z",
     "shell.execute_reply": "2025-02-28T19:31:45.582728Z"
    }
   },
   "outputs": [],
   "source": [
    "#Enter code here"
   ]
  },
  {
   "cell_type": "code",
   "execution_count": 6,
   "id": "fa082635-20a2-4947-9ca8-3c697f524847",
   "metadata": {
    "execution": {
     "iopub.execute_input": "2025-02-28T19:31:45.586100Z",
     "iopub.status.busy": "2025-02-28T19:31:45.585826Z",
     "iopub.status.idle": "2025-02-28T19:31:45.589487Z",
     "shell.execute_reply": "2025-02-28T19:31:45.588711Z"
    }
   },
   "outputs": [],
   "source": [
    "#Enter code here"
   ]
  },
  {
   "cell_type": "code",
   "execution_count": 7,
   "id": "e02f2b02-69dc-466d-9e31-7c9cbe8ae4e9",
   "metadata": {
    "execution": {
     "iopub.execute_input": "2025-02-28T19:31:45.592412Z",
     "iopub.status.busy": "2025-02-28T19:31:45.592116Z",
     "iopub.status.idle": "2025-02-28T19:31:45.596035Z",
     "shell.execute_reply": "2025-02-28T19:31:45.595226Z"
    }
   },
   "outputs": [],
   "source": [
    "#Enter code here"
   ]
  },
  {
   "cell_type": "markdown",
   "id": "c1d272b9-2f2a-44a4-bfaa-cfb280be99e5",
   "metadata": {},
   "source": [
    "---\n",
    "\n",
    "### 📌 Exercise 4: Importing libraries\n",
    "1. Use numpy to calculate the mean of df['Age'] by running -> np.mean(df['Age'])\n",
    "2. Calculate the mean of followers in the dataset"
   ]
  },
  {
   "cell_type": "code",
   "execution_count": null,
   "id": "7417f9cb-8940-401c-99d2-38b25a7126cc",
   "metadata": {},
   "outputs": [],
   "source": []
  }
 ],
 "metadata": {
  "kernelspec": {
   "display_name": "Python 3 (ipykernel)",
   "language": "python",
   "name": "python3"
  },
  "language_info": {
   "codemirror_mode": {
    "name": "ipython",
    "version": 3
   },
   "file_extension": ".py",
   "mimetype": "text/x-python",
   "name": "python",
   "nbconvert_exporter": "python",
   "pygments_lexer": "ipython3",
   "version": "3.13.2"
  }
 },
 "nbformat": 4,
 "nbformat_minor": 5
}
