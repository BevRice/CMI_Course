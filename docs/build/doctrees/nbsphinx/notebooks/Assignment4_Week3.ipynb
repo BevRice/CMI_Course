{
 "cells": [
  {
   "cell_type": "markdown",
   "id": "f391d88b-bc40-4380-bfac-249445c7f733",
   "metadata": {},
   "source": [
    "# 📝 Assignment 4\n",
    "\n",
    "## Introductory Exercises in Python\n",
    "\n",
    "⏳ Estimated Duration: 1 Hour  \n",
    "🎯 Due: Friday, 28 March at 11:59pm"
   ]
  },
  {
   "cell_type": "markdown",
   "id": "62897a0d-e74d-4cad-bb90-3de86a930066",
   "metadata": {},
   "source": [
    "[![Open In Colab](https://colab.research.google.com/assets/colab-badge.svg)](https://colab.research.google.com/github/BevRice/CMI_Course/blob/main/docs/source/notebooks/Assignment4_Week3.ipynb)"
   ]
  },
  {
   "cell_type": "markdown",
   "id": "6fc7e588-3639-4dfb-9799-1c6b578bb1aa",
   "metadata": {},
   "source": [
    "### 🔹 Getting Started with Google Colab\n",
    "\n",
    "For this lesson, we will be using **Google Colab**, a free, cloud-based Jupyter Notebook environment that allows us to write and execute Python code **without needing to install anything** on our own computers.  \n",
    "\n",
    "🔹 **Why Google Colab?**  \n",
    "✔ **No Installation Required** – Runs in your web browser, no need to install Python, libraries, or Jupyter Notebook.  \n",
    "✔ **Pre-Installed Libraries** – Most of the common data analysis libraries (`NumPy`, `pandas`, `matplotlib`, `seaborn`, `statsmodels`) are already included.  \n",
    "✔ **Cloud-Based & Auto-Saving** – Your work is stored in Google Drive, so you can access it from anywhere.  \n",
    "✔ **Free GPU Access** – Useful for advanced machine learning, though not necessary for this course.  \n",
    "\n",
    "🔹 **How to Open Google Colab**  \n",
    "1️⃣ **Go to** [colab.research.google.com](https://colab.research.google.com/)  \n",
    "2️⃣ **Sign in** with your Google account  \n",
    "3️⃣ **Click** Open in Colab above\n",
    "\n",
    "---\n",
    "\n",
    "💻 **What If I Want to Run Python Locally?**  \n",
    "If you’re interested in running Python on your own computer instead of using Google Colab, you can install **Anaconda**, which includes Python and Jupyter Notebook.  \n",
    "\n",
    "🔹 **Anaconda Benefits:**  \n",
    "- Comes with everything you need for data analysis.  \n",
    "- Lets you work offline and manage different project environments.  \n",
    "- Supports additional tools like R and Julia if you’re interested in expanding your coding skills.  \n",
    "\n",
    "If you'd like guidance on **installing and setting up Anaconda**, I'm happy to walk through it with you during **office hours**! 😊  \n"
   ]
  },
  {
   "cell_type": "markdown",
   "id": "da017a30-1805-4312-bfa3-83c254fe3232",
   "metadata": {},
   "source": [
    "## Python Basics\n",
    "\n",
    "Lets practice the basics covered in Lesson 6 before we apply what we've learned to MDM data  which we'll do in Lesson 7 and Assignment 5.\n",
    "\n",
    "---"
   ]
  },
  {
   "cell_type": "markdown",
   "id": "156eae05-40b2-43eb-a4b5-81efe48c7627",
   "metadata": {},
   "source": [
    "### 📌 Exercise 1: Working with Variables\n",
    "1. Create three variables: category, age, and engagement_rate\n",
    "2. Assign a string, integer, and float to the variables respectively\n",
    "3. Print each of the variables\n",
    "4. Check and print the data types of each variable"
   ]
  },
  {
   "cell_type": "code",
   "execution_count": 1,
   "id": "5fa8fd36-4c3c-4c86-8966-d8586d9cde75",
   "metadata": {
    "execution": {
     "iopub.execute_input": "2025-03-28T06:16:16.934431Z",
     "iopub.status.busy": "2025-03-28T06:16:16.933739Z",
     "iopub.status.idle": "2025-03-28T06:16:16.945312Z",
     "shell.execute_reply": "2025-03-28T06:16:16.943764Z"
    }
   },
   "outputs": [],
   "source": [
    "# Create the variables\n",
    "# Enter code here"
   ]
  },
  {
   "cell_type": "code",
   "execution_count": 2,
   "id": "8a878deb-d6bb-4a79-9ecd-fdd0c3c2f933",
   "metadata": {
    "execution": {
     "iopub.execute_input": "2025-03-28T06:16:16.950334Z",
     "iopub.status.busy": "2025-03-28T06:16:16.949455Z",
     "iopub.status.idle": "2025-03-28T06:16:16.956429Z",
     "shell.execute_reply": "2025-03-28T06:16:16.955212Z"
    }
   },
   "outputs": [],
   "source": [
    "# Print your variables\n",
    "# Enter code here"
   ]
  },
  {
   "cell_type": "code",
   "execution_count": 3,
   "id": "af8ef3d6-2f95-4e2d-954d-b4aedd7866ac",
   "metadata": {
    "execution": {
     "iopub.execute_input": "2025-03-28T06:16:16.961026Z",
     "iopub.status.busy": "2025-03-28T06:16:16.960343Z",
     "iopub.status.idle": "2025-03-28T06:16:16.966724Z",
     "shell.execute_reply": "2025-03-28T06:16:16.965576Z"
    }
   },
   "outputs": [],
   "source": [
    "# Print the data types of your variables\n",
    "# Enter code here"
   ]
  },
  {
   "cell_type": "markdown",
   "id": "46d7287f-7b9f-424e-88b5-4ecf68697e72",
   "metadata": {},
   "source": [
    "---\n",
    "\n",
    "### 📌 Exercise 2: Working with Variables\n",
    "1. Change the value stored in category to a complex data type\n",
    "2. Print the variable\n",
    "3. Check and print the new data type of category"
   ]
  },
  {
   "cell_type": "code",
   "execution_count": 4,
   "id": "8366c5a7-bfb8-44b6-8cbc-d54da9186ca9",
   "metadata": {
    "execution": {
     "iopub.execute_input": "2025-03-28T06:16:16.970271Z",
     "iopub.status.busy": "2025-03-28T06:16:16.969924Z",
     "iopub.status.idle": "2025-03-28T06:16:16.975866Z",
     "shell.execute_reply": "2025-03-28T06:16:16.974278Z"
    }
   },
   "outputs": [],
   "source": [
    "# Change the value stored in category to a complex data type\n",
    "# Enter code here"
   ]
  },
  {
   "cell_type": "code",
   "execution_count": 5,
   "id": "7383eed5-61a1-404d-b0d1-0118ad799d7d",
   "metadata": {
    "execution": {
     "iopub.execute_input": "2025-03-28T06:16:16.980951Z",
     "iopub.status.busy": "2025-03-28T06:16:16.980604Z",
     "iopub.status.idle": "2025-03-28T06:16:16.986536Z",
     "shell.execute_reply": "2025-03-28T06:16:16.984880Z"
    }
   },
   "outputs": [],
   "source": [
    "# Print your variable\n",
    "# Enter code here"
   ]
  },
  {
   "cell_type": "code",
   "execution_count": 6,
   "id": "b24daa86-3e55-45cd-98e8-2e81e1054ab7",
   "metadata": {
    "execution": {
     "iopub.execute_input": "2025-03-28T06:16:16.989920Z",
     "iopub.status.busy": "2025-03-28T06:16:16.989569Z",
     "iopub.status.idle": "2025-03-28T06:16:16.995161Z",
     "shell.execute_reply": "2025-03-28T06:16:16.993806Z"
    }
   },
   "outputs": [],
   "source": [
    "# Print your the data type of your variable\n",
    "# Enter code here"
   ]
  },
  {
   "cell_type": "markdown",
   "id": "eb6b5cce-db5f-411c-9765-44cbdaca7be2",
   "metadata": {},
   "source": [
    "---"
   ]
  },
  {
   "cell_type": "code",
   "execution_count": 7,
   "id": "8aea950a-da4d-46f9-a21c-cfb106827539",
   "metadata": {
    "execution": {
     "iopub.execute_input": "2025-03-28T06:16:16.998711Z",
     "iopub.status.busy": "2025-03-28T06:16:16.998357Z",
     "iopub.status.idle": "2025-03-28T06:16:17.004607Z",
     "shell.execute_reply": "2025-03-28T06:16:17.003626Z"
    }
   },
   "outputs": [
    {
     "name": "stdout",
     "output_type": "stream",
     "text": [
      "Never gonna give you up\n",
      "Never gonna let you down\n",
      "Never gonna run around and desert you\n",
      "Never gonna make you cry\n",
      "Never gonna say goodbye\n",
      "Never gonna tell a lie and hurt you\n"
     ]
    }
   ],
   "source": [
    "# Run this cell\n",
    "rickroll = \"\"\"Never gonna give you up\n",
    "Never gonna let you down\n",
    "Never gonna run around and desert you\n",
    "Never gonna make you cry\n",
    "Never gonna say goodbye\n",
    "Never gonna tell a lie and hurt you\"\"\"\n",
    "\n",
    "print(rickroll)"
   ]
  },
  {
   "cell_type": "markdown",
   "id": "f8d5f699-2702-4493-affd-15b667a5c42d",
   "metadata": {},
   "source": [
    "### Question 1: Is what was printed above structured or unstructured data?"
   ]
  },
  {
   "cell_type": "markdown",
   "id": "2256c080-77ef-4cf9-8b2b-4df3aa78f7b8",
   "metadata": {},
   "source": [
    "Double click and enter answer here"
   ]
  },
  {
   "cell_type": "markdown",
   "id": "680ca8d8-affe-4670-8b85-de6239742395",
   "metadata": {},
   "source": [
    "---\n",
    "\n",
    "### 📌 Exercise 3: Importing libraries\n",
    "1. Import the pandas and numpy libraries\n",
    "2. Check the version of each library by running the following:\n",
    "    - print(pd.__version__)\n",
    "    - print(np.__version__)"
   ]
  },
  {
   "cell_type": "code",
   "execution_count": 8,
   "id": "85012092-c902-4172-b211-65e38456f667",
   "metadata": {
    "execution": {
     "iopub.execute_input": "2025-03-28T06:16:17.008395Z",
     "iopub.status.busy": "2025-03-28T06:16:17.008088Z",
     "iopub.status.idle": "2025-03-28T06:16:17.013077Z",
     "shell.execute_reply": "2025-03-28T06:16:17.011793Z"
    }
   },
   "outputs": [],
   "source": [
    "# Import pandas and numpy\n",
    "# Enter code here"
   ]
  },
  {
   "cell_type": "code",
   "execution_count": 9,
   "id": "fa082635-20a2-4947-9ca8-3c697f524847",
   "metadata": {
    "execution": {
     "iopub.execute_input": "2025-03-28T06:16:17.016680Z",
     "iopub.status.busy": "2025-03-28T06:16:17.016342Z",
     "iopub.status.idle": "2025-03-28T06:16:17.021113Z",
     "shell.execute_reply": "2025-03-28T06:16:17.020117Z"
    }
   },
   "outputs": [],
   "source": [
    "# Check pandas version\n",
    "# Enter code here"
   ]
  },
  {
   "cell_type": "code",
   "execution_count": 10,
   "id": "e02f2b02-69dc-466d-9e31-7c9cbe8ae4e9",
   "metadata": {
    "execution": {
     "iopub.execute_input": "2025-03-28T06:16:17.024547Z",
     "iopub.status.busy": "2025-03-28T06:16:17.024214Z",
     "iopub.status.idle": "2025-03-28T06:16:17.029172Z",
     "shell.execute_reply": "2025-03-28T06:16:17.028177Z"
    }
   },
   "outputs": [],
   "source": [
    "# Check numpy version\n",
    "# Enter code here"
   ]
  },
  {
   "cell_type": "markdown",
   "id": "b0f68748-b888-4d17-86ad-7a5bac9dddb8",
   "metadata": {},
   "source": [
    "---"
   ]
  },
  {
   "cell_type": "markdown",
   "id": "4d61e9b6-5788-43f2-8c65-7355c8ec93da",
   "metadata": {},
   "source": [
    "### 📌 Exercise 4: Basic numpy\n",
    "- 1. Create a numpy array with 5 integers and call it ages -> ages = np.array([33,45,18...])\n",
    "- 2. Create a numpy array with 5 floats and call it engagement_rate\n",
    "- 3. Create a numpy array with 5 strings and call it users\n",
    "- 4. Print all 3 arrays"
   ]
  },
  {
   "cell_type": "code",
   "execution_count": 11,
   "id": "803b3c30-182a-4c21-9484-e1a9132b236d",
   "metadata": {
    "execution": {
     "iopub.execute_input": "2025-03-28T06:16:17.032641Z",
     "iopub.status.busy": "2025-03-28T06:16:17.032212Z",
     "iopub.status.idle": "2025-03-28T06:16:17.037347Z",
     "shell.execute_reply": "2025-03-28T06:16:17.036193Z"
    }
   },
   "outputs": [],
   "source": [
    "# Create ages\n",
    "# Enter code here"
   ]
  },
  {
   "cell_type": "code",
   "execution_count": 12,
   "id": "a89ff7dc-207b-45a3-b6db-b57f098cde7f",
   "metadata": {
    "execution": {
     "iopub.execute_input": "2025-03-28T06:16:17.041073Z",
     "iopub.status.busy": "2025-03-28T06:16:17.040738Z",
     "iopub.status.idle": "2025-03-28T06:16:17.045796Z",
     "shell.execute_reply": "2025-03-28T06:16:17.044319Z"
    }
   },
   "outputs": [],
   "source": [
    "# Create engagement_rate\n",
    "# Enter code here"
   ]
  },
  {
   "cell_type": "code",
   "execution_count": 13,
   "id": "523fdd39-b4f3-4f15-9b5c-97856e11d13b",
   "metadata": {
    "execution": {
     "iopub.execute_input": "2025-03-28T06:16:17.051414Z",
     "iopub.status.busy": "2025-03-28T06:16:17.050356Z",
     "iopub.status.idle": "2025-03-28T06:16:17.055678Z",
     "shell.execute_reply": "2025-03-28T06:16:17.054707Z"
    }
   },
   "outputs": [],
   "source": [
    "# Create users\n",
    "# Enter code here"
   ]
  },
  {
   "cell_type": "code",
   "execution_count": 14,
   "id": "915bc262-2104-495c-bcdb-7702ac476cd6",
   "metadata": {
    "execution": {
     "iopub.execute_input": "2025-03-28T06:16:17.060588Z",
     "iopub.status.busy": "2025-03-28T06:16:17.060252Z",
     "iopub.status.idle": "2025-03-28T06:16:17.065043Z",
     "shell.execute_reply": "2025-03-28T06:16:17.064069Z"
    }
   },
   "outputs": [],
   "source": [
    "# Print arrays\n",
    "# Enter code here"
   ]
  },
  {
   "cell_type": "markdown",
   "id": "08aa72ca-31a6-447a-b752-a9a3c378940f",
   "metadata": {},
   "source": [
    "- 5. Get the third value of your users array -> users[2] \n",
    "- 6. Calculate sum of your ages array -> np.sum(ages)\n",
    "- 7. Calculate mean of your engagement_rate array -> np.mean(engagement_rate)"
   ]
  },
  {
   "cell_type": "code",
   "execution_count": 15,
   "id": "27e7fa62-d1b5-4291-a177-bf024166df29",
   "metadata": {
    "execution": {
     "iopub.execute_input": "2025-03-28T06:16:17.069469Z",
     "iopub.status.busy": "2025-03-28T06:16:17.068405Z",
     "iopub.status.idle": "2025-03-28T06:16:17.075839Z",
     "shell.execute_reply": "2025-03-28T06:16:17.074534Z"
    }
   },
   "outputs": [],
   "source": [
    "# Get 3rd value of users array\n",
    "# Numpy starts at 0 so the third value would be #2\n",
    "# Enter code here"
   ]
  },
  {
   "cell_type": "code",
   "execution_count": 16,
   "id": "01d23b3d-1487-45d1-9aea-a391afdf7522",
   "metadata": {
    "execution": {
     "iopub.execute_input": "2025-03-28T06:16:17.079093Z",
     "iopub.status.busy": "2025-03-28T06:16:17.078801Z",
     "iopub.status.idle": "2025-03-28T06:16:17.084287Z",
     "shell.execute_reply": "2025-03-28T06:16:17.083213Z"
    }
   },
   "outputs": [],
   "source": [
    "# Calculate the sum of your ages array\n",
    "# Enter code here"
   ]
  },
  {
   "cell_type": "code",
   "execution_count": 17,
   "id": "76137c65-ebf1-4f11-8d26-c4a4bc9c8a35",
   "metadata": {
    "execution": {
     "iopub.execute_input": "2025-03-28T06:16:17.087239Z",
     "iopub.status.busy": "2025-03-28T06:16:17.086938Z",
     "iopub.status.idle": "2025-03-28T06:16:17.092068Z",
     "shell.execute_reply": "2025-03-28T06:16:17.090860Z"
    }
   },
   "outputs": [],
   "source": [
    "# Calculate the mean of your engagement_array array\n",
    "# Enter code here"
   ]
  },
  {
   "cell_type": "markdown",
   "id": "88783f9c-2136-4eaa-a88d-5a1c12950df4",
   "metadata": {},
   "source": [
    "- 8. Change the first value of your users array to your first name -> users[0] = your name here\n",
    "- 9. Change the last value of ages to 50"
   ]
  },
  {
   "cell_type": "code",
   "execution_count": 18,
   "id": "af663e87-2625-474b-84d9-f6951bb5d8da",
   "metadata": {
    "execution": {
     "iopub.execute_input": "2025-03-28T06:16:17.095161Z",
     "iopub.status.busy": "2025-03-28T06:16:17.094849Z",
     "iopub.status.idle": "2025-03-28T06:16:17.098688Z",
     "shell.execute_reply": "2025-03-28T06:16:17.097956Z"
    }
   },
   "outputs": [],
   "source": [
    "# Change the first value of users to your name\n",
    "# Enter code here"
   ]
  },
  {
   "cell_type": "code",
   "execution_count": 19,
   "id": "07851abf-73b7-4c09-96bf-55bdf2a33e89",
   "metadata": {
    "execution": {
     "iopub.execute_input": "2025-03-28T06:16:17.101529Z",
     "iopub.status.busy": "2025-03-28T06:16:17.101257Z",
     "iopub.status.idle": "2025-03-28T06:16:17.105782Z",
     "shell.execute_reply": "2025-03-28T06:16:17.104577Z"
    }
   },
   "outputs": [],
   "source": [
    "# Change the last value of ages to 50\n",
    "# Enter code here"
   ]
  },
  {
   "cell_type": "markdown",
   "id": "aef59e80-d031-4f3d-a5fc-5ba4068e4a3f",
   "metadata": {},
   "source": [
    "---\n",
    "### 📌 Exercise 5: Basic pandas"
   ]
  },
  {
   "cell_type": "code",
   "execution_count": 20,
   "id": "74a94db2-5d79-4754-a0bf-3547c8b8b9a6",
   "metadata": {
    "execution": {
     "iopub.execute_input": "2025-03-28T06:16:17.109335Z",
     "iopub.status.busy": "2025-03-28T06:16:17.108733Z",
     "iopub.status.idle": "2025-03-28T06:16:17.118986Z",
     "shell.execute_reply": "2025-03-28T06:16:17.118316Z"
    }
   },
   "outputs": [
    {
     "data": {
      "text/plain": [
       "'\\ndf = pd.DataFrame({\\n    \"Name\": users,\\n    \"Age\": ages,\\n    \"Engagement\": engagement_rates\\n})\\n\\nprint(df)\\n\\n'"
      ]
     },
     "execution_count": 20,
     "metadata": {},
     "output_type": "execute_result"
    }
   ],
   "source": [
    "# Create a DataFrame of your numpy arrays by running this code; remove all triple quotes first\n",
    "\n",
    "'''\n",
    "df = pd.DataFrame({\n",
    "    \"Name\": users,\n",
    "    \"Age\": ages,\n",
    "    \"Engagement\": engagement_rates\n",
    "})\n",
    "\n",
    "print(df)\n",
    "\n",
    "'''"
   ]
  },
  {
   "cell_type": "markdown",
   "id": "a1e3a423-4f27-401c-ada7-a62fe0b91429",
   "metadata": {},
   "source": [
    "### Question 2: Is what was printed above structured or unstructured data?"
   ]
  },
  {
   "cell_type": "markdown",
   "id": "7c6d0781-d4fd-4cd7-8445-2eeffdc00fc4",
   "metadata": {},
   "source": [
    "Double click and enter answer here"
   ]
  },
  {
   "cell_type": "markdown",
   "id": "c1d272b9-2f2a-44a4-bfaa-cfb280be99e5",
   "metadata": {},
   "source": [
    "1️⃣ Compute Summary Statistics using pandas\n",
    "- 1. Use pandas to calculate the mean of df['Age'] by running -> df['Age'].mean()  \n",
    "- 2. Calculate the mean of engagement_rates in the dataset  \n",
    "- 3. Calculate the median of engagement_rates in the dataset  \n",
    "- 4. Calculate the mode of the engagement_rates in the dataset (this returns a series)  \n",
    "- 5. Extract the first mode by running -> df['Engagement'].mode()[0]"
   ]
  },
  {
   "cell_type": "code",
   "execution_count": 21,
   "id": "7417f9cb-8940-401c-99d2-38b25a7126cc",
   "metadata": {
    "execution": {
     "iopub.execute_input": "2025-03-28T06:16:17.124032Z",
     "iopub.status.busy": "2025-03-28T06:16:17.123698Z",
     "iopub.status.idle": "2025-03-28T06:16:17.127576Z",
     "shell.execute_reply": "2025-03-28T06:16:17.126935Z"
    }
   },
   "outputs": [],
   "source": [
    "# Get the mean (average) of Age\n",
    "# Enter code here"
   ]
  },
  {
   "cell_type": "code",
   "execution_count": 22,
   "id": "99f960b8-7a1f-497b-acb9-0794f32b3131",
   "metadata": {
    "execution": {
     "iopub.execute_input": "2025-03-28T06:16:17.131860Z",
     "iopub.status.busy": "2025-03-28T06:16:17.131586Z",
     "iopub.status.idle": "2025-03-28T06:16:17.135997Z",
     "shell.execute_reply": "2025-03-28T06:16:17.135229Z"
    }
   },
   "outputs": [],
   "source": [
    "# Get the mean of Engagement\n",
    "# Enter code here"
   ]
  },
  {
   "cell_type": "code",
   "execution_count": 23,
   "id": "209036c2-0ed9-428d-b84b-2f62dc05e0a6",
   "metadata": {
    "execution": {
     "iopub.execute_input": "2025-03-28T06:16:17.139049Z",
     "iopub.status.busy": "2025-03-28T06:16:17.138570Z",
     "iopub.status.idle": "2025-03-28T06:16:17.143072Z",
     "shell.execute_reply": "2025-03-28T06:16:17.142192Z"
    }
   },
   "outputs": [],
   "source": [
    "# Get the median of Engagement\n",
    "# Enter code here"
   ]
  },
  {
   "cell_type": "code",
   "execution_count": 24,
   "id": "9f264001-4d7b-40b5-a5ca-cd8f3c400d1e",
   "metadata": {
    "execution": {
     "iopub.execute_input": "2025-03-28T06:16:17.146673Z",
     "iopub.status.busy": "2025-03-28T06:16:17.146098Z",
     "iopub.status.idle": "2025-03-28T06:16:17.151728Z",
     "shell.execute_reply": "2025-03-28T06:16:17.150694Z"
    }
   },
   "outputs": [],
   "source": [
    "# Get the mode of Engagement (may return multiple values)\n",
    "# Enter code here"
   ]
  },
  {
   "cell_type": "code",
   "execution_count": 25,
   "id": "b32408a9-f12d-4b56-8d29-949242d9f953",
   "metadata": {
    "execution": {
     "iopub.execute_input": "2025-03-28T06:16:17.154688Z",
     "iopub.status.busy": "2025-03-28T06:16:17.154409Z",
     "iopub.status.idle": "2025-03-28T06:16:17.159342Z",
     "shell.execute_reply": "2025-03-28T06:16:17.158250Z"
    }
   },
   "outputs": [],
   "source": [
    "# Get the mode first of Followers \n",
    "# Enter code here"
   ]
  },
  {
   "cell_type": "markdown",
   "id": "e60d406d-682e-4200-93a7-01e89c738c6b",
   "metadata": {},
   "source": [
    "### 📌 Exercise 6: Lists and Loops\n",
    "- 1. Create a list of 10 media types\n",
    "- 2. Print your list\n",
    "- 3. Print each media individually using a loop\n",
    "          for media in your_list_name:\n",
    "             print(media)"
   ]
  },
  {
   "cell_type": "code",
   "execution_count": 26,
   "id": "eca3d0f2-0d59-4b64-883f-3e3ee4354182",
   "metadata": {
    "execution": {
     "iopub.execute_input": "2025-03-28T06:16:17.162551Z",
     "iopub.status.busy": "2025-03-28T06:16:17.162135Z",
     "iopub.status.idle": "2025-03-28T06:16:17.166350Z",
     "shell.execute_reply": "2025-03-28T06:16:17.165490Z"
    }
   },
   "outputs": [],
   "source": [
    "# Create list of media types\n",
    "# Enter code here"
   ]
  },
  {
   "cell_type": "code",
   "execution_count": 27,
   "id": "fe0fce86-fe9b-4018-a239-0489ed1cdd9b",
   "metadata": {
    "execution": {
     "iopub.execute_input": "2025-03-28T06:16:17.169238Z",
     "iopub.status.busy": "2025-03-28T06:16:17.168975Z",
     "iopub.status.idle": "2025-03-28T06:16:17.173859Z",
     "shell.execute_reply": "2025-03-28T06:16:17.172543Z"
    }
   },
   "outputs": [],
   "source": [
    "# Print your list of media types\n",
    "# Enter code here"
   ]
  },
  {
   "cell_type": "code",
   "execution_count": 28,
   "id": "8ed70215-b6d1-4209-8387-dcdad919f621",
   "metadata": {
    "execution": {
     "iopub.execute_input": "2025-03-28T06:16:17.176460Z",
     "iopub.status.busy": "2025-03-28T06:16:17.176181Z",
     "iopub.status.idle": "2025-03-28T06:16:17.180041Z",
     "shell.execute_reply": "2025-03-28T06:16:17.179285Z"
    }
   },
   "outputs": [],
   "source": [
    "# Print each media type individually\n",
    "# Enter code here"
   ]
  },
  {
   "cell_type": "code",
   "execution_count": 29,
   "id": "22e65604-7301-444b-9049-c1e162950cc9",
   "metadata": {
    "execution": {
     "iopub.execute_input": "2025-03-28T06:16:17.182660Z",
     "iopub.status.busy": "2025-03-28T06:16:17.182405Z",
     "iopub.status.idle": "2025-03-28T06:16:17.186303Z",
     "shell.execute_reply": "2025-03-28T06:16:17.185499Z"
    }
   },
   "outputs": [],
   "source": [
    "# Print each of the user names in your dataframe \n",
    "# by replacing your_list_name with the pandas \n",
    "# column -> df['Name'] \n",
    "# replace \"media\" with term of your choice\n",
    "\n",
    "# Enter code here"
   ]
  },
  {
   "cell_type": "markdown",
   "id": "2ac20775-eb2d-40e0-a683-a9b1fac6851c",
   "metadata": {},
   "source": [
    "Once complete, please submit by saving your ipynb file to the [Assignment 4 Student Submissions Folder](https://github.com/BevRice/CMI_Course/tree/main/Student_Submissions/Assignment_4)\n",
    "\n",
    "In order to do so you will need to complete the following ([screenshots found here](https://github.com/BevRice/CMI_Course/blob/main/Student_Submissions/Submitting%20ipynb.pdf)):\n",
    "\n",
    "1. Accept the invitation to be a contributer to the repository.  You should have received an email at the address linked to your github account.  You can also accept the invitation by logging into github, clicking the notifications icon, and viewing the invitation from there.\n",
    "\n",
    "2. From Google Colab\n",
    "- a. Click File\n",
    "- b. Click Download\n",
    "- c. Select Download .ipynb\n",
    "\n",
    "3. Go to the submissions folder and click \"Add File\" then \"Upload File\"\n",
    "\n",
    "4. Drag and drop the file into github or click on \"choose your files\"; please make sure the file name has your first or last name in it otherwise it may overwrite another's assignment\n",
    "\n",
    "5. Add a comment under \"Commit changes\" where it says \"Add file via upload\"; this comment can be \"Student X Assignment Y Submission\"; then click Commit changes\n",
    "\n",
    "Please upload to the folder by 11:59pm, Fri 28 Mar\n",
    "\n",
    "If you can't finish the assignment in a single session, you can save the file locally and reopen the file in github by going to File -> Upload Notebook -> Upload -> Browse -> Select your file"
   ]
  },
  {
   "cell_type": "markdown",
   "id": "1144af66-da15-4e40-83a5-22c461006ba6",
   "metadata": {},
   "source": [
    "Grading Criteria (10 Points Total)\n",
    "\n",
    "- ✅ Code Completeness (5 pts) → Attempts all coding exercises\n",
    "- ✅ Code Accuracy (3 pts) -> No errors in executions\n",
    "- ✅ Interpretation of Results (2 pts) → Thoughtful answers to questions 1-2"
   ]
  },
  {
   "cell_type": "markdown",
   "id": "5c3c6afe-dc44-4d80-b80d-6329ce0bdc89",
   "metadata": {},
   "source": [
    "[Provide Anonymous Feedback on this Assignment Here](https://forms.gle/4ZRmNr5rmGCAR1Re6)"
   ]
  }
 ],
 "metadata": {
  "kernelspec": {
   "display_name": "Python 3 (ipykernel)",
   "language": "python",
   "name": "python3"
  },
  "language_info": {
   "codemirror_mode": {
    "name": "ipython",
    "version": 3
   },
   "file_extension": ".py",
   "mimetype": "text/x-python",
   "name": "python",
   "nbconvert_exporter": "python",
   "pygments_lexer": "ipython3",
   "version": "3.13.2"
  }
 },
 "nbformat": 4,
 "nbformat_minor": 5
}
