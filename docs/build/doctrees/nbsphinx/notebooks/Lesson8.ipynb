{
 "cells": [
  {
   "cell_type": "markdown",
   "id": "4fabbd8c-b203-4907-b72f-26ecf4f826e0",
   "metadata": {
    "editable": true,
    "slideshow": {
     "slide_type": ""
    },
    "tags": []
   },
   "source": [
    "# 📚 NLP and Sentiment Analysis"
   ]
  },
  {
   "cell_type": "markdown",
   "id": "c2f6de60-d907-40a7-bc78-1265168fa20a",
   "metadata": {},
   "source": [
    "Available: Saturday, 29 March @ 0800"
   ]
  }
 ],
 "metadata": {
  "kernelspec": {
   "display_name": "Python 3 (ipykernel)",
   "language": "python",
   "name": "python3"
  },
  "language_info": {
   "codemirror_mode": {
    "name": "ipython",
    "version": 3
   },
   "file_extension": ".py",
   "mimetype": "text/x-python",
   "name": "python",
   "nbconvert_exporter": "python",
   "pygments_lexer": "ipython3",
   "version": "3.13.2"
  }
 },
 "nbformat": 4,
 "nbformat_minor": 5
}
