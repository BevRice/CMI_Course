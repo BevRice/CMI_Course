{
 "cells": [
  {
   "cell_type": "markdown",
   "id": "757b8984-22cf-43b5-986d-bc4f4a2fa3c9",
   "metadata": {},
   "source": [
    "# Getting Started"
   ]
  },
  {
   "cell_type": "markdown",
   "id": "c994d481-5cd3-413a-b1b2-ae561586f0e7",
   "metadata": {},
   "source": [
    "Welcome to the course! Before we dive into the content, let’s set up the tools we’ll be using. This section will guide you through the required accounts and resources to ensure a smooth learning experience.  \n",
    "\n",
    "---\n",
    "\n",
    "## 📌 Required Accounts  \n",
    "\n",
    "### **1️⃣ Google Account (for Google Colab)**  \n",
    "We will use **Google Colab** to write and run Python code in the cloud, eliminating the need to install additional software like Anaconda.  \n",
    "\n",
    "🔹 If you don’t already have a Google account, create one here: [Google Sign-Up](https://accounts.google.com/signup)  \n",
    "🔹 Learn more about Google Colab: [Google Colab Guide](https://colab.research.google.com/notebooks/intro.ipynb)    \n",
    "🔹 Check out this Tutorial on YouTube [Google Colab](https://www.youtube.com/watch?v=RLYoEyIHL6A)\n",
    "\n",
    "---\n",
    "\n",
    "### **2️⃣ GitHub Account**  \n",
    "We will use **GitHub** for submitting assignments, discussions, and accessing course materials.  \n",
    "\n",
    "🔹 If you don’t already have a GitHub account, sign up here: [GitHub Sign-Up](https://github.com/join)  \n",
    "🔹 Get started with GitHub: [GitHub Basics Guide](https://docs.github.com/en/get-started)  \n",
    "🔹 Check out this Tutorial on YouTube [GitHub](https://www.youtube.com/watch?v=iv8rSLsi1xo&t=45s)\n",
    "\n",
    "---\n",
    "\n",
    "## 📂 Course Resources  \n",
    "\n",
    "### **📌 Course Repository (GitHub)**  \n",
    "All course materials, assignments, and readings will be hosted on our **GitHub repository**.  \n",
    "- 🔗 **Access the course repository here:** [GitHub Course Repository](https://github.com/BevRice/CMI_Course)   \n",
    "\n",
    "### **📖 Reading Materials Folder**  \n",
    "A dedicated folder containing key readings, research papers, and reference materials.  \n",
    "- 🔗 **Access the reading materials here:** [GitHub Readings Folder](https://github.com/BevRice/CMI_Course/tree/main/docs/source/textbook_and_papers)  \n",
    "\n",
    "---\n",
    "\n",
    "## 💬 Discussion Forums  \n",
    "\n",
    "Engagement and collaboration are key components of this course. We will use **GitHub Discussions** for:  \n",
    "\n",
    "📢 **Course Introduction & Networking** → [Introduce Yourself Here](https://github.com/BevRice/CMI_Course/discussions/1)  \n",
    "❓ **Q&A and Support** → [Ask Questions Here](https://github.com/BevRice/CMI_Course/discussions/2)   \n",
    "❓ **Is This MDM?** → [Share current, real-world examples of MDM](https://github.com/BevRice/CMI_Course/discussions/6)  \n",
    "📑 **Assignment Submissions** → [GitHub Discussions](https://github.com/BevRice/CMI_Course/discussions) or [Assignment Folders](https://github.com/BevRice/CMI_Course/tree/main/Student_Submissions)\n",
    "\n",
    "---\n",
    "\n",
    "## ✅ Next Steps  \n",
    "\n",
    "1. **Set up your Google and GitHub accounts** (if you haven’t already).  \n",
    "2. **Familiarize yourself with Google Colab and GitHub** using the guides linked above.  \n",
    "3. **Join the Discussion Forum** and introduce yourself!  \n",
    "4. **Explore the Course Repository** and review the reading materials.  \n",
    "\n",
    "---\n",
    "\n",
    "If you have any questions, post them in the **Q&A Discussion Forum** or reach out to the course team. Looking forward to a great learning experience together! 🚀  \n"
   ]
  }
 ],
 "metadata": {
  "kernelspec": {
   "display_name": "Python 3 (ipykernel)",
   "language": "python",
   "name": "python3"
  },
  "language_info": {
   "codemirror_mode": {
    "name": "ipython",
    "version": 3
   },
   "file_extension": ".py",
   "mimetype": "text/x-python",
   "name": "python",
   "nbconvert_exporter": "python",
   "pygments_lexer": "ipython3",
   "version": "3.13.2"
  }
 },
 "nbformat": 4,
 "nbformat_minor": 5
}
