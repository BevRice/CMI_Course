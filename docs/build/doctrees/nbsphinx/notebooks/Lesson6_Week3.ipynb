{
 "cells": [
  {
   "cell_type": "markdown",
   "id": "7bd18c57-6d02-4cfa-a8aa-b51967d8989c",
   "metadata": {},
   "source": [
    "# 🐍 Introduction to Python"
   ]
  },
  {
   "cell_type": "markdown",
   "id": "bb1d637b-4db6-478f-b9e8-208c51eedc6b",
   "metadata": {},
   "source": [
    "Welcome to Lesson 6! In this module, we transition from theoretical discussions on MDM to hands-on data analysis using Python. Understanding your data is the foundation of any analytical process, and this lesson will equip you with essential data preprocessing and exploratory data analysis (EDA) techniques to uncover patterns in MDM datasets.\n",
    "\n",
    "To bring theory into practice, we’re excited to introduce Python—a powerful tool that has revolutionized data analysis. Python’s intuitive syntax and rich ecosystem of libraries make it an ideal choice for beginners and seasoned analysts alike. In this lesson, you’ll start learning Python fundamentals alongside our data analysis concepts.\n",
    "\n",
    "---\n",
    "\n",
    "🐍 **Why Python for Data Analysis?**\n",
    "\n",
    "Python is widely favored in the data analysis community for several compelling reasons:\n",
    "\n",
    "- **Ease of Learnin**g: Python’s readable and concise syntax makes it an accessible starting point for those new to programming.\n",
    "- **Robust Libraries**: With libraries such as pandas, NumPy, and Matplotlib, Python simplifies complex data manipulations and visualizations.\n",
    "- **Vibrant Community**: A vast community and extensive online resources mean you’re supported throughout your learning journey.\n",
    "- **Versatility**: Python’s flexibility allows you to handle everything from simple data cleaning to sophisticated statistical analyses and machine learning tasks.\n",
    "\n",
    "---\n",
    "\n",
    "📌 Hands-On Coding Begins **After** This Lesson\n",
    "\n",
    "This lesson serves as a foundation for understanding Python and data analysis techniques. Following this lesson, you will begin writing and executing Python code to analyze real-world datasets. \n",
    "\n",
    "---\n",
    "\n",
    "📌 For a beginner-friendly introduction to Python for Data Analysis, check out:\n",
    "\n",
    "[Python for Data Analysis YouTube Playlist by Data Daft](https://www.youtube.com/playlist?list=PLiC1doDIe9rCYWmH9wIEYEXXaJ4KAi3jc)\n",
    "\n",
    "This playlist offers digestible explanations of Python’s core data analysis features and is a great supplementary resource. We'll be incorporating some of their lessons into this course.\n",
    "\n",
    "---"
   ]
  },
  {
   "cell_type": "markdown",
   "id": "9445ae9b-6274-4c36-8bb2-b5adb9bfdd15",
   "metadata": {},
   "source": [
    "## 🔹 Python Basics\n",
    "\n",
    "Before diving into data preprocessing and analysis, let’s take a moment to understand **Python**, the programming language we’ll use throughout this course.  \n",
    "\n",
    "Python is a **versatile and beginner-friendly** language widely used in data science, machine learning, and web development. Its simple syntax makes it an excellent choice for analysts and researchers.  \n",
    "\n",
    "---\n",
    "\n",
    "### **Python Data Types**  \n",
    "\n",
    "In Python, **everything is an object**, and each object has a **data type**. Here are the most common ones: \n",
    "\n",
    "![data_types](../_static/data_types.jpg)  \n",
    "[Source & Optional Reading: geeksforgeeks](https://www.geeksforgeeks.org/python-data-types/)  \n",
    "*Refer to Lesson 3 Introduction to Data for a review of these types*\n",
    "\n",
    "---"
   ]
  },
  {
   "cell_type": "markdown",
   "id": "e57ca15b-9a0a-4ac7-abfe-97feb4db4247",
   "metadata": {},
   "source": [
    "**<span style=\"font-size:30px;\">🧠 Quick Review Questions</span>**\n",
    "\n",
    "**Identify the Data Type**  \n",
    "\n",
    "1. `\"True\"` – This value represents a **__________** data type, commonly used in binary classification tasks.  \n",
    "2. `{\"Instagram\", \"Reddit\", \"YouTube\"}` – This is an example of a **__________**, a collection of unique, unordered elements.  \n",
    "3. `(\"Fake News\", \"Health Data\")` – This is an example of a **__________**, which stores an ordered but immutable sequence of values.  \n",
    "4. `14` – This number is an example of an **__________**, a numerical type that does not include decimals.  \n",
    "5. `0.19` – This value is an example of a **__________**, which represents a number with decimal precision.  \n",
    "6. `\"This post has been flagged as disinformation.\"` – This is an example of a **__________**, a data type used for storing textual information.  \n",
    "7. `{\"source\": \"Politico\", \"accuracy\": 90}` – This is an example of a **__________**, a structure that maps keys to values for efficient lookup.  \n",
    "8. `[True, True, False, False]` – This collection of values is an example of a **__________**, an ordered list of elements.  \n",
    "9. `2025-01-22 11:33:11` – This value represents a **__________**, which is useful for tracking the timing of misinformation posts.  \n",
    "\n",
    "---\n",
    "---\n",
    "✅ **Answers:**\n",
    "\n",
    "1. Boolean\n",
    "2. Set\n",
    "3. Tuple\n",
    "4. Integer\n",
    "5. Float\n",
    "6. String\n",
    "7. Dictionary\n",
    "8. List\n",
    "9. Timestamp (Datetime)\n",
    "\n"
   ]
  },
  {
   "cell_type": "markdown",
   "id": "677bb6fe-a892-46a4-9664-95a9c396abcb",
   "metadata": {},
   "source": [
    "### 🏗️ Python Variables  \n",
    "\n",
    "Variables store and manage data in Python, allowing programmers to assign values to names, making it easier to reference and manipulate data throughout a program. They can hold different types of data, including numbers, text, lists, and even complex objects.\n",
    "\n",
    "In Python, you create a variable by assigning a value using the = operator.  "
   ]
  },
  {
   "cell_type": "code",
   "execution_count": 1,
   "id": "a963dd6f-e9de-47c7-81d2-bf00bc3fe26c",
   "metadata": {
    "execution": {
     "iopub.execute_input": "2025-03-05T22:11:12.803182Z",
     "iopub.status.busy": "2025-03-05T22:11:12.801909Z",
     "iopub.status.idle": "2025-03-05T22:11:12.814387Z",
     "shell.execute_reply": "2025-03-05T22:11:12.812594Z"
    }
   },
   "outputs": [],
   "source": [
    "# Assigning values to variables\n",
    "name = \"Alice\"     # String \n",
    "age = 30           # Integer \n",
    "height = 5.7       # Float\n",
    "is_student = True  # Boolean "
   ]
  },
  {
   "cell_type": "code",
   "execution_count": 2,
   "id": "9b025402-338f-4722-bc42-e8c04ac4d0bb",
   "metadata": {
    "execution": {
     "iopub.execute_input": "2025-03-05T22:11:12.820022Z",
     "iopub.status.busy": "2025-03-05T22:11:12.819603Z",
     "iopub.status.idle": "2025-03-05T22:11:12.826858Z",
     "shell.execute_reply": "2025-03-05T22:11:12.825074Z"
    }
   },
   "outputs": [
    {
     "name": "stdout",
     "output_type": "stream",
     "text": [
      "Alice\n"
     ]
    }
   ],
   "source": [
    "# Print the value of a variable\n",
    "print(name)"
   ]
  },
  {
   "cell_type": "code",
   "execution_count": 3,
   "id": "414e1a3f-f846-4a9c-815b-51721e0b2aac",
   "metadata": {
    "execution": {
     "iopub.execute_input": "2025-03-05T22:11:12.831585Z",
     "iopub.status.busy": "2025-03-05T22:11:12.830919Z",
     "iopub.status.idle": "2025-03-05T22:11:12.837661Z",
     "shell.execute_reply": "2025-03-05T22:11:12.836406Z"
    }
   },
   "outputs": [
    {
     "name": "stdout",
     "output_type": "stream",
     "text": [
      "5.7\n"
     ]
    }
   ],
   "source": [
    "# Print the value of a variable\n",
    "print(height)"
   ]
  },
  {
   "cell_type": "code",
   "execution_count": 4,
   "id": "3838731d-0f19-46c3-8aa4-d02da247fe11",
   "metadata": {
    "execution": {
     "iopub.execute_input": "2025-03-05T22:11:12.843020Z",
     "iopub.status.busy": "2025-03-05T22:11:12.842454Z",
     "iopub.status.idle": "2025-03-05T22:11:12.856181Z",
     "shell.execute_reply": "2025-03-05T22:11:12.854551Z"
    }
   },
   "outputs": [
    {
     "data": {
      "text/plain": [
       "int"
      ]
     },
     "execution_count": 4,
     "metadata": {},
     "output_type": "execute_result"
    }
   ],
   "source": [
    "# Identify the data type of a given variable\n",
    "type(age)"
   ]
  },
  {
   "cell_type": "code",
   "execution_count": 5,
   "id": "3c44891c-9c08-40fb-a781-204809910759",
   "metadata": {
    "execution": {
     "iopub.execute_input": "2025-03-05T22:11:12.861817Z",
     "iopub.status.busy": "2025-03-05T22:11:12.861311Z",
     "iopub.status.idle": "2025-03-05T22:11:12.869569Z",
     "shell.execute_reply": "2025-03-05T22:11:12.868317Z"
    }
   },
   "outputs": [
    {
     "data": {
      "text/plain": [
       "bool"
      ]
     },
     "execution_count": 5,
     "metadata": {},
     "output_type": "execute_result"
    }
   ],
   "source": [
    "# Identify the data type of another given variable\n",
    "type(is_student)"
   ]
  },
  {
   "cell_type": "markdown",
   "id": "84ccd268-6cc0-4a10-897d-514f6c957678",
   "metadata": {},
   "source": [
    "**Rules for Naming Variables**\n",
    "\n",
    "✔ Must start with a letter or _ (underscore).  \n",
    "✔ Can contain letters, numbers, and underscores.  \n",
    "✔ Cannot be a reserved keyword (e.g., def, class, if).  \n",
    "✔ Use descriptive names (user_name instead of x).\n",
    "\n",
    "Python dynamically assigns types to variables based on the values they store, eliminating the need for explicit type declarations. This flexibility makes Python highly intuitive and efficient for handling data.\n",
    "\n",
    "You can change the value of a variable at any time"
   ]
  },
  {
   "cell_type": "code",
   "execution_count": 6,
   "id": "7135e162",
   "metadata": {
    "execution": {
     "iopub.execute_input": "2025-03-05T22:11:12.874870Z",
     "iopub.status.busy": "2025-03-05T22:11:12.874519Z",
     "iopub.status.idle": "2025-03-05T22:11:12.880035Z",
     "shell.execute_reply": "2025-03-05T22:11:12.878915Z"
    }
   },
   "outputs": [
    {
     "name": "stdout",
     "output_type": "stream",
     "text": [
      "Andrea\n"
     ]
    }
   ],
   "source": [
    "name = \"Andrea\" #Changed from Alice to Andrea\n",
    "print(name)"
   ]
  },
  {
   "cell_type": "markdown",
   "id": "f3e626b2-2d68-4cc2-94ba-285d5a7d1ab6",
   "metadata": {},
   "source": [
    "**Variables can be used in operations and functions:**"
   ]
  },
  {
   "cell_type": "code",
   "execution_count": 7,
   "id": "b9148dfb",
   "metadata": {
    "execution": {
     "iopub.execute_input": "2025-03-05T22:11:12.883430Z",
     "iopub.status.busy": "2025-03-05T22:11:12.883127Z",
     "iopub.status.idle": "2025-03-05T22:11:12.889909Z",
     "shell.execute_reply": "2025-03-05T22:11:12.888340Z"
    }
   },
   "outputs": [
    {
     "name": "stdout",
     "output_type": "stream",
     "text": [
      "35\n",
      "Hello, Andrea!\n",
      "True\n"
     ]
    }
   ],
   "source": [
    "# Numeric operations\n",
    "age = 30\n",
    "new_age = age + 5\n",
    "print(new_age)  # Output: 35\n",
    "\n",
    "# String concatenation\n",
    "greeting = \"Hello, \" + name + \"!\"\n",
    "print(greeting)  # Output: Hello, Andrea!\n",
    "\n",
    "# Boolean logic\n",
    "is_adult = age > 18\n",
    "print(is_adult)  # Output: True"
   ]
  },
  {
   "cell_type": "markdown",
   "id": "281c991d-b163-4028-94bd-6db8ff75485e",
   "metadata": {},
   "source": [
    "### Functions in Python\n",
    "\n",
    "A **function** is a reusable block of code that performs a specific task. Functions allow you to organize, simplify, and reuse code efficiently.\n",
    "\n",
    "**Why Use Functions? 🤔**  \n",
    "✔ **Avoid repetition** – Write code once, reuse it anywhere.  \n",
    "✔ **Improve readability** – Break large programs into smaller, manageable parts.  \n",
    "✔ **Make debugging easier** – Isolate and fix issues in a specific function.  \n",
    "\n",
    "---\n",
    "\n",
    "**Defining a Function 🏗️**\n",
    "You define a function using the `def` keyword, followed by the function name and parentheses `()`.\n"
   ]
  },
  {
   "cell_type": "code",
   "execution_count": 8,
   "id": "40649946",
   "metadata": {
    "execution": {
     "iopub.execute_input": "2025-03-05T22:11:12.893689Z",
     "iopub.status.busy": "2025-03-05T22:11:12.893227Z",
     "iopub.status.idle": "2025-03-05T22:11:12.898890Z",
     "shell.execute_reply": "2025-03-05T22:11:12.897651Z"
    }
   },
   "outputs": [],
   "source": [
    "def greet():\n",
    "    print(\"Hello, world!\")  # Function body (code inside the function)"
   ]
  },
  {
   "cell_type": "markdown",
   "id": "9e13f38d-0d9a-409c-a674-c1d98ca42083",
   "metadata": {},
   "source": [
    "To call (execute) the function, simply write its name:"
   ]
  },
  {
   "cell_type": "code",
   "execution_count": 9,
   "id": "e57d41b3",
   "metadata": {
    "execution": {
     "iopub.execute_input": "2025-03-05T22:11:12.903164Z",
     "iopub.status.busy": "2025-03-05T22:11:12.902183Z",
     "iopub.status.idle": "2025-03-05T22:11:12.908180Z",
     "shell.execute_reply": "2025-03-05T22:11:12.907246Z"
    }
   },
   "outputs": [
    {
     "name": "stdout",
     "output_type": "stream",
     "text": [
      "Hello, world!\n"
     ]
    }
   ],
   "source": [
    "greet()"
   ]
  },
  {
   "cell_type": "markdown",
   "id": "4c8f5528-6c64-4d5c-8750-4f05dcc463a5",
   "metadata": {},
   "source": [
    "**Functions with Parameters**\n",
    "\n",
    "Functions can take one or multiple parameters, allowing them to work dynamically with different values."
   ]
  },
  {
   "cell_type": "code",
   "execution_count": 10,
   "id": "0518625b-b725-4ecf-bef2-5dbf646a5bf7",
   "metadata": {
    "execution": {
     "iopub.execute_input": "2025-03-05T22:11:12.911120Z",
     "iopub.status.busy": "2025-03-05T22:11:12.910838Z",
     "iopub.status.idle": "2025-03-05T22:11:12.916393Z",
     "shell.execute_reply": "2025-03-05T22:11:12.915522Z"
    }
   },
   "outputs": [
    {
     "name": "stdout",
     "output_type": "stream",
     "text": [
      "The mean of the dataset is: 30.0\n"
     ]
    }
   ],
   "source": [
    "# Function to calculate the mean of a list of numbers\n",
    "def calculate_mean(numbers):\n",
    "    return sum(numbers) / len(numbers)\n",
    "\n",
    "data = [10, 20, 30, 40, 50]\n",
    "mean_value = calculate_mean(data)\n",
    "print(f\"The mean of the dataset is: {mean_value}\")"
   ]
  },
  {
   "cell_type": "code",
   "execution_count": 11,
   "id": "03b4a43e",
   "metadata": {
    "execution": {
     "iopub.execute_input": "2025-03-05T22:11:12.919247Z",
     "iopub.status.busy": "2025-03-05T22:11:12.918962Z",
     "iopub.status.idle": "2025-03-05T22:11:12.923535Z",
     "shell.execute_reply": "2025-03-05T22:11:12.922727Z"
    }
   },
   "outputs": [
    {
     "name": "stdout",
     "output_type": "stream",
     "text": [
      "The sum of our parameters is: 15\n"
     ]
    }
   ],
   "source": [
    "# Function to sum two parameters\n",
    "def add_numbers(a, b):\n",
    "    return a + b  # Returns the sum of a and b\n",
    "\n",
    "result = add_numbers(5, 10)\n",
    "print(f\"The sum of our parameters is: {result}\")"
   ]
  },
  {
   "cell_type": "markdown",
   "id": "b86470e3-882b-4590-bf02-4f4450ca0de5",
   "metadata": {},
   "source": [
    "**Multiple Parameters & Keyword Arguments (kwargs)**\n",
    "\n",
    "Functions can accept multiple parameters and keyword arguments."
   ]
  },
  {
   "cell_type": "code",
   "execution_count": 12,
   "id": "89c43198",
   "metadata": {
    "execution": {
     "iopub.execute_input": "2025-03-05T22:11:12.926490Z",
     "iopub.status.busy": "2025-03-05T22:11:12.926208Z",
     "iopub.status.idle": "2025-03-05T22:11:12.931550Z",
     "shell.execute_reply": "2025-03-05T22:11:12.930654Z"
    }
   },
   "outputs": [
    {
     "name": "stdout",
     "output_type": "stream",
     "text": [
      "Alice is 30 years old and lives in New York.\n",
      "Bob is 25 years old and lives in Unknown.\n"
     ]
    }
   ],
   "source": [
    "def describe_person(name, age, city=\"Unknown\"):\n",
    "    print(f\"{name} is {age} years old and lives in {city}.\")\n",
    "\n",
    "describe_person(\"Alice\", 30, \"New York\")\n",
    "describe_person(\"Bob\", 25)  # Uses the default city\n"
   ]
  },
  {
   "cell_type": "markdown",
   "id": "8e23481b-532f-4997-b2ee-28a7b1384abb",
   "metadata": {},
   "source": [
    "**Summary**\n",
    "\n",
    "✔ Functions make code reusable and modular.  \n",
    "✔ Use return to get results from functions.  \n",
    "✔ Default parameters provide flexibility.  \n",
    "✔ Lambda functions simplify one-line operations.  \n",
    "✔ Functions can process lists, loops, and work with global/local variables."
   ]
  },
  {
   "cell_type": "markdown",
   "id": "ff3cdefe-0344-4d2d-bea6-9dd3e06d868a",
   "metadata": {},
   "source": [
    "### Libraries in Python 📚\n",
    "Libraries in Python are collections of pre-written code that extend the language’s functionality, allowing users to perform complex tasks without having to write code from scratch. These libraries can handle a wide range of functions, including numerical computations, data manipulation, statistical modeling, and data visualization. They streamline workflows, reduce development time, and enable efficient data analysis by providing optimized, reusable functions and tools tailored for specific tasks. \n",
    "\n",
    "Packages turn what may be **hundreds to millions** of lines of code into executables for a user.  Take, for example, the simple command of generating a random number using Python’s random package:\n",
    "\n",
    "num = random.randint(1, 100)\n",
    "\n",
    "This one-liner generates a random integer between 1 and 100, but behind the scenes, the full code involves complex algorithms for randomness, seeding, and number generation.\n",
    "\n",
    "---\n",
    "\n",
    "One of the greatest aspects of Python is that anyone—including you—can create and publish a new library to be implemented by others, contributing to the vast ecosystem of tools that make Python so powerful. They help with everything from mathematical operations to data visualization and include options for games, multimedia editing, and networking.  \n",
    "\n",
    "**Where to find information on python libraries**  \n",
    "Python libraries can be sourced from:\n",
    "- **PyPI (Python Package Index)** – Official repository for Python packages.\n",
    "- **Anaconda Distribution** – A package manager with pre-installed libraries for data science.\n",
    "- **GitHub** – Community-driven open-source projects.\n",
    "\n",
    "You can search for packages at [pypi.org](https://pypi.org) or explore data science tools on [Anaconda](https://www.anaconda.com/).\n",
    "\n",
    "---"
   ]
  },
  {
   "cell_type": "markdown",
   "id": "0441e8ac-8a16-44ce-8829-3fdc0ac2eb62",
   "metadata": {},
   "source": [
    "## 🔹 Key Libraries for Data Analysis in Python\n",
    "\n",
    "Python’s power comes from its **libraries**—pre-built tools that help us process, analyze, and visualize data efficiently. Below are the key libraries we'll use in this course.\n",
    "\n",
    "**Common Libraries for Data Analysis:**\n",
    "- **NumPy** – Efficient numerical operations.\n",
    "- **pandas** – Data manipulation and analysis.\n",
    "- **matplotlib & seaborn** – Data visualization.\n",
    "- **statsmodels** – Statistical modeling.\n",
    "\n",
    "### 📌 1. NumPy – Fast Numerical Computations\n",
    "NumPy (Numerical Python) is the foundation for numerical computing in Python. It helps with **arrays, matrices, and mathematical operations**.\n",
    "\n",
    "🔹 **Why Use It?**  \n",
    "- Handles large datasets efficiently.\n",
    "- Performs fast mathematical operations.\n",
    "  \n",
    "🔹 **Example: Creating an array and calculating the mean**  "
   ]
  },
  {
   "cell_type": "code",
   "execution_count": 13,
   "id": "a2336291-b155-4762-8cf1-b78d29a2c936",
   "metadata": {
    "execution": {
     "iopub.execute_input": "2025-03-05T22:11:12.934724Z",
     "iopub.status.busy": "2025-03-05T22:11:12.934412Z",
     "iopub.status.idle": "2025-03-05T22:11:13.058863Z",
     "shell.execute_reply": "2025-03-05T22:11:13.057814Z"
    }
   },
   "outputs": [
    {
     "name": "stdout",
     "output_type": "stream",
     "text": [
      "Mean: 25.0\n"
     ]
    }
   ],
   "source": [
    "# Import required libraries\n",
    "import numpy as np\n",
    "\n",
    "# Generate data \n",
    "data = np.array([10, 20, 30, 40])\n",
    "\n",
    "# Apply and print results of numpy mean function on generated data\n",
    "print(f\"Mean: {np.mean(data)}\")"
   ]
  },
  {
   "cell_type": "markdown",
   "id": "0836ae7e-0a8a-4693-bb6b-45ccbd1dd2ff",
   "metadata": {},
   "source": [
    "### 📌 2. pandas – Data Manipulation & Analysis\n",
    "\n",
    "pandas is the go-to library for handling structured data (like spreadsheets and tables).\n",
    "\n",
    "🔹 Why Use It?\n",
    "- Works with rows & columns (like Excel).\n",
    "- Cleans, filters, and transforms datasets.\n",
    "\n",
    "🔹 Example: Creating a small dataset"
   ]
  },
  {
   "cell_type": "code",
   "execution_count": 14,
   "id": "150e0a01-3a49-4ead-b855-d497f2e1238e",
   "metadata": {
    "execution": {
     "iopub.execute_input": "2025-03-05T22:11:13.061771Z",
     "iopub.status.busy": "2025-03-05T22:11:13.061447Z",
     "iopub.status.idle": "2025-03-05T22:11:13.634792Z",
     "shell.execute_reply": "2025-03-05T22:11:13.633806Z"
    }
   },
   "outputs": [
    {
     "name": "stdout",
     "output_type": "stream",
     "text": [
      "    Name  Age\n",
      "0  Alice   25\n",
      "1    Bob   30\n"
     ]
    }
   ],
   "source": [
    "# Import required libraries\n",
    "import pandas as pd\n",
    "\n",
    "# Generate a dataframe\n",
    "df = pd.DataFrame({\"Name\": [\"Alice\", \"Bob\"], \"Age\": [25, 30]})\n",
    "\n",
    "# Print the generated dataframe\n",
    "print(df)"
   ]
  },
  {
   "cell_type": "markdown",
   "id": "6b430694-38c2-4149-a612-01fb88ff7b7e",
   "metadata": {},
   "source": [
    "### 📌 3. Matplotlib – Basic Data Visualization\n",
    "\n",
    "Matplotlib is Python’s core library for creating charts and graphs.\n",
    "\n",
    "🔹 Why Use It?\n",
    "- Plots bar charts, line graphs, scatter plots, and more.\n",
    "- Allows full customization of visualizations.\n",
    "\n",
    "🔹 Example: Simple Line Plot"
   ]
  },
  {
   "cell_type": "code",
   "execution_count": 15,
   "id": "3952c845-0a45-4e19-96f5-88f43a0983b8",
   "metadata": {
    "execution": {
     "iopub.execute_input": "2025-03-05T22:11:13.637940Z",
     "iopub.status.busy": "2025-03-05T22:11:13.637509Z",
     "iopub.status.idle": "2025-03-05T22:11:14.485418Z",
     "shell.execute_reply": "2025-03-05T22:11:14.484599Z"
    }
   },
   "outputs": [
    {
     "data": {
      "image/png": "[encoded data removed]",
      "text/plain": [
       "<Figure size 640x480 with 1 Axes>"
      ]
     },
     "metadata": {},
     "output_type": "display_data"
    }
   ],
   "source": [
    "# Import required libraries\n",
    "import matplotlib.pyplot as plt\n",
    "\n",
    "# Generate data\n",
    "x = [1, 2, 3, 4, 5]\n",
    "y = [10, 20, 25, 30, 50]\n",
    "\n",
    "# Plot generated data\n",
    "plt.plot(x, y)\n",
    "plt.title(\"Basic Line Plot\")\n",
    "plt.show()"
   ]
  },
  {
   "cell_type": "markdown",
   "id": "5b4fab81-ce8a-4ba9-9569-9fb239c98d8d",
   "metadata": {},
   "source": [
    "### 📌 4. Seaborn – Advanced Data Visualization\n",
    "\n",
    "Seaborn is built on top of Matplotlib and makes beautiful, easy-to-read statistical charts.\n",
    "\n",
    "🔹 Why Use It?\n",
    "- Creates visually appealing graphs with minimal code.\n",
    "- Works well with pandas DataFrames.\n",
    "\n",
    "🔹 Example: Simple Histogram"
   ]
  },
  {
   "cell_type": "code",
   "execution_count": 16,
   "id": "4e459894-5678-4d44-8d72-ca9bae58d259",
   "metadata": {
    "execution": {
     "iopub.execute_input": "2025-03-05T22:11:14.490391Z",
     "iopub.status.busy": "2025-03-05T22:11:14.489649Z",
     "iopub.status.idle": "2025-03-05T22:11:15.825467Z",
     "shell.execute_reply": "2025-03-05T22:11:15.824678Z"
    }
   },
   "outputs": [
    {
     "data": {
      "text/plain": [
       "<Axes: xlabel='Age', ylabel='Count'>"
      ]
     },
     "execution_count": 16,
     "metadata": {},
     "output_type": "execute_result"
    },
    {
     "data": {
      "image/png": "[encoded data removed]",
      "text/plain": [
       "<Figure size 640x480 with 1 Axes>"
      ]
     },
     "metadata": {},
     "output_type": "display_data"
    }
   ],
   "source": [
    "# Import required libraries\n",
    "import seaborn as sns\n",
    "\n",
    "# Generate a dataframe\n",
    "df = pd.DataFrame({\"Name\": [\"Alice\", \"Bob\", \"Tyler\", \"Megan\", \"Ariel\", \"Tony\"], \n",
    "                   \"Age\": [25, 30, 22, 19, 40, 21]})\n",
    "\n",
    "# Plot a histogram of Age using seaborn\n",
    "sns.histplot(df[\"Age\"], bins=3)"
   ]
  },
  {
   "cell_type": "markdown",
   "id": "9d5ddec7-2162-4167-9683-935a36d1cbc7",
   "metadata": {},
   "source": [
    "### 📌 5. statsmodels – Statistical Modeling\n",
    "\n",
    "statsmodels is used for advanced statistics and regression analysis.\n",
    "\n",
    "🔹 Why Use It?\n",
    "- Runs linear regressions, t-tests, and time series analysis.\n",
    "- Provides detailed statistical summaries.\n",
    "\n",
    "🔹 Example: Running a Simple Linear Regression"
   ]
  },
  {
   "cell_type": "code",
   "execution_count": 17,
   "id": "6ac0a700-6baa-4f3b-a382-eb4519eb368d",
   "metadata": {
    "execution": {
     "iopub.execute_input": "2025-03-05T22:11:15.828174Z",
     "iopub.status.busy": "2025-03-05T22:11:15.827827Z",
     "iopub.status.idle": "2025-03-05T22:11:16.571115Z",
     "shell.execute_reply": "2025-03-05T22:11:16.570395Z"
    }
   },
   "outputs": [
    {
     "name": "stdout",
     "output_type": "stream",
     "text": [
      "                            OLS Regression Results                            \n",
      "==============================================================================\n",
      "Dep. Variable:                      y   R-squared:                       0.920\n",
      "Model:                            OLS   Adj. R-squared:                  0.894\n",
      "Method:                 Least Squares   F-statistic:                     34.71\n",
      "Date:                Wed, 05 Mar 2025   Prob (F-statistic):            0.00976\n",
      "Time:                        12:11:16   Log-Likelihood:                -13.692\n",
      "No. Observations:                   5   AIC:                             31.38\n",
      "Df Residuals:                       3   BIC:                             30.60\n",
      "Df Model:                           1                                         \n",
      "Covariance Type:            nonrobust                                         \n",
      "==============================================================================\n",
      "                 coef    std err          t      P>|t|      [0.025      0.975]\n",
      "------------------------------------------------------------------------------\n",
      "const       2.887e-15      5.066    5.7e-16      1.000     -16.123      16.123\n",
      "x1             9.0000      1.528      5.892      0.010       4.139      13.861\n",
      "==============================================================================\n",
      "Omnibus:                          nan   Durbin-Watson:                   2.200\n",
      "Prob(Omnibus):                    nan   Jarque-Bera (JB):                0.309\n",
      "Skew:                          -0.344   Prob(JB):                        0.857\n",
      "Kurtosis:                       1.994   Cond. No.                         8.37\n",
      "==============================================================================\n",
      "\n",
      "Notes:\n",
      "[1] Standard Errors assume that the covariance matrix of the errors is correctly specified.\n"
     ]
    },
    {
     "name": "stderr",
     "output_type": "stream",
     "text": [
      "C:\\Users\\bmgag\\Anaconda3\\envs\\CMI\\Lib\\site-packages\\statsmodels\\stats\\stattools.py:74: ValueWarning: omni_normtest is not valid with less than 8 observations; 5 samples were given.\n",
      "  warn(\"omni_normtest is not valid with less than 8 observations; %i \"\n"
     ]
    }
   ],
   "source": [
    "# Import required libraries\n",
    "import statsmodels.api as sm\n",
    "\n",
    "# Generate data\n",
    "X = [1, 2, 3, 4, 5]\n",
    "Y = [10, 20, 25, 30, 50]\n",
    "\n",
    "# Run linear regression on generated data\n",
    "X = sm.add_constant(X)  # Add intercept\n",
    "model = sm.OLS(Y, X).fit()\n",
    "print(model.summary())"
   ]
  },
  {
   "cell_type": "markdown",
   "id": "82b43665-cbb3-4f07-b94a-ad63d020ef1d",
   "metadata": {},
   "source": [
    "---\n",
    "\n",
    "📌 Summary of Key Python Libraries for Data Analysis\n",
    "\n",
    "Throughout this course, we will rely on several powerful Python libraries to process, analyze, and visualize data efficiently. Here’s a quick recap:\n",
    "\n",
    "| Library        | Purpose                              | Example Use Case |\n",
    "|---------------|--------------------------------------|------------------|\n",
    "| **NumPy**     | Fast numerical computations         | Performing mathematical operations on large datasets |\n",
    "| **pandas**    | Data manipulation & analysis        | Cleaning, filtering, and structuring tabular data |\n",
    "| **Matplotlib** | Basic data visualization          | Creating line plots, bar charts, and scatter plots |\n",
    "| **Seaborn**   | Advanced statistical visualization  | Producing high-quality graphs with minimal code |\n",
    "| **statsmodels** | Statistical modeling & inference | Running regressions, hypothesis testing, and statistical summaries |\n",
    "\n",
    "These libraries **eliminate the need to write complex code from scratch**, allowing us to focus on **understanding data** rather than worrying about implementation details.\n",
    "\n",
    "---\n",
    "\n",
    "**Wrapping Up: Why This Matters**  \n",
    "\n",
    "At this point, you should have a **broad understanding** of what Python is, why it's useful for data analysis, and how key libraries help us process and visualize data.  \n",
    "\n",
    "💡 **Key Takeaways:**  \n",
    "✔ Python is a versatile and widely used language for data analysis.  \n",
    "✔ Libraries like `pandas`, `NumPy`, and `statsmodels` simplify data processing and statistical modeling.  \n",
    "✔ Visualization tools (`Matplotlib` & `Seaborn`) help us interpret trends and insights in our datasets.  \n",
    "✔ Google Colab provides a cloud-based environment, so you don’t need to install anything.  \n",
    "\n",
    "---\n",
    "\n",
    "🚀 Next Up: Python Walkthrough for MDM Analysis  \n",
    "\n",
    "Now that we've covered **Python fundamentals**, it's time to **apply what we've learned** in a real-world scenario.  \n",
    "\n",
    "In the next lesson, we’ll **walk through a Python-based analysis** of **misinformation and disinformation (MDM)** datasets. This will include:  \n",
    "\n",
    "🔹 Loading and exploring real-world data in Python  \n",
    "🔹 Performing basic data cleaning and transformations  \n",
    "🔹 Creating visualizations to uncover trends  \n",
    "🔹 Running statistical analyses using `statsmodels`  \n",
    "\n",
    "👉 **Let’s dive into Python in action and see how it helps us analyze and counter misinformation!** 🚀\n"
   ]
  },
  {
   "cell_type": "markdown",
   "id": "5f4fabdf-a15e-4f35-81eb-027b15b34dae",
   "metadata": {},
   "source": [
    "[Provide Anonymous Feedback on this Lesson Here](https://forms.gle/4ZRmNr5rmGCAR1Re6)"
   ]
  }
 ],
 "metadata": {
  "kernelspec": {
   "display_name": "Python 3 (ipykernel)",
   "language": "python",
   "name": "python3"
  },
  "language_info": {
   "codemirror_mode": {
    "name": "ipython",
    "version": 3
   },
   "file_extension": ".py",
   "mimetype": "text/x-python",
   "name": "python",
   "nbconvert_exporter": "python",
   "pygments_lexer": "ipython3",
   "version": "3.13.2"
  }
 },
 "nbformat": 4,
 "nbformat_minor": 5
}
