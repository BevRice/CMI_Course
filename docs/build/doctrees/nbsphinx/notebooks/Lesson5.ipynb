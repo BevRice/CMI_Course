{
 "cells": [
  {
   "cell_type": "markdown",
   "id": "7bd18c57-6d02-4cfa-a8aa-b51967d8989c",
   "metadata": {},
   "source": [
    "# Data Inspection and Preprocessing"
   ]
  },
  {
   "cell_type": "markdown",
   "id": "c27121d6",
   "metadata": {},
   "source": [
    "<img src=\"Images\\now what.png\">"
   ]
  },
  {
   "cell_type": "markdown",
   "id": "f28ab9e3",
   "metadata": {},
   "source": [
    "Before We Get Into Data Analysis… 📝\n",
    "Let's do a quick python primer to ensure we have the foundational knowledge needed.\n",
    "\n",
    "---\n",
    "\n",
    "What is Python? 🐍\n",
    "\n",
    "Python is a **high-level, interpreted programming language** known for its simplicity and readability. It is widely used in fields like web development, data science, artificial intelligence, and automation.\n",
    "\n",
    "**Why Use Python?**\n",
    "- **Easy to Learn** – Uses simple and intuitive syntax.\n",
    "- **Versatile** – Supports web development, data analysis, machine learning, and more.\n",
    "- **Large Community** – Extensive libraries and active developer support.\n",
    "- **Cross-Platform** – Runs on Windows, macOS, Linux, and more.\n",
    "\n",
    "Python allows programmers to write fewer lines of code compared to other languages. For example, a simple \"Hello, World!\" program in Python:"
   ]
  },
  {
   "cell_type": "code",
   "execution_count": 1,
   "id": "dcdfc936",
   "metadata": {
    "execution": {
     "iopub.execute_input": "2025-02-20T08:58:33.326119Z",
     "iopub.status.busy": "2025-02-20T08:58:33.325330Z",
     "iopub.status.idle": "2025-02-20T08:58:33.338950Z",
     "shell.execute_reply": "2025-02-20T08:58:33.336817Z"
    }
   },
   "outputs": [
    {
     "name": "stdout",
     "output_type": "stream",
     "text": [
      "Hello, World!\n"
     ]
    }
   ],
   "source": [
    "print(\"Hello, World!\")"
   ]
  },
  {
   "cell_type": "markdown",
   "id": "36500849",
   "metadata": {},
   "source": [
    "Data Types in Python 📊\n",
    "\n",
    "Data types categorize values, allowing Python to interpret and process them correctly. Understanding data types is essential for effective data handling, as each type supports specific operations and behaviors.\n",
    "\n",
    "---\n",
    "\n",
    "**1. Strings (`str`) 📝**\n",
    "- Strings are sequences of characters, used to represent text.  \n",
    "- Enclosed in quotes\n",
    "\n",
    "    **Examples:**\n",
    "\n",
    "        \"Alice\"  \n",
    "        \"Hello, world!\"\n",
    "\n",
    "2. Numbers (int, float) 🔢\n",
    "\n",
    "Python supports different types of numbers:\n",
    "\n",
    "    Integers (int): Whole numbers, positive or negative.\n",
    "    Floats (float): Decimal numbers.\n",
    "    \n",
    "    **Examples:**\n",
    "        10\n",
    "        13.5\n",
    "\n",
    "**3. Booleans (`bool`)** ✅\n",
    "- `True` or `False` values used in logic.\n",
    "\n",
    "\n",
    "**4. Lists (`list`)** 📋\n",
    "- Ordered, mutable (changeable) collections.\n",
    "\n",
    "    **Examples:**\n",
    "        fruits = [\"apple\", \"banana\", \"cherry\"]\n",
    "        colors = [\"red\", \"blue\", \"yellow\"]\n",
    "\n",
    "\n",
    "**5. Tuples (`tuple`)** 🔄\n",
    "- Ordered, immutable (cannot be changed) collections.\n",
    "    \n",
    "    **Examples:**\n",
    "        days = (\"Monday\", \"Tuesday\", \"Wednesday\")\n",
    "        coordinates = (40.7128, -74.0060)\n",
    "\n",
    "**6. Dictionaries (`dict`)** 🔑\n",
    "- Key-value pairs, useful for structured data.\n",
    "    **Examples:**\n",
    "        person = {\n",
    "                \"name\": \"Alice\",\n",
    "                \"age\": 30,\n",
    "                \"city\": \"New York\"\n",
    "        }\n",
    "        \n",
    "        student = {\n",
    "                \"name\": \"John\",\n",
    "                \"grades\": {\"math\": 90, \"science\": 85, \"history\": 88},\n",
    "                \"graduated\": False\n",
    "        }\n",
    "        \n",
    "        product = {\n",
    "                \"id\": 101,\n",
    "                \"name\": \"Laptop\",\n",
    "                \"price\": 799.99,\n",
    "                \"in_stock\": True\n",
    "        }\n",
    "\n",
    "Summary 📌\n",
    "\n",
    "| **Data Type**  | **Description**                  | **Example**            |\n",
    "|---------------|----------------------------------|------------------------|\n",
    "| `str` (String) | Text data                        | `\"Hello\"`              |\n",
    "| `int` (Integer) | Whole numbers                   | `42`                   |\n",
    "| `float` (Float) | Decimal numbers                 | `3.14`                 |\n",
    "| `bool` (Boolean) | True/False values               | `True`                 |\n",
    "| `list` (List)  | Ordered, mutable collection      | `[\"apple\", \"banana\"]`  |\n",
    "| `tuple` (Tuple) | Ordered, immutable collection   | `(\"red\", \"blue\")`      |\n",
    "| `dict` (Dictionary) | Key-value pairs             | `{\"name\": \"Alice\"}`    |\n"
   ]
  },
  {
   "cell_type": "code",
   "execution_count": 2,
   "id": "4cd5f4bd",
   "metadata": {
    "execution": {
     "iopub.execute_input": "2025-02-20T08:58:33.345715Z",
     "iopub.status.busy": "2025-02-20T08:58:33.345256Z",
     "iopub.status.idle": "2025-02-20T08:58:33.355523Z",
     "shell.execute_reply": "2025-02-20T08:58:33.354052Z"
    }
   },
   "outputs": [
    {
     "ename": "SyntaxError",
     "evalue": "invalid syntax (2653594479.py, line 1)",
     "output_type": "error",
     "traceback": [
      "\u001b[1;36m  Cell \u001b[1;32mIn[2], line 1\u001b[1;36m\u001b[0m\n\u001b[1;33m    Question 1: Identifying a String\u001b[0m\n\u001b[1;37m             ^\u001b[0m\n\u001b[1;31mSyntaxError\u001b[0m\u001b[1;31m:\u001b[0m invalid syntax\n"
     ]
    }
   ],
   "source": [
    "Question 1: Identifying a String\n",
    "create_multiple_choice(\n",
    "    \"What is the data type of the following value: 'Hello, World!'?\",\n",
    "    choices=[\"int\", \"float\", \"str\", \"bool\"],\n",
    "    correct_answer=\"str\"\n",
    ")\n",
    "\n",
    "Question 2: Identifying a Boolean\n",
    "create_multiple_choice(\n",
    "    \"What is the data type of the following value: True?\",\n",
    "    choices=[\"str\", \"int\", \"bool\", \"tuple\"],\n",
    "    correct_answer=\"bool\"\n",
    ")\n",
    "\n",
    "Question 3: Identifying an Integer\n",
    "create_multiple_choice(\n",
    "    \"What is the data type of the following value: 42?\",\n",
    "    choices=[\"int\", \"float\", \"str\", \"bool\"],\n",
    "    correct_answer=\"int\"\n",
    ")\n",
    "\n",
    "Question 4: Identifying a Float\n",
    "create_multiple_choice(\n",
    "    \"What is the data type of the following value: 3.14?\",\n",
    "    choices=[\"int\", \"float\", \"str\", \"list\"],\n",
    "    correct_answer=\"float\"\n",
    ")\n",
    "\n",
    "\n",
    "Question 5: Identifying a Dictionary\n",
    "create_multiple_choice(\n",
    "    \"What is the data type of the following value: {'name': 'Alice', 'age': 25}?\",\n",
    "    choices=[\"list\", \"tuple\", \"dict\", \"set\"],\n",
    "    correct_answer=\"dict\"\n",
    ")\n"
   ]
  },
  {
   "cell_type": "markdown",
   "id": "37331dfd",
   "metadata": {},
   "source": [
    "Variables 🏷️\n",
    "Variables store data in Python. \n",
    "\n",
    "Variables store and manage data in Python, allowing programmers to assign values to names, making it easier to reference and manipulate data throughout a program. They can hold different types of data, including numbers, text, lists, and even complex objects.\n",
    "\n",
    "In Python, you create a variable by assigning a value using the = operator."
   ]
  },
  {
   "cell_type": "code",
   "execution_count": 3,
   "id": "5f6647d7",
   "metadata": {
    "execution": {
     "iopub.execute_input": "2025-02-20T08:58:33.361057Z",
     "iopub.status.busy": "2025-02-20T08:58:33.360616Z",
     "iopub.status.idle": "2025-02-20T08:58:33.369255Z",
     "shell.execute_reply": "2025-02-20T08:58:33.367894Z"
    }
   },
   "outputs": [
    {
     "ename": "SyntaxError",
     "evalue": "invalid syntax (1149490195.py, line 1)",
     "output_type": "error",
     "traceback": [
      "\u001b[1;36m  Cell \u001b[1;32mIn[3], line 1\u001b[1;36m\u001b[0m\n\u001b[1;33m    Assigning values to variables\u001b[0m\n\u001b[1;37m              ^\u001b[0m\n\u001b[1;31mSyntaxError\u001b[0m\u001b[1;31m:\u001b[0m invalid syntax\n"
     ]
    }
   ],
   "source": [
    "Assigning values to variables\n",
    "\n",
    "name = \"Alice\"     String \n",
    "age = 30           Integer \n",
    "height = 5.7       Float\n",
    "is_student = True  Boolean \n",
    "\n",
    "print(name)"
   ]
  },
  {
   "cell_type": "markdown",
   "id": "ba05a80a",
   "metadata": {},
   "source": [
    "Rules for Naming Variables\n",
    "\n",
    "✔ Must start with a letter or _ (underscore).  \n",
    "✔ Can contain letters, numbers, and underscores.  \n",
    "✔ Cannot be a reserved keyword (e.g., def, class, if).  \n",
    "✔ Use descriptive names (user_name instead of x)."
   ]
  },
  {
   "cell_type": "markdown",
   "id": "8439452d",
   "metadata": {},
   "source": [
    "Python dynamically assigns types to variables based on the values they store, eliminating the need for explicit type declarations. This flexibility makes Python highly intuitive and efficient for handling data.\n",
    "\n",
    "You can change the value of a variable at any time"
   ]
  },
  {
   "cell_type": "code",
   "execution_count": 4,
   "id": "7135e162",
   "metadata": {
    "execution": {
     "iopub.execute_input": "2025-02-20T08:58:33.373566Z",
     "iopub.status.busy": "2025-02-20T08:58:33.373151Z",
     "iopub.status.idle": "2025-02-20T08:58:33.381433Z",
     "shell.execute_reply": "2025-02-20T08:58:33.380038Z"
    }
   },
   "outputs": [
    {
     "ename": "SyntaxError",
     "evalue": "invalid syntax (2531059211.py, line 1)",
     "output_type": "error",
     "traceback": [
      "\u001b[1;36m  Cell \u001b[1;32mIn[4], line 1\u001b[1;36m\u001b[0m\n\u001b[1;33m    name = \"Andrea\" Changed from Alice to Andrea\u001b[0m\n\u001b[1;37m                    ^\u001b[0m\n\u001b[1;31mSyntaxError\u001b[0m\u001b[1;31m:\u001b[0m invalid syntax\n"
     ]
    }
   ],
   "source": [
    "name = \"Andrea\" Changed from Alice to Andrea\n",
    "print(name)"
   ]
  },
  {
   "cell_type": "markdown",
   "id": "754f79c2",
   "metadata": {},
   "source": [
    "Variables in Action\n",
    "\n",
    "Variables can be used in operations and functions:"
   ]
  },
  {
   "cell_type": "code",
   "execution_count": 5,
   "id": "b9148dfb",
   "metadata": {
    "execution": {
     "iopub.execute_input": "2025-02-20T08:58:33.386858Z",
     "iopub.status.busy": "2025-02-20T08:58:33.386441Z",
     "iopub.status.idle": "2025-02-20T08:58:33.395169Z",
     "shell.execute_reply": "2025-02-20T08:58:33.393538Z"
    }
   },
   "outputs": [
    {
     "ename": "SyntaxError",
     "evalue": "invalid syntax (3544315859.py, line 1)",
     "output_type": "error",
     "traceback": [
      "\u001b[1;36m  Cell \u001b[1;32mIn[5], line 1\u001b[1;36m\u001b[0m\n\u001b[1;33m    Numeric operations\u001b[0m\n\u001b[1;37m            ^\u001b[0m\n\u001b[1;31mSyntaxError\u001b[0m\u001b[1;31m:\u001b[0m invalid syntax\n"
     ]
    }
   ],
   "source": [
    "Numeric operations\n",
    "age = 30\n",
    "new_age = age + 5\n",
    "print(new_age)  Output: 35\n",
    "\n",
    "String concatenation\n",
    "greeting = \"Hello, \" + name + \"!\"\n",
    "print(greeting)  Output: Hello, Andrea!\n",
    "\n",
    "Boolean logic\n",
    "is_adult = age > 18\n",
    "print(is_adult)  Output: True"
   ]
  },
  {
   "cell_type": "code",
   "execution_count": 6,
   "id": "9ca9fff0",
   "metadata": {
    "execution": {
     "iopub.execute_input": "2025-02-20T08:58:33.400593Z",
     "iopub.status.busy": "2025-02-20T08:58:33.400163Z",
     "iopub.status.idle": "2025-02-20T08:58:33.411252Z",
     "shell.execute_reply": "2025-02-20T08:58:33.409566Z"
    }
   },
   "outputs": [
    {
     "ename": "SyntaxError",
     "evalue": "invalid syntax (3277994668.py, line 1)",
     "output_type": "error",
     "traceback": [
      "\u001b[1;36m  Cell \u001b[1;32mIn[6], line 1\u001b[1;36m\u001b[0m\n\u001b[1;33m    Question 1: Understanding Initial Variable Assignment\u001b[0m\n\u001b[1;37m             ^\u001b[0m\n\u001b[1;31mSyntaxError\u001b[0m\u001b[1;31m:\u001b[0m invalid syntax\n"
     ]
    }
   ],
   "source": [
    "Question 1: Understanding Initial Variable Assignment\n",
    "create_multiple_choice(\n",
    "    \"What is the value of `x` after the following code runs?\\n\\n\"\n",
    "    \"x = 10\\n\"  \n",
    "    \"x = 20\\n\",\n",
    "    choices=[\"10\", \"20\", \"30\", \"None\"],\n",
    "    correct_answer=\"20\"\n",
    ")\n",
    "\n",
    "Question 2: Changing Data Types Through Reassignment\n",
    "create_multiple_choice(\n",
    "    \"What is the data type of `y` after the following code executes?\\n\\n\"\n",
    "    \"y = 5.5\\n\"\n",
    "    \"y = 10\\n\",\n",
    "    choices=[\"int\", \"float\", \"str\", \"bool\"],\n",
    "    correct_answer=\"int\"\n",
    ")\n",
    "\n",
    "Question 3: String Concatenation in Variable Reassignment\n",
    "create_multiple_choice(\n",
    "    \"What is the final value of `name`?\\n\\n\"\n",
    "    \"name = \\\"Alice\\\"\\n\"\n",
    "    \"name = name + \\\" Smith\\\"\\n\",\n",
    "    choices=[\"Alice\", \"Smith\", \"Alice Smith\", \"Error\"],\n",
    "    correct_answer=\"Alice Smith\"\n",
    ")\n",
    "\n",
    "Question 4: Boolean Reassignment and Logic\n",
    "create_multiple_choice(\n",
    "    \"What is the value of `is_active` after the following code executes?\\n\\n\"\n",
    "    \"is_active = True\\n\"\n",
    "    \"is_active = not is_active\\n\",\n",
    "    choices=[\"True\", \"False\", \"None\", \"Error\"],\n",
    "    correct_answer=\"False\"\n",
    ")\n",
    "\n",
    "Question 5: List Modification and Indexing\n",
    "create_multiple_choice(\n",
    "    \"What is the value of `fruits[1]` after the following code runs?\\n\\n\"\n",
    "    \"fruits = [\\\"apple\\\", \\\"banana\\\", \\\"cherry\\\"]\\n\"\n",
    "    \"fruits[1] = \\\"orange\\\"\\n\",\n",
    "    choices=[\"banana\", \"orange\", \"cherry\", \"apple\"],\n",
    "    correct_answer=\"orange\"\n",
    ")\n"
   ]
  },
  {
   "cell_type": "markdown",
   "id": "ee7e50e8",
   "metadata": {},
   "source": [
    "Functions in Python 🔄\n",
    "\n",
    "A **function** is a reusable block of code that performs a specific task. Functions allow you to organize, simplify, and reuse code efficiently.\n",
    "\n",
    "**Why Use Functions? 🤔**\n",
    "✔ **Avoid repetition** – Write code once, reuse it anywhere.  \n",
    "✔ **Improve readability** – Break large programs into smaller, manageable parts.  \n",
    "✔ **Make debugging easier** – Isolate and fix issues in a specific function.  \n",
    "\n",
    "---\n",
    "\n",
    "**Defining a Function 🏗️**\n",
    "You define a function using the `def` keyword, followed by the function name and parentheses `()`.\n"
   ]
  },
  {
   "cell_type": "code",
   "execution_count": 7,
   "id": "40649946",
   "metadata": {
    "execution": {
     "iopub.execute_input": "2025-02-20T08:58:33.415723Z",
     "iopub.status.busy": "2025-02-20T08:58:33.415299Z",
     "iopub.status.idle": "2025-02-20T08:58:33.423250Z",
     "shell.execute_reply": "2025-02-20T08:58:33.421938Z"
    }
   },
   "outputs": [
    {
     "ename": "SyntaxError",
     "evalue": "invalid syntax (1121168366.py, line 2)",
     "output_type": "error",
     "traceback": [
      "\u001b[1;36m  Cell \u001b[1;32mIn[7], line 2\u001b[1;36m\u001b[0m\n\u001b[1;33m    print(\"Hello, world!\")  Function body (code inside the function)\u001b[0m\n\u001b[1;37m                            ^\u001b[0m\n\u001b[1;31mSyntaxError\u001b[0m\u001b[1;31m:\u001b[0m invalid syntax\n"
     ]
    }
   ],
   "source": [
    "def greet():\n",
    "    print(\"Hello, world!\")  Function body (code inside the function)"
   ]
  },
  {
   "cell_type": "markdown",
   "id": "e980a330",
   "metadata": {},
   "source": [
    "To call (execute) the function, simply write its name:"
   ]
  },
  {
   "cell_type": "code",
   "execution_count": 8,
   "id": "e57d41b3",
   "metadata": {
    "execution": {
     "iopub.execute_input": "2025-02-20T08:58:33.428784Z",
     "iopub.status.busy": "2025-02-20T08:58:33.428359Z",
     "iopub.status.idle": "2025-02-20T08:58:33.981632Z",
     "shell.execute_reply": "2025-02-20T08:58:33.980462Z"
    }
   },
   "outputs": [
    {
     "ename": "NameError",
     "evalue": "name 'greet' is not defined",
     "output_type": "error",
     "traceback": [
      "\u001b[1;31m---------------------------------------------------------------------------\u001b[0m",
      "\u001b[1;31mNameError\u001b[0m                                 Traceback (most recent call last)",
      "Cell \u001b[1;32mIn[8], line 1\u001b[0m\n\u001b[1;32m----> 1\u001b[0m \u001b[43mgreet\u001b[49m()\n",
      "\u001b[1;31mNameError\u001b[0m: name 'greet' is not defined"
     ]
    }
   ],
   "source": [
    "greet()"
   ]
  },
  {
   "cell_type": "markdown",
   "id": "a803fffe",
   "metadata": {},
   "source": [
    "Functions with Parameters 🎯\n",
    "\n",
    "Functions can take parameters, allowing them to work dynamically with different values."
   ]
  },
  {
   "cell_type": "code",
   "execution_count": 9,
   "id": "03b4a43e",
   "metadata": {
    "execution": {
     "iopub.execute_input": "2025-02-20T08:58:33.986171Z",
     "iopub.status.busy": "2025-02-20T08:58:33.985830Z",
     "iopub.status.idle": "2025-02-20T08:58:33.992930Z",
     "shell.execute_reply": "2025-02-20T08:58:33.991975Z"
    }
   },
   "outputs": [
    {
     "ename": "SyntaxError",
     "evalue": "invalid syntax (176958822.py, line 2)",
     "output_type": "error",
     "traceback": [
      "\u001b[1;36m  Cell \u001b[1;32mIn[9], line 2\u001b[1;36m\u001b[0m\n\u001b[1;33m    return a + b  Returns the sum of a and b\u001b[0m\n\u001b[1;37m                  ^\u001b[0m\n\u001b[1;31mSyntaxError\u001b[0m\u001b[1;31m:\u001b[0m invalid syntax\n"
     ]
    }
   ],
   "source": [
    "def add_numbers(a, b):\n",
    "    return a + b  Returns the sum of a and b\n",
    "\n",
    "result = add_numbers(5, 10)\n",
    "print(result)  Output: 15"
   ]
  },
  {
   "cell_type": "markdown",
   "id": "8d5d770e",
   "metadata": {},
   "source": [
    "Multiple Parameters & Keyword Arguments (kwargs)\n",
    "\n",
    "Functions can accept multiple parameters and keyword arguments."
   ]
  },
  {
   "cell_type": "code",
   "execution_count": 10,
   "id": "89c43198",
   "metadata": {
    "execution": {
     "iopub.execute_input": "2025-02-20T08:58:33.997254Z",
     "iopub.status.busy": "2025-02-20T08:58:33.996685Z",
     "iopub.status.idle": "2025-02-20T08:58:34.005858Z",
     "shell.execute_reply": "2025-02-20T08:58:34.005013Z"
    }
   },
   "outputs": [
    {
     "ename": "SyntaxError",
     "evalue": "invalid syntax (1921075814.py, line 5)",
     "output_type": "error",
     "traceback": [
      "\u001b[1;36m  Cell \u001b[1;32mIn[10], line 5\u001b[1;36m\u001b[0m\n\u001b[1;33m    describe_person(\"Bob\", 25)  Uses the default city\u001b[0m\n\u001b[1;37m                                ^\u001b[0m\n\u001b[1;31mSyntaxError\u001b[0m\u001b[1;31m:\u001b[0m invalid syntax\n"
     ]
    }
   ],
   "source": [
    "def describe_person(name, age, city=\"Unknown\"):\n",
    "    print(f\"{name} is {age} years old and lives in {city}.\")\n",
    "\n",
    "describe_person(\"Alice\", 30, \"New York\")\n",
    "describe_person(\"Bob\", 25)  Uses the default city\n"
   ]
  },
  {
   "cell_type": "markdown",
   "id": "7b8db376",
   "metadata": {},
   "source": [
    "Summary 📌\n",
    "\n",
    "✔ Functions make code reusable and modular.  \n",
    "✔ Use return to get results from functions.  \n",
    "✔ Default parameters provide flexibility.  \n",
    "✔ Lambda functions simplify one-line operations.  \n",
    "✔ Functions can process lists, loops, and work with global/local variables."
   ]
  },
  {
   "cell_type": "markdown",
   "id": "8ca25e27",
   "metadata": {},
   "source": [
    "Now that we understand functions, let's explore Python libraries and how they can make coding even more powerful! 🚀"
   ]
  },
  {
   "cell_type": "markdown",
   "id": "8752d56b",
   "metadata": {},
   "source": [
    "Libraries in Python 📚\n",
    "Libraries in Python are collections of pre-written code that extend the language’s functionality, allowing users to perform complex tasks without having to write code from scratch. These libraries can handle a wide range of functions, including numerical computations, data manipulation, statistical modeling, and data visualization. They streamline workflows, reduce development time, and enable efficient data analysis by providing optimized, reusable functions and tools tailored for specific tasks. \n",
    "\n",
    "Packages turn what may be **hundreds to millions** of lines of code into executables for a user.  Take, for example, the simple command of generating a random number using Python’s random package:\n",
    "\n",
    "num = random.randint(1, 100)\n",
    "\n",
    "This one-liner generates a random integer between 1 and 100, but behind the scenes, the full code involves complex algorithms for randomness, seeding, and number generation.\n",
    "\n",
    "What the Full Code Looks Like Behind the Scenes\n",
    "\n",
    "If we were to implement a basic random number generator from scratch without using random.randint(), we would have to manually implement a pseudo-random number generator (PRNG) like the Linear Congruential Generator (LCG):\n"
   ]
  },
  {
   "cell_type": "code",
   "execution_count": 11,
   "id": "8c932e42",
   "metadata": {
    "execution": {
     "iopub.execute_input": "2025-02-20T08:58:34.008948Z",
     "iopub.status.busy": "2025-02-20T08:58:34.008694Z",
     "iopub.status.idle": "2025-02-20T08:58:34.017904Z",
     "shell.execute_reply": "2025-02-20T08:58:34.017040Z"
    }
   },
   "outputs": [
    {
     "ename": "SyntaxError",
     "evalue": "invalid syntax (2153261977.py, line 10)",
     "output_type": "error",
     "traceback": [
      "\u001b[1;36m  Cell \u001b[1;32mIn[11], line 10\u001b[1;36m\u001b[0m\n\u001b[1;33m    return self.seed / self.modulus  Normalize to [0,1]\u001b[0m\n\u001b[1;37m                                     ^\u001b[0m\n\u001b[1;31mSyntaxError\u001b[0m\u001b[1;31m:\u001b[0m invalid syntax\n"
     ]
    }
   ],
   "source": [
    "class SimpleRandom:\n",
    "    def __init__(self, seed=42):\n",
    "        self.modulus = 2**32\n",
    "        self.multiplier = 1664525\n",
    "        self.increment = 1013904223\n",
    "        self.seed = seed\n",
    "\n",
    "    def next_random(self):\n",
    "        self.seed = (self.multiplier * self.seed + self.increment) % self.modulus\n",
    "        return self.seed / self.modulus  Normalize to [0,1]\n",
    "\n",
    "    def randint(self, low, high):\n",
    "        return low + int(self.next_random() * (high - low + 1))\n",
    "\n",
    "Usage:\n",
    "rand_gen = SimpleRandom()\n",
    "print(rand_gen.randint(1, 100))  Output: A random number between 1 and 100"
   ]
  },
  {
   "cell_type": "markdown",
   "id": "9e8cde88",
   "metadata": {},
   "source": [
    "This is just a simplified version! The actual random module in Python is much more complex and includes Mersenne Twister, cryptographic security, and optimized performance—turning millions of lines of low-level C code into a single random.randint() call for users.\n",
    "\n",
    "One of the greatest aspects of Python is that anyone—including you—can create and publish a new library to be implemented by others, contributing to the vast ecosystem of tools that make Python so powerful.. They help with everything from mathematical operations to data visualization and include options for games, multimedia editing, and networking.  \n",
    "\n",
    "Common Libraries for Data Analysis:\n",
    "- **NumPy** – Efficient numerical operations.\n",
    "- **pandas** – Data manipulation and analysis.\n",
    "- **matplotlib & seaborn** – Data visualization.\n",
    "- **statsmodels** – Statistical modeling.\n",
    "\n",
    "Sources for Different Libraries 🌐\n",
    "Python libraries can be sourced from:\n",
    "- **PyPI (Python Package Index)** – Official repository for Python packages.\n",
    "- **Anaconda Distribution** – A package manager with pre-installed libraries for data science.\n",
    "- **GitHub** – Community-driven open-source projects.\n",
    "\n",
    "You can search for packages at [pypi.org](https://pypi.org) or explore data science tools on [Anaconda](https://www.anaconda.com/).\n",
    "\n",
    "---\n",
    "\n",
    "Key Takeaway 🎯\n",
    "\n",
    "Packages abstract away the complexity of programming, making powerful functionality accessible to everyone with just a few lines of code. Without packages, programmers would have to manually write, test, and debug millions of lines of code every time they needed basic functionality."
   ]
  },
  {
   "cell_type": "markdown",
   "id": "0f0443f5",
   "metadata": {},
   "source": [
    "<img src=\"Images\\data preprocessing.png\">"
   ]
  },
  {
   "cell_type": "markdown",
   "id": "e2298249",
   "metadata": {},
   "source": [
    "**Lesson 5: Data Preprocessing**\n",
    "\n",
    "**Introduction**  \n",
    "\n",
    "📌 Why is Data Preprocessing Critical in Misinformation Analysis?  \n",
    "\n",
    "🔹 Data preprocessing is a crucial first step in misinformation analysis, ensuring that raw, unstructured, and often messy data is cleaned and formatted before deeper exploration.  \n",
    "\n",
    "🔹 Misinformation datasets come from diverse sources—social media, news articles, fact-checking organizations, and academic research—and often contain inconsistencies, missing values, duplicate records, and irrelevant content.  \n",
    "\n",
    "🔹 Without proper preprocessing, any conclusions drawn from the data could be flawed or misleading.  \n",
    "\n",
    "🛠️ **This lesson will equip you with fundamental data preprocessing skills, applicable across various MDM narratives.**  \n",
    "\n",
    "---\n",
    "\n",
    "**🚀 Structure of Data Preprocessing**\n",
    "Data preprocessing can be broken into **four key steps**, each crucial for preparing data for analysis:\n",
    "\n",
    "1️⃣ **Cleaning** – Handling missing values, removing duplicates, standardizing formats.  \n",
    "2️⃣ **Transforming** – Normalizing numerical data, encoding categorical variables, and restructuring datasets.  \n",
    "3️⃣ **Enriching** – Adding metadata, integrating external datasets, and creating derived features.  \n",
    "4️⃣ **Reducing** – Filtering out irrelevant content, reducing dimensionality, and simplifying datasets for analysis.  \n",
    "\n",
    "Each step ensures **higher data quality, consistency, and relevance** when analyzing patterns.  \n",
    "\n",
    "---\n"
   ]
  },
  {
   "cell_type": "markdown",
   "id": "ef8daecb",
   "metadata": {},
   "source": [
    "**1️⃣ Cleaning**\n",
    "Handling Missing Values, Removing Duplicates, and Standardizing Formats**  \n",
    "\n",
    "📌 Why is Cleaning Important?  \n",
    "\n",
    "Misinformation datasets, especially those sourced from **social media, fact-checking websites, and news sources**, often contain **incomplete, duplicated, or inconsistent data**.  \n",
    "Cleaning ensures that the data is **accurate, reliable, and ready for further analysis**.  \n",
    "\n",
    "Key cleaning tasks include:  \n",
    "✅ **Handling Missing Values** – Filling in or removing incomplete data points.  \n",
    "✅ **Removing Duplicates** – Eliminating redundant misinformation claims.  \n",
    "✅ **Standardizing Formats** – Ensuring consistent date formats, text casing, and categorical labels.  \n",
    "\n",
    "---\n",
    "\n",
    "**🛠️ Step 1: Handling Missing Values**  \n",
    "**Why Does Missing Data Occur?**  \n",
    "\n",
    "Missing data is a common issue in misinformation datasets due to:  \n",
    "- **Incomplete user submissions** (e.g., missing engagement metrics on social media).  \n",
    "- **Data collection limitations** (e.g., missing timestamps from scraped web content).  \n",
    "- **Gaps in fact-checking labels** (e.g., unverified misinformation claims).  \n",
    "\n",
    "**Approaches to Handling Missing Data**  \n",
    "There are multiple strategies to address missing data, depending on the context.\n",
    "\n",
    "| **Approach**          | **When to Use It**  | **Example in Misinformation Analysis** |\n",
    "|-----------------------|--------------------|-------------------------------------|\n",
    "| **Replace with Zero (0)** | When missing data logically represents \"none\" or \"zero quantity.\" | If a tweet has missing \"likes\" or \"shares,\" assume **0** instead of leaving it blank. |\n",
    "| **Replace with NaN (Null)** | When missing data indicates missing information rather than a meaningful zero. | If a misinformation claim is missing a **fact-checking label**, leave it as NaN to indicate uncertainty. |\n",
    "| **Statistical Imputation** | When data can be inferred based on available information. | If engagement metrics are missing, replace with the **median engagement** of similar misinformation posts. |\n",
    "\n",
    "**💻 Python Example: Detecting and Handling Missing Values**\n",
    "```python\n",
    "import pandas as pd\n",
    "import numpy as np\n",
    "\n",
    "Load the dataset (Example: COVID-19 misinformation dataset)\n",
    "df = pd.read_csv(\"misinformation_dataset.csv\")\n",
    "\n",
    "Check for missing values\n",
    "print(\"Missing values before cleaning:\\n\", df.isnull().sum())\n",
    "\n",
    "Strategy 1: Fill missing engagement metrics with 0\n",
    "df['likes'] = df['likes'].fillna(0)\n",
    "df['shares'] = df['shares'].fillna(0)\n",
    "\n",
    "Strategy 2: Fill missing timestamps with a placeholder\n",
    "df['timestamp'] = df['timestamp'].fillna(\"Unknown\")\n",
    "\n",
    "Strategy 3: Replace missing text-based misinformation labels with 'Unverified'\n",
    "df['misinformation_label'] = df['misinformation_label'].fillna(\"Unverified\")\n",
    "\n",
    "Display cleaned data\n",
    "print(\"Missing values after cleaning:\\n\", df.isnull().sum())\n",
    "df.head()\n"
   ]
  },
  {
   "cell_type": "code",
   "execution_count": null,
   "id": "dd0a6d90",
   "metadata": {},
   "outputs": [],
   "source": []
  }
 ],
 "metadata": {
  "kernelspec": {
   "display_name": "Python 3 (ipykernel)",
   "language": "python",
   "name": "python3"
  },
  "language_info": {
   "codemirror_mode": {
    "name": "ipython",
    "version": 3
   },
   "file_extension": ".py",
   "mimetype": "text/x-python",
   "name": "python",
   "nbconvert_exporter": "python",
   "pygments_lexer": "ipython3",
   "version": "3.13.2"
  }
 },
 "nbformat": 4,
 "nbformat_minor": 5
}
