{
 "cells": [
  {
   "cell_type": "markdown",
   "id": "7bd18c57-6d02-4cfa-a8aa-b51967d8989c",
   "metadata": {},
   "source": [
    "# 📚 Preprocessing, EDA, and Patterns"
   ]
  },
  {
   "cell_type": "markdown",
   "id": "0a390733-5daa-4e17-8119-5598fec4cd8a",
   "metadata": {},
   "source": [
    "Available: Saturday, 22 March @ 0800"
   ]
  }
 ],
 "metadata": {
  "kernelspec": {
   "display_name": "Python 3 (ipykernel)",
   "language": "python",
   "name": "python3"
  },
  "language_info": {
   "codemirror_mode": {
    "name": "ipython",
    "version": 3
   },
   "file_extension": ".py",
   "mimetype": "text/x-python",
   "name": "python",
   "nbconvert_exporter": "python",
   "pygments_lexer": "ipython3",
   "version": "3.13.2"
  }
 },
 "nbformat": 4,
 "nbformat_minor": 5
}
