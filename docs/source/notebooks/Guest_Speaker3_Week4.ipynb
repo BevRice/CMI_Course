{
 "cells": [
  {
   "cell_type": "markdown",
   "id": "3899869e-cf4f-4531-b0fd-f30f9c9b199d",
   "metadata": {
    "editable": true,
    "slideshow": {
     "slide_type": ""
    },
    "tags": []
   },
   "source": [
    "# 🎤 US Space Forces Indo-Pacific, Intelligence Directorate"
   ]
  },
  {
   "cell_type": "markdown",
   "id": "005c9934-a3e2-4e6f-9084-2fcb8a5576f7",
   "metadata": {
    "editable": true,
    "slideshow": {
     "slide_type": ""
    },
    "tags": []
   },
   "source": [
    "Date: Tuesday, 1 April @ 1pm  \n",
    "[Zoom Link](https://us06web.zoom.us/j/87850495731?pwd=3AeGx7WNTVA6g0jQww3DJf2tRxOkXU.1)"
   ]
  },
  {
   "cell_type": "markdown",
   "id": "be0785e1-28c8-4dc8-a37d-3b0d7d8b7d07",
   "metadata": {},
   "source": [
    "## Guest Speaker: Lt Col Dennis Rice"
   ]
  },
  {
   "cell_type": "markdown",
   "id": "c730feeb-1e5c-40c2-921e-3f915450a540",
   "metadata": {},
   "source": [
    "### Current Role: Deputy Director of Intelligence, US Space Forces Indo-Pacific"
   ]
  },
  {
   "cell_type": "markdown",
   "id": "46aa9a5e-8e6a-46de-80b8-537d7359be40",
   "metadata": {},
   "source": [
    "![rice2](../_static/rice2.jpg)"
   ]
  },
  {
   "cell_type": "markdown",
   "id": "3f08ea9d-a9d9-49f6-bd75-0c2b55dbe280",
   "metadata": {},
   "source": [
    "[Dennis Rice LinkedIn](https://www.linkedin.com/in/dennis-albert-m-rice/)"
   ]
  },
  {
   "cell_type": "markdown",
   "id": "43c1cd1c-64c2-40ac-82a3-cd395e715233",
   "metadata": {},
   "source": [
    "## Optional Reading: [Driving Wedges: China's Disinformation Campaigns in the Asia-Pacific](https://www.iiss.org/publications/strategic-dossiers/asia-pacific-regional-security-assessment-2024/chapter-5/)"
   ]
  }
 ],
 "metadata": {
  "kernelspec": {
   "display_name": "Python 3 (ipykernel)",
   "language": "python",
   "name": "python3"
  },
  "language_info": {
   "codemirror_mode": {
    "name": "ipython",
    "version": 3
   },
   "file_extension": ".py",
   "mimetype": "text/x-python",
   "name": "python",
   "nbconvert_exporter": "python",
   "pygments_lexer": "ipython3",
   "version": "3.13.2"
  }
 },
 "nbformat": 4,
 "nbformat_minor": 5
}
