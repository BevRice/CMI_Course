{
 "cells": [
  {
   "cell_type": "markdown",
   "id": "f37bae5b-0c39-4cce-b649-5b82619f1132",
   "metadata": {},
   "source": [
    "# Syllabus"
   ]
  },
  {
   "cell_type": "markdown",
   "id": "22aadbd6-8819-4802-a530-4e1a479566ec",
   "metadata": {},
   "source": [
    "**Counter Malign Influence: Strategies, Insights, and Tools**\n",
    "\n",
    "**Course Description**\n",
    "This course is designed to equip students with the skills to analyze and combat misinformation, disinformation, and malinformation (MDM) using data analytics and critical thinking. By the end of this course, students will gain hands-on experience in data acquisition, cleaning, exploration, visualization, and analysis with a strong focus on real-world applications.\n",
    "\n",
    "**Course Structure**\n",
    "The course consists of **four weeks of core instruction**, followed by a **two-week capstone challenge** where students apply their skills to real-world cases. \n",
    "\n",
    "Each week includes:\n",
    "- **Guided Lessons**: Interactive Jupyter Notebooks with explanations and exercises.\n",
    "- **Guest Speaker Sessions**: Experts from academia, government, and industry providing insights into misinformation challenges.\n",
    "- **Assignments & Challenges**: Practical exercises that reinforce both critical thinking and data analysis skills.\n",
    "\n",
    "**Course Schedule**\n",
    "\n",
    "Weeks 1-4: Core Learning\n",
    "Each week explores a theme, integrating **critical thinking and data analytics**.\n",
    "\n",
    "| **Week** | **Theme** | **Lessons** | **Guest Speaker Focus** | **Assignment Focus** |\n",
    "|----------|------------|------------------|------------------|------------------|\n",
    "| **1** | Foundations of MDM | (1) What is MDM? (2) How to Think Critically About Information | UN CIFAL: MDM in academia | Debunking real-world misinformation (students analyze examples & justify responses) |\n",
    "| **2** | Detecting MDM | (3) Data & Bias in MDM (4) Data Collection & Ethics | USSF: MDM in Indo-Pacific | Data literacy exercise (students analyze sample MDM datasets & discuss biases) |\n",
    "| **3** | Analyzing MDM | (5) Patterns in MDM (6) Data Visualization & MDM | DTRA: MDM & national security | Students visualize MDM data & interpret trends |\n",
    "| **4** | Fighting MDM | (7) Counter-Strategies & Sentiment Analysis (8) Tech & Careers in MDM | Joint Staff Future Capabilities: AI & MDM | Students assess the effectiveness of different counter-MDM policies & tools |\n",
    "\n",
    "Weeks 5-6: Capstone Challenge\n",
    "- **Application Phase**: Students apply their knowledge to a real-world case.\n",
    "- **Final Presentation**: Students submit a report or present findings on how to counter a specific MDM case.\n",
    "- **Networking & Office Hours**: Optional sessions with guest speakers and course instructors for project feedback and career guidance.\n",
    "\n",
    "**Learning Objectives**\n",
    "By the end of this course, students will:\n",
    "- Develop **critical thinking** skills to evaluate and combat MDM.\n",
    "- Gain **hands-on experience** with Python-based data analytics tools.\n",
    "- Learn to **identify patterns in misinformation** using real-world datasets.\n",
    "- Understand **counter-MDM strategies and policy implications**.\n",
    "- Present actionable insights based on their analysis.\n",
    "\n",
    "**Course Materials**\n",
    "- **Datasets & Case Studies**: Provided within Jupyter Notebooks and assignments.\n",
    "- **External Readings**: Supplementary reports and academic papers on misinformation.\n",
    "\n",
    "**Assessment & Grading**\n",
    "- **Weekly Assignments (40%)** – Hands-on exercises analyzing MDM.\n",
    "- **Capstone Challenge (40%)** – Final project and presentation.\n",
    "- **Participation (20%)** – Engagement in discussions and guest speaker reflections.\n",
    "\n",
    "**Mandatory Zoom Meetings**\n",
    "Students are required to attend mandatory meetings on the following dates:\n",
    "- **Tuesdays at 1 PM** on **March 11, March 25, April 1, April 8, and April 15**.\n",
    "- No mandatory meeting during Spring Break - Mar 18\n",
    "- [Mandatory Meeting Zoom Link](https://us06web.zoom.us/j/87850495731?pwd=3AeGx7WNTVA6g0jQww3DJf2tRxOkXU.1)\n",
    "\n",
    "**Technical Requirements**\n",
    "- Python (via Jupyter Notebooks; no prior coding experience required, but a Python primer is available for beginners).\n",
    "- Internet access for course materials and discussions.\n",
    "- GitHub account for accessing course content.\n",
    "\n",
    "**Course Platform**\n",
    "- The course is hosted on **GitHub Pages** with interactive notebooks deployed on **Google Colab** for seamless execution.\n",
    "- **Discussions and Q&A**: Handled via **GitHub Discussions**.\n",
    "- **Live Interaction**: Optional Slack/Discord channels for networking and support.\n",
    "\n",
    "**Instructor & Contact Information**\n",
    "- **Instructor:** Beverly Rice\n",
    "- **Email:** ricebg@hawaii.edu\n",
    "- **Office Hours:** Thu 6pm (zoom), Fri 1pm (zoom + Chaminade), Also available upon request  \n",
    "        - [Officer Hours Zoom Link](https://us06web.zoom.us/j/83826697863?pwd=I6Fg72l7AFx6bZoecSUHpseOUSbzdi.1)\n"
   ]
  }
 ],
 "metadata": {
  "kernelspec": {
   "display_name": "Python 3 (ipykernel)",
   "language": "python",
   "name": "python3"
  },
  "language_info": {
   "codemirror_mode": {
    "name": "ipython",
    "version": 3
   },
   "file_extension": ".py",
   "mimetype": "text/x-python",
   "name": "python",
   "nbconvert_exporter": "python",
   "pygments_lexer": "ipython3",
   "version": "3.13.2"
  }
 },
 "nbformat": 4,
 "nbformat_minor": 5
}
